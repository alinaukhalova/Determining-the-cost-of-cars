{
 "cells": [
  {
   "cell_type": "markdown",
   "metadata": {},
   "source": [
    "# Определение стоимости автомобилей"
   ]
  },
  {
   "cell_type": "markdown",
   "metadata": {},
   "source": [
    "Сервис по продаже автомобилей с пробегом «Не бит, не крашен» планирует расширить свою клиентскую базу с помощью нового мобильного приложения. Одной из ключевых функций приложения станет возможность расчёта рыночной стоимости автомобиля по его характеристикам. Это поможет пользователям оценить текущую стоимость своей машины на основе реальных рыночных данных, что сделает процесс купли-продажи прозрачнее и удобнее.\n",
    "\n",
    "Нам предстоит построить модель, которая будет эффективно предсказывать рыночную стоимость автомобилей на основе их технических характеристик и комплектаций.\n",
    "\n",
    "Перед нами стоит несколько задач:\n",
    "\n",
    "- Подготовить и проанализировать данные о автомобилях, их характеристиках, комплектациях и ценах.\n",
    "- Построить модели машинного обучения, которые смогут предсказывать стоимость автомобиля с высокой точностью.\n",
    "- Сравнить модели по трём важным метрикам:\n",
    "  1) качество предсказания;\n",
    "  2) время обучения модели;\n",
    "  3) время предсказания модели.\n",
    "  \n",
    "Данные, используемые для анализа, включают следующие признаки:\n",
    "\n",
    "Категориальные признаки: тип кузова автомобиля (VehicleType), тип коробки передач (Gearbox), модель автомобиля (Model), тип топлива (FuelType), марка автомобиля (Brand) и информация о ремонтах (Repaired)   \n",
    "Колличественные признаки: дата загрузки анкеты из базы данных (DateCrawled), год регистрации (RegistrationYear), мощность двигателя (л.с.) (Power), пробег в километрах (Kilometer), месяц регистрации (RegistrationMonth), дата создания анкеты (DateCreated), количество фотографий (NumberOfPictures), почтовый индекс владельца (PostalCode) и дата последней активности пользователя (LastSeen)   \n",
    "Целевой признак для построения модели - цена автомобиля (Price)."
   ]
  },
  {
   "cell_type": "markdown",
   "metadata": {},
   "source": [
    "## Подготовка данных"
   ]
  },
  {
   "cell_type": "code",
   "execution_count": 1,
   "metadata": {},
   "outputs": [
    {
     "name": "stdout",
     "output_type": "stream",
     "text": [
      "Requirement already satisfied: scikit-learn==1.1.3 in /opt/conda/lib/python3.9/site-packages (1.1.3)\n",
      "Requirement already satisfied: joblib>=1.0.0 in /opt/conda/lib/python3.9/site-packages (from scikit-learn==1.1.3) (1.1.0)\n",
      "Requirement already satisfied: numpy>=1.17.3 in /opt/conda/lib/python3.9/site-packages (from scikit-learn==1.1.3) (1.21.1)\n",
      "Requirement already satisfied: threadpoolctl>=2.0.0 in /opt/conda/lib/python3.9/site-packages (from scikit-learn==1.1.3) (3.1.0)\n",
      "Requirement already satisfied: scipy>=1.3.2 in /opt/conda/lib/python3.9/site-packages (from scikit-learn==1.1.3) (1.9.1)\n",
      "Requirement already satisfied: phik in /opt/conda/lib/python3.9/site-packages (0.12.4)\n",
      "Requirement already satisfied: pandas>=0.25.1 in /opt/conda/lib/python3.9/site-packages (from phik) (1.2.4)\n",
      "Requirement already satisfied: joblib>=0.14.1 in /opt/conda/lib/python3.9/site-packages (from phik) (1.1.0)\n",
      "Requirement already satisfied: matplotlib>=2.2.3 in /opt/conda/lib/python3.9/site-packages (from phik) (3.3.4)\n",
      "Requirement already satisfied: numpy>=1.18.0 in /opt/conda/lib/python3.9/site-packages (from phik) (1.21.1)\n",
      "Requirement already satisfied: scipy>=1.5.2 in /opt/conda/lib/python3.9/site-packages (from phik) (1.9.1)\n",
      "Requirement already satisfied: pyparsing!=2.0.4,!=2.1.2,!=2.1.6,>=2.0.3 in /opt/conda/lib/python3.9/site-packages (from matplotlib>=2.2.3->phik) (2.4.7)\n",
      "Requirement already satisfied: python-dateutil>=2.1 in /opt/conda/lib/python3.9/site-packages (from matplotlib>=2.2.3->phik) (2.8.1)\n",
      "Requirement already satisfied: kiwisolver>=1.0.1 in /opt/conda/lib/python3.9/site-packages (from matplotlib>=2.2.3->phik) (1.4.4)\n",
      "Requirement already satisfied: pillow>=6.2.0 in /opt/conda/lib/python3.9/site-packages (from matplotlib>=2.2.3->phik) (8.4.0)\n",
      "Requirement already satisfied: cycler>=0.10 in /opt/conda/lib/python3.9/site-packages (from matplotlib>=2.2.3->phik) (0.11.0)\n",
      "Requirement already satisfied: pytz>=2017.3 in /opt/conda/lib/python3.9/site-packages (from pandas>=0.25.1->phik) (2021.1)\n",
      "Requirement already satisfied: six>=1.5 in /opt/conda/lib/python3.9/site-packages (from python-dateutil>=2.1->matplotlib>=2.2.3->phik) (1.16.0)\n"
     ]
    }
   ],
   "source": [
    "!pip install scikit-learn==1.1.3\n",
    "!pip install phik\n",
    "import pandas as pd\n",
    "import numpy as np\n",
    "from matplotlib import pyplot as plt\n",
    "import seaborn as sns\n",
    "import time\n",
    "import lightgbm as lgb\n",
    "import phik\n",
    "import warnings\n",
    "from sklearn.compose import (ColumnTransformer, make_column_transformer)\n",
    "from sklearn.pipeline import (make_pipeline, Pipeline)\n",
    "from sklearn.preprocessing import (OneHotEncoder, OrdinalEncoder, StandardScaler, MinMaxScaler, LabelEncoder)\n",
    "from sklearn.impute import SimpleImputer\n",
    "from sklearn.linear_model import LinearRegression, LogisticRegression\n",
    "from sklearn.ensemble import RandomForestRegressor\n",
    "from sklearn.dummy import DummyRegressor\n",
    "from sklearn.tree import DecisionTreeRegressor\n",
    "from sklearn.neighbors import KNeighborsClassifier\n",
    "from sklearn.model_selection import (RandomizedSearchCV, train_test_split, GridSearchCV)\n",
    "from sklearn.metrics import (mean_squared_error, roc_auc_score)\n",
    "from catboost import CatBoostRegressor\n",
    "\n",
    "# настройки\n",
    "warnings.filterwarnings(\"ignore\")\n",
    "\n",
    "RANDOM_STATE = 42"
   ]
  },
  {
   "cell_type": "markdown",
   "metadata": {},
   "source": [
    "Для начала загрузим наш исходный датасет "
   ]
  },
  {
   "cell_type": "code",
   "execution_count": 2,
   "metadata": {},
   "outputs": [],
   "source": [
    "autos = pd.read_csv('/datasets/autos.csv')"
   ]
  },
  {
   "cell_type": "code",
   "execution_count": 3,
   "metadata": {},
   "outputs": [
    {
     "data": {
      "text/html": [
       "<div>\n",
       "<style scoped>\n",
       "    .dataframe tbody tr th:only-of-type {\n",
       "        vertical-align: middle;\n",
       "    }\n",
       "\n",
       "    .dataframe tbody tr th {\n",
       "        vertical-align: top;\n",
       "    }\n",
       "\n",
       "    .dataframe thead th {\n",
       "        text-align: right;\n",
       "    }\n",
       "</style>\n",
       "<table border=\"1\" class=\"dataframe\">\n",
       "  <thead>\n",
       "    <tr style=\"text-align: right;\">\n",
       "      <th></th>\n",
       "      <th>DateCrawled</th>\n",
       "      <th>Price</th>\n",
       "      <th>VehicleType</th>\n",
       "      <th>RegistrationYear</th>\n",
       "      <th>Gearbox</th>\n",
       "      <th>Power</th>\n",
       "      <th>Model</th>\n",
       "      <th>Kilometer</th>\n",
       "      <th>RegistrationMonth</th>\n",
       "      <th>FuelType</th>\n",
       "      <th>Brand</th>\n",
       "      <th>Repaired</th>\n",
       "      <th>DateCreated</th>\n",
       "      <th>NumberOfPictures</th>\n",
       "      <th>PostalCode</th>\n",
       "      <th>LastSeen</th>\n",
       "    </tr>\n",
       "  </thead>\n",
       "  <tbody>\n",
       "    <tr>\n",
       "      <th>0</th>\n",
       "      <td>2016-03-24 11:52:17</td>\n",
       "      <td>480</td>\n",
       "      <td>NaN</td>\n",
       "      <td>1993</td>\n",
       "      <td>manual</td>\n",
       "      <td>0</td>\n",
       "      <td>golf</td>\n",
       "      <td>150000</td>\n",
       "      <td>0</td>\n",
       "      <td>petrol</td>\n",
       "      <td>volkswagen</td>\n",
       "      <td>NaN</td>\n",
       "      <td>2016-03-24 00:00:00</td>\n",
       "      <td>0</td>\n",
       "      <td>70435</td>\n",
       "      <td>2016-04-07 03:16:57</td>\n",
       "    </tr>\n",
       "    <tr>\n",
       "      <th>1</th>\n",
       "      <td>2016-03-24 10:58:45</td>\n",
       "      <td>18300</td>\n",
       "      <td>coupe</td>\n",
       "      <td>2011</td>\n",
       "      <td>manual</td>\n",
       "      <td>190</td>\n",
       "      <td>NaN</td>\n",
       "      <td>125000</td>\n",
       "      <td>5</td>\n",
       "      <td>gasoline</td>\n",
       "      <td>audi</td>\n",
       "      <td>yes</td>\n",
       "      <td>2016-03-24 00:00:00</td>\n",
       "      <td>0</td>\n",
       "      <td>66954</td>\n",
       "      <td>2016-04-07 01:46:50</td>\n",
       "    </tr>\n",
       "    <tr>\n",
       "      <th>2</th>\n",
       "      <td>2016-03-14 12:52:21</td>\n",
       "      <td>9800</td>\n",
       "      <td>suv</td>\n",
       "      <td>2004</td>\n",
       "      <td>auto</td>\n",
       "      <td>163</td>\n",
       "      <td>grand</td>\n",
       "      <td>125000</td>\n",
       "      <td>8</td>\n",
       "      <td>gasoline</td>\n",
       "      <td>jeep</td>\n",
       "      <td>NaN</td>\n",
       "      <td>2016-03-14 00:00:00</td>\n",
       "      <td>0</td>\n",
       "      <td>90480</td>\n",
       "      <td>2016-04-05 12:47:46</td>\n",
       "    </tr>\n",
       "    <tr>\n",
       "      <th>3</th>\n",
       "      <td>2016-03-17 16:54:04</td>\n",
       "      <td>1500</td>\n",
       "      <td>small</td>\n",
       "      <td>2001</td>\n",
       "      <td>manual</td>\n",
       "      <td>75</td>\n",
       "      <td>golf</td>\n",
       "      <td>150000</td>\n",
       "      <td>6</td>\n",
       "      <td>petrol</td>\n",
       "      <td>volkswagen</td>\n",
       "      <td>no</td>\n",
       "      <td>2016-03-17 00:00:00</td>\n",
       "      <td>0</td>\n",
       "      <td>91074</td>\n",
       "      <td>2016-03-17 17:40:17</td>\n",
       "    </tr>\n",
       "    <tr>\n",
       "      <th>4</th>\n",
       "      <td>2016-03-31 17:25:20</td>\n",
       "      <td>3600</td>\n",
       "      <td>small</td>\n",
       "      <td>2008</td>\n",
       "      <td>manual</td>\n",
       "      <td>69</td>\n",
       "      <td>fabia</td>\n",
       "      <td>90000</td>\n",
       "      <td>7</td>\n",
       "      <td>gasoline</td>\n",
       "      <td>skoda</td>\n",
       "      <td>no</td>\n",
       "      <td>2016-03-31 00:00:00</td>\n",
       "      <td>0</td>\n",
       "      <td>60437</td>\n",
       "      <td>2016-04-06 10:17:21</td>\n",
       "    </tr>\n",
       "  </tbody>\n",
       "</table>\n",
       "</div>"
      ],
      "text/plain": [
       "           DateCrawled  Price VehicleType  RegistrationYear Gearbox  Power  \\\n",
       "0  2016-03-24 11:52:17    480         NaN              1993  manual      0   \n",
       "1  2016-03-24 10:58:45  18300       coupe              2011  manual    190   \n",
       "2  2016-03-14 12:52:21   9800         suv              2004    auto    163   \n",
       "3  2016-03-17 16:54:04   1500       small              2001  manual     75   \n",
       "4  2016-03-31 17:25:20   3600       small              2008  manual     69   \n",
       "\n",
       "   Model  Kilometer  RegistrationMonth  FuelType       Brand Repaired  \\\n",
       "0   golf     150000                  0    petrol  volkswagen      NaN   \n",
       "1    NaN     125000                  5  gasoline        audi      yes   \n",
       "2  grand     125000                  8  gasoline        jeep      NaN   \n",
       "3   golf     150000                  6    petrol  volkswagen       no   \n",
       "4  fabia      90000                  7  gasoline       skoda       no   \n",
       "\n",
       "           DateCreated  NumberOfPictures  PostalCode             LastSeen  \n",
       "0  2016-03-24 00:00:00                 0       70435  2016-04-07 03:16:57  \n",
       "1  2016-03-24 00:00:00                 0       66954  2016-04-07 01:46:50  \n",
       "2  2016-03-14 00:00:00                 0       90480  2016-04-05 12:47:46  \n",
       "3  2016-03-17 00:00:00                 0       91074  2016-03-17 17:40:17  \n",
       "4  2016-03-31 00:00:00                 0       60437  2016-04-06 10:17:21  "
      ]
     },
     "metadata": {},
     "output_type": "display_data"
    },
    {
     "name": "stdout",
     "output_type": "stream",
     "text": [
      "<class 'pandas.core.frame.DataFrame'>\n",
      "RangeIndex: 354369 entries, 0 to 354368\n",
      "Data columns (total 16 columns):\n",
      " #   Column             Non-Null Count   Dtype \n",
      "---  ------             --------------   ----- \n",
      " 0   DateCrawled        354369 non-null  object\n",
      " 1   Price              354369 non-null  int64 \n",
      " 2   VehicleType        316879 non-null  object\n",
      " 3   RegistrationYear   354369 non-null  int64 \n",
      " 4   Gearbox            334536 non-null  object\n",
      " 5   Power              354369 non-null  int64 \n",
      " 6   Model              334664 non-null  object\n",
      " 7   Kilometer          354369 non-null  int64 \n",
      " 8   RegistrationMonth  354369 non-null  int64 \n",
      " 9   FuelType           321474 non-null  object\n",
      " 10  Brand              354369 non-null  object\n",
      " 11  Repaired           283215 non-null  object\n",
      " 12  DateCreated        354369 non-null  object\n",
      " 13  NumberOfPictures   354369 non-null  int64 \n",
      " 14  PostalCode         354369 non-null  int64 \n",
      " 15  LastSeen           354369 non-null  object\n",
      "dtypes: int64(7), object(9)\n",
      "memory usage: 43.3+ MB\n"
     ]
    }
   ],
   "source": [
    "display(autos.head(5))\n",
    "autos.info()"
   ]
  },
  {
   "cell_type": "markdown",
   "metadata": {},
   "source": [
    "Выведем количество пропусков:"
   ]
  },
  {
   "cell_type": "code",
   "execution_count": 4,
   "metadata": {},
   "outputs": [
    {
     "name": "stdout",
     "output_type": "stream",
     "text": [
      "DateCrawled              0\n",
      "Price                    0\n",
      "VehicleType          37490\n",
      "RegistrationYear         0\n",
      "Gearbox              19833\n",
      "Power                    0\n",
      "Model                19705\n",
      "Kilometer                0\n",
      "RegistrationMonth        0\n",
      "FuelType             32895\n",
      "Brand                    0\n",
      "Repaired             71154\n",
      "DateCreated              0\n",
      "NumberOfPictures         0\n",
      "PostalCode               0\n",
      "LastSeen                 0\n",
      "dtype: int64\n"
     ]
    }
   ],
   "source": [
    "print(autos.isna().sum())"
   ]
  },
  {
   "cell_type": "markdown",
   "metadata": {},
   "source": [
    "Мы сразу можем заметить, что в исходных данных есть пропуски в столбцах VehicleType, Gearbox, Model, FuelType и Repaired, которые требуют обработки. Сначала приведём названия столбцов к нижнему регистру с помощью метода str.lower, затем проверим наличие полных дубликатов и выполним обработку пропущенных значений."
   ]
  },
  {
   "cell_type": "code",
   "execution_count": 5,
   "metadata": {},
   "outputs": [
    {
     "name": "stdout",
     "output_type": "stream",
     "text": [
      "Index(['datecrawled', 'price', 'vehicletype', 'registrationyear', 'gearbox',\n",
      "       'power', 'model', 'kilometer', 'registrationmonth', 'fueltype', 'brand',\n",
      "       'repaired', 'datecreated', 'numberofpictures', 'postalcode',\n",
      "       'lastseen'],\n",
      "      dtype='object')\n"
     ]
    }
   ],
   "source": [
    "autos.columns = autos.columns.str.lower()\n",
    "print(autos.columns)"
   ]
  },
  {
   "cell_type": "code",
   "execution_count": 6,
   "metadata": {},
   "outputs": [
    {
     "name": "stdout",
     "output_type": "stream",
     "text": [
      "4\n"
     ]
    }
   ],
   "source": [
    "print(autos.duplicated().sum())"
   ]
  },
  {
   "cell_type": "markdown",
   "metadata": {},
   "source": [
    "Удалим полные дубликаты"
   ]
  },
  {
   "cell_type": "code",
   "execution_count": 7,
   "metadata": {},
   "outputs": [
    {
     "name": "stdout",
     "output_type": "stream",
     "text": [
      "0\n"
     ]
    }
   ],
   "source": [
    "autos = autos.drop_duplicates()\n",
    "print(autos.duplicated().sum())"
   ]
  },
  {
   "cell_type": "markdown",
   "metadata": {},
   "source": [
    "Если удалить все объекты с пропусками, мы потеряем очень много данных. \n",
    "Это может существенно повлиять на качество модели, так как значительная часть информации будет утрачена, что критично для построения точных предсказаний. Выведем уникальные значения, произведем замену пропусков для каждого признака и также проверим категориальные признаки на наличие ошибок"
   ]
  },
  {
   "cell_type": "code",
   "execution_count": 8,
   "metadata": {},
   "outputs": [
    {
     "name": "stdout",
     "output_type": "stream",
     "text": [
      "[nan 'coupe' 'suv' 'small' 'sedan' 'convertible' 'bus' 'wagon' 'other']\n",
      "sedan          91457\n",
      "small          79830\n",
      "wagon          65165\n",
      "bus            28775\n",
      "convertible    20203\n",
      "coupe          16161\n",
      "suv            11996\n",
      "other           3288\n",
      "Name: vehicletype, dtype: int64\n"
     ]
    }
   ],
   "source": [
    "print(autos['vehicletype'].unique())\n",
    "print(autos['vehicletype'].value_counts())"
   ]
  },
  {
   "cell_type": "markdown",
   "metadata": {},
   "source": [
    "Точно определить категорию для пропущенного значения в 'vehicletype' невозможно, поэтому используем заглушку и заменим пропуски на unknown"
   ]
  },
  {
   "cell_type": "code",
   "execution_count": 9,
   "metadata": {},
   "outputs": [
    {
     "name": "stdout",
     "output_type": "stream",
     "text": [
      "sedan          91457\n",
      "small          79830\n",
      "wagon          65165\n",
      "unknown        37490\n",
      "bus            28775\n",
      "convertible    20203\n",
      "coupe          16161\n",
      "suv            11996\n",
      "other           3288\n",
      "Name: vehicletype, dtype: int64\n"
     ]
    }
   ],
   "source": [
    "autos.fillna({'vehicletype': 'unknown'}, inplace=True)\n",
    "print(autos['vehicletype'].value_counts())"
   ]
  },
  {
   "cell_type": "markdown",
   "metadata": {},
   "source": [
    "Сделаем то же самое для других признаков. "
   ]
  },
  {
   "cell_type": "code",
   "execution_count": 10,
   "metadata": {},
   "outputs": [
    {
     "name": "stdout",
     "output_type": "stream",
     "text": [
      "['manual' 'auto' nan]\n",
      "manual    268249\n",
      "auto       66283\n",
      "Name: gearbox, dtype: int64\n"
     ]
    }
   ],
   "source": [
    "print(autos['gearbox'].unique())\n",
    "print(autos['gearbox'].value_counts())"
   ]
  },
  {
   "cell_type": "markdown",
   "metadata": {},
   "source": [
    "Заменим все неизвестные типы коробки передач на значение unknown"
   ]
  },
  {
   "cell_type": "code",
   "execution_count": 11,
   "metadata": {},
   "outputs": [],
   "source": [
    "autos.fillna({'gearbox': 'unknown'}, inplace=True)"
   ]
  },
  {
   "cell_type": "code",
   "execution_count": 12,
   "metadata": {},
   "outputs": [
    {
     "name": "stdout",
     "output_type": "stream",
     "text": [
      "['golf' nan 'grand' 'fabia' '3er' '2_reihe' 'other' 'c_max' '3_reihe'\n",
      " 'passat' 'navara' 'ka' 'polo' 'twingo' 'a_klasse' 'scirocco' '5er'\n",
      " 'meriva' 'arosa' 'c4' 'civic' 'transporter' 'punto' 'e_klasse' 'clio'\n",
      " 'kadett' 'kangoo' 'corsa' 'one' 'fortwo' '1er' 'b_klasse' 'signum'\n",
      " 'astra' 'a8' 'jetta' 'fiesta' 'c_klasse' 'micra' 'vito' 'sprinter' '156'\n",
      " 'escort' 'forester' 'xc_reihe' 'scenic' 'a4' 'a1' 'insignia' 'combo'\n",
      " 'focus' 'tt' 'a6' 'jazz' 'omega' 'slk' '7er' '80' '147' '100' 'z_reihe'\n",
      " 'sportage' 'sorento' 'v40' 'ibiza' 'mustang' 'eos' 'touran' 'getz' 'a3'\n",
      " 'almera' 'megane' 'lupo' 'r19' 'zafira' 'caddy' 'mondeo' 'cordoba' 'colt'\n",
      " 'impreza' 'vectra' 'berlingo' 'tiguan' 'i_reihe' 'espace' 'sharan'\n",
      " '6_reihe' 'panda' 'up' 'seicento' 'ceed' '5_reihe' 'yeti' 'octavia' 'mii'\n",
      " 'rx_reihe' '6er' 'modus' 'fox' 'matiz' 'beetle' 'c1' 'rio' 'touareg'\n",
      " 'logan' 'spider' 'cuore' 's_max' 'a2' 'galaxy' 'c3' 'viano' 's_klasse'\n",
      " '1_reihe' 'avensis' 'roomster' 'sl' 'kaefer' 'santa' 'cooper' 'leon'\n",
      " '4_reihe' 'a5' '500' 'laguna' 'ptcruiser' 'clk' 'primera' 'x_reihe'\n",
      " 'exeo' '159' 'transit' 'juke' 'qashqai' 'carisma' 'accord' 'corolla'\n",
      " 'lanos' 'phaeton' 'verso' 'swift' 'rav' 'picanto' 'boxster' 'kalos'\n",
      " 'superb' 'stilo' 'alhambra' 'mx_reihe' 'roadster' 'ypsilon' 'cayenne'\n",
      " 'galant' 'justy' '90' 'sirion' 'crossfire' 'agila' 'duster' 'cr_reihe'\n",
      " 'v50' 'c_reihe' 'v_klasse' 'm_klasse' 'yaris' 'c5' 'aygo' 'cc' 'carnival'\n",
      " 'fusion' '911' 'bora' 'forfour' 'm_reihe' 'cl' 'tigra' '300c' 'spark'\n",
      " 'v70' 'kuga' 'x_type' 'ducato' 's_type' 'x_trail' 'toledo' 'altea'\n",
      " 'voyager' 'calibra' 'bravo' 'antara' 'tucson' 'citigo' 'jimny' 'wrangler'\n",
      " 'lybra' 'q7' 'lancer' 'captiva' 'c2' 'discovery' 'freelander' 'sandero'\n",
      " 'note' '900' 'cherokee' 'clubman' 'samara' 'defender' '601' 'cx_reihe'\n",
      " 'legacy' 'pajero' 'auris' 'niva' 's60' 'nubira' 'vivaro' 'g_klasse'\n",
      " 'lodgy' '850' 'range_rover' 'q3' 'serie_2' 'glk' 'charade' 'croma'\n",
      " 'outlander' 'doblo' 'musa' 'move' '9000' 'v60' '145' 'aveo' '200' 'b_max'\n",
      " 'range_rover_sport' 'terios' 'rangerover' 'q5' 'range_rover_evoque'\n",
      " 'materia' 'delta' 'gl' 'kalina' 'amarok' 'elefantino' 'i3' 'kappa'\n",
      " 'serie_3' 'serie_1']\n"
     ]
    }
   ],
   "source": [
    "print(autos['model'].unique())"
   ]
  },
  {
   "cell_type": "markdown",
   "metadata": {},
   "source": [
    "Модели range_rover и range_rover_sport могут считаться связанными, поскольку обе принадлежат к одной и той же линейке автомобилей Land Rover, поэтому переименуем range_rover_sport просто в range_rover"
   ]
  },
  {
   "cell_type": "code",
   "execution_count": 13,
   "metadata": {},
   "outputs": [],
   "source": [
    "autos['model'] = autos['model'].replace(['range_rover_sport'], 'range_rover')"
   ]
  },
  {
   "cell_type": "markdown",
   "metadata": {},
   "source": [
    "Как и выше, добавим неизвестные значения моделей, тип топлива и была машина в ремонте или нет в unknown"
   ]
  },
  {
   "cell_type": "code",
   "execution_count": 14,
   "metadata": {},
   "outputs": [],
   "source": [
    "autos.fillna({'model': 'unknown'}, inplace=True)"
   ]
  },
  {
   "cell_type": "code",
   "execution_count": 15,
   "metadata": {},
   "outputs": [
    {
     "name": "stdout",
     "output_type": "stream",
     "text": [
      "['petrol' 'gasoline' nan 'lpg' 'other' 'hybrid' 'cng' 'electric']\n",
      "petrol      216349\n",
      "gasoline     98719\n",
      "lpg           5310\n",
      "cng            565\n",
      "hybrid         233\n",
      "other          204\n",
      "electric        90\n",
      "Name: fueltype, dtype: int64\n"
     ]
    }
   ],
   "source": [
    "print(autos['fueltype'].unique())\n",
    "print(autos['fueltype'].value_counts())"
   ]
  },
  {
   "cell_type": "code",
   "execution_count": 16,
   "metadata": {},
   "outputs": [],
   "source": [
    "# переименуем gasoline в petrol, поскольку эти значения оба обозначают \"бензин\"\n",
    "autos['fueltype'] = autos['fueltype'].replace(['gasoline'],'petrol')"
   ]
  },
  {
   "cell_type": "code",
   "execution_count": 17,
   "metadata": {},
   "outputs": [],
   "source": [
    "autos.fillna({'fueltype': 'unknown'}, inplace=True)"
   ]
  },
  {
   "cell_type": "code",
   "execution_count": 18,
   "metadata": {},
   "outputs": [
    {
     "name": "stdout",
     "output_type": "stream",
     "text": [
      "[nan 'yes' 'no']\n",
      "no     247158\n",
      "yes     36053\n",
      "Name: repaired, dtype: int64\n"
     ]
    }
   ],
   "source": [
    "print(autos['repaired'].unique())\n",
    "print(autos['repaired'].value_counts())"
   ]
  },
  {
   "cell_type": "code",
   "execution_count": 19,
   "metadata": {},
   "outputs": [],
   "source": [
    "autos.fillna({'repaired': 'unknown'}, inplace=True)"
   ]
  },
  {
   "cell_type": "markdown",
   "metadata": {},
   "source": [
    "Посмотрим, как обработались все пропуски"
   ]
  },
  {
   "cell_type": "code",
   "execution_count": 20,
   "metadata": {},
   "outputs": [
    {
     "name": "stdout",
     "output_type": "stream",
     "text": [
      "datecrawled          0\n",
      "price                0\n",
      "vehicletype          0\n",
      "registrationyear     0\n",
      "gearbox              0\n",
      "power                0\n",
      "model                0\n",
      "kilometer            0\n",
      "registrationmonth    0\n",
      "fueltype             0\n",
      "brand                0\n",
      "repaired             0\n",
      "datecreated          0\n",
      "numberofpictures     0\n",
      "postalcode           0\n",
      "lastseen             0\n",
      "dtype: int64\n"
     ]
    }
   ],
   "source": [
    "print(autos.isna().sum())"
   ]
  },
  {
   "cell_type": "markdown",
   "metadata": {},
   "source": [
    "Посмотрим на все оставшиеся признаки и проанализируем их"
   ]
  },
  {
   "cell_type": "code",
   "execution_count": 21,
   "metadata": {},
   "outputs": [
    {
     "name": "stdout",
     "output_type": "stream",
     "text": [
      "['volkswagen' 'audi' 'jeep' 'skoda' 'bmw' 'peugeot' 'ford' 'mazda'\n",
      " 'nissan' 'renault' 'mercedes_benz' 'opel' 'seat' 'citroen' 'honda' 'fiat'\n",
      " 'mini' 'smart' 'hyundai' 'sonstige_autos' 'alfa_romeo' 'subaru' 'volvo'\n",
      " 'mitsubishi' 'kia' 'suzuki' 'lancia' 'toyota' 'chevrolet' 'dacia'\n",
      " 'daihatsu' 'trabant' 'saab' 'chrysler' 'jaguar' 'daewoo' 'porsche'\n",
      " 'rover' 'land_rover' 'lada']\n"
     ]
    }
   ],
   "source": [
    "print(autos['brand'].unique())"
   ]
  },
  {
   "cell_type": "markdown",
   "metadata": {},
   "source": [
    "Удалим следующие столбцы, которые не будут нужны для построения модели: datecrawled, registrationmonth, datecreated, numberofpictures, postalcode и lastseen. Эти признаки не оказывают влияния на цену автомобиля (наш целевой признак), так как не связаны с его техническими характеристиками или комплектацией. Их сохранение не добавит полезной информации для модели, поэтому они не представляют практической ценности для машинного обучения."
   ]
  },
  {
   "cell_type": "code",
   "execution_count": 22,
   "metadata": {},
   "outputs": [],
   "source": [
    "autos.drop(columns=['datecrawled', 'datecreated', 'numberofpictures','postalcode', 'lastseen', 'registrationmonth'],axis=1,inplace=True)"
   ]
  },
  {
   "cell_type": "code",
   "execution_count": 23,
   "metadata": {},
   "outputs": [
    {
     "data": {
      "text/html": [
       "<div>\n",
       "<style scoped>\n",
       "    .dataframe tbody tr th:only-of-type {\n",
       "        vertical-align: middle;\n",
       "    }\n",
       "\n",
       "    .dataframe tbody tr th {\n",
       "        vertical-align: top;\n",
       "    }\n",
       "\n",
       "    .dataframe thead th {\n",
       "        text-align: right;\n",
       "    }\n",
       "</style>\n",
       "<table border=\"1\" class=\"dataframe\">\n",
       "  <thead>\n",
       "    <tr style=\"text-align: right;\">\n",
       "      <th></th>\n",
       "      <th>price</th>\n",
       "      <th>vehicletype</th>\n",
       "      <th>registrationyear</th>\n",
       "      <th>gearbox</th>\n",
       "      <th>power</th>\n",
       "      <th>model</th>\n",
       "      <th>kilometer</th>\n",
       "      <th>fueltype</th>\n",
       "      <th>brand</th>\n",
       "      <th>repaired</th>\n",
       "    </tr>\n",
       "  </thead>\n",
       "  <tbody>\n",
       "    <tr>\n",
       "      <th>0</th>\n",
       "      <td>480</td>\n",
       "      <td>unknown</td>\n",
       "      <td>1993</td>\n",
       "      <td>manual</td>\n",
       "      <td>0</td>\n",
       "      <td>golf</td>\n",
       "      <td>150000</td>\n",
       "      <td>petrol</td>\n",
       "      <td>volkswagen</td>\n",
       "      <td>unknown</td>\n",
       "    </tr>\n",
       "    <tr>\n",
       "      <th>1</th>\n",
       "      <td>18300</td>\n",
       "      <td>coupe</td>\n",
       "      <td>2011</td>\n",
       "      <td>manual</td>\n",
       "      <td>190</td>\n",
       "      <td>unknown</td>\n",
       "      <td>125000</td>\n",
       "      <td>petrol</td>\n",
       "      <td>audi</td>\n",
       "      <td>yes</td>\n",
       "    </tr>\n",
       "    <tr>\n",
       "      <th>2</th>\n",
       "      <td>9800</td>\n",
       "      <td>suv</td>\n",
       "      <td>2004</td>\n",
       "      <td>auto</td>\n",
       "      <td>163</td>\n",
       "      <td>grand</td>\n",
       "      <td>125000</td>\n",
       "      <td>petrol</td>\n",
       "      <td>jeep</td>\n",
       "      <td>unknown</td>\n",
       "    </tr>\n",
       "    <tr>\n",
       "      <th>3</th>\n",
       "      <td>1500</td>\n",
       "      <td>small</td>\n",
       "      <td>2001</td>\n",
       "      <td>manual</td>\n",
       "      <td>75</td>\n",
       "      <td>golf</td>\n",
       "      <td>150000</td>\n",
       "      <td>petrol</td>\n",
       "      <td>volkswagen</td>\n",
       "      <td>no</td>\n",
       "    </tr>\n",
       "    <tr>\n",
       "      <th>4</th>\n",
       "      <td>3600</td>\n",
       "      <td>small</td>\n",
       "      <td>2008</td>\n",
       "      <td>manual</td>\n",
       "      <td>69</td>\n",
       "      <td>fabia</td>\n",
       "      <td>90000</td>\n",
       "      <td>petrol</td>\n",
       "      <td>skoda</td>\n",
       "      <td>no</td>\n",
       "    </tr>\n",
       "  </tbody>\n",
       "</table>\n",
       "</div>"
      ],
      "text/plain": [
       "   price vehicletype  registrationyear gearbox  power    model  kilometer  \\\n",
       "0    480     unknown              1993  manual      0     golf     150000   \n",
       "1  18300       coupe              2011  manual    190  unknown     125000   \n",
       "2   9800         suv              2004    auto    163    grand     125000   \n",
       "3   1500       small              2001  manual     75     golf     150000   \n",
       "4   3600       small              2008  manual     69    fabia      90000   \n",
       "\n",
       "  fueltype       brand repaired  \n",
       "0   petrol  volkswagen  unknown  \n",
       "1   petrol        audi      yes  \n",
       "2   petrol        jeep  unknown  \n",
       "3   petrol  volkswagen       no  \n",
       "4   petrol       skoda       no  "
      ]
     },
     "metadata": {},
     "output_type": "display_data"
    }
   ],
   "source": [
    "display(autos.head(5))"
   ]
  },
  {
   "cell_type": "markdown",
   "metadata": {},
   "source": [
    "Для анализа и количественных признаков построим гистрограммы распределений и диаграммы размаха. После этого можно исключить выбросы, чтобы повысить качество данных."
   ]
  },
  {
   "cell_type": "code",
   "execution_count": 24,
   "metadata": {},
   "outputs": [
    {
     "data": {
      "text/html": [
       "<div>\n",
       "<style scoped>\n",
       "    .dataframe tbody tr th:only-of-type {\n",
       "        vertical-align: middle;\n",
       "    }\n",
       "\n",
       "    .dataframe tbody tr th {\n",
       "        vertical-align: top;\n",
       "    }\n",
       "\n",
       "    .dataframe thead th {\n",
       "        text-align: right;\n",
       "    }\n",
       "</style>\n",
       "<table border=\"1\" class=\"dataframe\">\n",
       "  <thead>\n",
       "    <tr style=\"text-align: right;\">\n",
       "      <th></th>\n",
       "      <th>count</th>\n",
       "      <th>mean</th>\n",
       "      <th>std</th>\n",
       "      <th>min</th>\n",
       "      <th>25%</th>\n",
       "      <th>50%</th>\n",
       "      <th>75%</th>\n",
       "      <th>max</th>\n",
       "    </tr>\n",
       "  </thead>\n",
       "  <tbody>\n",
       "    <tr>\n",
       "      <th>price</th>\n",
       "      <td>354365.0</td>\n",
       "      <td>4416.679830</td>\n",
       "      <td>4514.176349</td>\n",
       "      <td>0.0</td>\n",
       "      <td>1050.0</td>\n",
       "      <td>2700.0</td>\n",
       "      <td>6400.0</td>\n",
       "      <td>20000.0</td>\n",
       "    </tr>\n",
       "    <tr>\n",
       "      <th>registrationyear</th>\n",
       "      <td>354365.0</td>\n",
       "      <td>2004.234481</td>\n",
       "      <td>90.228466</td>\n",
       "      <td>1000.0</td>\n",
       "      <td>1999.0</td>\n",
       "      <td>2003.0</td>\n",
       "      <td>2008.0</td>\n",
       "      <td>9999.0</td>\n",
       "    </tr>\n",
       "    <tr>\n",
       "      <th>power</th>\n",
       "      <td>354365.0</td>\n",
       "      <td>110.093816</td>\n",
       "      <td>189.851330</td>\n",
       "      <td>0.0</td>\n",
       "      <td>69.0</td>\n",
       "      <td>105.0</td>\n",
       "      <td>143.0</td>\n",
       "      <td>20000.0</td>\n",
       "    </tr>\n",
       "    <tr>\n",
       "      <th>kilometer</th>\n",
       "      <td>354365.0</td>\n",
       "      <td>128211.363989</td>\n",
       "      <td>37905.083858</td>\n",
       "      <td>5000.0</td>\n",
       "      <td>125000.0</td>\n",
       "      <td>150000.0</td>\n",
       "      <td>150000.0</td>\n",
       "      <td>150000.0</td>\n",
       "    </tr>\n",
       "  </tbody>\n",
       "</table>\n",
       "</div>"
      ],
      "text/plain": [
       "                     count           mean           std     min       25%  \\\n",
       "price             354365.0    4416.679830   4514.176349     0.0    1050.0   \n",
       "registrationyear  354365.0    2004.234481     90.228466  1000.0    1999.0   \n",
       "power             354365.0     110.093816    189.851330     0.0      69.0   \n",
       "kilometer         354365.0  128211.363989  37905.083858  5000.0  125000.0   \n",
       "\n",
       "                       50%       75%       max  \n",
       "price               2700.0    6400.0   20000.0  \n",
       "registrationyear    2003.0    2008.0    9999.0  \n",
       "power                105.0     143.0   20000.0  \n",
       "kilometer         150000.0  150000.0  150000.0  "
      ]
     },
     "execution_count": 24,
     "metadata": {},
     "output_type": "execute_result"
    }
   ],
   "source": [
    "autos.describe().T"
   ]
  },
  {
   "cell_type": "markdown",
   "metadata": {},
   "source": [
    "1) Цена машины в евро - price"
   ]
  },
  {
   "cell_type": "code",
   "execution_count": 25,
   "metadata": {},
   "outputs": [
    {
     "data": {
      "image/png": "[encoded data removed]",
      "text/plain": [
       "<Figure size 1080x360 with 2 Axes>"
      ]
     },
     "metadata": {
      "needs_background": "light"
     },
     "output_type": "display_data"
    }
   ],
   "source": [
    "fig, axes = plt.subplots(nrows=1, ncols=2, figsize=(15, 5))\n",
    "fig.suptitle('Анализ распределения цены автомобиля', fontsize=18)\n",
    "\n",
    "# Гистограмма распределения цены\n",
    "autos['price'].plot(kind='hist', bins=20, ax=axes[0])\n",
    "axes[0].set_title('Гистограмма распределения цены')\n",
    "axes[0].set_xlabel('Цена (в евро)')\n",
    "axes[0].set_ylabel('Количество')\n",
    "\n",
    "# Диаграмма размаха для цены\n",
    "autos['price'].plot(kind='box', ax=axes[1])\n",
    "axes[1].set_title('Диаграмма размаха цены')\n",
    "axes[1].set_ylabel('Цена (в евро)')\n",
    "\n",
    "plt.tight_layout()\n",
    "plt.show()"
   ]
  },
  {
   "cell_type": "markdown",
   "metadata": {},
   "source": [
    "Цена автомобиля не может равняться нулю, поэтому необходимо удалить все записи, в которых цена указана от 0 до 50 евро. Это позволяет избежать искажений в анализе и обеспечит более точные результаты при построении модели. Таким образом, мы отфильтруем данные, чтобы оставить только автомобили с действительными ценами, что также поможет улучшить качество предсказания модели в дальнейшем."
   ]
  },
  {
   "cell_type": "code",
   "execution_count": 26,
   "metadata": {},
   "outputs": [],
   "source": [
    "autos = autos.query('price > 50')"
   ]
  },
  {
   "cell_type": "markdown",
   "metadata": {},
   "source": [
    "2) Год регистрации автомобиля - registrationyear"
   ]
  },
  {
   "cell_type": "code",
   "execution_count": 27,
   "metadata": {},
   "outputs": [
    {
     "data": {
      "image/png": "[encoded data removed]",
      "text/plain": [
       "<Figure size 1080x360 with 2 Axes>"
      ]
     },
     "metadata": {
      "needs_background": "light"
     },
     "output_type": "display_data"
    }
   ],
   "source": [
    "fig, axes = plt.subplots(nrows=1, ncols=2, figsize=(15, 5))\n",
    "fig.suptitle('Анализ распределения года регистрации автомобиля', fontsize=18)\n",
    "\n",
    "# Гистограмма распределения года регистрации\n",
    "autos['registrationyear'].plot(kind='hist', bins=20, ax=axes[0])\n",
    "axes[0].set_title('Гистограмма распределения года регистрации')\n",
    "axes[0].set_xlabel('Год регистрации')\n",
    "axes[0].set_ylabel('Количество')\n",
    "\n",
    "# Диаграмма размаха для года регистрации\n",
    "autos['registrationyear'].plot(kind='box', ax=axes[1])\n",
    "axes[1].set_title('Диаграмма размаха года регистрации')\n",
    "axes[1].set_ylabel('Год регистрации')\n",
    "\n",
    "plt.tight_layout()\n",
    "plt.show()"
   ]
  },
  {
   "cell_type": "markdown",
   "metadata": {},
   "source": [
    "Судя по графикам, в данных есть значения для registrationyear, которые выглядят как выбросы, такие как 1000 и 9999. Эти значения явно выходят за разумные границы (автомобиль не мог быть зарегистрирован до 1800-х годов или после 2016 года). Исключим такие аномалии и оставить только реалистичные значения года регистрации автомобиля, например, от 1960 до 2016 года."
   ]
  },
  {
   "cell_type": "code",
   "execution_count": 28,
   "metadata": {},
   "outputs": [
    {
     "name": "stdout",
     "output_type": "stream",
     "text": [
      "count    327610.000000\n",
      "mean       2002.664513\n",
      "std           6.653777\n",
      "min        1960.000000\n",
      "25%        1999.000000\n",
      "50%        2003.000000\n",
      "75%        2007.000000\n",
      "max        2016.000000\n",
      "Name: registrationyear, dtype: float64\n"
     ]
    }
   ],
   "source": [
    "autos = autos[(autos['registrationyear'] >= 1960) & (autos['registrationyear'] <= 2016)]\n",
    "print(autos['registrationyear'].describe())"
   ]
  },
  {
   "cell_type": "markdown",
   "metadata": {},
   "source": [
    "3) Мощность автомобиля (л. с.) - power"
   ]
  },
  {
   "cell_type": "code",
   "execution_count": 29,
   "metadata": {},
   "outputs": [
    {
     "data": {
      "image/png": "[encoded data removed]",
      "text/plain": [
       "<Figure size 1080x360 with 2 Axes>"
      ]
     },
     "metadata": {
      "needs_background": "light"
     },
     "output_type": "display_data"
    }
   ],
   "source": [
    "fig, axes = plt.subplots(nrows=1, ncols=2, figsize=(15, 5))\n",
    "fig.suptitle('Анализ распределения мощности автомобиля (л.с.)', fontsize=18)\n",
    "\n",
    "# Гистограмма распределения мощности\n",
    "autos['power'].plot(kind='hist', bins=20, ax=axes[0])\n",
    "axes[0].set_title('Гистограмма распределения мощности')\n",
    "axes[0].set_xlabel('Мощность (л.с.)')\n",
    "axes[0].set_ylabel('Количество')\n",
    "\n",
    "# Диаграмма размаха для мощности\n",
    "autos['power'].plot(kind='box', ax=axes[1])\n",
    "axes[1].set_title('Диаграмма размаха мощности')\n",
    "axes[1].set_ylabel('Мощность (л.с.)')\n",
    "\n",
    "plt.tight_layout()\n",
    "plt.show()"
   ]
  },
  {
   "cell_type": "markdown",
   "metadata": {},
   "source": [
    "Судя по графикам у мощности автомобилей, имеются явные выбросы, так как значения мощности варьируются от 0 до 20,000 л.с. Обычно, диапазон реальной мощности автомобилей составляет от 40 до 650 л.с. для легковых автомобилей. Такие значения, как 0 л.с. и 20,000 л.с., могут свидетельствовать об ошибках ввода данных или неточностях. Укажем значения мощности меньше 650 л.с. но больше 40 л.с."
   ]
  },
  {
   "cell_type": "code",
   "execution_count": 30,
   "metadata": {},
   "outputs": [],
   "source": [
    "autos = autos[(autos['power'] > 40) & (autos['power'] <= 650)]"
   ]
  },
  {
   "cell_type": "markdown",
   "metadata": {},
   "source": [
    "4) Пробег автомобиля (км) - kilometer"
   ]
  },
  {
   "cell_type": "code",
   "execution_count": 31,
   "metadata": {},
   "outputs": [
    {
     "data": {
      "image/png": "[encoded data removed]",
      "text/plain": [
       "<Figure size 1080x360 with 2 Axes>"
      ]
     },
     "metadata": {
      "needs_background": "light"
     },
     "output_type": "display_data"
    }
   ],
   "source": [
    "fig, axes = plt.subplots(nrows=1, ncols=2, figsize=(15, 5))\n",
    "fig.suptitle('Анализ распределения пробега автомобиля (км)', fontsize=18)\n",
    "\n",
    "# Гистограмма распределения пробега\n",
    "autos['kilometer'].plot(kind='hist', bins=20, ax=axes[0])\n",
    "axes[0].set_title('Гистограмма распределения пробега')\n",
    "axes[0].set_xlabel('Пробег (км)')\n",
    "axes[0].set_ylabel('Количество')\n",
    "\n",
    "# Диаграмма размаха для пробега\n",
    "autos['kilometer'].plot(kind='box', ax=axes[1])\n",
    "axes[1].set_title('Диаграмма размаха пробега')\n",
    "axes[1].set_ylabel('Пробег (км)')\n",
    "\n",
    "plt.tight_layout()\n",
    "plt.show()"
   ]
  },
  {
   "cell_type": "code",
   "execution_count": 32,
   "metadata": {},
   "outputs": [
    {
     "data": {
      "text/plain": [
       "150000    195460\n",
       "125000     31641\n",
       "100000     12718\n",
       "90000      10229\n",
       "80000       8942\n",
       "70000       7725\n",
       "60000       6738\n",
       "50000       5565\n",
       "40000       4424\n",
       "30000       3811\n",
       "20000       3176\n",
       "5000        2692\n",
       "10000        870\n",
       "Name: kilometer, dtype: int64"
      ]
     },
     "execution_count": 32,
     "metadata": {},
     "output_type": "execute_result"
    }
   ],
   "source": [
    "autos['kilometer'].value_counts()"
   ]
  },
  {
   "cell_type": "markdown",
   "metadata": {},
   "source": [
    "Согласно данным и этим графикам, можно заметить, что пробег большинства автомобилей сконцентрирован на уровне 150,000 км, что может указывать на то, что это распространённый пробег для подержанных автомобилей в нашем наборе данных. Оставим все данные по километражу и позволим модели лучше учесть особенности рынка подержанных автомобилей, тем самым улучшим точность прогнозов."
   ]
  },
  {
   "cell_type": "markdown",
   "metadata": {},
   "source": [
    "После анализа признаков можно провести корреляционный анализ для оценки взаимосвязей между ними. Построим матрицу корреляции коэффициента Фи"
   ]
  },
  {
   "cell_type": "code",
   "execution_count": 33,
   "metadata": {},
   "outputs": [
    {
     "name": "stdout",
     "output_type": "stream",
     "text": [
      "interval columns not set, guessing: ['price', 'registrationyear', 'power', 'kilometer']\n"
     ]
    },
    {
     "data": {
      "image/png": "[encoded data removed]",
      "text/plain": [
       "<Figure size 864x720 with 2 Axes>"
      ]
     },
     "metadata": {
      "needs_background": "light"
     },
     "output_type": "display_data"
    }
   ],
   "source": [
    "# построим матрицу корреляции коэффициента Фи'\n",
    "\n",
    "selected_columns = ['price', 'vehicletype', 'registrationyear', 'gearbox', 'power', 'model', 'kilometer', 'fueltype', 'brand', 'repaired']\n",
    "autos_subset = autos[selected_columns]\n",
    "\n",
    "# Вычисляем матрицу корреляции с помощью phik\n",
    "autos_phik = autos_subset.phik_matrix()\n",
    "\n",
    "# Визуализация матрицы корреляции\n",
    "plt.figure(figsize=(12, 10))\n",
    "sns.heatmap(autos_phik, annot=True, fmt='.2f', cmap='PuBu', cbar=True)\n",
    "plt.title('Матрица корреляции коэффициента $\\phi_K$', fontsize=15)\n",
    "plt.show()"
   ]
  },
  {
   "cell_type": "markdown",
   "metadata": {},
   "source": [
    "Мы сразу можем заметить, что между признаками model и brand наблюдается полная корреляция (1.00). Это указывает на то, что наши данные пересекаются: для каждой модели соответствует только один конкретный бренд. Также признак model с признаком vehicletype имеет высокую корреляцию (0.898), что, вероятно, связано с тем, что большинство моделей автомобилей выпускаются в определенном варианте кузова, создавая взаимосвязь между этими признаками. Поэтому лучше удалить признак model, так как brand уже достаточно полно передаёт информацию о моделях, что поможет избежать избыточности данных и уменьшить риск мультиколлинеарности.\n",
    "\n",
    "Кроме того, между ценой price и мощностью power автомобиля существует умеренная положительная корреляция (0.5), что указывает на то, что увеличение мощности автомобиля связано с повышением его цены. Значит, автомобили с более мощными двигателями часто имеют более высокую стоимость.\n",
    "\n",
    "Также между ценой price и годом регистрации registrationyear заметная корреляция и она составляет 0.66, что скорее всего говорит нам о том, что более новые автомобили, как правило, стоят дороже.\n",
    "\n",
    "Как и у model, мы видим заметную корреляцию между признаками brand и vehicletype (0.59) и она может быть объяснена тем, что определенные бренды выпускают машины, которые чаще представлены в определенных типах кузова. Вдобавок, умеренная корреляция между brand и power (0.55) и между brand и gearbox (0.52) говорит о том, что определенные марки имеют тенденцию к производству автомобилей с определенной мощностью и коробкой передач.\n",
    "\n",
    "Оставшиеся признаки демонстрируют либо немного заметные, или же слабо выраженные корреляционные связи между друг другом."
   ]
  },
  {
   "cell_type": "code",
   "execution_count": 34,
   "metadata": {},
   "outputs": [],
   "source": [
    "# уберем признак model\n",
    "autos.drop(columns=['model'],axis=1,inplace=True)"
   ]
  },
  {
   "cell_type": "markdown",
   "metadata": {},
   "source": [
    "После всех преобразований опять перепроверим на дубликаты, и если они есть, удалим их"
   ]
  },
  {
   "cell_type": "code",
   "execution_count": 35,
   "metadata": {},
   "outputs": [
    {
     "name": "stdout",
     "output_type": "stream",
     "text": [
      "45397\n"
     ]
    }
   ],
   "source": [
    "print(autos.duplicated().sum())"
   ]
  },
  {
   "cell_type": "code",
   "execution_count": 36,
   "metadata": {},
   "outputs": [
    {
     "name": "stdout",
     "output_type": "stream",
     "text": [
      "0\n"
     ]
    }
   ],
   "source": [
    "autos = autos.drop_duplicates()\n",
    "print(autos.duplicated().sum())"
   ]
  },
  {
   "cell_type": "markdown",
   "metadata": {},
   "source": [
    "Итак, по итогу 1 шага работы можно сделать небольшие выводы:\n",
    "Мной были выполнены несколько этапов, которые обеспечили качество и полноту набора данных для дальнейшего анализа и построения модели. \n",
    "\n",
    "Для начала мы загрузили и провели первичный анализ данных. Датасет был загружен, и мы выявили пропуски в нескольких столбцах: VehicleType, Gearbox, Model, FuelType и Repaired. Для обработки пропусков мы заменили их на значение \"unknown\", что позволило сохранить структуру данных без значительной потери информации.\n",
    "После мы обнаружили и удалили 4 полных дубликата, чтобы избежать искажения результатов анализа.\n",
    "Далее были исключены столбцы, которые не влияют на наш целевой признак на цену автомобиля (datecrawled, registrationmonth, datecreated, numberofpictures, postalcode и lastseen). Эти признаки не имели практической ценности для модели, и их сохранение могло бы лишь усложнить процесс машинного обучения.\n",
    "\n",
    "Следующим шагом мы провели анализ количественных признаков и выявили аномалии в некоторых данных:\n",
    " - Цена автомобиля (price): Удалены записи с ценой меньше 50 евро, чтобы избежать искажений в анализе.\n",
    " - Год регистрации (registrationyear): Исключены нереалистичные значения года регистрации машины (например, 1000 и 9999), что позволило оставить только приемлемые данные (от 1960 года до 2016).\n",
    " - Мощность автомобиля (power): Мощность автомобиля мы указали в диапазоне от 40 л.с. до 650 л.с.\n",
    "\n",
    "В заключение, мы построили матрицу корреляции Фи и провели корреляционный анализ, который выявил следующие результаты: мы обнаружили полную корреляцию (1.00) между признаками model и brand, что указывает на дублирование данных: каждой модели соответствует только один бренд. Также присутствовала высокая корреляция (0.898) между model и vehicletype была связана с тем, что большинство моделей выпускались в определённых вариантах кузова. Поэтому мы решили удалить признак model, поскольку brand уже достаточно отражал информацию о моделях и помогал избежать избыточности. \n",
    "Также мы обнаружили умеренную положительную корреляцию (0.5) между ценой price и мощностью power, что указывает на то, что более мощные автомобили, как правило, имеют более высокую стоимость. Заметная корреляция (0.66) между price и годом регистрации registrationyear свидетельствовала о том, что более новые автомобили, как правило, стоили дороже. Кроме того, присутствовала корреляция (0.59) между brand и vehicletype, что объясняется тем, что определённые бренды производят автомобили, соответствующие определённым типам кузова. Умеренные корреляции (0.55) между brand и power, а также (0.52) между brand и gearbox указывали на то, что некоторые марки выпускают автомобили с определённой мощностью и типом коробки передач. Остальные признаки показывают либо незначительные, либо слабые корреляционные связи между собой.\n",
    "И в конце мы перепроверили наши данные на наличие дубликатов с последующим их удалением.\n",
    "\n",
    "В результате проведенных действий мы подготовили данные для дальнейшего анализа и построения предсказательной модели. Проведенные шаги обеспечили целостность и качество набора данных, что создает надежную основу для эффективного анализа и более точных предсказаний в будущем."
   ]
  },
  {
   "cell_type": "markdown",
   "metadata": {},
   "source": [
    "## Обучение моделей"
   ]
  },
  {
   "cell_type": "markdown",
   "metadata": {},
   "source": [
    "Далее для начала необходимо разделить датасет на тренировочную и тестовую выборки."
   ]
  },
  {
   "cell_type": "code",
   "execution_count": 37,
   "metadata": {},
   "outputs": [],
   "source": [
    "# Разделим данные на признаки и целевой признак\n",
    "X = autos.drop('price', axis=1)\n",
    "y = autos['price']"
   ]
  },
  {
   "cell_type": "code",
   "execution_count": 38,
   "metadata": {},
   "outputs": [],
   "source": [
    "# Разделение данных на обучающий и тестовый наборы\n",
    "X_train, X_test, y_train, y_test = train_test_split(X, y, test_size=0.2, random_state=RANDOM_STATE)"
   ]
  },
  {
   "cell_type": "markdown",
   "metadata": {},
   "source": [
    "**1. Модель LightGBM**"
   ]
  },
  {
   "cell_type": "code",
   "execution_count": 39,
   "metadata": {},
   "outputs": [],
   "source": [
    "X_train_lgbm = X_train.copy()\n",
    "y_train_lgbm = y_train.copy()\n",
    "X_test_lgbm = X_test.copy()\n",
    "y_test_lgbm = y_test.copy()"
   ]
  },
  {
   "cell_type": "code",
   "execution_count": 40,
   "metadata": {},
   "outputs": [],
   "source": [
    "cat_features = ['vehicletype', 'gearbox', 'fueltype', 'brand', 'repaired']\n",
    "for col in cat_features:\n",
    "    X_train_lgbm[col] = X_train_lgbm[col].astype('category')\n",
    "    X_test_lgbm[col] = X_test_lgbm[col].astype('category')"
   ]
  },
  {
   "cell_type": "code",
   "execution_count": 41,
   "metadata": {},
   "outputs": [
    {
     "name": "stdout",
     "output_type": "stream",
     "text": [
      "Fitting 3 folds for each of 8 candidates, totalling 24 fits\n",
      "[CV 1/3] END learning_rate=0.2, num_leaves=100;, score=-1669.114 total time= 1.0min\n",
      "[CV 2/3] END learning_rate=0.2, num_leaves=100;, score=-1647.249 total time= 1.3min\n",
      "[CV 3/3] END learning_rate=0.2, num_leaves=100;, score=-1663.646 total time= 4.4min\n",
      "[CV 1/3] END learning_rate=0.2, num_leaves=150;, score=-1661.994 total time= 1.2min\n",
      "[CV 2/3] END learning_rate=0.2, num_leaves=150;, score=-1641.041 total time= 1.7min\n",
      "[CV 3/3] END learning_rate=0.2, num_leaves=150;, score=-1657.573 total time= 3.4min\n",
      "[CV 1/3] END learning_rate=0.4, num_leaves=100;, score=-1688.532 total time= 1.9min\n",
      "[CV 2/3] END learning_rate=0.4, num_leaves=100;, score=-1670.109 total time= 1.8min\n",
      "[CV 3/3] END learning_rate=0.4, num_leaves=100;, score=-1687.092 total time= 2.1min\n",
      "[CV 1/3] END learning_rate=0.4, num_leaves=150;, score=-1688.913 total time=  50.9s\n",
      "[CV 2/3] END learning_rate=0.4, num_leaves=150;, score=-1665.443 total time=   8.0s\n",
      "[CV 3/3] END learning_rate=0.4, num_leaves=150;, score=-1687.184 total time=   7.5s\n",
      "[CV 1/3] END learning_rate=0.5, num_leaves=100;, score=-1702.550 total time=   5.9s\n",
      "[CV 2/3] END learning_rate=0.5, num_leaves=100;, score=-1687.613 total time=   5.6s\n",
      "[CV 3/3] END learning_rate=0.5, num_leaves=100;, score=-1703.598 total time=   5.5s\n",
      "[CV 1/3] END learning_rate=0.5, num_leaves=150;, score=-1709.834 total time=   7.3s\n",
      "[CV 2/3] END learning_rate=0.5, num_leaves=150;, score=-1685.794 total time=  11.1s\n",
      "[CV 3/3] END learning_rate=0.5, num_leaves=150;, score=-1705.332 total time=  13.3s\n",
      "[CV 1/3] END learning_rate=0.8, num_leaves=100;, score=-1778.180 total time=   5.7s\n",
      "[CV 2/3] END learning_rate=0.8, num_leaves=100;, score=-1746.312 total time=   5.5s\n",
      "[CV 3/3] END learning_rate=0.8, num_leaves=100;, score=-1778.588 total time=   5.8s\n",
      "[CV 1/3] END learning_rate=0.8, num_leaves=150;, score=-1784.057 total time=   7.6s\n",
      "[CV 2/3] END learning_rate=0.8, num_leaves=150;, score=-1763.018 total time=   7.4s\n",
      "[CV 3/3] END learning_rate=0.8, num_leaves=150;, score=-1794.444 total time=   7.5s\n",
      "\n",
      "Лучшие параметры: {'learning_rate': 0.2, 'num_leaves': 150}\n",
      "Метрика RMSE, полученная с помощью кросс валидации: 1653.535839085378\n"
     ]
    }
   ],
   "source": [
    "model_1 = lgb.LGBMRegressor(random_state=RANDOM_STATE)\n",
    "\n",
    "param_grid = {'num_leaves': [100,150],'learning_rate':[0.2, 0.4, 0.5, 0.8]}\n",
    "\n",
    "grid_search_lgbm=GridSearchCV(estimator=model_1,\n",
    "                          param_grid=param_grid,\n",
    "                          scoring='neg_root_mean_squared_error',\n",
    "                          cv=3,\n",
    "                          verbose=3)\n",
    "\n",
    "grid_search_lgbm.fit(X_train_lgbm, y_train_lgbm)\n",
    "\n",
    "lgbm_params = grid_search_lgbm.best_params_\n",
    "\n",
    "# Вывод лучших параметров и значения метрики\n",
    "print()\n",
    "print(\"Лучшие параметры:\", lgbm_params)\n",
    "print(\"Метрика RMSE, полученная с помощью кросс валидации:\", (grid_search_lgbm.best_score_ * -1))"
   ]
  },
  {
   "cell_type": "code",
   "execution_count": 42,
   "metadata": {},
   "outputs": [
    {
     "name": "stdout",
     "output_type": "stream",
     "text": [
      "Время обучения модели LightGBM на тренировочной выборке: 10.60 секунд\n",
      "CPU times: user 10.1 s, sys: 92.7 ms, total: 10.2 s\n",
      "Wall time: 10.6 s\n"
     ]
    }
   ],
   "source": [
    "%%time\n",
    "# Засекаем время обучения модели на всей тренировочной выборке с лучшими параметрами\n",
    "start = time.time()\n",
    "\n",
    "lgbm_model = lgb.LGBMRegressor(num_leaves = lgbm_params['num_leaves'], learning_rate = lgbm_params['learning_rate'], random_state=RANDOM_STATE)\n",
    "lgbm_model.fit(X_train_lgbm, y_train_lgbm)\n",
    "\n",
    "# Время обучения\n",
    "end = time.time()\n",
    "time_lgbm_fit =end-start\n",
    "print(f\"Время обучения модели LightGBM на тренировочной выборке: {time_lgbm_fit:.2f} секунд\")"
   ]
  },
  {
   "cell_type": "code",
   "execution_count": 43,
   "metadata": {},
   "outputs": [
    {
     "name": "stdout",
     "output_type": "stream",
     "text": [
      "Время предсказания модели LightGBM: 0.60 секунд\n",
      "CPU times: user 599 ms, sys: 0 ns, total: 599 ms\n",
      "Wall time: 600 ms\n"
     ]
    }
   ],
   "source": [
    "%%time\n",
    "# Время предсказания модели LightGBM\n",
    "start_time = time.time()\n",
    "y_pred_lgbm = lgbm_model.predict(X_test_lgbm)\n",
    "end_time = time.time()\n",
    "prediction_time_lgbm = end_time - start_time\n",
    "print(f\"Время предсказания модели LightGBM: {prediction_time_lgbm:.2f} секунд\")"
   ]
  },
  {
   "cell_type": "markdown",
   "metadata": {},
   "source": [
    "Лучшие параметры LightGBM: learning_rate: 0.2, num_leaves: 150. Качество модели на кросс-валидации: 1653.53. Найденое время обучение и предсказания, а также и этот качество модели на кросс-валидации будем в дальнейшем сравнивать с другими моделями, чтобы выбрать лучшую модель по трем критериям."
   ]
  },
  {
   "cell_type": "markdown",
   "metadata": {},
   "source": [
    "**2. Модель CatBoostRegressor**"
   ]
  },
  {
   "cell_type": "code",
   "execution_count": 44,
   "metadata": {},
   "outputs": [],
   "source": [
    "X_train_cbr = X_train.copy()\n",
    "y_train_cbr = y_train.copy()\n",
    "X_test_cbr = X_test.copy()\n",
    "y_test_cbr = y_test.copy()"
   ]
  },
  {
   "cell_type": "code",
   "execution_count": 45,
   "metadata": {},
   "outputs": [],
   "source": [
    "cat_features = ['vehicletype', 'gearbox', 'fueltype', 'brand', 'repaired']\n",
    "for col in cat_features:\n",
    "    X_train_cbr[col] = X_train_cbr[col].astype('category')\n",
    "    X_test_cbr[col] = X_test_cbr[col].astype('category')"
   ]
  },
  {
   "cell_type": "code",
   "execution_count": 46,
   "metadata": {},
   "outputs": [
    {
     "name": "stdout",
     "output_type": "stream",
     "text": [
      "0:\tlearn: 4379.1614497\ttotal: 152ms\tremaining: 15s\n",
      "99:\tlearn: 1818.4635953\ttotal: 5.37s\tremaining: 0us\n",
      "0:\tlearn: 4382.5254697\ttotal: 59.2ms\tremaining: 5.86s\n",
      "99:\tlearn: 1816.0669864\ttotal: 5.15s\tremaining: 0us\n",
      "0:\tlearn: 4383.7909362\ttotal: 59.6ms\tremaining: 5.9s\n",
      "99:\tlearn: 1817.6216584\ttotal: 5.28s\tremaining: 0us\n",
      "0:\tlearn: 4386.2158921\ttotal: 58.4ms\tremaining: 5.78s\n",
      "99:\tlearn: 1815.3909946\ttotal: 5.34s\tremaining: 0us\n",
      "0:\tlearn: 4383.0904744\ttotal: 59.5ms\tremaining: 5.89s\n",
      "99:\tlearn: 1816.0862672\ttotal: 5.31s\tremaining: 0us\n",
      "0:\tlearn: 3570.3805268\ttotal: 70.5ms\tremaining: 6.98s\n",
      "99:\tlearn: 1706.9121546\ttotal: 5.41s\tremaining: 0us\n",
      "0:\tlearn: 3572.6861707\ttotal: 59ms\tremaining: 5.84s\n",
      "99:\tlearn: 1699.6139918\ttotal: 5.34s\tremaining: 0us\n",
      "0:\tlearn: 3571.2448379\ttotal: 60ms\tremaining: 5.93s\n",
      "99:\tlearn: 1704.1060363\ttotal: 5.36s\tremaining: 0us\n",
      "0:\tlearn: 3574.7167205\ttotal: 60.1ms\tremaining: 5.95s\n",
      "99:\tlearn: 1695.9523152\ttotal: 5.42s\tremaining: 0us\n",
      "0:\tlearn: 3571.5056182\ttotal: 57.4ms\tremaining: 5.68s\n",
      "99:\tlearn: 1700.3536248\ttotal: 5.34s\tremaining: 0us\n",
      "0:\tlearn: 2626.2465037\ttotal: 82.5ms\tremaining: 8.17s\n",
      "99:\tlearn: 1584.6380769\ttotal: 6.81s\tremaining: 0us\n",
      "0:\tlearn: 2623.9489877\ttotal: 72.3ms\tremaining: 7.16s\n",
      "99:\tlearn: 1577.4672860\ttotal: 6.85s\tremaining: 0us\n",
      "0:\tlearn: 2598.8183652\ttotal: 77.9ms\tremaining: 7.71s\n",
      "99:\tlearn: 1581.4961849\ttotal: 6.88s\tremaining: 0us\n",
      "0:\tlearn: 2603.1628951\ttotal: 76.6ms\tremaining: 7.58s\n",
      "99:\tlearn: 1573.3019277\ttotal: 6.78s\tremaining: 0us\n",
      "0:\tlearn: 2605.4057725\ttotal: 72.9ms\tremaining: 7.22s\n",
      "99:\tlearn: 1588.2841615\ttotal: 6.85s\tremaining: 0us\n",
      "0:\tlearn: 2644.6085760\ttotal: 97.4ms\tremaining: 9.64s\n",
      "99:\tlearn: 1590.4903439\ttotal: 8.56s\tremaining: 0us\n",
      "\n",
      "Лучшие параметры: {'random_state': 42, 'learning_rate': 0.9, 'depth': 8}\n",
      "Метрика RMSE, полученная с помощью кросс валидации: 1725.8924043996412\n"
     ]
    }
   ],
   "source": [
    "model_2 = CatBoostRegressor(iterations=100, verbose=100)\n",
    "\n",
    "param_grid_cbr = {\n",
    "    'learning_rate': [0.1, 0.4, 0.9],\n",
    "    'random_state': [42],\n",
    "    'depth': [6, 8]\n",
    "}\n",
    "\n",
    "random_search_cbr = RandomizedSearchCV(\n",
    "    model_2, \n",
    "    param_distributions=param_grid_cbr, \n",
    "    scoring='neg_root_mean_squared_error', \n",
    "    random_state=RANDOM_STATE,\n",
    "    n_iter=3,\n",
    "    cv=5,\n",
    "    n_jobs=-1\n",
    ")\n",
    "\n",
    "random_search_cbr.fit(X_train_cbr, y_train_cbr, cat_features=cat_features)\n",
    "\n",
    "cbr_params = random_search_cbr.best_params_\n",
    "\n",
    "# Вывод лучших параметров и значения метрики\n",
    "print()\n",
    "print(\"Лучшие параметры:\", cbr_params)\n",
    "print(\"Метрика RMSE, полученная с помощью кросс валидации:\", (random_search_cbr.best_score_ * -1))"
   ]
  },
  {
   "cell_type": "code",
   "execution_count": 47,
   "metadata": {},
   "outputs": [
    {
     "name": "stdout",
     "output_type": "stream",
     "text": [
      "0:\tlearn: 2644.6085760\ttotal: 109ms\tremaining: 10.8s\n",
      "99:\tlearn: 1590.4903439\ttotal: 8.77s\tremaining: 0us\n",
      "Время обучения модели CatBoostRegressor на тренировочной выборке: 9.52 секунд\n",
      "CPU times: user 8.68 s, sys: 102 ms, total: 8.78 s\n",
      "Wall time: 9.52 s\n"
     ]
    }
   ],
   "source": [
    "%%time\n",
    "# Засекаем время обучения модели на всей тренировочной выборке с лучшими параметрами\n",
    "start = time.time()\n",
    "\n",
    "cbr_model = CatBoostRegressor(random_state = cbr_params['random_state'], learning_rate = cbr_params['learning_rate'], depth = cbr_params['depth'], iterations=100, verbose=100)\n",
    "cbr_model.fit(X_train_cbr, y_train_cbr, cat_features=cat_features)\n",
    "\n",
    "# Время обучения\n",
    "end = time.time()\n",
    "time_cbr_fit =end-start\n",
    "print(f\"Время обучения модели CatBoostRegressor на тренировочной выборке: {time_cbr_fit:.2f} секунд\")"
   ]
  },
  {
   "cell_type": "code",
   "execution_count": 48,
   "metadata": {},
   "outputs": [
    {
     "name": "stdout",
     "output_type": "stream",
     "text": [
      "Время предсказания модели CatBoostRegressor: 0.04 секунд\n",
      "CPU times: user 27.3 ms, sys: 12.5 ms, total: 39.8 ms\n",
      "Wall time: 37.9 ms\n"
     ]
    }
   ],
   "source": [
    "%%time\n",
    "# Время предсказания модели CatBoostRegressor\n",
    "start_time = time.time()\n",
    "y_pred_cbr = cbr_model.predict(X_test_cbr)\n",
    "end_time = time.time()\n",
    "prediction_time_cbr = end_time - start_time\n",
    "print(f\"Время предсказания модели CatBoostRegressor: {prediction_time_cbr:.2f} секунд\")"
   ]
  },
  {
   "cell_type": "markdown",
   "metadata": {},
   "source": [
    "Мы провели обучение модели CatBoostRegressor с использованием оптимальных гиперпараметров: random_state установлен в 42, learning_rate равен 0.9, а depth составляет 8. Качество модели на кросс-валидации: 1725.89. Найденое время обучение и предсказания, а также и этот качество модели на кросс-валидации будем в дальнейшем сравнивать с другими моделями, чтобы выбрать лучшую модель по трем критериям."
   ]
  },
  {
   "cell_type": "markdown",
   "metadata": {},
   "source": [
    "**3. Модель LinearRegression**"
   ]
  },
  {
   "cell_type": "code",
   "execution_count": 49,
   "metadata": {},
   "outputs": [],
   "source": [
    "X_train_lr = X_train.copy()\n",
    "y_train_lr = y_train.copy()\n",
    "X_test_lr = X_test.copy()\n",
    "y_test_lr = y_test.copy()"
   ]
  },
  {
   "cell_type": "code",
   "execution_count": 50,
   "metadata": {},
   "outputs": [],
   "source": [
    "ohe_columns = ['vehicletype', 'gearbox', 'fueltype', 'brand', 'repaired']  \n",
    "num_columns = ['registrationyear', 'power', 'kilometer']"
   ]
  },
  {
   "cell_type": "code",
   "execution_count": 51,
   "metadata": {},
   "outputs": [],
   "source": [
    "ohe_columns = ['vehicletype', 'gearbox', 'fueltype', 'brand', 'repaired']\n",
    "for col in ohe_columns:\n",
    "    X_train_lr[col] = X_train_lgbm[col].astype('object')\n",
    "    X_test_lr[col] = X_test_lgbm[col].astype('object')"
   ]
  },
  {
   "cell_type": "code",
   "execution_count": 52,
   "metadata": {},
   "outputs": [],
   "source": [
    "# создадим пайплайн для OneHotEncoder:\n",
    "ohe_pipe = Pipeline(\n",
    "    [\n",
    "        (\n",
    "            'simpleImputer_ohe', \n",
    "            SimpleImputer(missing_values=np.nan, strategy='most_frequent')\n",
    "        ),\n",
    "        (\n",
    "            'ohe', \n",
    "            OneHotEncoder(drop='first', handle_unknown='ignore', sparse=False))\n",
    "    ]\n",
    ")"
   ]
  },
  {
   "cell_type": "code",
   "execution_count": 53,
   "metadata": {},
   "outputs": [],
   "source": [
    "# Преобразователи для числовых данных\n",
    "num_pipe = Pipeline([\n",
    "    ('simpleImputer_num', SimpleImputer(strategy='mean')),\n",
    "    ('scaler', StandardScaler())])"
   ]
  },
  {
   "cell_type": "code",
   "execution_count": 54,
   "metadata": {},
   "outputs": [],
   "source": [
    "data_preprocessor = ColumnTransformer(\n",
    "    [\n",
    "        ('ohe', ohe_pipe, ohe_columns),\n",
    "        ('num', num_pipe, num_columns)\n",
    "    ], \n",
    "    remainder='passthrough'\n",
    ")"
   ]
  },
  {
   "cell_type": "code",
   "execution_count": 55,
   "metadata": {},
   "outputs": [],
   "source": [
    "pipe_final_lr = Pipeline(\n",
    "    [\n",
    "        ('preprocessor', data_preprocessor),\n",
    "        ('model', LinearRegression())\n",
    "    ]\n",
    ")"
   ]
  },
  {
   "cell_type": "code",
   "execution_count": 56,
   "metadata": {},
   "outputs": [
    {
     "name": "stdout",
     "output_type": "stream",
     "text": [
      "\n",
      "Лучшие параметры: {'model__n_jobs': 1, 'model__fit_intercept': True, 'model__copy_X': True, 'model': LinearRegression(n_jobs=1)}\n",
      "Метрика RMSE, полученная с помощью кросс валидации: 2831.7625260288282\n"
     ]
    }
   ],
   "source": [
    "# Гиперпараметры для LinearRegression\n",
    "param_grid_lr = {\n",
    "    'model': [LinearRegression()],\n",
    "    'model__fit_intercept': [True, False],\n",
    "    'model__copy_X': [True, False],\n",
    "    'model__n_jobs': [1, -1]\n",
    "}\n",
    "\n",
    "random_search_lr = RandomizedSearchCV(\n",
    "    pipe_final_lr, \n",
    "    param_distributions=param_grid_lr, \n",
    "    cv=5,\n",
    "    scoring='neg_root_mean_squared_error', \n",
    "    random_state=RANDOM_STATE,\n",
    "    n_iter=8,\n",
    "    n_jobs=-1\n",
    ")\n",
    "\n",
    "random_search_lr.fit(X_train_lr, y_train_lr)\n",
    "\n",
    "lr_params = random_search_lr.best_params_\n",
    "\n",
    "# Вывод лучших параметров и значения метрики\n",
    "print()\n",
    "print(\"Лучшие параметры:\", lr_params)\n",
    "print(\"Метрика RMSE, полученная с помощью кросс валидации:\", (random_search_lr.best_score_ * -1))"
   ]
  },
  {
   "cell_type": "code",
   "execution_count": 57,
   "metadata": {},
   "outputs": [
    {
     "name": "stdout",
     "output_type": "stream",
     "text": [
      "Время обучения модели LinearRegression на тренировочной выборке: 3.11 секунд\n",
      "CPU times: user 2.57 s, sys: 611 ms, total: 3.18 s\n",
      "Wall time: 3.2 s\n"
     ]
    }
   ],
   "source": [
    "%%time\n",
    "# Засекаем время обучения модели на всей тренировочной выборке с лучшими параметрами\n",
    "start = time.time()\n",
    "\n",
    "# Создаем переменную с моделью с лучшими параметрами\n",
    "lr_model = random_search_lr.best_estimator_\n",
    "\n",
    "lr_model.fit(X_train_lr, y_train_lr)\n",
    "\n",
    "# Время обучения\n",
    "end = time.time()\n",
    "time_lr_fit =end-start\n",
    "print(f\"Время обучения модели LinearRegression на тренировочной выборке: {time_lr_fit:.2f} секунд\")"
   ]
  },
  {
   "cell_type": "code",
   "execution_count": 58,
   "metadata": {},
   "outputs": [
    {
     "name": "stdout",
     "output_type": "stream",
     "text": [
      "Время предсказания модели LinearRegression: 0.16 секунд\n",
      "CPU times: user 126 ms, sys: 46.8 ms, total: 172 ms\n",
      "Wall time: 156 ms\n"
     ]
    }
   ],
   "source": [
    "%%time\n",
    "# Время предсказания модели LinearRegression\n",
    "start_time = time.time()\n",
    "y_pred_lr = lr_model.predict(X_test_lr)\n",
    "end_time = time.time()\n",
    "prediction_time_lr = end_time - start_time\n",
    "print(f\"Время предсказания модели LinearRegression: {prediction_time_lr:.2f} секунд\")"
   ]
  },
  {
   "cell_type": "markdown",
   "metadata": {},
   "source": [
    "Мы провели обучение модели LinearRegression с использованием оптимальных гиперпараметров: fit_intercept установлен в True, copy_X равен True, а n_jobs составляет 1. Качество модели на кросс-валидации: 2831.76. Найденное время обучения и предсказания, а также это качество модели на кросс-валидации будут в дальнейшем сравниваться с другими моделями, чтобы выбрать лучшую модель по трем критериям."
   ]
  },
  {
   "cell_type": "markdown",
   "metadata": {},
   "source": [
    "**4. Модель DecisionTreeRegressor**"
   ]
  },
  {
   "cell_type": "code",
   "execution_count": 59,
   "metadata": {},
   "outputs": [],
   "source": [
    "X_train_dt = X_train.copy()\n",
    "y_train_dt = y_train.copy()\n",
    "X_test_dt = X_test.copy()\n",
    "y_test_dt = y_test.copy()"
   ]
  },
  {
   "cell_type": "code",
   "execution_count": 60,
   "metadata": {},
   "outputs": [],
   "source": [
    "pipe_final_dt = Pipeline(\n",
    "    [\n",
    "        ('preprocessor', data_preprocessor),\n",
    "        ('model', DecisionTreeRegressor(random_state=RANDOM_STATE))\n",
    "    ]\n",
    ")"
   ]
  },
  {
   "cell_type": "code",
   "execution_count": 61,
   "metadata": {},
   "outputs": [
    {
     "name": "stdout",
     "output_type": "stream",
     "text": [
      "\n",
      "Лучшие параметры: {'model__min_samples_split': 5, 'model__max_depth': 20}\n",
      "Метрика RMSE, полученная с помощью кросс валидации: 1979.0440976137427\n"
     ]
    }
   ],
   "source": [
    "# Гиперпараметры для DecisionTreeRegressor\n",
    "param_grid_dt = {\n",
    "    'model__max_depth': [5, 10, 20], \n",
    "    'model__min_samples_split': [2, 5]\n",
    "}\n",
    "\n",
    "random_search_dt = RandomizedSearchCV(\n",
    "    pipe_final_dt, \n",
    "    param_distributions=param_grid_dt, \n",
    "    scoring='neg_root_mean_squared_error', \n",
    "    random_state=RANDOM_STATE,\n",
    "    n_iter=5,  \n",
    "    cv=3,     \n",
    "    n_jobs=-1  \n",
    ")\n",
    "\n",
    "random_search_dt.fit(X_train_dt, y_train_dt)\n",
    "\n",
    "dt_params = random_search_dt.best_params_\n",
    "\n",
    "# Вывод лучших параметров и значения метрики\n",
    "print()\n",
    "print(\"Лучшие параметры:\", dt_params)\n",
    "print(\"Метрика RMSE, полученная с помощью кросс валидации:\", (random_search_dt.best_score_ * -1))"
   ]
  },
  {
   "cell_type": "code",
   "execution_count": 62,
   "metadata": {},
   "outputs": [
    {
     "name": "stdout",
     "output_type": "stream",
     "text": [
      "Время обучения модели DecisionTreeRegressor на тренировочной выборке: 1.86 секунд\n",
      "CPU times: user 1.72 s, sys: 141 ms, total: 1.86 s\n",
      "Wall time: 1.87 s\n"
     ]
    }
   ],
   "source": [
    "%%time\n",
    "# Засекаем время обучения модели на всей тренировочной выборке с лучшими параметрами\n",
    "start = time.time()\n",
    "\n",
    "# Создаем переменную с моделью с лучшими параметрами\n",
    "dt_model = random_search_dt.best_estimator_\n",
    "\n",
    "dt_model.fit(X_train_dt, y_train_dt)\n",
    "\n",
    "# Время обучения\n",
    "end = time.time()\n",
    "time_dt_fit =end-start\n",
    "print(f\"Время обучения модели DecisionTreeRegressor на тренировочной выборке: {time_dt_fit:.2f} секунд\")"
   ]
  },
  {
   "cell_type": "code",
   "execution_count": 63,
   "metadata": {},
   "outputs": [
    {
     "name": "stdout",
     "output_type": "stream",
     "text": [
      "Время предсказания модели DecisionTreeRegressor: 0.12 секунд\n",
      "CPU times: user 109 ms, sys: 4.11 ms, total: 113 ms\n",
      "Wall time: 119 ms\n"
     ]
    }
   ],
   "source": [
    "%%time\n",
    "# Время предсказания модели DecisionTreeRegressor\n",
    "start_time = time.time()\n",
    "y_pred_dt = dt_model.predict(X_test_dt)\n",
    "end_time = time.time()\n",
    "prediction_time_dt = end_time - start_time\n",
    "print(f\"Время предсказания модели DecisionTreeRegressor: {prediction_time_dt:.2f} секунд\")"
   ]
  },
  {
   "cell_type": "markdown",
   "metadata": {},
   "source": [
    "Мы обучили модель DecisionTreeRegressor, используя оптимальные гиперпараметры: min_samples_split установлен на 5, а max_depth составляет 20. Качество модели на кросс-валидации составило 1979.04. Найденное время обучения и предсказания, а также это значение метрики будут сравниваться с другими моделями, чтобы выбрать наилучший вариант по трем критериям."
   ]
  },
  {
   "cell_type": "markdown",
   "metadata": {},
   "source": [
    "Итак, в этой части работы мы обучили несколько моделей машинного. Для каждой из моделей были проведены подбор и настройка гиперпараметров, что позволило улучшить качество предсказаний. В итоге нами были рассмотрены следующие модели: LightGBM, LinearRegression, DecisionTreeRegressor и CatBoostRegressor. Мы использовали кросс-валидацию для нахождения оптимальных гиперпараметров модели и определения ее качества. Затем мы измерили время обучения модели на всей тренировочной выборке. После этого также замерили время предсказания модели на тестовой выборке, однако результаты тестирования не выводили на экран. Теперь мы можем приступать к анализу всех 4х моделей и выбору лучшей из них."
   ]
  },
  {
   "cell_type": "markdown",
   "metadata": {},
   "source": [
    "## Анализ моделей"
   ]
  },
  {
   "cell_type": "markdown",
   "metadata": {},
   "source": [
    "Проанализируем время обучения, время предсказания и качество моделей."
   ]
  },
  {
   "cell_type": "code",
   "execution_count": 64,
   "metadata": {},
   "outputs": [],
   "source": [
    "lr_rmse_train = random_search_lr.best_score_ * -1\n",
    "lgbm_rmse_train = grid_search_lgbm.best_score_ * -1\n",
    "cbr_rmse_train = random_search_cbr.best_score_ * -1\n",
    "dt_rmse_train = random_search_dt.best_score_ * -1"
   ]
  },
  {
   "cell_type": "code",
   "execution_count": 65,
   "metadata": {},
   "outputs": [
    {
     "data": {
      "text/html": [
       "<div>\n",
       "<style scoped>\n",
       "    .dataframe tbody tr th:only-of-type {\n",
       "        vertical-align: middle;\n",
       "    }\n",
       "\n",
       "    .dataframe tbody tr th {\n",
       "        vertical-align: top;\n",
       "    }\n",
       "\n",
       "    .dataframe thead th {\n",
       "        text-align: right;\n",
       "    }\n",
       "</style>\n",
       "<table border=\"1\" class=\"dataframe\">\n",
       "  <thead>\n",
       "    <tr style=\"text-align: right;\">\n",
       "      <th></th>\n",
       "      <th>Модель</th>\n",
       "      <th>RMSE</th>\n",
       "      <th>Время предсказания (сек)</th>\n",
       "      <th>Время обучения (сек)</th>\n",
       "    </tr>\n",
       "  </thead>\n",
       "  <tbody>\n",
       "    <tr>\n",
       "      <th>0</th>\n",
       "      <td>Linear Regression</td>\n",
       "      <td>2831.762526</td>\n",
       "      <td>0.155843</td>\n",
       "      <td>3.108680</td>\n",
       "    </tr>\n",
       "    <tr>\n",
       "      <th>1</th>\n",
       "      <td>LightGBM</td>\n",
       "      <td>1653.535839</td>\n",
       "      <td>0.599036</td>\n",
       "      <td>10.600267</td>\n",
       "    </tr>\n",
       "    <tr>\n",
       "      <th>2</th>\n",
       "      <td>CatBoostRegressor</td>\n",
       "      <td>1725.892404</td>\n",
       "      <td>0.037716</td>\n",
       "      <td>9.524440</td>\n",
       "    </tr>\n",
       "    <tr>\n",
       "      <th>3</th>\n",
       "      <td>DecisionTreeRegressor</td>\n",
       "      <td>1979.044098</td>\n",
       "      <td>0.118675</td>\n",
       "      <td>1.864751</td>\n",
       "    </tr>\n",
       "  </tbody>\n",
       "</table>\n",
       "</div>"
      ],
      "text/plain": [
       "                  Модель         RMSE  Время предсказания (сек)  \\\n",
       "0      Linear Regression  2831.762526                  0.155843   \n",
       "1               LightGBM  1653.535839                  0.599036   \n",
       "2      CatBoostRegressor  1725.892404                  0.037716   \n",
       "3  DecisionTreeRegressor  1979.044098                  0.118675   \n",
       "\n",
       "   Время обучения (сек)  \n",
       "0              3.108680  \n",
       "1             10.600267  \n",
       "2              9.524440  \n",
       "3              1.864751  "
      ]
     },
     "execution_count": 65,
     "metadata": {},
     "output_type": "execute_result"
    }
   ],
   "source": [
    "# Создание DataFrame с нашими результатами\n",
    "results = pd.DataFrame({\n",
    "    'Модель': ['Linear Regression', 'LightGBM', 'CatBoostRegressor', 'DecisionTreeRegressor'],\n",
    "    'RMSE': [lr_rmse_train, lgbm_rmse_train, cbr_rmse_train, dt_rmse_train],\n",
    "    'Время предсказания (сек)': [prediction_time_lr, prediction_time_lgbm, prediction_time_cbr, prediction_time_dt],\n",
    "    'Время обучения (сек)': [time_lr_fit, time_lgbm_fit, time_cbr_fit, time_dt_fit]  \n",
    "})\n",
    "\n",
    "# Вывод результатов\n",
    "results"
   ]
  },
  {
   "cell_type": "markdown",
   "metadata": {},
   "source": [
    "В данной таблице представлены результаты оценки качества и времени работы 4х моделей для прогнозирования. Мы сравнили модели по метрике RMSE и времени, затрачиваемому на обучение и предсказание. Далее определим, какая из них наиболее эффективена для нашей задачи. \n",
    " - **Linear Regression**: RMSE равно 2831.76 — это наибольший результат среди всех моделей, что указывает на низкое качество предсказаний. Время предсказания достоточно быстрое, что делает модель подходящей для задач, где требуется быстрая обработка. Также у модели относительно быстрое время обучения.\n",
    " - **LightGBM**: RMSE равно 1653.54 — это лучшая метрика среди всех моделей, показывающая высокую точность предсказаний. Время предсказания и время обучения больше, чем у Linear Regression, но все еще показатели остаются приемлемыми.\n",
    " - **CatBoostRegressor**: RMSE равно 1725.89 — хорошее качество предсказаний, хотя и немного хуже, чем у LightGBM. Наименьшее время предсказания, что делает его очень эффективным. Время обучения сопоставимо с LightGBM, что может быть приемлемым для сложных задач.\n",
    " - **DecisionTreeRegressor**: RMSE равно 1979.04 — качество предсказаний находится между Linear Regression и CatBoost. Время предсказания среднее, больше, чем у CatBoost, но меньше, чем у LightGBM. Самое быстрое время обучения среди всех моделей.\n",
    " \n",
    "LightGBM показывает наилучшие показатели по метрике RMSE, что указывает на его способность эффективно моделировать данные. Хотя время обучения и предсказания выше, чем у некоторых других моделей, его высокая точность делает его предпочтительным выбором в случаях, когда критически важно качество предсказаний. Это особенно важно в сценариях, где ошибки могут иметь серьезные последствия, поэтому предпочтение отдается моделям, которые обеспечивают максимальную надежность.\n",
    "\n",
    "Таким образом, LightGBM следует выбрать в качестве финальной модели, так как она продемонстрировала отличные результаты по всем трем параметрам, обеспечивая оптимальное сочетание качества предсказаний и эффективности. \n",
    "\n",
    "Теперь посмотрим значения RMSE у нашей лучшей модели на тестовой выборке"
   ]
  },
  {
   "cell_type": "code",
   "execution_count": 66,
   "metadata": {},
   "outputs": [
    {
     "name": "stdout",
     "output_type": "stream",
     "text": [
      "RMSE LightGBM на тестовой выборке: 1635.29\n"
     ]
    }
   ],
   "source": [
    "# Оценка качества модели LightGBM на тестовой выборке\n",
    "rmse_test_lgbm = np.sqrt(mean_squared_error(y_test, y_pred_lgbm))\n",
    "print(\"RMSE LightGBM на тестовой выборке: %.2f\" % rmse_test_lgbm)"
   ]
  },
  {
   "cell_type": "markdown",
   "metadata": {},
   "source": [
    "Пониженное значение RMSE на тестовой выборке по сравнению с кросс-валидацией может указывать на то, что модель не только хорошо подходит для данных, на которых она обучалась, но и способна точно предсказывать на новых данных. Это является положительным признаком и свидетельствует о хорошем качестве модели.\n",
    "Небольшая разница между значениями RMSE (1653.53 на тренировочных данных и 1635.29 на тестовой выборке) также говорит о том, что модель не переобучена и сохраняет свою эффективность на новых данных."
   ]
  },
  {
   "cell_type": "markdown",
   "metadata": {},
   "source": [
    "В данном шаге нашей работы мы провели оценку времени обучения, времени предсказания и качества четырех моделей, используемых для прогнозирования. Мы проанализировали такие модели, как LightGBM, LinearRegression, DecisionTreeRegressor и CatBoostRegressor. Результаты представлены в таблице, в которой сравниваются метрики RMSE и затраты времени на обучение и предсказание. На основе полученных данных мы определили наиболее эффективную модель для нашей задачи. \n",
    "  \n",
    "Linear Regression: качество модели на кросс-валидации — 2831.76, что указывает на низкое качество предсказаний. Время предсказания быстрое, что может быть полезно, время обучения также относительно короткое.\n",
    "  \n",
    "LightGBM: качество модели на кросс-валидации — 1653.54, лучший результат среди моделей, демонстрирующий высокую точность предсказаний. Время предсказания и обучения выше, чем у линейной регрессии, но значения все еще приемлемы.\n",
    "  \n",
    "CatBoostRegressor: качество модели на кросс-валидации — 1725.89, хорошее качество предсказаний, хотя ниже, чем у LightGBM. Обладает наименьшим временем предсказания, а время обучения сопоставимо с LightGBM.\n",
    "\n",
    "DecisionTreeRegressor: качество модели на кросс-валидации — 1979.04, качество предсказаний между Linear Regression и CatBoost. Время предсказания среднее: больше, чем у CatBoost и Linear Regression, но меньше, чем у LightGBM. Демонстрирует самое быстрое время обучения среди всех моделей.\n",
    "\n",
    "**LightGBM** была выбрана в качестве окончательной лучшей модели, так как она показала превосходные результаты по всем трем критериям, обеспечивая оптимальное сочетание качества предсказаний и эффективности.\n",
    "\n",
    "И в конце мы проанализировали значения RMSE для нашей лучшей модели на тестовой выборке. Пониженное значение RMSE на тестовой выборке по сравнению с кросс-валидацией свидетельствовало о том, что модель хорошо адаптировалась к данным, на которых она обучалась, и могла точно предсказывать на новых данных. Это является положительным показателем, подтверждающим высокое качество модели. Небольшая разница между значениями RMSE (1653.53 на тренировочных данных и 1635.29 на тестовой выборке) также подтверждала, что модель не переобучена и сохраняет свою эффективность на новых данных."
   ]
  },
  {
   "cell_type": "markdown",
   "metadata": {},
   "source": [
    "## Итоговый вывод"
   ]
  },
  {
   "cell_type": "markdown",
   "metadata": {},
   "source": [
    "Итак, мы успешно выполнили несколько ключевых задач в рамках нашего проекта, что позволило нам создать и найти  эффективную модель для предсказания рыночной стоимости автомобилей. \n",
    "\n",
    "Для начала мы подготовили и проанализировали данные о автомобилях, их характеристиках, комплектациях и ценах. Мы загрузили данные, провели первичный анализ данных о характеристиках автомобилей, обработали пропуски. Пропуски были заменены на значение \"unknown\", что помогло сохранить структуру данных без потери информации. Затем мы исключили столбцы, не влияющие на целевой признак, чтобы обеспечить качество и целостность набора данных. В процессе подготовки данных нами также был проведен анализ различных признаков, в ходе которого выявили аномалии, после чего мы исключили или заменили нереалистичные значения и  оставили только те диапазоны значений, которые выглядят правдоподобно. После анализа признаков мы провели корреляционный анализ для оценки взаимосвязей между ними. Построили матрицу корреляции коэффициента Фи для того, чтобы определить признаки, которые сильно коррелируют друг с другом. Убрав сильно коррелирующий признак model, мы улучшили качество модели избежав мультиколлинеарности. И в конце, после всех преобразований, мы удалили полные дубликаты, чтобы избежать искажения результатов анализа. \n",
    "Все эти шаги помогли улучшить качество данных и создать надежную базу для дальнейшего анализа. \n",
    "\n",
    "Для каждой модели были выполнены подбор и настройка гиперпараметров, что способствовало улучшению качества предсказаний. В результате мы рассмотрели следующие модели: LightGBM, LinearRegression, DecisionTreeRegressor и CatBoostRegressor. Мы применили кросс-валидацию для определения оптимальных гиперпараметров и оценки качества моделей. Затем замерили время обучения каждой модели на всей тренировочной выборке, а также время предсказания \n",
    "\n",
    "И потом мы сравнили модели по трем важным метрикам: качество модели на кросс-валидации (RMSE), время обучения модели, время предсказания модели.\n",
    "\n",
    "Мы проанализировали все модели и выявили, что модель Linear Regression имеет самое большое значение RMSE, поэтому она не подходит нам для решения поставленной задачи. CatBoostRegressor достигла хорошего качества RMSE, что свидетельствует о хорошем уровне предсказаний, хотя она несколько уступает LightGBM. Эта модель обладает наименьшим временем предсказания, а время обучения сопоставимо с LightGBM. DecisionTreeRegressor показала качество на уровне 1979.04, что находится между Linear Regression и CatBoost. Время предсказания средней продолжительности: больше, чем у CatBoost и линейной регрессии, но меньше, чем у LightGBM. Эта модель демонстрирует самое быстрое время обучения.\n",
    "\n",
    "По итогу, модель LightGBM продемонстрировала лучшие результаты, достигнув минимального значения качества модели на кросс-валидации = 1653.54, что сделало её идеальным вариантом для решения этой задачи. Время обучения оказалось умеренным, что обеспечило отличное сочетание точности и эффективности. \n",
    "\n",
    "И в заключение, мы рассмотрели значения RMSE нашей лучшей модели на тестовой выборке. Более низкий RMSE на тестовой выборке по сравнению с кросс-валидацией свидетельствовал о том, что модель хорошо адаптировалась к обучающим данным и способна делать точные предсказания на новых данных. Это является положительным знаком, подтверждающим высокое качество модели. Кроме того, небольшая разница между RMSE (1653.53 на тренировочных данных и 1635.29 на тестовой выборке) подтверждала, что модель не переобучена и сохраняет свою эффективность на новых данных. Таким образом, модель LightGBM способна наиболее точно прогнозировать рыночную стоимость автомобилей, основываясь на их технических характеристиках и комплектациях."
   ]
  }
 ],
 "metadata": {
  "ExecuteTimeLog": [
   {
    "duration": 1658,
    "start_time": "2024-10-24T09:38:14.154Z"
   },
   {
    "duration": 3037,
    "start_time": "2024-10-24T09:38:15.814Z"
   },
   {
    "duration": 162,
    "start_time": "2024-10-24T09:38:38.824Z"
   },
   {
    "duration": 134,
    "start_time": "2024-10-24T09:39:31.609Z"
   },
   {
    "duration": 6,
    "start_time": "2024-10-24T09:52:16.128Z"
   },
   {
    "duration": 1242,
    "start_time": "2024-10-24T15:49:47.183Z"
   },
   {
    "duration": 42,
    "start_time": "2024-10-24T15:50:07.310Z"
   },
   {
    "duration": 157,
    "start_time": "2024-10-24T15:50:13.953Z"
   },
   {
    "duration": 183,
    "start_time": "2024-10-24T15:53:12.951Z"
   },
   {
    "duration": 153,
    "start_time": "2024-10-24T15:53:15.180Z"
   },
   {
    "duration": 1641,
    "start_time": "2024-10-24T19:19:08.788Z"
   },
   {
    "duration": 2864,
    "start_time": "2024-10-24T19:19:10.431Z"
   },
   {
    "duration": 175,
    "start_time": "2024-10-24T19:19:13.297Z"
   },
   {
    "duration": 156,
    "start_time": "2024-10-24T19:19:13.474Z"
   },
   {
    "duration": 4,
    "start_time": "2024-10-24T19:19:13.633Z"
   },
   {
    "duration": 258,
    "start_time": "2024-10-24T19:19:13.639Z"
   },
   {
    "duration": 143,
    "start_time": "2024-10-24T19:19:13.899Z"
   },
   {
    "duration": 99,
    "start_time": "2024-10-24T19:19:14.043Z"
   },
   {
    "duration": 19,
    "start_time": "2024-10-24T19:20:24.154Z"
   },
   {
    "duration": 92,
    "start_time": "2024-10-24T19:20:45.725Z"
   },
   {
    "duration": 61,
    "start_time": "2024-10-24T19:23:54.210Z"
   },
   {
    "duration": 437,
    "start_time": "2024-10-24T19:24:13.408Z"
   },
   {
    "duration": 937,
    "start_time": "2024-10-24T19:24:51.709Z"
   },
   {
    "duration": 468,
    "start_time": "2024-10-24T19:25:11.809Z"
   },
   {
    "duration": 446,
    "start_time": "2024-10-24T19:26:41.819Z"
   },
   {
    "duration": 455,
    "start_time": "2024-10-24T19:26:45.918Z"
   },
   {
    "duration": 450,
    "start_time": "2024-10-24T19:27:00.377Z"
   },
   {
    "duration": 5,
    "start_time": "2024-10-24T19:32:59.840Z"
   },
   {
    "duration": 849,
    "start_time": "2024-10-24T19:32:59.846Z"
   },
   {
    "duration": 166,
    "start_time": "2024-10-24T19:33:00.697Z"
   },
   {
    "duration": 146,
    "start_time": "2024-10-24T19:33:00.865Z"
   },
   {
    "duration": 5,
    "start_time": "2024-10-24T19:33:01.018Z"
   },
   {
    "duration": 81,
    "start_time": "2024-10-24T19:33:01.025Z"
   },
   {
    "duration": 205,
    "start_time": "2024-10-24T19:33:01.107Z"
   },
   {
    "duration": 148,
    "start_time": "2024-10-24T19:33:01.314Z"
   },
   {
    "duration": 472,
    "start_time": "2024-10-24T19:33:01.464Z"
   },
   {
    "duration": 403,
    "start_time": "2024-10-24T19:33:01.938Z"
   },
   {
    "duration": 432,
    "start_time": "2024-10-24T19:33:02.343Z"
   },
   {
    "duration": 100,
    "start_time": "2024-10-24T19:33:02.777Z"
   },
   {
    "duration": 406,
    "start_time": "2024-10-24T19:35:26.205Z"
   },
   {
    "duration": 5,
    "start_time": "2024-10-24T19:36:39.389Z"
   },
   {
    "duration": 845,
    "start_time": "2024-10-24T19:36:39.396Z"
   },
   {
    "duration": 166,
    "start_time": "2024-10-24T19:36:40.242Z"
   },
   {
    "duration": 159,
    "start_time": "2024-10-24T19:36:40.410Z"
   },
   {
    "duration": 455,
    "start_time": "2024-10-24T19:36:40.572Z"
   },
   {
    "duration": 442,
    "start_time": "2024-10-24T19:36:41.029Z"
   },
   {
    "duration": 4,
    "start_time": "2024-10-24T19:36:41.472Z"
   },
   {
    "duration": 64,
    "start_time": "2024-10-24T19:36:41.477Z"
   },
   {
    "duration": 216,
    "start_time": "2024-10-24T19:36:41.543Z"
   },
   {
    "duration": 147,
    "start_time": "2024-10-24T19:36:41.760Z"
   },
   {
    "duration": 447,
    "start_time": "2024-10-24T19:36:41.909Z"
   },
   {
    "duration": 439,
    "start_time": "2024-10-24T19:36:42.358Z"
   },
   {
    "duration": 496,
    "start_time": "2024-10-24T19:36:42.799Z"
   },
   {
    "duration": 96,
    "start_time": "2024-10-24T19:36:43.297Z"
   },
   {
    "duration": 72,
    "start_time": "2024-10-24T19:41:47.915Z"
   },
   {
    "duration": 137,
    "start_time": "2024-10-24T19:42:07.970Z"
   },
   {
    "duration": 55,
    "start_time": "2024-10-24T19:42:19.661Z"
   },
   {
    "duration": 4,
    "start_time": "2024-10-24T19:42:28.582Z"
   },
   {
    "duration": 54,
    "start_time": "2024-10-24T19:42:31.029Z"
   },
   {
    "duration": 26,
    "start_time": "2024-10-24T19:42:52.489Z"
   },
   {
    "duration": 9,
    "start_time": "2024-10-24T19:43:25.180Z"
   },
   {
    "duration": 5,
    "start_time": "2024-10-24T19:43:36.624Z"
   },
   {
    "duration": 799,
    "start_time": "2024-10-24T19:43:36.631Z"
   },
   {
    "duration": 169,
    "start_time": "2024-10-24T19:43:37.432Z"
   },
   {
    "duration": 150,
    "start_time": "2024-10-24T19:43:37.603Z"
   },
   {
    "duration": 4,
    "start_time": "2024-10-24T19:43:37.755Z"
   },
   {
    "duration": 434,
    "start_time": "2024-10-24T19:43:37.761Z"
   },
   {
    "duration": 464,
    "start_time": "2024-10-24T19:43:38.197Z"
   },
   {
    "duration": 56,
    "start_time": "2024-10-24T19:43:38.663Z"
   },
   {
    "duration": 51,
    "start_time": "2024-10-24T19:43:38.721Z"
   },
   {
    "duration": 197,
    "start_time": "2024-10-24T19:43:38.774Z"
   },
   {
    "duration": 135,
    "start_time": "2024-10-24T19:43:38.973Z"
   },
   {
    "duration": 431,
    "start_time": "2024-10-24T19:43:39.117Z"
   },
   {
    "duration": 486,
    "start_time": "2024-10-24T19:43:39.550Z"
   },
   {
    "duration": 526,
    "start_time": "2024-10-24T19:43:40.039Z"
   },
   {
    "duration": 91,
    "start_time": "2024-10-24T19:43:40.566Z"
   },
   {
    "duration": 1818,
    "start_time": "2024-10-24T21:04:01.328Z"
   },
   {
    "duration": 1372,
    "start_time": "2024-10-24T21:04:03.148Z"
   },
   {
    "duration": 172,
    "start_time": "2024-10-24T21:04:04.522Z"
   },
   {
    "duration": 162,
    "start_time": "2024-10-24T21:04:04.696Z"
   },
   {
    "duration": 4,
    "start_time": "2024-10-24T21:04:04.861Z"
   },
   {
    "duration": 595,
    "start_time": "2024-10-24T21:04:04.867Z"
   },
   {
    "duration": 603,
    "start_time": "2024-10-24T21:04:05.464Z"
   },
   {
    "duration": 61,
    "start_time": "2024-10-24T21:04:06.069Z"
   },
   {
    "duration": 70,
    "start_time": "2024-10-24T21:04:06.132Z"
   },
   {
    "duration": 229,
    "start_time": "2024-10-24T21:04:06.204Z"
   },
   {
    "duration": 153,
    "start_time": "2024-10-24T21:04:06.435Z"
   },
   {
    "duration": 525,
    "start_time": "2024-10-24T21:04:06.590Z"
   },
   {
    "duration": 523,
    "start_time": "2024-10-24T21:04:07.117Z"
   },
   {
    "duration": 558,
    "start_time": "2024-10-24T21:04:07.643Z"
   },
   {
    "duration": 108,
    "start_time": "2024-10-24T21:04:08.203Z"
   },
   {
    "duration": 59,
    "start_time": "2024-10-24T21:04:30.750Z"
   },
   {
    "duration": 7,
    "start_time": "2024-10-24T21:04:40.958Z"
   },
   {
    "duration": 1025,
    "start_time": "2024-10-24T21:04:40.968Z"
   },
   {
    "duration": 182,
    "start_time": "2024-10-24T21:04:41.995Z"
   },
   {
    "duration": 160,
    "start_time": "2024-10-24T21:04:42.180Z"
   },
   {
    "duration": 8,
    "start_time": "2024-10-24T21:04:42.344Z"
   },
   {
    "duration": 476,
    "start_time": "2024-10-24T21:04:42.354Z"
   },
   {
    "duration": 520,
    "start_time": "2024-10-24T21:04:42.832Z"
   },
   {
    "duration": 59,
    "start_time": "2024-10-24T21:04:43.354Z"
   },
   {
    "duration": 92,
    "start_time": "2024-10-24T21:04:43.414Z"
   },
   {
    "duration": 86,
    "start_time": "2024-10-24T21:04:43.509Z"
   },
   {
    "duration": 286,
    "start_time": "2024-10-24T21:04:43.596Z"
   },
   {
    "duration": 208,
    "start_time": "2024-10-24T21:04:43.884Z"
   },
   {
    "duration": 493,
    "start_time": "2024-10-24T21:04:44.093Z"
   },
   {
    "duration": 497,
    "start_time": "2024-10-24T21:04:44.588Z"
   },
   {
    "duration": 541,
    "start_time": "2024-10-24T21:04:45.087Z"
   },
   {
    "duration": 114,
    "start_time": "2024-10-24T21:04:45.630Z"
   },
   {
    "duration": 224,
    "start_time": "2024-10-24T21:09:13.082Z"
   },
   {
    "duration": 72,
    "start_time": "2024-10-24T21:33:59.522Z"
   },
   {
    "duration": 6,
    "start_time": "2024-10-24T21:34:38.869Z"
   },
   {
    "duration": 1040,
    "start_time": "2024-10-24T21:34:38.878Z"
   },
   {
    "duration": 185,
    "start_time": "2024-10-24T21:34:39.919Z"
   },
   {
    "duration": 155,
    "start_time": "2024-10-24T21:34:40.106Z"
   },
   {
    "duration": 5,
    "start_time": "2024-10-24T21:34:40.264Z"
   },
   {
    "duration": 517,
    "start_time": "2024-10-24T21:34:40.270Z"
   },
   {
    "duration": 542,
    "start_time": "2024-10-24T21:34:40.789Z"
   },
   {
    "duration": 63,
    "start_time": "2024-10-24T21:34:41.333Z"
   },
   {
    "duration": 74,
    "start_time": "2024-10-24T21:34:41.398Z"
   },
   {
    "duration": 57,
    "start_time": "2024-10-24T21:34:41.474Z"
   },
   {
    "duration": 100,
    "start_time": "2024-10-24T21:34:41.533Z"
   },
   {
    "duration": 62,
    "start_time": "2024-10-24T21:34:41.635Z"
   },
   {
    "duration": 62,
    "start_time": "2024-10-24T21:34:41.699Z"
   },
   {
    "duration": 60,
    "start_time": "2024-10-24T21:34:41.764Z"
   },
   {
    "duration": 34,
    "start_time": "2024-10-24T21:34:41.825Z"
   },
   {
    "duration": 56,
    "start_time": "2024-10-24T21:34:41.861Z"
   },
   {
    "duration": 39,
    "start_time": "2024-10-24T21:34:41.918Z"
   },
   {
    "duration": 217,
    "start_time": "2024-10-24T21:34:41.959Z"
   },
   {
    "duration": 161,
    "start_time": "2024-10-24T21:34:42.177Z"
   },
   {
    "duration": 517,
    "start_time": "2024-10-24T21:34:42.340Z"
   },
   {
    "duration": 508,
    "start_time": "2024-10-24T21:34:42.859Z"
   },
   {
    "duration": 564,
    "start_time": "2024-10-24T21:34:43.368Z"
   },
   {
    "duration": 120,
    "start_time": "2024-10-24T21:34:43.935Z"
   },
   {
    "duration": 26,
    "start_time": "2024-10-24T21:35:23.494Z"
   },
   {
    "duration": 7,
    "start_time": "2024-10-24T21:36:34.992Z"
   },
   {
    "duration": 960,
    "start_time": "2024-10-24T21:36:35.002Z"
   },
   {
    "duration": 181,
    "start_time": "2024-10-24T21:36:35.964Z"
   },
   {
    "duration": 158,
    "start_time": "2024-10-24T21:36:36.147Z"
   },
   {
    "duration": 31,
    "start_time": "2024-10-24T21:36:36.307Z"
   },
   {
    "duration": 508,
    "start_time": "2024-10-24T21:36:36.340Z"
   },
   {
    "duration": 539,
    "start_time": "2024-10-24T21:36:36.852Z"
   },
   {
    "duration": 68,
    "start_time": "2024-10-24T21:36:37.392Z"
   },
   {
    "duration": 151,
    "start_time": "2024-10-24T21:36:37.462Z"
   },
   {
    "duration": 66,
    "start_time": "2024-10-24T21:36:37.614Z"
   },
   {
    "duration": 84,
    "start_time": "2024-10-24T21:36:37.681Z"
   },
   {
    "duration": 33,
    "start_time": "2024-10-24T21:36:37.767Z"
   },
   {
    "duration": 33,
    "start_time": "2024-10-24T21:36:37.802Z"
   },
   {
    "duration": 62,
    "start_time": "2024-10-24T21:36:37.838Z"
   },
   {
    "duration": 50,
    "start_time": "2024-10-24T21:36:37.902Z"
   },
   {
    "duration": 21,
    "start_time": "2024-10-24T21:36:37.954Z"
   },
   {
    "duration": 75,
    "start_time": "2024-10-24T21:36:37.977Z"
   },
   {
    "duration": 29,
    "start_time": "2024-10-24T21:36:38.054Z"
   },
   {
    "duration": 214,
    "start_time": "2024-10-24T21:36:38.085Z"
   },
   {
    "duration": 158,
    "start_time": "2024-10-24T21:36:38.301Z"
   },
   {
    "duration": 518,
    "start_time": "2024-10-24T21:36:38.461Z"
   },
   {
    "duration": 507,
    "start_time": "2024-10-24T21:36:38.980Z"
   },
   {
    "duration": 563,
    "start_time": "2024-10-24T21:36:39.489Z"
   },
   {
    "duration": 104,
    "start_time": "2024-10-24T21:36:40.054Z"
   },
   {
    "duration": 5,
    "start_time": "2024-10-24T21:37:02.814Z"
   },
   {
    "duration": 940,
    "start_time": "2024-10-24T21:37:02.821Z"
   },
   {
    "duration": 216,
    "start_time": "2024-10-24T21:37:03.763Z"
   },
   {
    "duration": 173,
    "start_time": "2024-10-24T21:37:03.981Z"
   },
   {
    "duration": 4,
    "start_time": "2024-10-24T21:37:04.156Z"
   },
   {
    "duration": 484,
    "start_time": "2024-10-24T21:37:04.162Z"
   },
   {
    "duration": 547,
    "start_time": "2024-10-24T21:37:04.652Z"
   },
   {
    "duration": 64,
    "start_time": "2024-10-24T21:37:05.201Z"
   },
   {
    "duration": 71,
    "start_time": "2024-10-24T21:37:05.267Z"
   },
   {
    "duration": 63,
    "start_time": "2024-10-24T21:37:05.340Z"
   },
   {
    "duration": 23,
    "start_time": "2024-10-24T21:37:05.405Z"
   },
   {
    "duration": 134,
    "start_time": "2024-10-24T21:37:05.430Z"
   },
   {
    "duration": 87,
    "start_time": "2024-10-24T21:37:05.566Z"
   },
   {
    "duration": 77,
    "start_time": "2024-10-24T21:37:05.657Z"
   },
   {
    "duration": 36,
    "start_time": "2024-10-24T21:37:05.736Z"
   },
   {
    "duration": 56,
    "start_time": "2024-10-24T21:37:05.774Z"
   },
   {
    "duration": 68,
    "start_time": "2024-10-24T21:37:05.833Z"
   },
   {
    "duration": 36,
    "start_time": "2024-10-24T21:37:05.903Z"
   },
   {
    "duration": 217,
    "start_time": "2024-10-24T21:37:05.941Z"
   },
   {
    "duration": 156,
    "start_time": "2024-10-24T21:37:06.160Z"
   },
   {
    "duration": 512,
    "start_time": "2024-10-24T21:37:06.317Z"
   },
   {
    "duration": 470,
    "start_time": "2024-10-24T21:37:06.830Z"
   },
   {
    "duration": 505,
    "start_time": "2024-10-24T21:37:07.302Z"
   },
   {
    "duration": 110,
    "start_time": "2024-10-24T21:37:07.809Z"
   },
   {
    "duration": 6,
    "start_time": "2024-10-24T21:39:15.315Z"
   },
   {
    "duration": 933,
    "start_time": "2024-10-24T21:39:15.323Z"
   },
   {
    "duration": 180,
    "start_time": "2024-10-24T21:39:16.258Z"
   },
   {
    "duration": 154,
    "start_time": "2024-10-24T21:39:16.440Z"
   },
   {
    "duration": 53,
    "start_time": "2024-10-24T21:39:16.596Z"
   },
   {
    "duration": 470,
    "start_time": "2024-10-24T21:39:16.650Z"
   },
   {
    "duration": 495,
    "start_time": "2024-10-24T21:39:17.121Z"
   },
   {
    "duration": 69,
    "start_time": "2024-10-24T21:39:17.617Z"
   },
   {
    "duration": 122,
    "start_time": "2024-10-24T21:39:17.688Z"
   },
   {
    "duration": 62,
    "start_time": "2024-10-24T21:39:17.812Z"
   },
   {
    "duration": 29,
    "start_time": "2024-10-24T21:39:17.876Z"
   },
   {
    "duration": 36,
    "start_time": "2024-10-24T21:39:17.907Z"
   },
   {
    "duration": 22,
    "start_time": "2024-10-24T21:39:17.944Z"
   },
   {
    "duration": 65,
    "start_time": "2024-10-24T21:39:17.968Z"
   },
   {
    "duration": 34,
    "start_time": "2024-10-24T21:39:18.035Z"
   },
   {
    "duration": 80,
    "start_time": "2024-10-24T21:39:18.072Z"
   },
   {
    "duration": 22,
    "start_time": "2024-10-24T21:39:18.154Z"
   },
   {
    "duration": 158,
    "start_time": "2024-10-24T21:39:18.178Z"
   },
   {
    "duration": 221,
    "start_time": "2024-10-24T21:39:18.338Z"
   },
   {
    "duration": 155,
    "start_time": "2024-10-24T21:39:18.560Z"
   },
   {
    "duration": 504,
    "start_time": "2024-10-24T21:39:18.717Z"
   },
   {
    "duration": 430,
    "start_time": "2024-10-24T21:39:19.223Z"
   },
   {
    "duration": 497,
    "start_time": "2024-10-24T21:39:19.655Z"
   },
   {
    "duration": 108,
    "start_time": "2024-10-24T21:39:20.154Z"
   },
   {
    "duration": 912,
    "start_time": "2024-10-24T21:47:04.621Z"
   },
   {
    "duration": 63,
    "start_time": "2024-10-24T21:47:13.339Z"
   },
   {
    "duration": 26,
    "start_time": "2024-10-24T21:48:07.641Z"
   },
   {
    "duration": 83,
    "start_time": "2024-10-24T21:56:38.054Z"
   },
   {
    "duration": 64,
    "start_time": "2024-10-24T21:56:46.982Z"
   },
   {
    "duration": 27,
    "start_time": "2024-10-24T22:05:43.787Z"
   },
   {
    "duration": 63,
    "start_time": "2024-10-24T22:05:56.812Z"
   },
   {
    "duration": 96,
    "start_time": "2024-10-24T22:12:39.218Z"
   },
   {
    "duration": 984,
    "start_time": "2024-10-24T22:15:21.968Z"
   },
   {
    "duration": 45,
    "start_time": "2024-10-24T22:24:46.052Z"
   },
   {
    "duration": 11,
    "start_time": "2024-10-24T22:24:58.621Z"
   },
   {
    "duration": 5,
    "start_time": "2024-10-24T22:25:25.595Z"
   },
   {
    "duration": 955,
    "start_time": "2024-10-24T22:25:25.602Z"
   },
   {
    "duration": 180,
    "start_time": "2024-10-24T22:25:26.559Z"
   },
   {
    "duration": 154,
    "start_time": "2024-10-24T22:25:26.741Z"
   },
   {
    "duration": 5,
    "start_time": "2024-10-24T22:25:26.898Z"
   },
   {
    "duration": 543,
    "start_time": "2024-10-24T22:25:26.904Z"
   },
   {
    "duration": 935,
    "start_time": "2024-10-24T22:25:27.451Z"
   },
   {
    "duration": 67,
    "start_time": "2024-10-24T22:25:28.387Z"
   },
   {
    "duration": 64,
    "start_time": "2024-10-24T22:25:28.456Z"
   },
   {
    "duration": 76,
    "start_time": "2024-10-24T22:25:28.522Z"
   },
   {
    "duration": 28,
    "start_time": "2024-10-24T22:25:28.600Z"
   },
   {
    "duration": 38,
    "start_time": "2024-10-24T22:25:28.630Z"
   },
   {
    "duration": 29,
    "start_time": "2024-10-24T22:25:28.671Z"
   },
   {
    "duration": 65,
    "start_time": "2024-10-24T22:25:28.702Z"
   },
   {
    "duration": 24,
    "start_time": "2024-10-24T22:25:28.769Z"
   },
   {
    "duration": 125,
    "start_time": "2024-10-24T22:25:28.795Z"
   },
   {
    "duration": 81,
    "start_time": "2024-10-24T22:25:28.922Z"
   },
   {
    "duration": 154,
    "start_time": "2024-10-24T22:25:29.005Z"
   },
   {
    "duration": 26,
    "start_time": "2024-10-24T22:25:29.160Z"
   },
   {
    "duration": 66,
    "start_time": "2024-10-24T22:25:29.187Z"
   },
   {
    "duration": 0,
    "start_time": "2024-10-24T22:25:29.254Z"
   },
   {
    "duration": 0,
    "start_time": "2024-10-24T22:25:29.256Z"
   },
   {
    "duration": 0,
    "start_time": "2024-10-24T22:25:29.257Z"
   },
   {
    "duration": 0,
    "start_time": "2024-10-24T22:25:29.258Z"
   },
   {
    "duration": 1,
    "start_time": "2024-10-24T22:25:29.258Z"
   },
   {
    "duration": 0,
    "start_time": "2024-10-24T22:25:29.260Z"
   },
   {
    "duration": 0,
    "start_time": "2024-10-24T22:25:29.261Z"
   },
   {
    "duration": 11,
    "start_time": "2024-10-24T22:25:45.379Z"
   },
   {
    "duration": 10,
    "start_time": "2024-10-24T22:26:41.785Z"
   },
   {
    "duration": 7,
    "start_time": "2024-10-24T22:29:10.031Z"
   },
   {
    "duration": 964,
    "start_time": "2024-10-24T22:29:10.040Z"
   },
   {
    "duration": 177,
    "start_time": "2024-10-24T22:29:11.006Z"
   },
   {
    "duration": 176,
    "start_time": "2024-10-24T22:29:11.186Z"
   },
   {
    "duration": 7,
    "start_time": "2024-10-24T22:29:11.364Z"
   },
   {
    "duration": 553,
    "start_time": "2024-10-24T22:29:11.373Z"
   },
   {
    "duration": 1066,
    "start_time": "2024-10-24T22:29:11.927Z"
   },
   {
    "duration": 66,
    "start_time": "2024-10-24T22:29:12.995Z"
   },
   {
    "duration": 66,
    "start_time": "2024-10-24T22:29:13.064Z"
   },
   {
    "duration": 72,
    "start_time": "2024-10-24T22:29:13.133Z"
   },
   {
    "duration": 23,
    "start_time": "2024-10-24T22:29:13.207Z"
   },
   {
    "duration": 55,
    "start_time": "2024-10-24T22:29:13.232Z"
   },
   {
    "duration": 29,
    "start_time": "2024-10-24T22:29:13.289Z"
   },
   {
    "duration": 61,
    "start_time": "2024-10-24T22:29:13.320Z"
   },
   {
    "duration": 23,
    "start_time": "2024-10-24T22:29:13.383Z"
   },
   {
    "duration": 81,
    "start_time": "2024-10-24T22:29:13.408Z"
   },
   {
    "duration": 22,
    "start_time": "2024-10-24T22:29:13.491Z"
   },
   {
    "duration": 168,
    "start_time": "2024-10-24T22:29:13.515Z"
   },
   {
    "duration": 59,
    "start_time": "2024-10-24T22:29:13.685Z"
   },
   {
    "duration": 97,
    "start_time": "2024-10-24T22:29:13.745Z"
   },
   {
    "duration": 158,
    "start_time": "2024-10-24T22:29:13.844Z"
   },
   {
    "duration": 260,
    "start_time": "2024-10-24T22:29:14.004Z"
   },
   {
    "duration": 98,
    "start_time": "2024-10-24T22:29:14.266Z"
   },
   {
    "duration": 192,
    "start_time": "2024-10-24T22:29:14.366Z"
   },
   {
    "duration": 192,
    "start_time": "2024-10-24T22:29:14.561Z"
   },
   {
    "duration": 187,
    "start_time": "2024-10-24T22:29:14.755Z"
   },
   {
    "duration": 56,
    "start_time": "2024-10-24T22:29:14.944Z"
   },
   {
    "duration": 14,
    "start_time": "2024-10-24T22:29:38.342Z"
   },
   {
    "duration": 6,
    "start_time": "2024-10-24T22:31:20.582Z"
   },
   {
    "duration": 1009,
    "start_time": "2024-10-24T22:31:20.590Z"
   },
   {
    "duration": 191,
    "start_time": "2024-10-24T22:31:21.601Z"
   },
   {
    "duration": 162,
    "start_time": "2024-10-24T22:31:21.794Z"
   },
   {
    "duration": 35,
    "start_time": "2024-10-24T22:31:21.958Z"
   },
   {
    "duration": 525,
    "start_time": "2024-10-24T22:31:21.995Z"
   },
   {
    "duration": 1109,
    "start_time": "2024-10-24T22:31:22.522Z"
   },
   {
    "duration": 66,
    "start_time": "2024-10-24T22:31:23.633Z"
   },
   {
    "duration": 85,
    "start_time": "2024-10-24T22:31:23.701Z"
   },
   {
    "duration": 65,
    "start_time": "2024-10-24T22:31:23.789Z"
   },
   {
    "duration": 68,
    "start_time": "2024-10-24T22:31:23.856Z"
   },
   {
    "duration": 46,
    "start_time": "2024-10-24T22:31:23.930Z"
   },
   {
    "duration": 36,
    "start_time": "2024-10-24T22:31:23.979Z"
   },
   {
    "duration": 75,
    "start_time": "2024-10-24T22:31:24.020Z"
   },
   {
    "duration": 35,
    "start_time": "2024-10-24T22:31:24.097Z"
   },
   {
    "duration": 66,
    "start_time": "2024-10-24T22:31:24.134Z"
   },
   {
    "duration": 23,
    "start_time": "2024-10-24T22:31:24.202Z"
   },
   {
    "duration": 168,
    "start_time": "2024-10-24T22:31:24.227Z"
   },
   {
    "duration": 26,
    "start_time": "2024-10-24T22:31:24.396Z"
   },
   {
    "duration": 56,
    "start_time": "2024-10-24T22:31:24.424Z"
   },
   {
    "duration": 12,
    "start_time": "2024-10-24T22:31:24.482Z"
   },
   {
    "duration": 78,
    "start_time": "2024-10-24T22:31:24.496Z"
   },
   {
    "duration": 209,
    "start_time": "2024-10-24T22:31:24.576Z"
   },
   {
    "duration": 105,
    "start_time": "2024-10-24T22:31:24.787Z"
   },
   {
    "duration": 178,
    "start_time": "2024-10-24T22:31:24.894Z"
   },
   {
    "duration": 194,
    "start_time": "2024-10-24T22:31:25.074Z"
   },
   {
    "duration": 190,
    "start_time": "2024-10-24T22:31:25.269Z"
   },
   {
    "duration": 59,
    "start_time": "2024-10-24T22:31:25.461Z"
   },
   {
    "duration": 61,
    "start_time": "2024-10-24T22:40:47.482Z"
   },
   {
    "duration": 652,
    "start_time": "2024-10-24T22:44:10.925Z"
   },
   {
    "duration": 32,
    "start_time": "2024-10-24T22:49:44.497Z"
   },
   {
    "duration": 628,
    "start_time": "2024-10-24T22:49:52.862Z"
   },
   {
    "duration": 66,
    "start_time": "2024-10-24T22:50:06.957Z"
   },
   {
    "duration": 51,
    "start_time": "2024-10-26T15:52:12.821Z"
   },
   {
    "duration": 1768,
    "start_time": "2024-10-26T15:52:19.916Z"
   },
   {
    "duration": 3005,
    "start_time": "2024-10-26T15:52:21.686Z"
   },
   {
    "duration": 178,
    "start_time": "2024-10-26T15:52:24.693Z"
   },
   {
    "duration": 165,
    "start_time": "2024-10-26T15:52:24.873Z"
   },
   {
    "duration": 5,
    "start_time": "2024-10-26T15:52:25.041Z"
   },
   {
    "duration": 543,
    "start_time": "2024-10-26T15:52:25.048Z"
   },
   {
    "duration": 1100,
    "start_time": "2024-10-26T15:52:25.592Z"
   },
   {
    "duration": 59,
    "start_time": "2024-10-26T15:52:26.694Z"
   },
   {
    "duration": 69,
    "start_time": "2024-10-26T15:52:26.755Z"
   },
   {
    "duration": 119,
    "start_time": "2024-10-26T15:52:26.826Z"
   },
   {
    "duration": 25,
    "start_time": "2024-10-26T15:52:26.947Z"
   },
   {
    "duration": 53,
    "start_time": "2024-10-26T15:52:26.973Z"
   },
   {
    "duration": 29,
    "start_time": "2024-10-26T15:52:27.028Z"
   },
   {
    "duration": 89,
    "start_time": "2024-10-26T15:52:27.060Z"
   },
   {
    "duration": 30,
    "start_time": "2024-10-26T15:52:27.151Z"
   },
   {
    "duration": 71,
    "start_time": "2024-10-26T15:52:27.183Z"
   },
   {
    "duration": 51,
    "start_time": "2024-10-26T15:52:27.256Z"
   },
   {
    "duration": 143,
    "start_time": "2024-10-26T15:52:27.309Z"
   },
   {
    "duration": 24,
    "start_time": "2024-10-26T15:52:27.454Z"
   },
   {
    "duration": 54,
    "start_time": "2024-10-26T15:52:27.479Z"
   },
   {
    "duration": 11,
    "start_time": "2024-10-26T15:52:27.535Z"
   },
   {
    "duration": 82,
    "start_time": "2024-10-26T15:52:27.548Z"
   },
   {
    "duration": 621,
    "start_time": "2024-10-26T15:52:27.632Z"
   },
   {
    "duration": 36,
    "start_time": "2024-10-26T15:52:28.255Z"
   },
   {
    "duration": 501,
    "start_time": "2024-10-26T15:52:28.293Z"
   },
   {
    "duration": 71,
    "start_time": "2024-10-26T15:52:28.796Z"
   },
   {
    "duration": 46,
    "start_time": "2024-10-26T16:04:55.751Z"
   },
   {
    "duration": 45,
    "start_time": "2024-10-26T16:05:07.638Z"
   },
   {
    "duration": 43,
    "start_time": "2024-10-26T16:05:21.755Z"
   },
   {
    "duration": 588,
    "start_time": "2024-10-26T16:05:35.780Z"
   },
   {
    "duration": 531,
    "start_time": "2024-10-26T16:08:16.479Z"
   },
   {
    "duration": 21,
    "start_time": "2024-10-26T16:10:22.063Z"
   },
   {
    "duration": 94,
    "start_time": "2024-10-26T16:15:42.977Z"
   },
   {
    "duration": 6,
    "start_time": "2024-10-26T16:16:12.361Z"
   },
   {
    "duration": 911,
    "start_time": "2024-10-26T16:16:12.369Z"
   },
   {
    "duration": 176,
    "start_time": "2024-10-26T16:16:13.281Z"
   },
   {
    "duration": 173,
    "start_time": "2024-10-26T16:16:13.459Z"
   },
   {
    "duration": 8,
    "start_time": "2024-10-26T16:16:13.634Z"
   },
   {
    "duration": 575,
    "start_time": "2024-10-26T16:16:13.644Z"
   },
   {
    "duration": 984,
    "start_time": "2024-10-26T16:16:14.221Z"
   },
   {
    "duration": 65,
    "start_time": "2024-10-26T16:16:15.207Z"
   },
   {
    "duration": 99,
    "start_time": "2024-10-26T16:16:15.273Z"
   },
   {
    "duration": 64,
    "start_time": "2024-10-26T16:16:15.374Z"
   },
   {
    "duration": 22,
    "start_time": "2024-10-26T16:16:15.439Z"
   },
   {
    "duration": 28,
    "start_time": "2024-10-26T16:16:15.462Z"
   },
   {
    "duration": 103,
    "start_time": "2024-10-26T16:16:15.492Z"
   },
   {
    "duration": 74,
    "start_time": "2024-10-26T16:16:15.596Z"
   },
   {
    "duration": 88,
    "start_time": "2024-10-26T16:16:15.671Z"
   },
   {
    "duration": 55,
    "start_time": "2024-10-26T16:16:15.760Z"
   },
   {
    "duration": 38,
    "start_time": "2024-10-26T16:16:15.817Z"
   },
   {
    "duration": 174,
    "start_time": "2024-10-26T16:16:15.856Z"
   },
   {
    "duration": 30,
    "start_time": "2024-10-26T16:16:16.032Z"
   },
   {
    "duration": 58,
    "start_time": "2024-10-26T16:16:16.063Z"
   },
   {
    "duration": 33,
    "start_time": "2024-10-26T16:16:16.123Z"
   },
   {
    "duration": 64,
    "start_time": "2024-10-26T16:16:16.157Z"
   },
   {
    "duration": 6,
    "start_time": "2024-10-26T16:16:16.224Z"
   },
   {
    "duration": 599,
    "start_time": "2024-10-26T16:16:16.232Z"
   },
   {
    "duration": 27,
    "start_time": "2024-10-26T16:16:16.833Z"
   },
   {
    "duration": 4,
    "start_time": "2024-10-26T16:16:16.861Z"
   },
   {
    "duration": 523,
    "start_time": "2024-10-26T16:16:16.867Z"
   },
   {
    "duration": 53,
    "start_time": "2024-10-26T16:16:17.394Z"
   },
   {
    "duration": 4,
    "start_time": "2024-10-26T16:16:17.448Z"
   },
   {
    "duration": 591,
    "start_time": "2024-10-26T16:16:17.454Z"
   },
   {
    "duration": 28,
    "start_time": "2024-10-26T16:16:18.047Z"
   },
   {
    "duration": 4,
    "start_time": "2024-10-26T16:16:18.077Z"
   },
   {
    "duration": 143,
    "start_time": "2024-10-26T16:16:18.082Z"
   },
   {
    "duration": 64,
    "start_time": "2024-10-26T16:48:54.665Z"
   },
   {
    "duration": 5,
    "start_time": "2024-10-26T16:49:38.636Z"
   },
   {
    "duration": 987,
    "start_time": "2024-10-26T16:49:38.643Z"
   },
   {
    "duration": 167,
    "start_time": "2024-10-26T16:49:39.632Z"
   },
   {
    "duration": 147,
    "start_time": "2024-10-26T16:49:39.801Z"
   },
   {
    "duration": 5,
    "start_time": "2024-10-26T16:49:39.951Z"
   },
   {
    "duration": 462,
    "start_time": "2024-10-26T16:49:39.957Z"
   },
   {
    "duration": 1006,
    "start_time": "2024-10-26T16:49:40.421Z"
   },
   {
    "duration": 57,
    "start_time": "2024-10-26T16:49:41.429Z"
   },
   {
    "duration": 71,
    "start_time": "2024-10-26T16:49:41.487Z"
   },
   {
    "duration": 63,
    "start_time": "2024-10-26T16:49:41.560Z"
   },
   {
    "duration": 22,
    "start_time": "2024-10-26T16:49:41.625Z"
   },
   {
    "duration": 28,
    "start_time": "2024-10-26T16:49:41.648Z"
   },
   {
    "duration": 31,
    "start_time": "2024-10-26T16:49:41.678Z"
   },
   {
    "duration": 77,
    "start_time": "2024-10-26T16:49:41.712Z"
   },
   {
    "duration": 55,
    "start_time": "2024-10-26T16:49:41.791Z"
   },
   {
    "duration": 58,
    "start_time": "2024-10-26T16:49:41.847Z"
   },
   {
    "duration": 25,
    "start_time": "2024-10-26T16:49:41.907Z"
   },
   {
    "duration": 163,
    "start_time": "2024-10-26T16:49:41.933Z"
   },
   {
    "duration": 34,
    "start_time": "2024-10-26T16:49:42.098Z"
   },
   {
    "duration": 48,
    "start_time": "2024-10-26T16:49:42.134Z"
   },
   {
    "duration": 11,
    "start_time": "2024-10-26T16:49:42.184Z"
   },
   {
    "duration": 146,
    "start_time": "2024-10-26T16:49:42.197Z"
   },
   {
    "duration": 4,
    "start_time": "2024-10-26T16:49:42.345Z"
   },
   {
    "duration": 553,
    "start_time": "2024-10-26T16:49:42.351Z"
   },
   {
    "duration": 32,
    "start_time": "2024-10-26T16:49:42.906Z"
   },
   {
    "duration": 4,
    "start_time": "2024-10-26T16:49:42.940Z"
   },
   {
    "duration": 622,
    "start_time": "2024-10-26T16:49:42.945Z"
   },
   {
    "duration": 40,
    "start_time": "2024-10-26T16:49:43.568Z"
   },
   {
    "duration": 4,
    "start_time": "2024-10-26T16:49:43.621Z"
   },
   {
    "duration": 529,
    "start_time": "2024-10-26T16:49:43.627Z"
   },
   {
    "duration": 4,
    "start_time": "2024-10-26T16:49:44.157Z"
   },
   {
    "duration": 29,
    "start_time": "2024-10-26T16:49:44.163Z"
   },
   {
    "duration": 4,
    "start_time": "2024-10-26T16:49:44.194Z"
   },
   {
    "duration": 101,
    "start_time": "2024-10-26T16:49:44.199Z"
   },
   {
    "duration": 0,
    "start_time": "2024-10-26T16:49:44.301Z"
   },
   {
    "duration": 0,
    "start_time": "2024-10-26T16:49:44.302Z"
   },
   {
    "duration": 6,
    "start_time": "2024-10-26T16:50:20.928Z"
   },
   {
    "duration": 888,
    "start_time": "2024-10-26T16:50:20.935Z"
   },
   {
    "duration": 166,
    "start_time": "2024-10-26T16:50:21.825Z"
   },
   {
    "duration": 156,
    "start_time": "2024-10-26T16:50:21.995Z"
   },
   {
    "duration": 4,
    "start_time": "2024-10-26T16:50:22.153Z"
   },
   {
    "duration": 453,
    "start_time": "2024-10-26T16:50:22.158Z"
   },
   {
    "duration": 949,
    "start_time": "2024-10-26T16:50:22.612Z"
   },
   {
    "duration": 61,
    "start_time": "2024-10-26T16:50:23.562Z"
   },
   {
    "duration": 56,
    "start_time": "2024-10-26T16:50:23.624Z"
   },
   {
    "duration": 71,
    "start_time": "2024-10-26T16:50:23.682Z"
   },
   {
    "duration": 97,
    "start_time": "2024-10-26T16:50:23.757Z"
   },
   {
    "duration": 25,
    "start_time": "2024-10-26T16:50:23.856Z"
   },
   {
    "duration": 21,
    "start_time": "2024-10-26T16:50:23.883Z"
   },
   {
    "duration": 59,
    "start_time": "2024-10-26T16:50:23.908Z"
   },
   {
    "duration": 24,
    "start_time": "2024-10-26T16:50:23.968Z"
   },
   {
    "duration": 67,
    "start_time": "2024-10-26T16:50:23.994Z"
   },
   {
    "duration": 22,
    "start_time": "2024-10-26T16:50:24.063Z"
   },
   {
    "duration": 173,
    "start_time": "2024-10-26T16:50:24.087Z"
   },
   {
    "duration": 67,
    "start_time": "2024-10-26T16:50:24.261Z"
   },
   {
    "duration": 34,
    "start_time": "2024-10-26T16:50:24.329Z"
   },
   {
    "duration": 11,
    "start_time": "2024-10-26T16:50:24.365Z"
   },
   {
    "duration": 80,
    "start_time": "2024-10-26T16:50:24.378Z"
   },
   {
    "duration": 3,
    "start_time": "2024-10-26T16:50:24.460Z"
   },
   {
    "duration": 525,
    "start_time": "2024-10-26T16:50:24.464Z"
   },
   {
    "duration": 39,
    "start_time": "2024-10-26T16:50:24.991Z"
   },
   {
    "duration": 15,
    "start_time": "2024-10-26T16:50:25.032Z"
   },
   {
    "duration": 523,
    "start_time": "2024-10-26T16:50:25.048Z"
   },
   {
    "duration": 54,
    "start_time": "2024-10-26T16:50:25.573Z"
   },
   {
    "duration": 5,
    "start_time": "2024-10-26T16:50:25.629Z"
   },
   {
    "duration": 561,
    "start_time": "2024-10-26T16:50:25.636Z"
   },
   {
    "duration": 4,
    "start_time": "2024-10-26T16:50:26.198Z"
   },
   {
    "duration": 119,
    "start_time": "2024-10-26T16:50:26.203Z"
   },
   {
    "duration": 3,
    "start_time": "2024-10-26T16:50:26.324Z"
   },
   {
    "duration": 113,
    "start_time": "2024-10-26T16:50:26.329Z"
   },
   {
    "duration": 3,
    "start_time": "2024-10-26T16:50:26.444Z"
   },
   {
    "duration": 76,
    "start_time": "2024-10-26T16:50:26.448Z"
   },
   {
    "duration": 8,
    "start_time": "2024-10-26T16:56:27.849Z"
   },
   {
    "duration": 943,
    "start_time": "2024-10-26T16:56:27.859Z"
   },
   {
    "duration": 169,
    "start_time": "2024-10-26T16:56:28.804Z"
   },
   {
    "duration": 154,
    "start_time": "2024-10-26T16:56:28.975Z"
   },
   {
    "duration": 3,
    "start_time": "2024-10-26T16:56:29.132Z"
   },
   {
    "duration": 446,
    "start_time": "2024-10-26T16:56:29.137Z"
   },
   {
    "duration": 974,
    "start_time": "2024-10-26T16:56:29.584Z"
   },
   {
    "duration": 75,
    "start_time": "2024-10-26T16:56:30.560Z"
   },
   {
    "duration": 75,
    "start_time": "2024-10-26T16:56:30.637Z"
   },
   {
    "duration": 60,
    "start_time": "2024-10-26T16:56:30.714Z"
   },
   {
    "duration": 25,
    "start_time": "2024-10-26T16:56:30.776Z"
   },
   {
    "duration": 45,
    "start_time": "2024-10-26T16:56:30.804Z"
   },
   {
    "duration": 43,
    "start_time": "2024-10-26T16:56:30.852Z"
   },
   {
    "duration": 93,
    "start_time": "2024-10-26T16:56:30.898Z"
   },
   {
    "duration": 72,
    "start_time": "2024-10-26T16:56:30.993Z"
   },
   {
    "duration": 89,
    "start_time": "2024-10-26T16:56:31.067Z"
   },
   {
    "duration": 40,
    "start_time": "2024-10-26T16:56:31.158Z"
   },
   {
    "duration": 153,
    "start_time": "2024-10-26T16:56:31.200Z"
   },
   {
    "duration": 30,
    "start_time": "2024-10-26T16:56:31.354Z"
   },
   {
    "duration": 56,
    "start_time": "2024-10-26T16:56:31.387Z"
   },
   {
    "duration": 11,
    "start_time": "2024-10-26T16:56:31.444Z"
   },
   {
    "duration": 96,
    "start_time": "2024-10-26T16:56:31.457Z"
   },
   {
    "duration": 3,
    "start_time": "2024-10-26T16:56:31.555Z"
   },
   {
    "duration": 575,
    "start_time": "2024-10-26T16:56:31.559Z"
   },
   {
    "duration": 28,
    "start_time": "2024-10-26T16:56:32.136Z"
   },
   {
    "duration": 5,
    "start_time": "2024-10-26T16:56:32.166Z"
   },
   {
    "duration": 600,
    "start_time": "2024-10-26T16:56:32.173Z"
   },
   {
    "duration": 49,
    "start_time": "2024-10-26T16:56:32.775Z"
   },
   {
    "duration": 4,
    "start_time": "2024-10-26T16:56:32.827Z"
   },
   {
    "duration": 534,
    "start_time": "2024-10-26T16:56:32.833Z"
   },
   {
    "duration": 5,
    "start_time": "2024-10-26T16:56:33.369Z"
   },
   {
    "duration": 45,
    "start_time": "2024-10-26T16:56:33.376Z"
   },
   {
    "duration": 6,
    "start_time": "2024-10-26T16:56:33.422Z"
   },
   {
    "duration": 154,
    "start_time": "2024-10-26T16:56:33.430Z"
   },
   {
    "duration": 4,
    "start_time": "2024-10-26T16:56:33.586Z"
   },
   {
    "duration": 84,
    "start_time": "2024-10-26T16:56:33.591Z"
   },
   {
    "duration": 495,
    "start_time": "2024-10-26T16:58:18.517Z"
   },
   {
    "duration": 163,
    "start_time": "2024-10-26T17:01:45.914Z"
   },
   {
    "duration": 8,
    "start_time": "2024-10-26T17:03:55.640Z"
   },
   {
    "duration": 9,
    "start_time": "2024-10-26T17:04:46.370Z"
   },
   {
    "duration": 8,
    "start_time": "2024-10-26T17:05:00.932Z"
   },
   {
    "duration": 30,
    "start_time": "2024-10-26T17:11:20.117Z"
   },
   {
    "duration": 8,
    "start_time": "2024-10-26T19:14:59.766Z"
   },
   {
    "duration": 1037,
    "start_time": "2024-10-26T19:14:59.776Z"
   },
   {
    "duration": 194,
    "start_time": "2024-10-26T19:15:00.815Z"
   },
   {
    "duration": 183,
    "start_time": "2024-10-26T19:15:01.011Z"
   },
   {
    "duration": 26,
    "start_time": "2024-10-26T19:15:01.196Z"
   },
   {
    "duration": 557,
    "start_time": "2024-10-26T19:15:01.224Z"
   },
   {
    "duration": 1036,
    "start_time": "2024-10-26T19:15:01.782Z"
   },
   {
    "duration": 68,
    "start_time": "2024-10-26T19:15:02.821Z"
   },
   {
    "duration": 72,
    "start_time": "2024-10-26T19:15:02.892Z"
   },
   {
    "duration": 69,
    "start_time": "2024-10-26T19:15:02.965Z"
   },
   {
    "duration": 29,
    "start_time": "2024-10-26T19:15:03.037Z"
   },
   {
    "duration": 39,
    "start_time": "2024-10-26T19:15:03.068Z"
   },
   {
    "duration": 29,
    "start_time": "2024-10-26T19:15:03.109Z"
   },
   {
    "duration": 96,
    "start_time": "2024-10-26T19:15:03.142Z"
   },
   {
    "duration": 23,
    "start_time": "2024-10-26T19:15:03.240Z"
   },
   {
    "duration": 90,
    "start_time": "2024-10-26T19:15:03.265Z"
   },
   {
    "duration": 37,
    "start_time": "2024-10-26T19:15:03.357Z"
   },
   {
    "duration": 267,
    "start_time": "2024-10-26T19:15:03.396Z"
   },
   {
    "duration": 36,
    "start_time": "2024-10-26T19:15:03.665Z"
   },
   {
    "duration": 76,
    "start_time": "2024-10-26T19:15:03.704Z"
   },
   {
    "duration": 19,
    "start_time": "2024-10-26T19:15:03.782Z"
   },
   {
    "duration": 87,
    "start_time": "2024-10-26T19:15:03.804Z"
   },
   {
    "duration": 572,
    "start_time": "2024-10-26T19:15:03.893Z"
   },
   {
    "duration": 26,
    "start_time": "2024-10-26T19:15:04.466Z"
   },
   {
    "duration": 492,
    "start_time": "2024-10-26T19:15:04.494Z"
   },
   {
    "duration": 49,
    "start_time": "2024-10-26T19:15:04.987Z"
   },
   {
    "duration": 562,
    "start_time": "2024-10-26T19:15:05.038Z"
   },
   {
    "duration": 49,
    "start_time": "2024-10-26T19:15:05.602Z"
   },
   {
    "duration": 125,
    "start_time": "2024-10-26T19:15:05.652Z"
   },
   {
    "duration": 650,
    "start_time": "2024-10-26T19:15:05.780Z"
   },
   {
    "duration": 10,
    "start_time": "2024-10-26T19:15:06.432Z"
   },
   {
    "duration": 30,
    "start_time": "2024-10-26T19:15:06.444Z"
   },
   {
    "duration": 15,
    "start_time": "2024-10-26T19:15:06.476Z"
   },
   {
    "duration": 136,
    "start_time": "2024-10-26T19:20:25.472Z"
   },
   {
    "duration": 16,
    "start_time": "2024-10-26T19:20:27.061Z"
   },
   {
    "duration": 950,
    "start_time": "2024-10-26T19:20:37.265Z"
   },
   {
    "duration": 113,
    "start_time": "2024-10-26T19:30:32.425Z"
   },
   {
    "duration": 12,
    "start_time": "2024-10-26T19:31:01.512Z"
   },
   {
    "duration": 168,
    "start_time": "2024-10-26T19:31:17.458Z"
   },
   {
    "duration": 9,
    "start_time": "2024-10-26T19:31:22.627Z"
   },
   {
    "duration": 967,
    "start_time": "2024-10-26T19:31:22.639Z"
   },
   {
    "duration": 182,
    "start_time": "2024-10-26T19:31:23.608Z"
   },
   {
    "duration": 156,
    "start_time": "2024-10-26T19:31:23.792Z"
   },
   {
    "duration": 14,
    "start_time": "2024-10-26T19:31:23.951Z"
   },
   {
    "duration": 550,
    "start_time": "2024-10-26T19:31:23.967Z"
   },
   {
    "duration": 1011,
    "start_time": "2024-10-26T19:31:24.520Z"
   },
   {
    "duration": 74,
    "start_time": "2024-10-26T19:31:25.533Z"
   },
   {
    "duration": 93,
    "start_time": "2024-10-26T19:31:25.622Z"
   },
   {
    "duration": 65,
    "start_time": "2024-10-26T19:31:25.716Z"
   },
   {
    "duration": 28,
    "start_time": "2024-10-26T19:31:25.783Z"
   },
   {
    "duration": 40,
    "start_time": "2024-10-26T19:31:25.813Z"
   },
   {
    "duration": 48,
    "start_time": "2024-10-26T19:31:25.857Z"
   },
   {
    "duration": 77,
    "start_time": "2024-10-26T19:31:25.907Z"
   },
   {
    "duration": 21,
    "start_time": "2024-10-26T19:31:25.986Z"
   },
   {
    "duration": 66,
    "start_time": "2024-10-26T19:31:26.020Z"
   },
   {
    "duration": 35,
    "start_time": "2024-10-26T19:31:26.088Z"
   },
   {
    "duration": 150,
    "start_time": "2024-10-26T19:31:26.125Z"
   },
   {
    "duration": 27,
    "start_time": "2024-10-26T19:31:26.276Z"
   },
   {
    "duration": 49,
    "start_time": "2024-10-26T19:31:26.304Z"
   },
   {
    "duration": 11,
    "start_time": "2024-10-26T19:31:26.354Z"
   },
   {
    "duration": 79,
    "start_time": "2024-10-26T19:31:26.367Z"
   },
   {
    "duration": 587,
    "start_time": "2024-10-26T19:31:26.448Z"
   },
   {
    "duration": 27,
    "start_time": "2024-10-26T19:31:27.037Z"
   },
   {
    "duration": 539,
    "start_time": "2024-10-26T19:31:27.066Z"
   },
   {
    "duration": 58,
    "start_time": "2024-10-26T19:31:27.607Z"
   },
   {
    "duration": 583,
    "start_time": "2024-10-26T19:31:27.666Z"
   },
   {
    "duration": 29,
    "start_time": "2024-10-26T19:31:28.250Z"
   },
   {
    "duration": 138,
    "start_time": "2024-10-26T19:31:28.281Z"
   },
   {
    "duration": 596,
    "start_time": "2024-10-26T19:31:28.421Z"
   },
   {
    "duration": 13,
    "start_time": "2024-10-26T19:31:29.023Z"
   },
   {
    "duration": 46,
    "start_time": "2024-10-26T19:31:29.038Z"
   },
   {
    "duration": 35,
    "start_time": "2024-10-26T19:31:29.086Z"
   },
   {
    "duration": 127,
    "start_time": "2024-10-26T19:31:29.123Z"
   },
   {
    "duration": 182,
    "start_time": "2024-10-26T19:31:29.252Z"
   },
   {
    "duration": 720,
    "start_time": "2024-10-26T19:31:29.436Z"
   },
   {
    "duration": 27,
    "start_time": "2024-10-26T19:31:35.698Z"
   },
   {
    "duration": 112,
    "start_time": "2024-10-26T20:00:16.915Z"
   },
   {
    "duration": 18,
    "start_time": "2024-10-26T20:13:14.124Z"
   },
   {
    "duration": 6,
    "start_time": "2024-10-26T20:13:20.401Z"
   },
   {
    "duration": 955,
    "start_time": "2024-10-26T20:13:20.409Z"
   },
   {
    "duration": 169,
    "start_time": "2024-10-26T20:13:21.366Z"
   },
   {
    "duration": 176,
    "start_time": "2024-10-26T20:13:21.537Z"
   },
   {
    "duration": 5,
    "start_time": "2024-10-26T20:13:21.721Z"
   },
   {
    "duration": 485,
    "start_time": "2024-10-26T20:13:21.727Z"
   },
   {
    "duration": 970,
    "start_time": "2024-10-26T20:13:22.214Z"
   },
   {
    "duration": 67,
    "start_time": "2024-10-26T20:13:23.186Z"
   },
   {
    "duration": 69,
    "start_time": "2024-10-26T20:13:23.254Z"
   },
   {
    "duration": 69,
    "start_time": "2024-10-26T20:13:23.325Z"
   },
   {
    "duration": 34,
    "start_time": "2024-10-26T20:13:23.396Z"
   },
   {
    "duration": 32,
    "start_time": "2024-10-26T20:13:23.431Z"
   },
   {
    "duration": 34,
    "start_time": "2024-10-26T20:13:23.464Z"
   },
   {
    "duration": 60,
    "start_time": "2024-10-26T20:13:23.501Z"
   },
   {
    "duration": 100,
    "start_time": "2024-10-26T20:13:23.563Z"
   },
   {
    "duration": 88,
    "start_time": "2024-10-26T20:13:23.665Z"
   },
   {
    "duration": 35,
    "start_time": "2024-10-26T20:13:23.755Z"
   },
   {
    "duration": 179,
    "start_time": "2024-10-26T20:13:23.792Z"
   },
   {
    "duration": 25,
    "start_time": "2024-10-26T20:13:23.972Z"
   },
   {
    "duration": 53,
    "start_time": "2024-10-26T20:13:23.999Z"
   },
   {
    "duration": 30,
    "start_time": "2024-10-26T20:13:24.054Z"
   },
   {
    "duration": 70,
    "start_time": "2024-10-26T20:13:24.086Z"
   },
   {
    "duration": 683,
    "start_time": "2024-10-26T20:13:24.157Z"
   },
   {
    "duration": 31,
    "start_time": "2024-10-26T20:13:24.842Z"
   },
   {
    "duration": 512,
    "start_time": "2024-10-26T20:13:24.875Z"
   },
   {
    "duration": 47,
    "start_time": "2024-10-26T20:13:25.388Z"
   },
   {
    "duration": 535,
    "start_time": "2024-10-26T20:13:25.437Z"
   },
   {
    "duration": 24,
    "start_time": "2024-10-26T20:13:25.973Z"
   },
   {
    "duration": 130,
    "start_time": "2024-10-26T20:13:25.998Z"
   },
   {
    "duration": 540,
    "start_time": "2024-10-26T20:13:26.130Z"
   },
   {
    "duration": 8,
    "start_time": "2024-10-26T20:13:26.672Z"
   },
   {
    "duration": 48,
    "start_time": "2024-10-26T20:13:26.682Z"
   },
   {
    "duration": 19,
    "start_time": "2024-10-26T20:13:26.732Z"
   },
   {
    "duration": 123,
    "start_time": "2024-10-26T20:13:26.753Z"
   },
   {
    "duration": 185,
    "start_time": "2024-10-26T20:13:26.878Z"
   },
   {
    "duration": 659,
    "start_time": "2024-10-26T20:13:27.065Z"
   },
   {
    "duration": 18,
    "start_time": "2024-10-26T20:13:27.726Z"
   },
   {
    "duration": 18,
    "start_time": "2024-10-26T20:13:34.412Z"
   },
   {
    "duration": 19,
    "start_time": "2024-10-26T20:13:39.226Z"
   },
   {
    "duration": 19,
    "start_time": "2024-10-26T20:13:52.828Z"
   },
   {
    "duration": 8,
    "start_time": "2024-10-26T20:14:11.738Z"
   },
   {
    "duration": 826,
    "start_time": "2024-10-26T20:25:30.300Z"
   },
   {
    "duration": 532,
    "start_time": "2024-10-26T20:26:05.616Z"
   },
   {
    "duration": 14,
    "start_time": "2024-10-26T20:51:28.987Z"
   },
   {
    "duration": 28,
    "start_time": "2024-10-26T20:51:49.744Z"
   },
   {
    "duration": 19,
    "start_time": "2024-10-26T20:52:21.019Z"
   },
   {
    "duration": 5,
    "start_time": "2024-10-26T20:52:28.868Z"
   },
   {
    "duration": 916,
    "start_time": "2024-10-26T20:52:28.875Z"
   },
   {
    "duration": 181,
    "start_time": "2024-10-26T20:52:29.793Z"
   },
   {
    "duration": 169,
    "start_time": "2024-10-26T20:52:29.976Z"
   },
   {
    "duration": 23,
    "start_time": "2024-10-26T20:52:30.147Z"
   },
   {
    "duration": 468,
    "start_time": "2024-10-26T20:52:30.172Z"
   },
   {
    "duration": 991,
    "start_time": "2024-10-26T20:52:30.642Z"
   },
   {
    "duration": 60,
    "start_time": "2024-10-26T20:52:31.635Z"
   },
   {
    "duration": 102,
    "start_time": "2024-10-26T20:52:31.697Z"
   },
   {
    "duration": 65,
    "start_time": "2024-10-26T20:52:31.802Z"
   },
   {
    "duration": 33,
    "start_time": "2024-10-26T20:52:31.869Z"
   },
   {
    "duration": 45,
    "start_time": "2024-10-26T20:52:31.904Z"
   },
   {
    "duration": 61,
    "start_time": "2024-10-26T20:52:31.950Z"
   },
   {
    "duration": 60,
    "start_time": "2024-10-26T20:52:32.018Z"
   },
   {
    "duration": 43,
    "start_time": "2024-10-26T20:52:32.080Z"
   },
   {
    "duration": 68,
    "start_time": "2024-10-26T20:52:32.125Z"
   },
   {
    "duration": 32,
    "start_time": "2024-10-26T20:52:32.195Z"
   },
   {
    "duration": 166,
    "start_time": "2024-10-26T20:52:32.229Z"
   },
   {
    "duration": 30,
    "start_time": "2024-10-26T20:52:32.397Z"
   },
   {
    "duration": 59,
    "start_time": "2024-10-26T20:52:32.428Z"
   },
   {
    "duration": 30,
    "start_time": "2024-10-26T20:52:32.489Z"
   },
   {
    "duration": 71,
    "start_time": "2024-10-26T20:52:32.520Z"
   },
   {
    "duration": 548,
    "start_time": "2024-10-26T20:52:32.593Z"
   },
   {
    "duration": 25,
    "start_time": "2024-10-26T20:52:33.143Z"
   },
   {
    "duration": 502,
    "start_time": "2024-10-26T20:52:33.170Z"
   },
   {
    "duration": 46,
    "start_time": "2024-10-26T20:52:33.674Z"
   },
   {
    "duration": 685,
    "start_time": "2024-10-26T20:52:33.722Z"
   },
   {
    "duration": 32,
    "start_time": "2024-10-26T20:52:34.408Z"
   },
   {
    "duration": 117,
    "start_time": "2024-10-26T20:52:34.442Z"
   },
   {
    "duration": 564,
    "start_time": "2024-10-26T20:52:34.561Z"
   },
   {
    "duration": 10,
    "start_time": "2024-10-26T20:52:35.127Z"
   },
   {
    "duration": 49,
    "start_time": "2024-10-26T20:52:35.139Z"
   },
   {
    "duration": 34,
    "start_time": "2024-10-26T20:52:35.190Z"
   },
   {
    "duration": 444,
    "start_time": "2024-10-26T20:52:35.226Z"
   },
   {
    "duration": 22,
    "start_time": "2024-10-26T20:52:35.671Z"
   },
   {
    "duration": 0,
    "start_time": "2024-10-26T20:52:35.694Z"
   },
   {
    "duration": 0,
    "start_time": "2024-10-26T20:52:35.696Z"
   },
   {
    "duration": 0,
    "start_time": "2024-10-26T20:52:35.697Z"
   },
   {
    "duration": 0,
    "start_time": "2024-10-26T20:52:35.698Z"
   },
   {
    "duration": 0,
    "start_time": "2024-10-26T20:52:35.699Z"
   },
   {
    "duration": 0,
    "start_time": "2024-10-26T20:52:35.700Z"
   },
   {
    "duration": 0,
    "start_time": "2024-10-26T20:52:35.701Z"
   },
   {
    "duration": 399,
    "start_time": "2024-10-26T20:54:15.901Z"
   },
   {
    "duration": 12,
    "start_time": "2024-10-26T20:54:17.893Z"
   },
   {
    "duration": 11,
    "start_time": "2024-10-26T20:54:42.751Z"
   },
   {
    "duration": 83,
    "start_time": "2024-10-26T20:55:14.736Z"
   },
   {
    "duration": 12,
    "start_time": "2024-10-26T21:02:29.939Z"
   },
   {
    "duration": 5,
    "start_time": "2024-10-26T21:04:30.494Z"
   },
   {
    "duration": 889,
    "start_time": "2024-10-26T21:04:30.501Z"
   },
   {
    "duration": 170,
    "start_time": "2024-10-26T21:04:31.391Z"
   },
   {
    "duration": 162,
    "start_time": "2024-10-26T21:04:31.563Z"
   },
   {
    "duration": 84,
    "start_time": "2024-10-26T21:04:31.727Z"
   },
   {
    "duration": 484,
    "start_time": "2024-10-26T21:04:31.812Z"
   },
   {
    "duration": 918,
    "start_time": "2024-10-26T21:04:32.297Z"
   },
   {
    "duration": 57,
    "start_time": "2024-10-26T21:04:33.217Z"
   },
   {
    "duration": 87,
    "start_time": "2024-10-26T21:04:33.276Z"
   },
   {
    "duration": 134,
    "start_time": "2024-10-26T21:04:33.365Z"
   },
   {
    "duration": 34,
    "start_time": "2024-10-26T21:04:33.500Z"
   },
   {
    "duration": 57,
    "start_time": "2024-10-26T21:04:33.536Z"
   },
   {
    "duration": 45,
    "start_time": "2024-10-26T21:04:33.595Z"
   },
   {
    "duration": 88,
    "start_time": "2024-10-26T21:04:33.643Z"
   },
   {
    "duration": 91,
    "start_time": "2024-10-26T21:04:33.732Z"
   },
   {
    "duration": 132,
    "start_time": "2024-10-26T21:04:33.825Z"
   },
   {
    "duration": 55,
    "start_time": "2024-10-26T21:04:33.959Z"
   },
   {
    "duration": 185,
    "start_time": "2024-10-26T21:04:34.016Z"
   },
   {
    "duration": 27,
    "start_time": "2024-10-26T21:04:34.203Z"
   },
   {
    "duration": 41,
    "start_time": "2024-10-26T21:04:34.231Z"
   },
   {
    "duration": 10,
    "start_time": "2024-10-26T21:04:34.274Z"
   },
   {
    "duration": 114,
    "start_time": "2024-10-26T21:04:34.286Z"
   },
   {
    "duration": 507,
    "start_time": "2024-10-26T21:04:34.402Z"
   },
   {
    "duration": 25,
    "start_time": "2024-10-26T21:04:34.920Z"
   },
   {
    "duration": 541,
    "start_time": "2024-10-26T21:04:34.947Z"
   },
   {
    "duration": 46,
    "start_time": "2024-10-26T21:04:35.490Z"
   },
   {
    "duration": 509,
    "start_time": "2024-10-26T21:04:35.538Z"
   },
   {
    "duration": 29,
    "start_time": "2024-10-26T21:04:36.049Z"
   },
   {
    "duration": 123,
    "start_time": "2024-10-26T21:04:36.079Z"
   },
   {
    "duration": 523,
    "start_time": "2024-10-26T21:04:36.203Z"
   },
   {
    "duration": 7,
    "start_time": "2024-10-26T21:04:36.728Z"
   },
   {
    "duration": 141,
    "start_time": "2024-10-26T21:04:36.737Z"
   },
   {
    "duration": 40,
    "start_time": "2024-10-26T21:04:36.880Z"
   },
   {
    "duration": 472,
    "start_time": "2024-10-26T21:04:36.922Z"
   },
   {
    "duration": 92,
    "start_time": "2024-10-26T21:04:37.395Z"
   },
   {
    "duration": 121,
    "start_time": "2024-10-26T21:04:37.489Z"
   },
   {
    "duration": 0,
    "start_time": "2024-10-26T21:04:37.621Z"
   },
   {
    "duration": 0,
    "start_time": "2024-10-26T21:04:37.622Z"
   },
   {
    "duration": 0,
    "start_time": "2024-10-26T21:04:37.623Z"
   },
   {
    "duration": 0,
    "start_time": "2024-10-26T21:04:37.624Z"
   },
   {
    "duration": 0,
    "start_time": "2024-10-26T21:04:37.625Z"
   },
   {
    "duration": 0,
    "start_time": "2024-10-26T21:04:37.626Z"
   },
   {
    "duration": 0,
    "start_time": "2024-10-26T21:04:37.627Z"
   },
   {
    "duration": 0,
    "start_time": "2024-10-26T21:04:37.628Z"
   },
   {
    "duration": 1598,
    "start_time": "2024-10-26T21:09:03.785Z"
   },
   {
    "duration": 984,
    "start_time": "2024-10-26T21:09:05.385Z"
   },
   {
    "duration": 180,
    "start_time": "2024-10-26T21:09:06.370Z"
   },
   {
    "duration": 163,
    "start_time": "2024-10-26T21:09:06.551Z"
   },
   {
    "duration": 6,
    "start_time": "2024-10-26T21:09:06.716Z"
   },
   {
    "duration": 612,
    "start_time": "2024-10-26T21:09:06.724Z"
   },
   {
    "duration": 992,
    "start_time": "2024-10-26T21:09:07.338Z"
   },
   {
    "duration": 62,
    "start_time": "2024-10-26T21:09:08.332Z"
   },
   {
    "duration": 97,
    "start_time": "2024-10-26T21:09:08.396Z"
   },
   {
    "duration": 68,
    "start_time": "2024-10-26T21:09:08.495Z"
   },
   {
    "duration": 20,
    "start_time": "2024-10-26T21:09:08.565Z"
   },
   {
    "duration": 49,
    "start_time": "2024-10-26T21:09:08.587Z"
   },
   {
    "duration": 24,
    "start_time": "2024-10-26T21:09:08.638Z"
   },
   {
    "duration": 72,
    "start_time": "2024-10-26T21:09:08.666Z"
   },
   {
    "duration": 111,
    "start_time": "2024-10-26T21:09:08.739Z"
   },
   {
    "duration": 77,
    "start_time": "2024-10-26T21:09:08.852Z"
   },
   {
    "duration": 28,
    "start_time": "2024-10-26T21:09:08.931Z"
   },
   {
    "duration": 142,
    "start_time": "2024-10-26T21:09:08.961Z"
   },
   {
    "duration": 26,
    "start_time": "2024-10-26T21:09:09.105Z"
   },
   {
    "duration": 49,
    "start_time": "2024-10-26T21:09:09.132Z"
   },
   {
    "duration": 11,
    "start_time": "2024-10-26T21:09:09.183Z"
   },
   {
    "duration": 73,
    "start_time": "2024-10-26T21:09:09.196Z"
   },
   {
    "duration": 552,
    "start_time": "2024-10-26T21:09:09.271Z"
   },
   {
    "duration": 31,
    "start_time": "2024-10-26T21:09:09.824Z"
   },
   {
    "duration": 503,
    "start_time": "2024-10-26T21:09:09.857Z"
   },
   {
    "duration": 43,
    "start_time": "2024-10-26T21:09:10.361Z"
   },
   {
    "duration": 594,
    "start_time": "2024-10-26T21:09:10.406Z"
   },
   {
    "duration": 31,
    "start_time": "2024-10-26T21:09:11.002Z"
   },
   {
    "duration": 120,
    "start_time": "2024-10-26T21:09:11.035Z"
   },
   {
    "duration": 551,
    "start_time": "2024-10-26T21:09:11.157Z"
   },
   {
    "duration": 14,
    "start_time": "2024-10-26T21:09:11.710Z"
   },
   {
    "duration": 112,
    "start_time": "2024-10-26T21:09:11.725Z"
   },
   {
    "duration": 16,
    "start_time": "2024-10-26T21:09:11.839Z"
   },
   {
    "duration": 199,
    "start_time": "2024-10-26T21:09:11.856Z"
   },
   {
    "duration": 0,
    "start_time": "2024-10-26T21:09:12.057Z"
   },
   {
    "duration": 0,
    "start_time": "2024-10-26T21:09:12.059Z"
   },
   {
    "duration": 0,
    "start_time": "2024-10-26T21:09:12.060Z"
   },
   {
    "duration": 0,
    "start_time": "2024-10-26T21:09:12.061Z"
   },
   {
    "duration": 0,
    "start_time": "2024-10-26T21:09:12.062Z"
   },
   {
    "duration": 0,
    "start_time": "2024-10-26T21:09:12.063Z"
   },
   {
    "duration": 0,
    "start_time": "2024-10-26T21:09:12.064Z"
   },
   {
    "duration": 0,
    "start_time": "2024-10-26T21:09:12.065Z"
   },
   {
    "duration": 0,
    "start_time": "2024-10-26T21:09:12.067Z"
   },
   {
    "duration": 0,
    "start_time": "2024-10-26T21:09:12.068Z"
   },
   {
    "duration": 115,
    "start_time": "2024-10-26T21:09:27.515Z"
   },
   {
    "duration": 16,
    "start_time": "2024-10-26T21:09:29.752Z"
   },
   {
    "duration": 15,
    "start_time": "2024-10-26T21:09:56.220Z"
   },
   {
    "duration": 11,
    "start_time": "2024-10-26T21:10:02.525Z"
   },
   {
    "duration": 98,
    "start_time": "2024-10-26T21:10:45.314Z"
   },
   {
    "duration": 15,
    "start_time": "2024-10-26T21:10:47.548Z"
   },
   {
    "duration": 11,
    "start_time": "2024-10-26T21:10:51.110Z"
   },
   {
    "duration": 5,
    "start_time": "2024-10-26T21:11:30.495Z"
   },
   {
    "duration": 927,
    "start_time": "2024-10-26T21:11:30.502Z"
   },
   {
    "duration": 183,
    "start_time": "2024-10-26T21:11:31.430Z"
   },
   {
    "duration": 148,
    "start_time": "2024-10-26T21:11:31.615Z"
   },
   {
    "duration": 44,
    "start_time": "2024-10-26T21:11:31.765Z"
   },
   {
    "duration": 446,
    "start_time": "2024-10-26T21:11:31.811Z"
   },
   {
    "duration": 936,
    "start_time": "2024-10-26T21:11:32.259Z"
   },
   {
    "duration": 59,
    "start_time": "2024-10-26T21:11:33.197Z"
   },
   {
    "duration": 65,
    "start_time": "2024-10-26T21:11:33.257Z"
   },
   {
    "duration": 55,
    "start_time": "2024-10-26T21:11:33.325Z"
   },
   {
    "duration": 85,
    "start_time": "2024-10-26T21:11:33.381Z"
   },
   {
    "duration": 27,
    "start_time": "2024-10-26T21:11:33.468Z"
   },
   {
    "duration": 29,
    "start_time": "2024-10-26T21:11:33.496Z"
   },
   {
    "duration": 79,
    "start_time": "2024-10-26T21:11:33.527Z"
   },
   {
    "duration": 20,
    "start_time": "2024-10-26T21:11:33.608Z"
   },
   {
    "duration": 60,
    "start_time": "2024-10-26T21:11:33.629Z"
   },
   {
    "duration": 42,
    "start_time": "2024-10-26T21:11:33.691Z"
   },
   {
    "duration": 218,
    "start_time": "2024-10-26T21:11:33.735Z"
   },
   {
    "duration": 33,
    "start_time": "2024-10-26T21:11:33.955Z"
   },
   {
    "duration": 50,
    "start_time": "2024-10-26T21:11:33.990Z"
   },
   {
    "duration": 13,
    "start_time": "2024-10-26T21:11:34.042Z"
   },
   {
    "duration": 80,
    "start_time": "2024-10-26T21:11:34.057Z"
   },
   {
    "duration": 560,
    "start_time": "2024-10-26T21:11:34.139Z"
   },
   {
    "duration": 26,
    "start_time": "2024-10-26T21:11:34.700Z"
   },
   {
    "duration": 477,
    "start_time": "2024-10-26T21:11:34.728Z"
   },
   {
    "duration": 44,
    "start_time": "2024-10-26T21:11:35.206Z"
   },
   {
    "duration": 619,
    "start_time": "2024-10-26T21:11:35.252Z"
   },
   {
    "duration": 30,
    "start_time": "2024-10-26T21:11:35.875Z"
   },
   {
    "duration": 125,
    "start_time": "2024-10-26T21:11:35.907Z"
   },
   {
    "duration": 505,
    "start_time": "2024-10-26T21:11:36.034Z"
   },
   {
    "duration": 7,
    "start_time": "2024-10-26T21:11:36.541Z"
   },
   {
    "duration": 41,
    "start_time": "2024-10-26T21:11:36.550Z"
   },
   {
    "duration": 34,
    "start_time": "2024-10-26T21:11:36.593Z"
   },
   {
    "duration": 110,
    "start_time": "2024-10-26T21:11:36.629Z"
   },
   {
    "duration": 16,
    "start_time": "2024-10-26T21:11:36.741Z"
   },
   {
    "duration": 1316,
    "start_time": "2024-10-26T21:11:36.759Z"
   },
   {
    "duration": 1,
    "start_time": "2024-10-26T21:11:38.076Z"
   },
   {
    "duration": 0,
    "start_time": "2024-10-26T21:11:38.077Z"
   },
   {
    "duration": 0,
    "start_time": "2024-10-26T21:11:38.078Z"
   },
   {
    "duration": 0,
    "start_time": "2024-10-26T21:11:38.079Z"
   },
   {
    "duration": 0,
    "start_time": "2024-10-26T21:11:38.080Z"
   },
   {
    "duration": 0,
    "start_time": "2024-10-26T21:11:38.081Z"
   },
   {
    "duration": 1,
    "start_time": "2024-10-26T21:11:38.082Z"
   },
   {
    "duration": 0,
    "start_time": "2024-10-26T21:11:38.083Z"
   },
   {
    "duration": 1520,
    "start_time": "2024-10-26T21:16:28.925Z"
   },
   {
    "duration": 995,
    "start_time": "2024-10-26T21:16:30.447Z"
   },
   {
    "duration": 171,
    "start_time": "2024-10-26T21:16:31.444Z"
   },
   {
    "duration": 162,
    "start_time": "2024-10-26T21:16:31.616Z"
   },
   {
    "duration": 38,
    "start_time": "2024-10-26T21:16:31.781Z"
   },
   {
    "duration": 527,
    "start_time": "2024-10-26T21:16:31.821Z"
   },
   {
    "duration": 1042,
    "start_time": "2024-10-26T21:16:32.350Z"
   },
   {
    "duration": 68,
    "start_time": "2024-10-26T21:16:33.394Z"
   },
   {
    "duration": 110,
    "start_time": "2024-10-26T21:16:33.464Z"
   },
   {
    "duration": 69,
    "start_time": "2024-10-26T21:16:33.576Z"
   },
   {
    "duration": 66,
    "start_time": "2024-10-26T21:16:33.647Z"
   },
   {
    "duration": 135,
    "start_time": "2024-10-26T21:16:33.715Z"
   },
   {
    "duration": 41,
    "start_time": "2024-10-26T21:16:33.852Z"
   },
   {
    "duration": 81,
    "start_time": "2024-10-26T21:16:33.897Z"
   },
   {
    "duration": 21,
    "start_time": "2024-10-26T21:16:33.980Z"
   },
   {
    "duration": 78,
    "start_time": "2024-10-26T21:16:34.003Z"
   },
   {
    "duration": 22,
    "start_time": "2024-10-26T21:16:34.083Z"
   },
   {
    "duration": 170,
    "start_time": "2024-10-26T21:16:34.106Z"
   },
   {
    "duration": 24,
    "start_time": "2024-10-26T21:16:34.278Z"
   },
   {
    "duration": 54,
    "start_time": "2024-10-26T21:16:34.303Z"
   },
   {
    "duration": 11,
    "start_time": "2024-10-26T21:16:34.359Z"
   },
   {
    "duration": 76,
    "start_time": "2024-10-26T21:16:34.371Z"
   },
   {
    "duration": 572,
    "start_time": "2024-10-26T21:16:34.449Z"
   },
   {
    "duration": 35,
    "start_time": "2024-10-26T21:16:35.023Z"
   },
   {
    "duration": 518,
    "start_time": "2024-10-26T21:16:35.059Z"
   },
   {
    "duration": 56,
    "start_time": "2024-10-26T21:16:35.579Z"
   },
   {
    "duration": 606,
    "start_time": "2024-10-26T21:16:35.637Z"
   },
   {
    "duration": 29,
    "start_time": "2024-10-26T21:16:36.245Z"
   },
   {
    "duration": 132,
    "start_time": "2024-10-26T21:16:36.276Z"
   },
   {
    "duration": 525,
    "start_time": "2024-10-26T21:16:36.410Z"
   },
   {
    "duration": 7,
    "start_time": "2024-10-26T21:16:36.936Z"
   },
   {
    "duration": 47,
    "start_time": "2024-10-26T21:16:36.945Z"
   },
   {
    "duration": 17,
    "start_time": "2024-10-26T21:16:36.993Z"
   },
   {
    "duration": 142,
    "start_time": "2024-10-26T21:16:37.011Z"
   },
   {
    "duration": 21,
    "start_time": "2024-10-26T21:16:37.155Z"
   },
   {
    "duration": 159,
    "start_time": "2024-10-26T21:16:37.177Z"
   },
   {
    "duration": 0,
    "start_time": "2024-10-26T21:16:37.338Z"
   },
   {
    "duration": 0,
    "start_time": "2024-10-26T21:16:37.339Z"
   },
   {
    "duration": 0,
    "start_time": "2024-10-26T21:16:37.340Z"
   },
   {
    "duration": 0,
    "start_time": "2024-10-26T21:16:37.341Z"
   },
   {
    "duration": 0,
    "start_time": "2024-10-26T21:16:37.342Z"
   },
   {
    "duration": 0,
    "start_time": "2024-10-26T21:16:37.343Z"
   },
   {
    "duration": 0,
    "start_time": "2024-10-26T21:16:37.344Z"
   },
   {
    "duration": 0,
    "start_time": "2024-10-26T21:16:37.345Z"
   },
   {
    "duration": 8646,
    "start_time": "2024-10-26T21:18:21.379Z"
   },
   {
    "duration": 933,
    "start_time": "2024-10-26T21:18:30.027Z"
   },
   {
    "duration": 176,
    "start_time": "2024-10-26T21:18:30.961Z"
   },
   {
    "duration": 147,
    "start_time": "2024-10-26T21:18:31.139Z"
   },
   {
    "duration": 4,
    "start_time": "2024-10-26T21:18:31.289Z"
   },
   {
    "duration": 549,
    "start_time": "2024-10-26T21:18:31.295Z"
   },
   {
    "duration": 1065,
    "start_time": "2024-10-26T21:18:31.846Z"
   },
   {
    "duration": 58,
    "start_time": "2024-10-26T21:18:32.913Z"
   },
   {
    "duration": 83,
    "start_time": "2024-10-26T21:18:32.972Z"
   },
   {
    "duration": 57,
    "start_time": "2024-10-26T21:18:33.057Z"
   },
   {
    "duration": 35,
    "start_time": "2024-10-26T21:18:33.121Z"
   },
   {
    "duration": 48,
    "start_time": "2024-10-26T21:18:33.158Z"
   },
   {
    "duration": 29,
    "start_time": "2024-10-26T21:18:33.207Z"
   },
   {
    "duration": 99,
    "start_time": "2024-10-26T21:18:33.239Z"
   },
   {
    "duration": 20,
    "start_time": "2024-10-26T21:18:33.340Z"
   },
   {
    "duration": 97,
    "start_time": "2024-10-26T21:18:33.362Z"
   },
   {
    "duration": 43,
    "start_time": "2024-10-26T21:18:33.461Z"
   },
   {
    "duration": 162,
    "start_time": "2024-10-26T21:18:33.506Z"
   },
   {
    "duration": 75,
    "start_time": "2024-10-26T21:18:33.670Z"
   },
   {
    "duration": 102,
    "start_time": "2024-10-26T21:18:33.746Z"
   },
   {
    "duration": 11,
    "start_time": "2024-10-26T21:18:33.850Z"
   },
   {
    "duration": 89,
    "start_time": "2024-10-26T21:18:33.863Z"
   },
   {
    "duration": 557,
    "start_time": "2024-10-26T21:18:33.953Z"
   },
   {
    "duration": 39,
    "start_time": "2024-10-26T21:18:34.511Z"
   },
   {
    "duration": 520,
    "start_time": "2024-10-26T21:18:34.552Z"
   },
   {
    "duration": 65,
    "start_time": "2024-10-26T21:18:35.074Z"
   },
   {
    "duration": 592,
    "start_time": "2024-10-26T21:18:35.141Z"
   },
   {
    "duration": 24,
    "start_time": "2024-10-26T21:18:35.735Z"
   },
   {
    "duration": 180,
    "start_time": "2024-10-26T21:18:35.762Z"
   },
   {
    "duration": 507,
    "start_time": "2024-10-26T21:18:35.944Z"
   },
   {
    "duration": 8,
    "start_time": "2024-10-26T21:18:36.452Z"
   },
   {
    "duration": 51,
    "start_time": "2024-10-26T21:18:36.461Z"
   },
   {
    "duration": 16,
    "start_time": "2024-10-26T21:18:36.513Z"
   },
   {
    "duration": 134,
    "start_time": "2024-10-26T21:18:36.530Z"
   },
   {
    "duration": 21,
    "start_time": "2024-10-26T21:18:36.666Z"
   },
   {
    "duration": 4507,
    "start_time": "2024-10-26T21:30:39.295Z"
   },
   {
    "duration": 950,
    "start_time": "2024-10-26T21:30:43.804Z"
   },
   {
    "duration": 171,
    "start_time": "2024-10-26T21:30:44.755Z"
   },
   {
    "duration": 156,
    "start_time": "2024-10-26T21:30:44.928Z"
   },
   {
    "duration": 29,
    "start_time": "2024-10-26T21:30:45.087Z"
   },
   {
    "duration": 542,
    "start_time": "2024-10-26T21:30:45.118Z"
   },
   {
    "duration": 1047,
    "start_time": "2024-10-26T21:30:45.661Z"
   },
   {
    "duration": 59,
    "start_time": "2024-10-26T21:30:46.709Z"
   },
   {
    "duration": 67,
    "start_time": "2024-10-26T21:30:46.770Z"
   },
   {
    "duration": 122,
    "start_time": "2024-10-26T21:30:46.839Z"
   },
   {
    "duration": 22,
    "start_time": "2024-10-26T21:30:46.963Z"
   },
   {
    "duration": 34,
    "start_time": "2024-10-26T21:30:46.986Z"
   },
   {
    "duration": 24,
    "start_time": "2024-10-26T21:30:47.021Z"
   },
   {
    "duration": 65,
    "start_time": "2024-10-26T21:30:47.048Z"
   },
   {
    "duration": 26,
    "start_time": "2024-10-26T21:30:47.114Z"
   },
   {
    "duration": 57,
    "start_time": "2024-10-26T21:30:47.142Z"
   },
   {
    "duration": 37,
    "start_time": "2024-10-26T21:30:47.200Z"
   },
   {
    "duration": 154,
    "start_time": "2024-10-26T21:30:47.239Z"
   },
   {
    "duration": 37,
    "start_time": "2024-10-26T21:30:47.395Z"
   },
   {
    "duration": 42,
    "start_time": "2024-10-26T21:30:47.434Z"
   },
   {
    "duration": 63,
    "start_time": "2024-10-26T21:30:47.478Z"
   },
   {
    "duration": 74,
    "start_time": "2024-10-26T21:30:47.542Z"
   },
   {
    "duration": 511,
    "start_time": "2024-10-26T21:30:47.618Z"
   },
   {
    "duration": 34,
    "start_time": "2024-10-26T21:30:48.131Z"
   },
   {
    "duration": 514,
    "start_time": "2024-10-26T21:30:48.167Z"
   },
   {
    "duration": 54,
    "start_time": "2024-10-26T21:30:48.683Z"
   },
   {
    "duration": 560,
    "start_time": "2024-10-26T21:30:48.739Z"
   },
   {
    "duration": 31,
    "start_time": "2024-10-26T21:30:49.301Z"
   },
   {
    "duration": 116,
    "start_time": "2024-10-26T21:30:49.333Z"
   },
   {
    "duration": 513,
    "start_time": "2024-10-26T21:30:49.450Z"
   },
   {
    "duration": 7,
    "start_time": "2024-10-26T21:30:49.965Z"
   },
   {
    "duration": 46,
    "start_time": "2024-10-26T21:30:49.975Z"
   },
   {
    "duration": 15,
    "start_time": "2024-10-26T21:30:50.023Z"
   },
   {
    "duration": 137,
    "start_time": "2024-10-26T21:30:50.040Z"
   },
   {
    "duration": 20,
    "start_time": "2024-10-26T21:30:50.179Z"
   },
   {
    "duration": 132,
    "start_time": "2024-10-26T21:30:50.200Z"
   },
   {
    "duration": 0,
    "start_time": "2024-10-26T21:30:50.334Z"
   },
   {
    "duration": 0,
    "start_time": "2024-10-26T21:30:50.335Z"
   },
   {
    "duration": 0,
    "start_time": "2024-10-26T21:30:50.336Z"
   },
   {
    "duration": 0,
    "start_time": "2024-10-26T21:30:50.337Z"
   },
   {
    "duration": 0,
    "start_time": "2024-10-26T21:30:50.338Z"
   },
   {
    "duration": 0,
    "start_time": "2024-10-26T21:30:50.339Z"
   },
   {
    "duration": 0,
    "start_time": "2024-10-26T21:30:50.340Z"
   },
   {
    "duration": 0,
    "start_time": "2024-10-26T21:30:50.341Z"
   },
   {
    "duration": 3124,
    "start_time": "2024-10-26T21:32:06.272Z"
   },
   {
    "duration": 923,
    "start_time": "2024-10-26T21:32:09.399Z"
   },
   {
    "duration": 174,
    "start_time": "2024-10-26T21:32:10.323Z"
   },
   {
    "duration": 168,
    "start_time": "2024-10-26T21:32:10.499Z"
   },
   {
    "duration": 7,
    "start_time": "2024-10-26T21:32:10.669Z"
   },
   {
    "duration": 430,
    "start_time": "2024-10-26T21:32:10.677Z"
   },
   {
    "duration": 964,
    "start_time": "2024-10-26T21:32:11.109Z"
   },
   {
    "duration": 63,
    "start_time": "2024-10-26T21:32:12.075Z"
   },
   {
    "duration": 54,
    "start_time": "2024-10-26T21:32:12.140Z"
   },
   {
    "duration": 69,
    "start_time": "2024-10-26T21:32:12.196Z"
   },
   {
    "duration": 21,
    "start_time": "2024-10-26T21:32:12.266Z"
   },
   {
    "duration": 36,
    "start_time": "2024-10-26T21:32:12.289Z"
   },
   {
    "duration": 26,
    "start_time": "2024-10-26T21:32:12.327Z"
   },
   {
    "duration": 70,
    "start_time": "2024-10-26T21:32:12.356Z"
   },
   {
    "duration": 21,
    "start_time": "2024-10-26T21:32:12.427Z"
   },
   {
    "duration": 57,
    "start_time": "2024-10-26T21:32:12.450Z"
   },
   {
    "duration": 26,
    "start_time": "2024-10-26T21:32:12.520Z"
   },
   {
    "duration": 142,
    "start_time": "2024-10-26T21:32:12.548Z"
   },
   {
    "duration": 38,
    "start_time": "2024-10-26T21:32:12.691Z"
   },
   {
    "duration": 39,
    "start_time": "2024-10-26T21:32:12.731Z"
   },
   {
    "duration": 12,
    "start_time": "2024-10-26T21:32:12.772Z"
   },
   {
    "duration": 81,
    "start_time": "2024-10-26T21:32:12.785Z"
   },
   {
    "duration": 602,
    "start_time": "2024-10-26T21:32:12.868Z"
   },
   {
    "duration": 26,
    "start_time": "2024-10-26T21:32:13.472Z"
   },
   {
    "duration": 482,
    "start_time": "2024-10-26T21:32:13.500Z"
   },
   {
    "duration": 47,
    "start_time": "2024-10-26T21:32:13.984Z"
   },
   {
    "duration": 494,
    "start_time": "2024-10-26T21:32:14.033Z"
   },
   {
    "duration": 32,
    "start_time": "2024-10-26T21:32:14.529Z"
   },
   {
    "duration": 118,
    "start_time": "2024-10-26T21:32:14.563Z"
   },
   {
    "duration": 565,
    "start_time": "2024-10-26T21:32:14.683Z"
   },
   {
    "duration": 7,
    "start_time": "2024-10-26T21:32:15.250Z"
   },
   {
    "duration": 42,
    "start_time": "2024-10-26T21:32:15.259Z"
   },
   {
    "duration": 34,
    "start_time": "2024-10-26T21:32:15.303Z"
   },
   {
    "duration": 116,
    "start_time": "2024-10-26T21:32:15.339Z"
   },
   {
    "duration": 19,
    "start_time": "2024-10-26T21:32:15.457Z"
   },
   {
    "duration": 4596,
    "start_time": "2024-10-26T21:45:40.962Z"
   },
   {
    "duration": 927,
    "start_time": "2024-10-26T21:45:45.560Z"
   },
   {
    "duration": 193,
    "start_time": "2024-10-26T21:45:46.489Z"
   },
   {
    "duration": 155,
    "start_time": "2024-10-26T21:45:46.684Z"
   },
   {
    "duration": 4,
    "start_time": "2024-10-26T21:45:46.841Z"
   },
   {
    "duration": 531,
    "start_time": "2024-10-26T21:45:46.847Z"
   },
   {
    "duration": 1099,
    "start_time": "2024-10-26T21:45:47.380Z"
   },
   {
    "duration": 63,
    "start_time": "2024-10-26T21:45:48.481Z"
   },
   {
    "duration": 65,
    "start_time": "2024-10-26T21:45:48.546Z"
   },
   {
    "duration": 54,
    "start_time": "2024-10-26T21:45:48.620Z"
   },
   {
    "duration": 55,
    "start_time": "2024-10-26T21:45:48.676Z"
   },
   {
    "duration": 27,
    "start_time": "2024-10-26T21:45:48.733Z"
   },
   {
    "duration": 21,
    "start_time": "2024-10-26T21:45:48.762Z"
   },
   {
    "duration": 87,
    "start_time": "2024-10-26T21:45:48.786Z"
   },
   {
    "duration": 64,
    "start_time": "2024-10-26T21:45:48.874Z"
   },
   {
    "duration": 79,
    "start_time": "2024-10-26T21:45:48.939Z"
   },
   {
    "duration": 43,
    "start_time": "2024-10-26T21:45:49.020Z"
   },
   {
    "duration": 147,
    "start_time": "2024-10-26T21:45:49.064Z"
   },
   {
    "duration": 25,
    "start_time": "2024-10-26T21:45:49.213Z"
   },
   {
    "duration": 37,
    "start_time": "2024-10-26T21:45:49.240Z"
   },
   {
    "duration": 11,
    "start_time": "2024-10-26T21:45:49.279Z"
   },
   {
    "duration": 100,
    "start_time": "2024-10-26T21:45:49.292Z"
   },
   {
    "duration": 522,
    "start_time": "2024-10-26T21:45:49.393Z"
   },
   {
    "duration": 37,
    "start_time": "2024-10-26T21:45:49.916Z"
   },
   {
    "duration": 487,
    "start_time": "2024-10-26T21:45:49.955Z"
   },
   {
    "duration": 46,
    "start_time": "2024-10-26T21:45:50.444Z"
   },
   {
    "duration": 602,
    "start_time": "2024-10-26T21:45:50.492Z"
   },
   {
    "duration": 32,
    "start_time": "2024-10-26T21:45:51.096Z"
   },
   {
    "duration": 118,
    "start_time": "2024-10-26T21:45:51.129Z"
   },
   {
    "duration": 511,
    "start_time": "2024-10-26T21:45:51.249Z"
   },
   {
    "duration": 8,
    "start_time": "2024-10-26T21:45:51.761Z"
   },
   {
    "duration": 42,
    "start_time": "2024-10-26T21:45:51.770Z"
   },
   {
    "duration": 23,
    "start_time": "2024-10-26T21:45:51.813Z"
   },
   {
    "duration": 194,
    "start_time": "2024-10-26T21:45:51.839Z"
   },
   {
    "duration": 140,
    "start_time": "2024-10-26T21:45:52.035Z"
   },
   {
    "duration": 0,
    "start_time": "2024-10-26T21:45:52.177Z"
   },
   {
    "duration": 0,
    "start_time": "2024-10-26T21:45:52.179Z"
   },
   {
    "duration": 0,
    "start_time": "2024-10-26T21:45:52.181Z"
   },
   {
    "duration": 0,
    "start_time": "2024-10-26T21:45:52.182Z"
   },
   {
    "duration": 0,
    "start_time": "2024-10-26T21:45:52.183Z"
   },
   {
    "duration": 0,
    "start_time": "2024-10-26T21:45:52.184Z"
   },
   {
    "duration": 0,
    "start_time": "2024-10-26T21:45:52.187Z"
   },
   {
    "duration": 0,
    "start_time": "2024-10-26T21:45:52.188Z"
   },
   {
    "duration": 0,
    "start_time": "2024-10-26T21:45:52.190Z"
   },
   {
    "duration": 0,
    "start_time": "2024-10-26T21:45:52.191Z"
   },
   {
    "duration": 3256,
    "start_time": "2024-10-26T21:46:04.718Z"
   },
   {
    "duration": 976,
    "start_time": "2024-10-26T21:46:07.977Z"
   },
   {
    "duration": 176,
    "start_time": "2024-10-26T21:46:08.954Z"
   },
   {
    "duration": 146,
    "start_time": "2024-10-26T21:46:09.132Z"
   },
   {
    "duration": 5,
    "start_time": "2024-10-26T21:46:09.280Z"
   },
   {
    "duration": 432,
    "start_time": "2024-10-26T21:46:09.286Z"
   },
   {
    "duration": 968,
    "start_time": "2024-10-26T21:46:09.721Z"
   },
   {
    "duration": 58,
    "start_time": "2024-10-26T21:46:10.690Z"
   },
   {
    "duration": 63,
    "start_time": "2024-10-26T21:46:10.749Z"
   },
   {
    "duration": 55,
    "start_time": "2024-10-26T21:46:10.820Z"
   },
   {
    "duration": 20,
    "start_time": "2024-10-26T21:46:10.877Z"
   },
   {
    "duration": 88,
    "start_time": "2024-10-26T21:46:10.899Z"
   },
   {
    "duration": 52,
    "start_time": "2024-10-26T21:46:10.989Z"
   },
   {
    "duration": 59,
    "start_time": "2024-10-26T21:46:11.045Z"
   },
   {
    "duration": 26,
    "start_time": "2024-10-26T21:46:11.106Z"
   },
   {
    "duration": 59,
    "start_time": "2024-10-26T21:46:11.134Z"
   },
   {
    "duration": 39,
    "start_time": "2024-10-26T21:46:11.194Z"
   },
   {
    "duration": 165,
    "start_time": "2024-10-26T21:46:11.235Z"
   },
   {
    "duration": 27,
    "start_time": "2024-10-26T21:46:11.401Z"
   },
   {
    "duration": 61,
    "start_time": "2024-10-26T21:46:11.430Z"
   },
   {
    "duration": 13,
    "start_time": "2024-10-26T21:46:11.492Z"
   },
   {
    "duration": 134,
    "start_time": "2024-10-26T21:46:11.508Z"
   },
   {
    "duration": 609,
    "start_time": "2024-10-26T21:46:11.644Z"
   },
   {
    "duration": 25,
    "start_time": "2024-10-26T21:46:12.255Z"
   },
   {
    "duration": 504,
    "start_time": "2024-10-26T21:46:12.282Z"
   },
   {
    "duration": 46,
    "start_time": "2024-10-26T21:46:12.788Z"
   },
   {
    "duration": 536,
    "start_time": "2024-10-26T21:46:12.835Z"
   },
   {
    "duration": 30,
    "start_time": "2024-10-26T21:46:13.372Z"
   },
   {
    "duration": 120,
    "start_time": "2024-10-26T21:46:13.403Z"
   },
   {
    "duration": 524,
    "start_time": "2024-10-26T21:46:13.525Z"
   },
   {
    "duration": 7,
    "start_time": "2024-10-26T21:46:14.051Z"
   },
   {
    "duration": 31,
    "start_time": "2024-10-26T21:46:14.059Z"
   },
   {
    "duration": 42,
    "start_time": "2024-10-26T21:46:14.092Z"
   },
   {
    "duration": 148,
    "start_time": "2024-10-26T21:46:14.136Z"
   },
   {
    "duration": 20,
    "start_time": "2024-10-26T21:46:14.286Z"
   },
   {
    "duration": 174,
    "start_time": "2024-10-26T21:46:14.308Z"
   },
   {
    "duration": 0,
    "start_time": "2024-10-26T21:46:14.485Z"
   },
   {
    "duration": 0,
    "start_time": "2024-10-26T21:46:14.487Z"
   },
   {
    "duration": 0,
    "start_time": "2024-10-26T21:46:14.488Z"
   },
   {
    "duration": 0,
    "start_time": "2024-10-26T21:46:14.490Z"
   },
   {
    "duration": 0,
    "start_time": "2024-10-26T21:46:14.491Z"
   },
   {
    "duration": 0,
    "start_time": "2024-10-26T21:46:14.493Z"
   },
   {
    "duration": 0,
    "start_time": "2024-10-26T21:46:14.495Z"
   },
   {
    "duration": 0,
    "start_time": "2024-10-26T21:46:14.496Z"
   },
   {
    "duration": 0,
    "start_time": "2024-10-26T21:46:14.521Z"
   },
   {
    "duration": 3165,
    "start_time": "2024-10-26T21:47:39.182Z"
   },
   {
    "duration": 897,
    "start_time": "2024-10-26T21:47:42.350Z"
   },
   {
    "duration": 172,
    "start_time": "2024-10-26T21:47:43.249Z"
   },
   {
    "duration": 149,
    "start_time": "2024-10-26T21:47:43.423Z"
   },
   {
    "duration": 18,
    "start_time": "2024-10-26T21:47:43.575Z"
   },
   {
    "duration": 459,
    "start_time": "2024-10-26T21:47:43.595Z"
   },
   {
    "duration": 941,
    "start_time": "2024-10-26T21:47:44.056Z"
   },
   {
    "duration": 93,
    "start_time": "2024-10-26T21:47:44.998Z"
   },
   {
    "duration": 84,
    "start_time": "2024-10-26T21:47:45.094Z"
   },
   {
    "duration": 69,
    "start_time": "2024-10-26T21:47:45.180Z"
   },
   {
    "duration": 52,
    "start_time": "2024-10-26T21:47:45.251Z"
   },
   {
    "duration": 77,
    "start_time": "2024-10-26T21:47:45.305Z"
   },
   {
    "duration": 27,
    "start_time": "2024-10-26T21:47:45.384Z"
   },
   {
    "duration": 77,
    "start_time": "2024-10-26T21:47:45.416Z"
   },
   {
    "duration": 21,
    "start_time": "2024-10-26T21:47:45.495Z"
   },
   {
    "duration": 118,
    "start_time": "2024-10-26T21:47:45.520Z"
   },
   {
    "duration": 37,
    "start_time": "2024-10-26T21:47:45.640Z"
   },
   {
    "duration": 181,
    "start_time": "2024-10-26T21:47:45.679Z"
   },
   {
    "duration": 82,
    "start_time": "2024-10-26T21:47:45.861Z"
   },
   {
    "duration": 37,
    "start_time": "2024-10-26T21:47:45.945Z"
   },
   {
    "duration": 11,
    "start_time": "2024-10-26T21:47:45.984Z"
   },
   {
    "duration": 88,
    "start_time": "2024-10-26T21:47:45.996Z"
   },
   {
    "duration": 567,
    "start_time": "2024-10-26T21:47:46.086Z"
   },
   {
    "duration": 27,
    "start_time": "2024-10-26T21:47:46.654Z"
   },
   {
    "duration": 496,
    "start_time": "2024-10-26T21:47:46.682Z"
   },
   {
    "duration": 53,
    "start_time": "2024-10-26T21:47:47.180Z"
   },
   {
    "duration": 492,
    "start_time": "2024-10-26T21:47:47.235Z"
   },
   {
    "duration": 22,
    "start_time": "2024-10-26T21:47:47.729Z"
   },
   {
    "duration": 124,
    "start_time": "2024-10-26T21:47:47.753Z"
   },
   {
    "duration": 526,
    "start_time": "2024-10-26T21:47:47.878Z"
   },
   {
    "duration": 18,
    "start_time": "2024-10-26T21:47:48.406Z"
   },
   {
    "duration": 29,
    "start_time": "2024-10-26T21:47:48.425Z"
   },
   {
    "duration": 18,
    "start_time": "2024-10-26T21:47:48.456Z"
   },
   {
    "duration": 127,
    "start_time": "2024-10-26T21:47:48.476Z"
   },
   {
    "duration": 27,
    "start_time": "2024-10-26T21:47:48.604Z"
   },
   {
    "duration": 72,
    "start_time": "2024-10-26T21:47:48.632Z"
   },
   {
    "duration": 0,
    "start_time": "2024-10-26T21:47:48.705Z"
   },
   {
    "duration": 0,
    "start_time": "2024-10-26T21:47:48.707Z"
   },
   {
    "duration": 0,
    "start_time": "2024-10-26T21:47:48.707Z"
   },
   {
    "duration": 0,
    "start_time": "2024-10-26T21:47:48.709Z"
   },
   {
    "duration": 0,
    "start_time": "2024-10-26T21:47:48.710Z"
   },
   {
    "duration": 0,
    "start_time": "2024-10-26T21:47:48.711Z"
   },
   {
    "duration": 0,
    "start_time": "2024-10-26T21:47:48.712Z"
   },
   {
    "duration": 0,
    "start_time": "2024-10-26T21:47:48.713Z"
   },
   {
    "duration": 1,
    "start_time": "2024-10-26T21:47:48.713Z"
   },
   {
    "duration": 3168,
    "start_time": "2024-10-26T21:48:14.394Z"
   },
   {
    "duration": 904,
    "start_time": "2024-10-26T21:48:17.565Z"
   },
   {
    "duration": 169,
    "start_time": "2024-10-26T21:48:18.471Z"
   },
   {
    "duration": 157,
    "start_time": "2024-10-26T21:48:18.641Z"
   },
   {
    "duration": 4,
    "start_time": "2024-10-26T21:48:18.800Z"
   },
   {
    "duration": 472,
    "start_time": "2024-10-26T21:48:18.821Z"
   },
   {
    "duration": 998,
    "start_time": "2024-10-26T21:48:19.294Z"
   },
   {
    "duration": 64,
    "start_time": "2024-10-26T21:48:20.293Z"
   },
   {
    "duration": 77,
    "start_time": "2024-10-26T21:48:20.359Z"
   },
   {
    "duration": 58,
    "start_time": "2024-10-26T21:48:20.438Z"
   },
   {
    "duration": 44,
    "start_time": "2024-10-26T21:48:20.497Z"
   },
   {
    "duration": 24,
    "start_time": "2024-10-26T21:48:20.543Z"
   },
   {
    "duration": 46,
    "start_time": "2024-10-26T21:48:20.569Z"
   },
   {
    "duration": 62,
    "start_time": "2024-10-26T21:48:20.618Z"
   },
   {
    "duration": 45,
    "start_time": "2024-10-26T21:48:20.682Z"
   },
   {
    "duration": 65,
    "start_time": "2024-10-26T21:48:20.729Z"
   },
   {
    "duration": 27,
    "start_time": "2024-10-26T21:48:20.796Z"
   },
   {
    "duration": 155,
    "start_time": "2024-10-26T21:48:20.824Z"
   },
   {
    "duration": 30,
    "start_time": "2024-10-26T21:48:20.980Z"
   },
   {
    "duration": 44,
    "start_time": "2024-10-26T21:48:21.012Z"
   },
   {
    "duration": 18,
    "start_time": "2024-10-26T21:48:21.058Z"
   },
   {
    "duration": 68,
    "start_time": "2024-10-26T21:48:21.077Z"
   },
   {
    "duration": 609,
    "start_time": "2024-10-26T21:48:21.147Z"
   },
   {
    "duration": 26,
    "start_time": "2024-10-26T21:48:21.758Z"
   },
   {
    "duration": 492,
    "start_time": "2024-10-26T21:48:21.785Z"
   },
   {
    "duration": 47,
    "start_time": "2024-10-26T21:48:22.278Z"
   },
   {
    "duration": 631,
    "start_time": "2024-10-26T21:48:22.327Z"
   },
   {
    "duration": 27,
    "start_time": "2024-10-26T21:48:22.960Z"
   },
   {
    "duration": 122,
    "start_time": "2024-10-26T21:48:22.990Z"
   },
   {
    "duration": 503,
    "start_time": "2024-10-26T21:48:23.114Z"
   },
   {
    "duration": 7,
    "start_time": "2024-10-26T21:48:23.621Z"
   },
   {
    "duration": 31,
    "start_time": "2024-10-26T21:48:23.630Z"
   },
   {
    "duration": 19,
    "start_time": "2024-10-26T21:48:23.663Z"
   },
   {
    "duration": 143,
    "start_time": "2024-10-26T21:48:23.683Z"
   },
   {
    "duration": 23,
    "start_time": "2024-10-26T21:48:23.828Z"
   },
   {
    "duration": 4632,
    "start_time": "2024-10-26T21:50:48.585Z"
   },
   {
    "duration": 972,
    "start_time": "2024-10-26T21:50:53.219Z"
   },
   {
    "duration": 167,
    "start_time": "2024-10-26T21:50:54.193Z"
   },
   {
    "duration": 159,
    "start_time": "2024-10-26T21:50:54.362Z"
   },
   {
    "duration": 4,
    "start_time": "2024-10-26T21:50:54.524Z"
   },
   {
    "duration": 525,
    "start_time": "2024-10-26T21:50:54.529Z"
   },
   {
    "duration": 1068,
    "start_time": "2024-10-26T21:50:55.056Z"
   },
   {
    "duration": 57,
    "start_time": "2024-10-26T21:50:56.125Z"
   },
   {
    "duration": 68,
    "start_time": "2024-10-26T21:50:56.184Z"
   },
   {
    "duration": 69,
    "start_time": "2024-10-26T21:50:56.253Z"
   },
   {
    "duration": 21,
    "start_time": "2024-10-26T21:50:56.324Z"
   },
   {
    "duration": 36,
    "start_time": "2024-10-26T21:50:56.346Z"
   },
   {
    "duration": 26,
    "start_time": "2024-10-26T21:50:56.383Z"
   },
   {
    "duration": 66,
    "start_time": "2024-10-26T21:50:56.412Z"
   },
   {
    "duration": 28,
    "start_time": "2024-10-26T21:50:56.480Z"
   },
   {
    "duration": 65,
    "start_time": "2024-10-26T21:50:56.509Z"
   },
   {
    "duration": 46,
    "start_time": "2024-10-26T21:50:56.577Z"
   },
   {
    "duration": 170,
    "start_time": "2024-10-26T21:50:56.625Z"
   },
   {
    "duration": 31,
    "start_time": "2024-10-26T21:50:56.797Z"
   },
   {
    "duration": 54,
    "start_time": "2024-10-26T21:50:56.830Z"
   },
   {
    "duration": 13,
    "start_time": "2024-10-26T21:50:56.886Z"
   },
   {
    "duration": 154,
    "start_time": "2024-10-26T21:50:56.901Z"
   },
   {
    "duration": 546,
    "start_time": "2024-10-26T21:50:57.057Z"
   },
   {
    "duration": 41,
    "start_time": "2024-10-26T21:50:57.605Z"
   },
   {
    "duration": 505,
    "start_time": "2024-10-26T21:50:57.648Z"
   },
   {
    "duration": 46,
    "start_time": "2024-10-26T21:50:58.155Z"
   },
   {
    "duration": 580,
    "start_time": "2024-10-26T21:50:58.203Z"
   },
   {
    "duration": 21,
    "start_time": "2024-10-26T21:50:58.784Z"
   },
   {
    "duration": 118,
    "start_time": "2024-10-26T21:50:58.807Z"
   },
   {
    "duration": 499,
    "start_time": "2024-10-26T21:50:58.927Z"
   },
   {
    "duration": 7,
    "start_time": "2024-10-26T21:50:59.427Z"
   },
   {
    "duration": 33,
    "start_time": "2024-10-26T21:50:59.436Z"
   },
   {
    "duration": 15,
    "start_time": "2024-10-26T21:50:59.471Z"
   },
   {
    "duration": 138,
    "start_time": "2024-10-26T21:50:59.487Z"
   },
   {
    "duration": 19,
    "start_time": "2024-10-26T21:50:59.627Z"
   },
   {
    "duration": 4649,
    "start_time": "2024-10-26T22:03:24.102Z"
   },
   {
    "duration": 974,
    "start_time": "2024-10-26T22:03:28.754Z"
   },
   {
    "duration": 205,
    "start_time": "2024-10-26T22:03:29.729Z"
   },
   {
    "duration": 155,
    "start_time": "2024-10-26T22:03:29.936Z"
   },
   {
    "duration": 3,
    "start_time": "2024-10-26T22:03:30.094Z"
   },
   {
    "duration": 535,
    "start_time": "2024-10-26T22:03:30.099Z"
   },
   {
    "duration": 1015,
    "start_time": "2024-10-26T22:03:30.636Z"
   },
   {
    "duration": 56,
    "start_time": "2024-10-26T22:03:31.653Z"
   },
   {
    "duration": 78,
    "start_time": "2024-10-26T22:03:31.721Z"
   },
   {
    "duration": 65,
    "start_time": "2024-10-26T22:03:31.800Z"
   },
   {
    "duration": 99,
    "start_time": "2024-10-26T22:03:31.867Z"
   },
   {
    "duration": 52,
    "start_time": "2024-10-26T22:03:31.968Z"
   },
   {
    "duration": 36,
    "start_time": "2024-10-26T22:03:32.022Z"
   },
   {
    "duration": 102,
    "start_time": "2024-10-26T22:03:32.061Z"
   },
   {
    "duration": 21,
    "start_time": "2024-10-26T22:03:32.165Z"
   },
   {
    "duration": 94,
    "start_time": "2024-10-26T22:03:32.188Z"
   },
   {
    "duration": 42,
    "start_time": "2024-10-26T22:03:32.284Z"
   },
   {
    "duration": 172,
    "start_time": "2024-10-26T22:03:32.328Z"
   },
   {
    "duration": 48,
    "start_time": "2024-10-26T22:03:32.501Z"
   },
   {
    "duration": 36,
    "start_time": "2024-10-26T22:03:32.550Z"
   },
   {
    "duration": 11,
    "start_time": "2024-10-26T22:03:32.588Z"
   },
   {
    "duration": 81,
    "start_time": "2024-10-26T22:03:32.600Z"
   },
   {
    "duration": 530,
    "start_time": "2024-10-26T22:03:32.683Z"
   },
   {
    "duration": 32,
    "start_time": "2024-10-26T22:03:33.220Z"
   },
   {
    "duration": 483,
    "start_time": "2024-10-26T22:03:33.253Z"
   },
   {
    "duration": 50,
    "start_time": "2024-10-26T22:03:33.737Z"
   },
   {
    "duration": 613,
    "start_time": "2024-10-26T22:03:33.788Z"
   },
   {
    "duration": 34,
    "start_time": "2024-10-26T22:03:34.403Z"
   },
   {
    "duration": 120,
    "start_time": "2024-10-26T22:03:34.439Z"
   },
   {
    "duration": 555,
    "start_time": "2024-10-26T22:03:34.560Z"
   },
   {
    "duration": 13,
    "start_time": "2024-10-26T22:03:35.117Z"
   },
   {
    "duration": 40,
    "start_time": "2024-10-26T22:03:35.132Z"
   },
   {
    "duration": 16,
    "start_time": "2024-10-26T22:03:35.173Z"
   },
   {
    "duration": 136,
    "start_time": "2024-10-26T22:03:35.190Z"
   },
   {
    "duration": 21,
    "start_time": "2024-10-26T22:03:35.328Z"
   },
   {
    "duration": 8209,
    "start_time": "2024-10-27T20:52:56.515Z"
   },
   {
    "duration": 2800,
    "start_time": "2024-10-27T20:53:04.726Z"
   },
   {
    "duration": 122,
    "start_time": "2024-10-27T20:53:07.528Z"
   },
   {
    "duration": 97,
    "start_time": "2024-10-27T20:53:07.652Z"
   },
   {
    "duration": 4,
    "start_time": "2024-10-27T20:53:07.750Z"
   },
   {
    "duration": 389,
    "start_time": "2024-10-27T20:53:07.755Z"
   },
   {
    "duration": 772,
    "start_time": "2024-10-27T20:53:08.145Z"
   },
   {
    "duration": 42,
    "start_time": "2024-10-27T20:53:08.918Z"
   },
   {
    "duration": 52,
    "start_time": "2024-10-27T20:53:08.961Z"
   },
   {
    "duration": 41,
    "start_time": "2024-10-27T20:53:09.015Z"
   },
   {
    "duration": 16,
    "start_time": "2024-10-27T20:53:09.058Z"
   },
   {
    "duration": 20,
    "start_time": "2024-10-27T20:53:09.076Z"
   },
   {
    "duration": 31,
    "start_time": "2024-10-27T20:53:09.097Z"
   },
   {
    "duration": 45,
    "start_time": "2024-10-27T20:53:09.129Z"
   },
   {
    "duration": 14,
    "start_time": "2024-10-27T20:53:09.175Z"
   },
   {
    "duration": 51,
    "start_time": "2024-10-27T20:53:09.190Z"
   },
   {
    "duration": 17,
    "start_time": "2024-10-27T20:53:09.243Z"
   },
   {
    "duration": 116,
    "start_time": "2024-10-27T20:53:09.261Z"
   },
   {
    "duration": 20,
    "start_time": "2024-10-27T20:53:09.379Z"
   },
   {
    "duration": 43,
    "start_time": "2024-10-27T20:53:09.400Z"
   },
   {
    "duration": 8,
    "start_time": "2024-10-27T20:53:09.445Z"
   },
   {
    "duration": 67,
    "start_time": "2024-10-27T20:53:09.454Z"
   },
   {
    "duration": 481,
    "start_time": "2024-10-27T20:53:09.523Z"
   },
   {
    "duration": 31,
    "start_time": "2024-10-27T20:53:10.011Z"
   },
   {
    "duration": 433,
    "start_time": "2024-10-27T20:53:10.043Z"
   },
   {
    "duration": 44,
    "start_time": "2024-10-27T20:53:10.477Z"
   },
   {
    "duration": 485,
    "start_time": "2024-10-27T20:53:10.522Z"
   },
   {
    "duration": 20,
    "start_time": "2024-10-27T20:53:11.011Z"
   },
   {
    "duration": 98,
    "start_time": "2024-10-27T20:53:11.032Z"
   },
   {
    "duration": 451,
    "start_time": "2024-10-27T20:53:11.131Z"
   },
   {
    "duration": 7,
    "start_time": "2024-10-27T20:53:11.583Z"
   },
   {
    "duration": 40,
    "start_time": "2024-10-27T20:53:11.591Z"
   },
   {
    "duration": 14,
    "start_time": "2024-10-27T20:53:11.632Z"
   },
   {
    "duration": 12,
    "start_time": "2024-10-27T20:53:11.647Z"
   },
   {
    "duration": 4,
    "start_time": "2024-10-27T20:53:11.660Z"
   },
   {
    "duration": 11,
    "start_time": "2024-10-27T20:53:11.665Z"
   },
   {
    "duration": 165,
    "start_time": "2024-10-27T20:53:11.677Z"
   },
   {
    "duration": 43,
    "start_time": "2024-10-27T20:53:11.844Z"
   },
   {
    "duration": 124,
    "start_time": "2024-10-27T20:53:11.888Z"
   },
   {
    "duration": 0,
    "start_time": "2024-10-27T20:53:12.013Z"
   },
   {
    "duration": 0,
    "start_time": "2024-10-27T20:53:12.014Z"
   },
   {
    "duration": 0,
    "start_time": "2024-10-27T20:53:12.015Z"
   },
   {
    "duration": 0,
    "start_time": "2024-10-27T20:53:12.016Z"
   },
   {
    "duration": 0,
    "start_time": "2024-10-27T20:53:12.017Z"
   },
   {
    "duration": 0,
    "start_time": "2024-10-27T20:53:12.018Z"
   },
   {
    "duration": 0,
    "start_time": "2024-10-27T20:53:12.019Z"
   },
   {
    "duration": 0,
    "start_time": "2024-10-27T20:53:12.020Z"
   },
   {
    "duration": 0,
    "start_time": "2024-10-27T20:53:12.021Z"
   },
   {
    "duration": 0,
    "start_time": "2024-10-27T20:53:12.022Z"
   },
   {
    "duration": 0,
    "start_time": "2024-10-27T20:53:12.023Z"
   },
   {
    "duration": 0,
    "start_time": "2024-10-27T20:53:12.024Z"
   },
   {
    "duration": 3093,
    "start_time": "2024-10-27T20:54:52.031Z"
   },
   {
    "duration": 701,
    "start_time": "2024-10-27T20:54:55.127Z"
   },
   {
    "duration": 124,
    "start_time": "2024-10-27T20:54:55.829Z"
   },
   {
    "duration": 106,
    "start_time": "2024-10-27T20:54:55.955Z"
   },
   {
    "duration": 4,
    "start_time": "2024-10-27T20:54:56.063Z"
   },
   {
    "duration": 361,
    "start_time": "2024-10-27T20:54:56.069Z"
   },
   {
    "duration": 738,
    "start_time": "2024-10-27T20:54:56.432Z"
   },
   {
    "duration": 44,
    "start_time": "2024-10-27T20:54:57.172Z"
   },
   {
    "duration": 49,
    "start_time": "2024-10-27T20:54:57.217Z"
   },
   {
    "duration": 39,
    "start_time": "2024-10-27T20:54:57.267Z"
   },
   {
    "duration": 15,
    "start_time": "2024-10-27T20:54:57.312Z"
   },
   {
    "duration": 21,
    "start_time": "2024-10-27T20:54:57.328Z"
   },
   {
    "duration": 15,
    "start_time": "2024-10-27T20:54:57.351Z"
   },
   {
    "duration": 56,
    "start_time": "2024-10-27T20:54:57.370Z"
   },
   {
    "duration": 17,
    "start_time": "2024-10-27T20:54:57.428Z"
   },
   {
    "duration": 44,
    "start_time": "2024-10-27T20:54:57.446Z"
   },
   {
    "duration": 36,
    "start_time": "2024-10-27T20:54:57.492Z"
   },
   {
    "duration": 106,
    "start_time": "2024-10-27T20:54:57.529Z"
   },
   {
    "duration": 23,
    "start_time": "2024-10-27T20:54:57.637Z"
   },
   {
    "duration": 31,
    "start_time": "2024-10-27T20:54:57.661Z"
   },
   {
    "duration": 9,
    "start_time": "2024-10-27T20:54:57.712Z"
   },
   {
    "duration": 55,
    "start_time": "2024-10-27T20:54:57.723Z"
   },
   {
    "duration": 514,
    "start_time": "2024-10-27T20:54:57.779Z"
   },
   {
    "duration": 30,
    "start_time": "2024-10-27T20:54:58.294Z"
   },
   {
    "duration": 413,
    "start_time": "2024-10-27T20:54:58.325Z"
   },
   {
    "duration": 37,
    "start_time": "2024-10-27T20:54:58.739Z"
   },
   {
    "duration": 467,
    "start_time": "2024-10-27T20:54:58.777Z"
   },
   {
    "duration": 29,
    "start_time": "2024-10-27T20:54:59.246Z"
   },
   {
    "duration": 105,
    "start_time": "2024-10-27T20:54:59.277Z"
   },
   {
    "duration": 458,
    "start_time": "2024-10-27T20:54:59.383Z"
   },
   {
    "duration": 8,
    "start_time": "2024-10-27T20:54:59.842Z"
   },
   {
    "duration": 28,
    "start_time": "2024-10-27T20:54:59.852Z"
   },
   {
    "duration": 36,
    "start_time": "2024-10-27T20:54:59.882Z"
   },
   {
    "duration": 2,
    "start_time": "2024-10-27T20:54:59.920Z"
   },
   {
    "duration": 53,
    "start_time": "2024-10-27T20:54:59.924Z"
   },
   {
    "duration": 4,
    "start_time": "2024-10-27T20:54:59.978Z"
   },
   {
    "duration": 160,
    "start_time": "2024-10-27T20:54:59.984Z"
   },
   {
    "duration": 32,
    "start_time": "2024-10-27T20:55:00.145Z"
   },
   {
    "duration": 13,
    "start_time": "2024-10-27T20:55:00.178Z"
   },
   {
    "duration": 22,
    "start_time": "2024-10-27T20:55:00.192Z"
   },
   {
    "duration": 7399,
    "start_time": "2024-10-27T20:55:00.218Z"
   },
   {
    "duration": 0,
    "start_time": "2024-10-27T20:55:07.619Z"
   },
   {
    "duration": 0,
    "start_time": "2024-10-27T20:55:07.619Z"
   },
   {
    "duration": 0,
    "start_time": "2024-10-27T20:55:07.620Z"
   },
   {
    "duration": 0,
    "start_time": "2024-10-27T20:55:07.621Z"
   },
   {
    "duration": 0,
    "start_time": "2024-10-27T20:55:07.622Z"
   },
   {
    "duration": 0,
    "start_time": "2024-10-27T20:55:07.623Z"
   },
   {
    "duration": 0,
    "start_time": "2024-10-27T20:55:07.623Z"
   },
   {
    "duration": 0,
    "start_time": "2024-10-27T20:55:07.624Z"
   },
   {
    "duration": 0,
    "start_time": "2024-10-27T20:55:07.625Z"
   },
   {
    "duration": 0,
    "start_time": "2024-10-27T20:55:07.626Z"
   },
   {
    "duration": 4624,
    "start_time": "2024-10-27T20:55:26.991Z"
   },
   {
    "duration": 22600,
    "start_time": "2024-10-27T20:55:44.616Z"
   },
   {
    "duration": 4613,
    "start_time": "2024-10-27T21:01:08.709Z"
   },
   {
    "duration": 6807,
    "start_time": "2024-10-27T21:01:56.608Z"
   },
   {
    "duration": 4847,
    "start_time": "2024-10-27T21:03:02.469Z"
   },
   {
    "duration": 3179,
    "start_time": "2024-10-27T21:04:35.962Z"
   },
   {
    "duration": 673,
    "start_time": "2024-10-27T21:04:39.143Z"
   },
   {
    "duration": 120,
    "start_time": "2024-10-27T21:04:39.817Z"
   },
   {
    "duration": 100,
    "start_time": "2024-10-27T21:04:39.939Z"
   },
   {
    "duration": 4,
    "start_time": "2024-10-27T21:04:40.040Z"
   },
   {
    "duration": 336,
    "start_time": "2024-10-27T21:04:40.045Z"
   },
   {
    "duration": 673,
    "start_time": "2024-10-27T21:04:40.382Z"
   },
   {
    "duration": 41,
    "start_time": "2024-10-27T21:04:41.057Z"
   },
   {
    "duration": 65,
    "start_time": "2024-10-27T21:04:41.099Z"
   },
   {
    "duration": 49,
    "start_time": "2024-10-27T21:04:41.168Z"
   },
   {
    "duration": 14,
    "start_time": "2024-10-27T21:04:41.218Z"
   },
   {
    "duration": 21,
    "start_time": "2024-10-27T21:04:41.233Z"
   },
   {
    "duration": 14,
    "start_time": "2024-10-27T21:04:41.255Z"
   },
   {
    "duration": 60,
    "start_time": "2024-10-27T21:04:41.270Z"
   },
   {
    "duration": 16,
    "start_time": "2024-10-27T21:04:41.331Z"
   },
   {
    "duration": 52,
    "start_time": "2024-10-27T21:04:41.348Z"
   },
   {
    "duration": 23,
    "start_time": "2024-10-27T21:04:41.401Z"
   },
   {
    "duration": 102,
    "start_time": "2024-10-27T21:04:41.425Z"
   },
   {
    "duration": 25,
    "start_time": "2024-10-27T21:04:41.529Z"
   },
   {
    "duration": 31,
    "start_time": "2024-10-27T21:04:41.556Z"
   },
   {
    "duration": 30,
    "start_time": "2024-10-27T21:04:41.589Z"
   },
   {
    "duration": 58,
    "start_time": "2024-10-27T21:04:41.621Z"
   },
   {
    "duration": 530,
    "start_time": "2024-10-27T21:04:41.680Z"
   },
   {
    "duration": 25,
    "start_time": "2024-10-27T21:04:42.211Z"
   },
   {
    "duration": 408,
    "start_time": "2024-10-27T21:04:42.237Z"
   },
   {
    "duration": 34,
    "start_time": "2024-10-27T21:04:42.646Z"
   },
   {
    "duration": 480,
    "start_time": "2024-10-27T21:04:42.682Z"
   },
   {
    "duration": 20,
    "start_time": "2024-10-27T21:04:43.166Z"
   },
   {
    "duration": 106,
    "start_time": "2024-10-27T21:04:43.187Z"
   },
   {
    "duration": 462,
    "start_time": "2024-10-27T21:04:43.294Z"
   },
   {
    "duration": 7,
    "start_time": "2024-10-27T21:04:43.758Z"
   },
   {
    "duration": 28,
    "start_time": "2024-10-27T21:04:43.766Z"
   },
   {
    "duration": 36,
    "start_time": "2024-10-27T21:04:43.795Z"
   },
   {
    "duration": 2,
    "start_time": "2024-10-27T21:04:43.832Z"
   },
   {
    "duration": 4,
    "start_time": "2024-10-27T21:04:43.835Z"
   },
   {
    "duration": 7,
    "start_time": "2024-10-27T21:04:43.840Z"
   },
   {
    "duration": 160,
    "start_time": "2024-10-27T21:04:43.848Z"
   },
   {
    "duration": 28,
    "start_time": "2024-10-27T21:04:44.012Z"
   },
   {
    "duration": 3,
    "start_time": "2024-10-27T21:04:44.041Z"
   },
   {
    "duration": 7,
    "start_time": "2024-10-27T21:04:44.046Z"
   },
   {
    "duration": 4778,
    "start_time": "2024-10-27T21:04:44.054Z"
   },
   {
    "duration": 0,
    "start_time": "2024-10-27T21:04:48.912Z"
   },
   {
    "duration": 0,
    "start_time": "2024-10-27T21:04:48.914Z"
   },
   {
    "duration": 0,
    "start_time": "2024-10-27T21:04:48.915Z"
   },
   {
    "duration": 0,
    "start_time": "2024-10-27T21:04:48.917Z"
   },
   {
    "duration": 0,
    "start_time": "2024-10-27T21:04:48.918Z"
   },
   {
    "duration": 0,
    "start_time": "2024-10-27T21:04:48.919Z"
   },
   {
    "duration": 0,
    "start_time": "2024-10-27T21:04:48.921Z"
   },
   {
    "duration": 0,
    "start_time": "2024-10-27T21:04:48.922Z"
   },
   {
    "duration": 0,
    "start_time": "2024-10-27T21:04:48.923Z"
   },
   {
    "duration": 0,
    "start_time": "2024-10-27T21:04:48.924Z"
   },
   {
    "duration": 4419,
    "start_time": "2024-10-27T21:05:11.640Z"
   },
   {
    "duration": 710,
    "start_time": "2024-10-27T21:05:16.060Z"
   },
   {
    "duration": 137,
    "start_time": "2024-10-27T21:05:16.771Z"
   },
   {
    "duration": 116,
    "start_time": "2024-10-27T21:05:16.913Z"
   },
   {
    "duration": 5,
    "start_time": "2024-10-27T21:05:17.030Z"
   },
   {
    "duration": 405,
    "start_time": "2024-10-27T21:05:17.037Z"
   },
   {
    "duration": 790,
    "start_time": "2024-10-27T21:05:17.443Z"
   },
   {
    "duration": 44,
    "start_time": "2024-10-27T21:05:18.235Z"
   },
   {
    "duration": 53,
    "start_time": "2024-10-27T21:05:18.280Z"
   },
   {
    "duration": 40,
    "start_time": "2024-10-27T21:05:18.336Z"
   },
   {
    "duration": 16,
    "start_time": "2024-10-27T21:05:18.378Z"
   },
   {
    "duration": 33,
    "start_time": "2024-10-27T21:05:18.396Z"
   },
   {
    "duration": 30,
    "start_time": "2024-10-27T21:05:18.431Z"
   },
   {
    "duration": 53,
    "start_time": "2024-10-27T21:05:18.463Z"
   },
   {
    "duration": 15,
    "start_time": "2024-10-27T21:05:18.517Z"
   },
   {
    "duration": 44,
    "start_time": "2024-10-27T21:05:18.533Z"
   },
   {
    "duration": 17,
    "start_time": "2024-10-27T21:05:18.578Z"
   },
   {
    "duration": 102,
    "start_time": "2024-10-27T21:05:18.611Z"
   },
   {
    "duration": 22,
    "start_time": "2024-10-27T21:05:18.715Z"
   },
   {
    "duration": 34,
    "start_time": "2024-10-27T21:05:18.738Z"
   },
   {
    "duration": 9,
    "start_time": "2024-10-27T21:05:18.773Z"
   },
   {
    "duration": 81,
    "start_time": "2024-10-27T21:05:18.783Z"
   },
   {
    "duration": 488,
    "start_time": "2024-10-27T21:05:18.866Z"
   },
   {
    "duration": 32,
    "start_time": "2024-10-27T21:05:19.355Z"
   },
   {
    "duration": 442,
    "start_time": "2024-10-27T21:05:19.389Z"
   },
   {
    "duration": 44,
    "start_time": "2024-10-27T21:05:19.833Z"
   },
   {
    "duration": 492,
    "start_time": "2024-10-27T21:05:19.878Z"
   },
   {
    "duration": 20,
    "start_time": "2024-10-27T21:05:20.373Z"
   },
   {
    "duration": 97,
    "start_time": "2024-10-27T21:05:20.395Z"
   },
   {
    "duration": 474,
    "start_time": "2024-10-27T21:05:20.493Z"
   },
   {
    "duration": 6,
    "start_time": "2024-10-27T21:05:20.968Z"
   },
   {
    "duration": 40,
    "start_time": "2024-10-27T21:05:20.976Z"
   },
   {
    "duration": 17,
    "start_time": "2024-10-27T21:05:21.018Z"
   },
   {
    "duration": 3,
    "start_time": "2024-10-27T21:05:21.037Z"
   },
   {
    "duration": 3,
    "start_time": "2024-10-27T21:05:21.042Z"
   },
   {
    "duration": 10,
    "start_time": "2024-10-27T21:05:21.046Z"
   },
   {
    "duration": 173,
    "start_time": "2024-10-27T21:05:21.057Z"
   },
   {
    "duration": 32,
    "start_time": "2024-10-27T21:05:21.238Z"
   },
   {
    "duration": 3,
    "start_time": "2024-10-27T21:05:21.272Z"
   },
   {
    "duration": 13,
    "start_time": "2024-10-27T21:05:21.276Z"
   },
   {
    "duration": 5523,
    "start_time": "2024-10-27T21:05:21.290Z"
   },
   {
    "duration": 179,
    "start_time": "2024-10-27T21:05:26.815Z"
   },
   {
    "duration": 0,
    "start_time": "2024-10-27T21:05:26.997Z"
   },
   {
    "duration": 0,
    "start_time": "2024-10-27T21:05:26.997Z"
   },
   {
    "duration": 0,
    "start_time": "2024-10-27T21:05:26.999Z"
   },
   {
    "duration": 0,
    "start_time": "2024-10-27T21:05:27.000Z"
   },
   {
    "duration": 0,
    "start_time": "2024-10-27T21:05:27.011Z"
   },
   {
    "duration": 0,
    "start_time": "2024-10-27T21:05:27.013Z"
   },
   {
    "duration": 0,
    "start_time": "2024-10-27T21:05:27.014Z"
   },
   {
    "duration": 0,
    "start_time": "2024-10-27T21:05:27.016Z"
   },
   {
    "duration": 0,
    "start_time": "2024-10-27T21:05:27.017Z"
   },
   {
    "duration": 8,
    "start_time": "2024-10-27T21:07:03.557Z"
   },
   {
    "duration": 4503,
    "start_time": "2024-10-27T21:07:37.511Z"
   },
   {
    "duration": 4794,
    "start_time": "2024-10-27T21:08:30.322Z"
   },
   {
    "duration": 4380,
    "start_time": "2024-10-27T21:21:16.643Z"
   },
   {
    "duration": 728,
    "start_time": "2024-10-27T21:21:21.025Z"
   },
   {
    "duration": 121,
    "start_time": "2024-10-27T21:21:21.754Z"
   },
   {
    "duration": 103,
    "start_time": "2024-10-27T21:21:21.877Z"
   },
   {
    "duration": 4,
    "start_time": "2024-10-27T21:21:21.981Z"
   },
   {
    "duration": 381,
    "start_time": "2024-10-27T21:21:21.986Z"
   },
   {
    "duration": 767,
    "start_time": "2024-10-27T21:21:22.368Z"
   },
   {
    "duration": 52,
    "start_time": "2024-10-27T21:21:23.137Z"
   },
   {
    "duration": 50,
    "start_time": "2024-10-27T21:21:23.190Z"
   },
   {
    "duration": 39,
    "start_time": "2024-10-27T21:21:23.243Z"
   },
   {
    "duration": 31,
    "start_time": "2024-10-27T21:21:23.284Z"
   },
   {
    "duration": 18,
    "start_time": "2024-10-27T21:21:23.316Z"
   },
   {
    "duration": 15,
    "start_time": "2024-10-27T21:21:23.335Z"
   },
   {
    "duration": 49,
    "start_time": "2024-10-27T21:21:23.351Z"
   },
   {
    "duration": 24,
    "start_time": "2024-10-27T21:21:23.401Z"
   },
   {
    "duration": 43,
    "start_time": "2024-10-27T21:21:23.426Z"
   },
   {
    "duration": 16,
    "start_time": "2024-10-27T21:21:23.471Z"
   },
   {
    "duration": 113,
    "start_time": "2024-10-27T21:21:23.489Z"
   },
   {
    "duration": 24,
    "start_time": "2024-10-27T21:21:23.603Z"
   },
   {
    "duration": 33,
    "start_time": "2024-10-27T21:21:23.629Z"
   },
   {
    "duration": 9,
    "start_time": "2024-10-27T21:21:23.663Z"
   },
   {
    "duration": 83,
    "start_time": "2024-10-27T21:21:23.673Z"
   },
   {
    "duration": 550,
    "start_time": "2024-10-27T21:21:23.758Z"
   },
   {
    "duration": 33,
    "start_time": "2024-10-27T21:21:24.311Z"
   },
   {
    "duration": 393,
    "start_time": "2024-10-27T21:21:24.345Z"
   },
   {
    "duration": 43,
    "start_time": "2024-10-27T21:21:24.740Z"
   },
   {
    "duration": 489,
    "start_time": "2024-10-27T21:21:24.784Z"
   },
   {
    "duration": 21,
    "start_time": "2024-10-27T21:21:25.277Z"
   },
   {
    "duration": 113,
    "start_time": "2024-10-27T21:21:25.299Z"
   },
   {
    "duration": 550,
    "start_time": "2024-10-27T21:21:25.413Z"
   },
   {
    "duration": 7,
    "start_time": "2024-10-27T21:21:25.965Z"
   },
   {
    "duration": 45,
    "start_time": "2024-10-27T21:21:25.973Z"
   },
   {
    "duration": 18,
    "start_time": "2024-10-27T21:21:26.020Z"
   },
   {
    "duration": 3,
    "start_time": "2024-10-27T21:21:26.039Z"
   },
   {
    "duration": 60,
    "start_time": "2024-10-27T21:21:26.044Z"
   },
   {
    "duration": 3,
    "start_time": "2024-10-27T21:21:26.106Z"
   },
   {
    "duration": 166,
    "start_time": "2024-10-27T21:21:26.110Z"
   },
   {
    "duration": 36,
    "start_time": "2024-10-27T21:21:26.278Z"
   },
   {
    "duration": 3,
    "start_time": "2024-10-27T21:21:26.315Z"
   },
   {
    "duration": 4555,
    "start_time": "2024-10-27T21:25:43.302Z"
   },
   {
    "duration": 736,
    "start_time": "2024-10-27T21:25:47.861Z"
   },
   {
    "duration": 129,
    "start_time": "2024-10-27T21:25:48.598Z"
   },
   {
    "duration": 117,
    "start_time": "2024-10-27T21:25:48.730Z"
   },
   {
    "duration": 4,
    "start_time": "2024-10-27T21:25:48.849Z"
   },
   {
    "duration": 424,
    "start_time": "2024-10-27T21:25:48.855Z"
   },
   {
    "duration": 823,
    "start_time": "2024-10-27T21:25:49.280Z"
   },
   {
    "duration": 53,
    "start_time": "2024-10-27T21:25:50.104Z"
   },
   {
    "duration": 54,
    "start_time": "2024-10-27T21:25:50.158Z"
   },
   {
    "duration": 49,
    "start_time": "2024-10-27T21:25:50.215Z"
   },
   {
    "duration": 15,
    "start_time": "2024-10-27T21:25:50.265Z"
   },
   {
    "duration": 40,
    "start_time": "2024-10-27T21:25:50.281Z"
   },
   {
    "duration": 22,
    "start_time": "2024-10-27T21:25:50.323Z"
   },
   {
    "duration": 63,
    "start_time": "2024-10-27T21:25:50.347Z"
   },
   {
    "duration": 23,
    "start_time": "2024-10-27T21:25:50.411Z"
   },
   {
    "duration": 46,
    "start_time": "2024-10-27T21:25:50.436Z"
   },
   {
    "duration": 94,
    "start_time": "2024-10-27T21:25:50.484Z"
   },
   {
    "duration": 109,
    "start_time": "2024-10-27T21:25:50.579Z"
   },
   {
    "duration": 22,
    "start_time": "2024-10-27T21:25:50.690Z"
   },
   {
    "duration": 33,
    "start_time": "2024-10-27T21:25:50.714Z"
   },
   {
    "duration": 9,
    "start_time": "2024-10-27T21:25:50.749Z"
   },
   {
    "duration": 71,
    "start_time": "2024-10-27T21:25:50.760Z"
   },
   {
    "duration": 483,
    "start_time": "2024-10-27T21:25:50.833Z"
   },
   {
    "duration": 27,
    "start_time": "2024-10-27T21:25:51.317Z"
   },
   {
    "duration": 415,
    "start_time": "2024-10-27T21:25:51.346Z"
   },
   {
    "duration": 49,
    "start_time": "2024-10-27T21:25:51.763Z"
   },
   {
    "duration": 511,
    "start_time": "2024-10-27T21:25:51.813Z"
   },
   {
    "duration": 21,
    "start_time": "2024-10-27T21:25:52.330Z"
   },
   {
    "duration": 115,
    "start_time": "2024-10-27T21:25:52.352Z"
   },
   {
    "duration": 487,
    "start_time": "2024-10-27T21:25:52.468Z"
   },
   {
    "duration": 6,
    "start_time": "2024-10-27T21:25:52.956Z"
   },
   {
    "duration": 39,
    "start_time": "2024-10-27T21:25:52.963Z"
   },
   {
    "duration": 23,
    "start_time": "2024-10-27T21:25:53.003Z"
   },
   {
    "duration": 3,
    "start_time": "2024-10-27T21:25:53.028Z"
   },
   {
    "duration": 4,
    "start_time": "2024-10-27T21:25:53.032Z"
   },
   {
    "duration": 20,
    "start_time": "2024-10-27T21:25:53.038Z"
   },
   {
    "duration": 175,
    "start_time": "2024-10-27T21:25:53.060Z"
   },
   {
    "duration": 27,
    "start_time": "2024-10-27T21:25:53.236Z"
   },
   {
    "duration": 3,
    "start_time": "2024-10-27T21:25:53.264Z"
   },
   {
    "duration": 126,
    "start_time": "2024-10-27T21:25:53.268Z"
   },
   {
    "duration": 0,
    "start_time": "2024-10-27T21:25:53.395Z"
   },
   {
    "duration": 0,
    "start_time": "2024-10-27T21:25:53.396Z"
   },
   {
    "duration": 0,
    "start_time": "2024-10-27T21:25:53.397Z"
   },
   {
    "duration": 0,
    "start_time": "2024-10-27T21:25:53.398Z"
   },
   {
    "duration": 0,
    "start_time": "2024-10-27T21:25:53.399Z"
   },
   {
    "duration": 0,
    "start_time": "2024-10-27T21:25:53.400Z"
   },
   {
    "duration": 0,
    "start_time": "2024-10-27T21:25:53.411Z"
   },
   {
    "duration": 0,
    "start_time": "2024-10-27T21:25:53.412Z"
   },
   {
    "duration": 0,
    "start_time": "2024-10-27T21:25:53.413Z"
   },
   {
    "duration": 0,
    "start_time": "2024-10-27T21:25:53.414Z"
   },
   {
    "duration": 0,
    "start_time": "2024-10-27T21:25:53.415Z"
   },
   {
    "duration": 0,
    "start_time": "2024-10-27T21:25:53.416Z"
   },
   {
    "duration": 0,
    "start_time": "2024-10-27T21:25:53.417Z"
   },
   {
    "duration": 18,
    "start_time": "2024-10-27T21:28:43.913Z"
   },
   {
    "duration": 4316,
    "start_time": "2024-10-27T21:29:52.042Z"
   },
   {
    "duration": 772,
    "start_time": "2024-10-27T21:29:56.360Z"
   },
   {
    "duration": 163,
    "start_time": "2024-10-27T21:29:57.134Z"
   },
   {
    "duration": 121,
    "start_time": "2024-10-27T21:29:57.299Z"
   },
   {
    "duration": 5,
    "start_time": "2024-10-27T21:29:57.421Z"
   },
   {
    "duration": 376,
    "start_time": "2024-10-27T21:29:57.427Z"
   },
   {
    "duration": 761,
    "start_time": "2024-10-27T21:29:57.805Z"
   },
   {
    "duration": 50,
    "start_time": "2024-10-27T21:29:58.567Z"
   },
   {
    "duration": 41,
    "start_time": "2024-10-27T21:29:58.618Z"
   },
   {
    "duration": 51,
    "start_time": "2024-10-27T21:29:58.661Z"
   },
   {
    "duration": 18,
    "start_time": "2024-10-27T21:29:58.713Z"
   },
   {
    "duration": 20,
    "start_time": "2024-10-27T21:29:58.732Z"
   },
   {
    "duration": 17,
    "start_time": "2024-10-27T21:29:58.754Z"
   },
   {
    "duration": 57,
    "start_time": "2024-10-27T21:29:58.772Z"
   },
   {
    "duration": 15,
    "start_time": "2024-10-27T21:29:58.831Z"
   },
   {
    "duration": 44,
    "start_time": "2024-10-27T21:29:58.848Z"
   },
   {
    "duration": 32,
    "start_time": "2024-10-27T21:29:58.893Z"
   },
   {
    "duration": 107,
    "start_time": "2024-10-27T21:29:58.926Z"
   },
   {
    "duration": 22,
    "start_time": "2024-10-27T21:29:59.034Z"
   },
   {
    "duration": 34,
    "start_time": "2024-10-27T21:29:59.058Z"
   },
   {
    "duration": 26,
    "start_time": "2024-10-27T21:29:59.094Z"
   },
   {
    "duration": 59,
    "start_time": "2024-10-27T21:29:59.121Z"
   },
   {
    "duration": 490,
    "start_time": "2024-10-27T21:29:59.182Z"
   },
   {
    "duration": 42,
    "start_time": "2024-10-27T21:29:59.674Z"
   },
   {
    "duration": 421,
    "start_time": "2024-10-27T21:29:59.717Z"
   },
   {
    "duration": 41,
    "start_time": "2024-10-27T21:30:00.139Z"
   },
   {
    "duration": 488,
    "start_time": "2024-10-27T21:30:00.182Z"
   },
   {
    "duration": 20,
    "start_time": "2024-10-27T21:30:00.673Z"
   },
   {
    "duration": 102,
    "start_time": "2024-10-27T21:30:00.695Z"
   },
   {
    "duration": 473,
    "start_time": "2024-10-27T21:30:00.798Z"
   },
   {
    "duration": 6,
    "start_time": "2024-10-27T21:30:01.273Z"
   },
   {
    "duration": 48,
    "start_time": "2024-10-27T21:30:01.280Z"
   },
   {
    "duration": 20,
    "start_time": "2024-10-27T21:30:01.330Z"
   },
   {
    "duration": 3,
    "start_time": "2024-10-27T21:30:01.352Z"
   },
   {
    "duration": 9,
    "start_time": "2024-10-27T21:30:01.356Z"
   },
   {
    "duration": 44,
    "start_time": "2024-10-27T21:30:01.366Z"
   },
   {
    "duration": 182,
    "start_time": "2024-10-27T21:30:01.411Z"
   },
   {
    "duration": 36,
    "start_time": "2024-10-27T21:30:01.594Z"
   },
   {
    "duration": 3,
    "start_time": "2024-10-27T21:30:01.631Z"
   },
   {
    "duration": 4188,
    "start_time": "2024-10-27T21:46:09.105Z"
   },
   {
    "duration": 710,
    "start_time": "2024-10-27T21:46:13.295Z"
   },
   {
    "duration": 126,
    "start_time": "2024-10-27T21:46:14.007Z"
   },
   {
    "duration": 107,
    "start_time": "2024-10-27T21:46:14.134Z"
   },
   {
    "duration": 4,
    "start_time": "2024-10-27T21:46:14.243Z"
   },
   {
    "duration": 381,
    "start_time": "2024-10-27T21:46:14.248Z"
   },
   {
    "duration": 799,
    "start_time": "2024-10-27T21:46:14.630Z"
   },
   {
    "duration": 40,
    "start_time": "2024-10-27T21:46:15.431Z"
   },
   {
    "duration": 47,
    "start_time": "2024-10-27T21:46:15.472Z"
   },
   {
    "duration": 39,
    "start_time": "2024-10-27T21:46:15.520Z"
   },
   {
    "duration": 25,
    "start_time": "2024-10-27T21:46:15.560Z"
   },
   {
    "duration": 21,
    "start_time": "2024-10-27T21:46:15.586Z"
   },
   {
    "duration": 42,
    "start_time": "2024-10-27T21:46:15.608Z"
   },
   {
    "duration": 41,
    "start_time": "2024-10-27T21:46:15.652Z"
   },
   {
    "duration": 15,
    "start_time": "2024-10-27T21:46:15.694Z"
   },
   {
    "duration": 45,
    "start_time": "2024-10-27T21:46:15.711Z"
   },
   {
    "duration": 31,
    "start_time": "2024-10-27T21:46:15.757Z"
   },
   {
    "duration": 100,
    "start_time": "2024-10-27T21:46:15.789Z"
   },
   {
    "duration": 29,
    "start_time": "2024-10-27T21:46:15.890Z"
   },
   {
    "duration": 40,
    "start_time": "2024-10-27T21:46:15.920Z"
   },
   {
    "duration": 12,
    "start_time": "2024-10-27T21:46:15.962Z"
   },
   {
    "duration": 69,
    "start_time": "2024-10-27T21:46:15.976Z"
   },
   {
    "duration": 442,
    "start_time": "2024-10-27T21:46:16.046Z"
   },
   {
    "duration": 37,
    "start_time": "2024-10-27T21:46:16.489Z"
   },
   {
    "duration": 405,
    "start_time": "2024-10-27T21:46:16.527Z"
   },
   {
    "duration": 41,
    "start_time": "2024-10-27T21:46:16.934Z"
   },
   {
    "duration": 527,
    "start_time": "2024-10-27T21:46:16.977Z"
   },
   {
    "duration": 20,
    "start_time": "2024-10-27T21:46:17.512Z"
   },
   {
    "duration": 90,
    "start_time": "2024-10-27T21:46:17.534Z"
   },
   {
    "duration": 443,
    "start_time": "2024-10-27T21:46:17.626Z"
   },
   {
    "duration": 6,
    "start_time": "2024-10-27T21:46:18.071Z"
   },
   {
    "duration": 41,
    "start_time": "2024-10-27T21:46:18.078Z"
   },
   {
    "duration": 13,
    "start_time": "2024-10-27T21:46:18.120Z"
   },
   {
    "duration": 2,
    "start_time": "2024-10-27T21:46:18.134Z"
   },
   {
    "duration": 5,
    "start_time": "2024-10-27T21:46:18.137Z"
   },
   {
    "duration": 7,
    "start_time": "2024-10-27T21:46:18.143Z"
   },
   {
    "duration": 176,
    "start_time": "2024-10-27T21:46:18.151Z"
   },
   {
    "duration": 28,
    "start_time": "2024-10-27T21:46:18.328Z"
   },
   {
    "duration": 3,
    "start_time": "2024-10-27T21:46:18.357Z"
   },
   {
    "duration": 30,
    "start_time": "2024-10-27T21:46:18.362Z"
   },
   {
    "duration": 6776,
    "start_time": "2024-10-27T21:46:18.396Z"
   },
   {
    "duration": 0,
    "start_time": "2024-10-27T21:46:25.173Z"
   },
   {
    "duration": 0,
    "start_time": "2024-10-27T21:46:25.174Z"
   },
   {
    "duration": 0,
    "start_time": "2024-10-27T21:46:25.175Z"
   },
   {
    "duration": 0,
    "start_time": "2024-10-27T21:46:25.176Z"
   },
   {
    "duration": 0,
    "start_time": "2024-10-27T21:46:25.177Z"
   },
   {
    "duration": 0,
    "start_time": "2024-10-27T21:46:25.178Z"
   },
   {
    "duration": 0,
    "start_time": "2024-10-27T21:46:25.179Z"
   },
   {
    "duration": 0,
    "start_time": "2024-10-27T21:46:25.180Z"
   },
   {
    "duration": 0,
    "start_time": "2024-10-27T21:46:25.182Z"
   },
   {
    "duration": 0,
    "start_time": "2024-10-27T21:46:25.182Z"
   },
   {
    "duration": 4706,
    "start_time": "2024-10-27T21:47:43.107Z"
   },
   {
    "duration": 3,
    "start_time": "2024-10-27T21:52:38.472Z"
   },
   {
    "duration": 8,
    "start_time": "2024-10-27T21:52:40.658Z"
   },
   {
    "duration": 4237,
    "start_time": "2024-10-27T21:59:40.175Z"
   },
   {
    "duration": 702,
    "start_time": "2024-10-27T21:59:44.414Z"
   },
   {
    "duration": 137,
    "start_time": "2024-10-27T21:59:45.117Z"
   },
   {
    "duration": 97,
    "start_time": "2024-10-27T21:59:45.255Z"
   },
   {
    "duration": 3,
    "start_time": "2024-10-27T21:59:45.354Z"
   },
   {
    "duration": 384,
    "start_time": "2024-10-27T21:59:45.358Z"
   },
   {
    "duration": 755,
    "start_time": "2024-10-27T21:59:45.744Z"
   },
   {
    "duration": 47,
    "start_time": "2024-10-27T21:59:46.500Z"
   },
   {
    "duration": 38,
    "start_time": "2024-10-27T21:59:46.548Z"
   },
   {
    "duration": 61,
    "start_time": "2024-10-27T21:59:46.588Z"
   },
   {
    "duration": 39,
    "start_time": "2024-10-27T21:59:46.650Z"
   },
   {
    "duration": 27,
    "start_time": "2024-10-27T21:59:46.690Z"
   },
   {
    "duration": 14,
    "start_time": "2024-10-27T21:59:46.718Z"
   },
   {
    "duration": 50,
    "start_time": "2024-10-27T21:59:46.733Z"
   },
   {
    "duration": 14,
    "start_time": "2024-10-27T21:59:46.785Z"
   },
   {
    "duration": 61,
    "start_time": "2024-10-27T21:59:46.800Z"
   },
   {
    "duration": 16,
    "start_time": "2024-10-27T21:59:46.863Z"
   },
   {
    "duration": 93,
    "start_time": "2024-10-27T21:59:46.881Z"
   },
   {
    "duration": 25,
    "start_time": "2024-10-27T21:59:46.976Z"
   },
   {
    "duration": 41,
    "start_time": "2024-10-27T21:59:47.003Z"
   },
   {
    "duration": 12,
    "start_time": "2024-10-27T21:59:47.046Z"
   },
   {
    "duration": 80,
    "start_time": "2024-10-27T21:59:47.059Z"
   },
   {
    "duration": 443,
    "start_time": "2024-10-27T21:59:47.141Z"
   },
   {
    "duration": 33,
    "start_time": "2024-10-27T21:59:47.585Z"
   },
   {
    "duration": 415,
    "start_time": "2024-10-27T21:59:47.619Z"
   },
   {
    "duration": 46,
    "start_time": "2024-10-27T21:59:48.035Z"
   },
   {
    "duration": 481,
    "start_time": "2024-10-27T21:59:48.082Z"
   },
   {
    "duration": 20,
    "start_time": "2024-10-27T21:59:48.566Z"
   },
   {
    "duration": 95,
    "start_time": "2024-10-27T21:59:48.587Z"
   },
   {
    "duration": 466,
    "start_time": "2024-10-27T21:59:48.684Z"
   },
   {
    "duration": 7,
    "start_time": "2024-10-27T21:59:49.151Z"
   },
   {
    "duration": 29,
    "start_time": "2024-10-27T21:59:49.159Z"
   },
   {
    "duration": 33,
    "start_time": "2024-10-27T21:59:49.189Z"
   },
   {
    "duration": 2,
    "start_time": "2024-10-27T21:59:49.224Z"
   },
   {
    "duration": 4,
    "start_time": "2024-10-27T21:59:49.227Z"
   },
   {
    "duration": 6,
    "start_time": "2024-10-27T21:59:49.232Z"
   },
   {
    "duration": 168,
    "start_time": "2024-10-27T21:59:49.240Z"
   },
   {
    "duration": 28,
    "start_time": "2024-10-27T21:59:49.412Z"
   },
   {
    "duration": 2,
    "start_time": "2024-10-27T21:59:49.441Z"
   },
   {
    "duration": 6,
    "start_time": "2024-10-27T21:59:49.445Z"
   },
   {
    "duration": 4295,
    "start_time": "2024-10-27T22:03:47.014Z"
   },
   {
    "duration": 713,
    "start_time": "2024-10-27T22:03:51.311Z"
   },
   {
    "duration": 125,
    "start_time": "2024-10-27T22:03:52.026Z"
   },
   {
    "duration": 121,
    "start_time": "2024-10-27T22:03:52.153Z"
   },
   {
    "duration": 3,
    "start_time": "2024-10-27T22:03:52.275Z"
   },
   {
    "duration": 419,
    "start_time": "2024-10-27T22:03:52.279Z"
   },
   {
    "duration": 787,
    "start_time": "2024-10-27T22:03:52.700Z"
   },
   {
    "duration": 45,
    "start_time": "2024-10-27T22:03:53.488Z"
   },
   {
    "duration": 39,
    "start_time": "2024-10-27T22:03:53.535Z"
   },
   {
    "duration": 54,
    "start_time": "2024-10-27T22:03:53.577Z"
   },
   {
    "duration": 15,
    "start_time": "2024-10-27T22:03:53.632Z"
   },
   {
    "duration": 54,
    "start_time": "2024-10-27T22:03:53.648Z"
   },
   {
    "duration": 15,
    "start_time": "2024-10-27T22:03:53.703Z"
   },
   {
    "duration": 43,
    "start_time": "2024-10-27T22:03:53.719Z"
   },
   {
    "duration": 18,
    "start_time": "2024-10-27T22:03:53.763Z"
   },
   {
    "duration": 44,
    "start_time": "2024-10-27T22:03:53.782Z"
   },
   {
    "duration": 16,
    "start_time": "2024-10-27T22:03:53.827Z"
   },
   {
    "duration": 108,
    "start_time": "2024-10-27T22:03:53.844Z"
   },
   {
    "duration": 23,
    "start_time": "2024-10-27T22:03:53.954Z"
   },
   {
    "duration": 48,
    "start_time": "2024-10-27T22:03:53.978Z"
   },
   {
    "duration": 9,
    "start_time": "2024-10-27T22:03:54.028Z"
   },
   {
    "duration": 65,
    "start_time": "2024-10-27T22:03:54.038Z"
   },
   {
    "duration": 462,
    "start_time": "2024-10-27T22:03:54.104Z"
   },
   {
    "duration": 32,
    "start_time": "2024-10-27T22:03:54.568Z"
   },
   {
    "duration": 433,
    "start_time": "2024-10-27T22:03:54.602Z"
   },
   {
    "duration": 41,
    "start_time": "2024-10-27T22:03:55.037Z"
   },
   {
    "duration": 480,
    "start_time": "2024-10-27T22:03:55.079Z"
   },
   {
    "duration": 21,
    "start_time": "2024-10-27T22:03:55.562Z"
   },
   {
    "duration": 98,
    "start_time": "2024-10-27T22:03:55.584Z"
   },
   {
    "duration": 471,
    "start_time": "2024-10-27T22:03:55.684Z"
   },
   {
    "duration": 10,
    "start_time": "2024-10-27T22:03:56.157Z"
   },
   {
    "duration": 44,
    "start_time": "2024-10-27T22:03:56.168Z"
   },
   {
    "duration": 14,
    "start_time": "2024-10-27T22:03:56.214Z"
   },
   {
    "duration": 1,
    "start_time": "2024-10-27T22:03:56.230Z"
   },
   {
    "duration": 87,
    "start_time": "2024-10-27T22:03:56.233Z"
   },
   {
    "duration": 3,
    "start_time": "2024-10-27T22:03:56.321Z"
   },
   {
    "duration": 143,
    "start_time": "2024-10-27T22:03:56.325Z"
   },
   {
    "duration": 26,
    "start_time": "2024-10-27T22:03:56.470Z"
   },
   {
    "duration": 4,
    "start_time": "2024-10-27T22:03:56.497Z"
   },
   {
    "duration": 7,
    "start_time": "2024-10-27T22:03:56.503Z"
   },
   {
    "duration": 117,
    "start_time": "2024-10-27T22:03:56.512Z"
   },
   {
    "duration": 0,
    "start_time": "2024-10-27T22:03:56.631Z"
   },
   {
    "duration": 0,
    "start_time": "2024-10-27T22:03:56.632Z"
   },
   {
    "duration": 0,
    "start_time": "2024-10-27T22:03:56.633Z"
   },
   {
    "duration": 0,
    "start_time": "2024-10-27T22:03:56.633Z"
   },
   {
    "duration": 0,
    "start_time": "2024-10-27T22:03:56.634Z"
   },
   {
    "duration": 0,
    "start_time": "2024-10-27T22:03:56.635Z"
   },
   {
    "duration": 0,
    "start_time": "2024-10-27T22:03:56.636Z"
   },
   {
    "duration": 0,
    "start_time": "2024-10-27T22:03:56.637Z"
   },
   {
    "duration": 0,
    "start_time": "2024-10-27T22:03:56.637Z"
   },
   {
    "duration": 0,
    "start_time": "2024-10-27T22:03:56.638Z"
   },
   {
    "duration": 0,
    "start_time": "2024-10-27T22:03:56.639Z"
   },
   {
    "duration": 0,
    "start_time": "2024-10-27T22:03:56.640Z"
   },
   {
    "duration": 3,
    "start_time": "2024-10-27T22:04:17.295Z"
   },
   {
    "duration": 16,
    "start_time": "2024-10-27T22:04:19.220Z"
   },
   {
    "duration": 3,
    "start_time": "2024-10-27T22:04:37.472Z"
   },
   {
    "duration": 286167,
    "start_time": "2024-10-27T22:04:39.351Z"
   },
   {
    "duration": 2,
    "start_time": "2024-10-27T22:20:45.564Z"
   },
   {
    "duration": 8814,
    "start_time": "2024-10-27T22:21:12.499Z"
   },
   {
    "duration": 12,
    "start_time": "2024-10-27T22:25:25.483Z"
   },
   {
    "duration": 3,
    "start_time": "2024-10-27T22:25:33.334Z"
   },
   {
    "duration": 9,
    "start_time": "2024-10-27T22:25:37.139Z"
   },
   {
    "duration": 4287,
    "start_time": "2024-10-27T22:25:56.210Z"
   },
   {
    "duration": 717,
    "start_time": "2024-10-27T22:26:00.499Z"
   },
   {
    "duration": 152,
    "start_time": "2024-10-27T22:26:01.218Z"
   },
   {
    "duration": 104,
    "start_time": "2024-10-27T22:26:01.372Z"
   },
   {
    "duration": 3,
    "start_time": "2024-10-27T22:26:01.478Z"
   },
   {
    "duration": 374,
    "start_time": "2024-10-27T22:26:01.483Z"
   },
   {
    "duration": 788,
    "start_time": "2024-10-27T22:26:01.858Z"
   },
   {
    "duration": 42,
    "start_time": "2024-10-27T22:26:02.648Z"
   },
   {
    "duration": 116,
    "start_time": "2024-10-27T22:26:02.692Z"
   },
   {
    "duration": 41,
    "start_time": "2024-10-27T22:26:02.810Z"
   },
   {
    "duration": 24,
    "start_time": "2024-10-27T22:26:02.853Z"
   },
   {
    "duration": 34,
    "start_time": "2024-10-27T22:26:02.878Z"
   },
   {
    "duration": 14,
    "start_time": "2024-10-27T22:26:02.913Z"
   },
   {
    "duration": 55,
    "start_time": "2024-10-27T22:26:02.928Z"
   },
   {
    "duration": 15,
    "start_time": "2024-10-27T22:26:02.984Z"
   },
   {
    "duration": 45,
    "start_time": "2024-10-27T22:26:03.000Z"
   },
   {
    "duration": 16,
    "start_time": "2024-10-27T22:26:03.046Z"
   },
   {
    "duration": 113,
    "start_time": "2024-10-27T22:26:03.064Z"
   },
   {
    "duration": 21,
    "start_time": "2024-10-27T22:26:03.179Z"
   },
   {
    "duration": 41,
    "start_time": "2024-10-27T22:26:03.201Z"
   },
   {
    "duration": 9,
    "start_time": "2024-10-27T22:26:03.244Z"
   },
   {
    "duration": 69,
    "start_time": "2024-10-27T22:26:03.254Z"
   },
   {
    "duration": 441,
    "start_time": "2024-10-27T22:26:03.324Z"
   },
   {
    "duration": 33,
    "start_time": "2024-10-27T22:26:03.767Z"
   },
   {
    "duration": 441,
    "start_time": "2024-10-27T22:26:03.812Z"
   },
   {
    "duration": 44,
    "start_time": "2024-10-27T22:26:04.254Z"
   },
   {
    "duration": 485,
    "start_time": "2024-10-27T22:26:04.299Z"
   },
   {
    "duration": 30,
    "start_time": "2024-10-27T22:26:04.786Z"
   },
   {
    "duration": 86,
    "start_time": "2024-10-27T22:26:04.818Z"
   },
   {
    "duration": 477,
    "start_time": "2024-10-27T22:26:04.905Z"
   },
   {
    "duration": 6,
    "start_time": "2024-10-27T22:26:05.384Z"
   },
   {
    "duration": 39,
    "start_time": "2024-10-27T22:26:05.391Z"
   },
   {
    "duration": 13,
    "start_time": "2024-10-27T22:26:05.431Z"
   },
   {
    "duration": 2,
    "start_time": "2024-10-27T22:26:05.446Z"
   },
   {
    "duration": 20,
    "start_time": "2024-10-27T22:26:05.449Z"
   },
   {
    "duration": 7,
    "start_time": "2024-10-27T22:26:05.470Z"
   },
   {
    "duration": 152,
    "start_time": "2024-10-27T22:26:05.478Z"
   },
   {
    "duration": 29,
    "start_time": "2024-10-27T22:26:05.631Z"
   },
   {
    "duration": 2,
    "start_time": "2024-10-27T22:26:05.662Z"
   },
   {
    "duration": 24,
    "start_time": "2024-10-27T22:26:05.666Z"
   },
   {
    "duration": 4413,
    "start_time": "2024-10-27T22:38:43.045Z"
   },
   {
    "duration": 713,
    "start_time": "2024-10-27T22:38:47.460Z"
   },
   {
    "duration": 122,
    "start_time": "2024-10-27T22:38:48.174Z"
   },
   {
    "duration": 104,
    "start_time": "2024-10-27T22:38:48.298Z"
   },
   {
    "duration": 14,
    "start_time": "2024-10-27T22:38:48.403Z"
   },
   {
    "duration": 383,
    "start_time": "2024-10-27T22:38:48.419Z"
   },
   {
    "duration": 749,
    "start_time": "2024-10-27T22:38:48.804Z"
   },
   {
    "duration": 40,
    "start_time": "2024-10-27T22:38:49.555Z"
   },
   {
    "duration": 50,
    "start_time": "2024-10-27T22:38:49.597Z"
   },
   {
    "duration": 36,
    "start_time": "2024-10-27T22:38:49.650Z"
   },
   {
    "duration": 25,
    "start_time": "2024-10-27T22:38:49.687Z"
   },
   {
    "duration": 21,
    "start_time": "2024-10-27T22:38:49.713Z"
   },
   {
    "duration": 19,
    "start_time": "2024-10-27T22:38:49.735Z"
   },
   {
    "duration": 56,
    "start_time": "2024-10-27T22:38:49.756Z"
   },
   {
    "duration": 15,
    "start_time": "2024-10-27T22:38:49.814Z"
   },
   {
    "duration": 42,
    "start_time": "2024-10-27T22:38:49.831Z"
   },
   {
    "duration": 15,
    "start_time": "2024-10-27T22:38:49.874Z"
   },
   {
    "duration": 123,
    "start_time": "2024-10-27T22:38:49.890Z"
   },
   {
    "duration": 26,
    "start_time": "2024-10-27T22:38:50.015Z"
   },
   {
    "duration": 34,
    "start_time": "2024-10-27T22:38:50.043Z"
   },
   {
    "duration": 12,
    "start_time": "2024-10-27T22:38:50.078Z"
   },
   {
    "duration": 79,
    "start_time": "2024-10-27T22:38:50.092Z"
   },
   {
    "duration": 475,
    "start_time": "2024-10-27T22:38:50.173Z"
   },
   {
    "duration": 35,
    "start_time": "2024-10-27T22:38:50.649Z"
   },
   {
    "duration": 450,
    "start_time": "2024-10-27T22:38:50.685Z"
   },
   {
    "duration": 47,
    "start_time": "2024-10-27T22:38:51.137Z"
   },
   {
    "duration": 487,
    "start_time": "2024-10-27T22:38:51.185Z"
   },
   {
    "duration": 20,
    "start_time": "2024-10-27T22:38:51.675Z"
   },
   {
    "duration": 133,
    "start_time": "2024-10-27T22:38:51.697Z"
   },
   {
    "duration": 443,
    "start_time": "2024-10-27T22:38:51.831Z"
   },
   {
    "duration": 6,
    "start_time": "2024-10-27T22:38:52.276Z"
   },
   {
    "duration": 39,
    "start_time": "2024-10-27T22:38:52.283Z"
   },
   {
    "duration": 14,
    "start_time": "2024-10-27T22:38:52.324Z"
   },
   {
    "duration": 3,
    "start_time": "2024-10-27T22:38:52.339Z"
   },
   {
    "duration": 62,
    "start_time": "2024-10-27T22:38:52.343Z"
   },
   {
    "duration": 3,
    "start_time": "2024-10-27T22:38:52.407Z"
   },
   {
    "duration": 159,
    "start_time": "2024-10-27T22:38:52.411Z"
   },
   {
    "duration": 33,
    "start_time": "2024-10-27T22:38:52.571Z"
   },
   {
    "duration": 7,
    "start_time": "2024-10-27T22:38:52.612Z"
   },
   {
    "duration": 13,
    "start_time": "2024-10-27T22:38:52.621Z"
   },
   {
    "duration": 4182,
    "start_time": "2024-10-27T22:47:34.809Z"
   },
   {
    "duration": 726,
    "start_time": "2024-10-27T22:47:38.993Z"
   },
   {
    "duration": 124,
    "start_time": "2024-10-27T22:47:39.720Z"
   },
   {
    "duration": 99,
    "start_time": "2024-10-27T22:47:39.846Z"
   },
   {
    "duration": 3,
    "start_time": "2024-10-27T22:47:39.947Z"
   },
   {
    "duration": 371,
    "start_time": "2024-10-27T22:47:39.951Z"
   },
   {
    "duration": 752,
    "start_time": "2024-10-27T22:47:40.324Z"
   },
   {
    "duration": 48,
    "start_time": "2024-10-27T22:47:41.078Z"
   },
   {
    "duration": 40,
    "start_time": "2024-10-27T22:47:41.128Z"
   },
   {
    "duration": 53,
    "start_time": "2024-10-27T22:47:41.169Z"
   },
   {
    "duration": 14,
    "start_time": "2024-10-27T22:47:41.224Z"
   },
   {
    "duration": 19,
    "start_time": "2024-10-27T22:47:41.239Z"
   },
   {
    "duration": 38,
    "start_time": "2024-10-27T22:47:41.260Z"
   },
   {
    "duration": 43,
    "start_time": "2024-10-27T22:47:41.302Z"
   },
   {
    "duration": 15,
    "start_time": "2024-10-27T22:47:41.347Z"
   },
   {
    "duration": 49,
    "start_time": "2024-10-27T22:47:41.363Z"
   },
   {
    "duration": 16,
    "start_time": "2024-10-27T22:47:41.413Z"
   },
   {
    "duration": 107,
    "start_time": "2024-10-27T22:47:41.430Z"
   },
   {
    "duration": 21,
    "start_time": "2024-10-27T22:47:41.539Z"
   },
   {
    "duration": 33,
    "start_time": "2024-10-27T22:47:41.561Z"
   },
   {
    "duration": 23,
    "start_time": "2024-10-27T22:47:41.596Z"
   },
   {
    "duration": 72,
    "start_time": "2024-10-27T22:47:41.621Z"
   },
   {
    "duration": 467,
    "start_time": "2024-10-27T22:47:41.695Z"
   },
   {
    "duration": 33,
    "start_time": "2024-10-27T22:47:42.163Z"
   },
   {
    "duration": 430,
    "start_time": "2024-10-27T22:47:42.198Z"
   },
   {
    "duration": 44,
    "start_time": "2024-10-27T22:47:42.629Z"
   },
   {
    "duration": 503,
    "start_time": "2024-10-27T22:47:42.674Z"
   },
   {
    "duration": 33,
    "start_time": "2024-10-27T22:47:43.179Z"
   },
   {
    "duration": 106,
    "start_time": "2024-10-27T22:47:43.214Z"
   },
   {
    "duration": 436,
    "start_time": "2024-10-27T22:47:43.321Z"
   },
   {
    "duration": 6,
    "start_time": "2024-10-27T22:47:43.759Z"
   },
   {
    "duration": 27,
    "start_time": "2024-10-27T22:47:43.767Z"
   },
   {
    "duration": 28,
    "start_time": "2024-10-27T22:47:43.796Z"
   },
   {
    "duration": 2,
    "start_time": "2024-10-27T22:47:43.825Z"
   },
   {
    "duration": 7,
    "start_time": "2024-10-27T22:47:43.829Z"
   },
   {
    "duration": 3,
    "start_time": "2024-10-27T22:47:43.837Z"
   },
   {
    "duration": 166,
    "start_time": "2024-10-27T22:47:43.841Z"
   },
   {
    "duration": 29,
    "start_time": "2024-10-27T22:47:44.008Z"
   },
   {
    "duration": 2,
    "start_time": "2024-10-27T22:47:44.038Z"
   },
   {
    "duration": 8587,
    "start_time": "2024-10-28T07:51:11.247Z"
   },
   {
    "duration": 1249,
    "start_time": "2024-10-28T07:51:19.836Z"
   },
   {
    "duration": 172,
    "start_time": "2024-10-28T07:51:21.087Z"
   },
   {
    "duration": 157,
    "start_time": "2024-10-28T07:51:21.261Z"
   },
   {
    "duration": 4,
    "start_time": "2024-10-28T07:51:21.419Z"
   },
   {
    "duration": 536,
    "start_time": "2024-10-28T07:51:21.424Z"
   },
   {
    "duration": 1033,
    "start_time": "2024-10-28T07:51:21.961Z"
   },
   {
    "duration": 57,
    "start_time": "2024-10-28T07:51:22.998Z"
   },
   {
    "duration": 71,
    "start_time": "2024-10-28T07:51:23.057Z"
   },
   {
    "duration": 58,
    "start_time": "2024-10-28T07:51:23.130Z"
   },
   {
    "duration": 23,
    "start_time": "2024-10-28T07:51:23.197Z"
   },
   {
    "duration": 39,
    "start_time": "2024-10-28T07:51:23.222Z"
   },
   {
    "duration": 29,
    "start_time": "2024-10-28T07:51:23.263Z"
   },
   {
    "duration": 95,
    "start_time": "2024-10-28T07:51:23.294Z"
   },
   {
    "duration": 42,
    "start_time": "2024-10-28T07:51:23.390Z"
   },
   {
    "duration": 61,
    "start_time": "2024-10-28T07:51:23.434Z"
   },
   {
    "duration": 64,
    "start_time": "2024-10-28T07:51:23.496Z"
   },
   {
    "duration": 153,
    "start_time": "2024-10-28T07:51:23.562Z"
   },
   {
    "duration": 23,
    "start_time": "2024-10-28T07:51:23.717Z"
   },
   {
    "duration": 61,
    "start_time": "2024-10-28T07:51:23.742Z"
   },
   {
    "duration": 19,
    "start_time": "2024-10-28T07:51:23.805Z"
   },
   {
    "duration": 64,
    "start_time": "2024-10-28T07:51:23.826Z"
   },
   {
    "duration": 579,
    "start_time": "2024-10-28T07:51:23.891Z"
   },
   {
    "duration": 30,
    "start_time": "2024-10-28T07:51:24.472Z"
   },
   {
    "duration": 550,
    "start_time": "2024-10-28T07:51:24.503Z"
   },
   {
    "duration": 44,
    "start_time": "2024-10-28T07:51:25.055Z"
   },
   {
    "duration": 471,
    "start_time": "2024-10-28T07:51:25.101Z"
   },
   {
    "duration": 42,
    "start_time": "2024-10-28T07:51:25.576Z"
   },
   {
    "duration": 117,
    "start_time": "2024-10-28T07:51:25.620Z"
   },
   {
    "duration": 504,
    "start_time": "2024-10-28T07:51:25.739Z"
   },
   {
    "duration": 7,
    "start_time": "2024-10-28T07:51:26.245Z"
   },
   {
    "duration": 47,
    "start_time": "2024-10-28T07:51:26.253Z"
   },
   {
    "duration": 20,
    "start_time": "2024-10-28T07:51:26.301Z"
   },
   {
    "duration": 3,
    "start_time": "2024-10-28T07:51:26.322Z"
   },
   {
    "duration": 4,
    "start_time": "2024-10-28T07:51:26.326Z"
   },
   {
    "duration": 7,
    "start_time": "2024-10-28T07:51:26.331Z"
   },
   {
    "duration": 199,
    "start_time": "2024-10-28T07:51:26.339Z"
   },
   {
    "duration": 42,
    "start_time": "2024-10-28T07:51:26.539Z"
   },
   {
    "duration": 3,
    "start_time": "2024-10-28T07:51:26.582Z"
   },
   {
    "duration": 252317,
    "start_time": "2024-10-28T07:51:26.598Z"
   },
   {
    "duration": 1120,
    "start_time": "2024-10-28T07:55:38.917Z"
   },
   {
    "duration": 3,
    "start_time": "2024-10-28T07:55:40.039Z"
   },
   {
    "duration": 26,
    "start_time": "2024-10-28T07:55:40.044Z"
   },
   {
    "duration": 35,
    "start_time": "2024-10-28T07:55:40.072Z"
   },
   {
    "duration": 0,
    "start_time": "2024-10-28T07:55:40.109Z"
   },
   {
    "duration": 0,
    "start_time": "2024-10-28T07:55:40.111Z"
   },
   {
    "duration": 0,
    "start_time": "2024-10-28T07:55:40.113Z"
   },
   {
    "duration": 0,
    "start_time": "2024-10-28T07:55:40.114Z"
   },
   {
    "duration": 0,
    "start_time": "2024-10-28T07:55:40.115Z"
   },
   {
    "duration": 0,
    "start_time": "2024-10-28T07:55:40.117Z"
   },
   {
    "duration": 0,
    "start_time": "2024-10-28T07:55:40.118Z"
   },
   {
    "duration": 0,
    "start_time": "2024-10-28T07:55:40.120Z"
   },
   {
    "duration": 0,
    "start_time": "2024-10-28T07:55:40.122Z"
   },
   {
    "duration": 0,
    "start_time": "2024-10-28T07:55:40.123Z"
   },
   {
    "duration": 0,
    "start_time": "2024-10-28T07:55:40.125Z"
   },
   {
    "duration": 827,
    "start_time": "2024-10-28T07:56:57.776Z"
   },
   {
    "duration": 784,
    "start_time": "2024-10-28T07:57:51.934Z"
   },
   {
    "duration": 777,
    "start_time": "2024-10-28T07:59:08.839Z"
   },
   {
    "duration": 4,
    "start_time": "2024-10-28T09:27:16.417Z"
   },
   {
    "duration": 23,
    "start_time": "2024-10-28T09:27:18.381Z"
   },
   {
    "duration": 4,
    "start_time": "2024-10-28T09:27:40.336Z"
   },
   {
    "duration": 3,
    "start_time": "2024-10-28T09:27:42.783Z"
   },
   {
    "duration": 3,
    "start_time": "2024-10-28T09:27:44.759Z"
   },
   {
    "duration": 3,
    "start_time": "2024-10-28T09:27:47.019Z"
   },
   {
    "duration": 5,
    "start_time": "2024-10-28T09:37:34.876Z"
   },
   {
    "duration": 62,
    "start_time": "2024-10-28T09:37:38.442Z"
   },
   {
    "duration": 28,
    "start_time": "2024-10-28T09:37:49.351Z"
   },
   {
    "duration": 3,
    "start_time": "2024-10-28T09:41:19.504Z"
   },
   {
    "duration": 36,
    "start_time": "2024-10-28T09:41:21.770Z"
   },
   {
    "duration": 1264,
    "start_time": "2024-10-28T09:42:26.351Z"
   },
   {
    "duration": 3,
    "start_time": "2024-10-28T09:44:12.638Z"
   },
   {
    "duration": 5,
    "start_time": "2024-10-28T09:44:14.737Z"
   },
   {
    "duration": 3,
    "start_time": "2024-10-28T09:44:17.044Z"
   },
   {
    "duration": 5,
    "start_time": "2024-10-28T09:44:19.197Z"
   },
   {
    "duration": 3,
    "start_time": "2024-10-28T09:44:21.629Z"
   },
   {
    "duration": 292572,
    "start_time": "2024-10-28T09:44:24.630Z"
   },
   {
    "duration": 3,
    "start_time": "2024-10-28T09:52:04.835Z"
   },
   {
    "duration": 4561,
    "start_time": "2024-10-28T09:52:21.879Z"
   },
   {
    "duration": 1023,
    "start_time": "2024-10-28T09:52:26.442Z"
   },
   {
    "duration": 189,
    "start_time": "2024-10-28T09:52:27.467Z"
   },
   {
    "duration": 149,
    "start_time": "2024-10-28T09:52:27.658Z"
   },
   {
    "duration": 5,
    "start_time": "2024-10-28T09:52:27.809Z"
   },
   {
    "duration": 528,
    "start_time": "2024-10-28T09:52:27.816Z"
   },
   {
    "duration": 1102,
    "start_time": "2024-10-28T09:52:28.346Z"
   },
   {
    "duration": 67,
    "start_time": "2024-10-28T09:52:29.450Z"
   },
   {
    "duration": 57,
    "start_time": "2024-10-28T09:52:29.519Z"
   },
   {
    "duration": 69,
    "start_time": "2024-10-28T09:52:29.580Z"
   },
   {
    "duration": 24,
    "start_time": "2024-10-28T09:52:29.651Z"
   },
   {
    "duration": 38,
    "start_time": "2024-10-28T09:52:29.677Z"
   },
   {
    "duration": 21,
    "start_time": "2024-10-28T09:52:29.717Z"
   },
   {
    "duration": 76,
    "start_time": "2024-10-28T09:52:29.740Z"
   },
   {
    "duration": 27,
    "start_time": "2024-10-28T09:52:29.817Z"
   },
   {
    "duration": 62,
    "start_time": "2024-10-28T09:52:29.846Z"
   },
   {
    "duration": 24,
    "start_time": "2024-10-28T09:52:29.910Z"
   },
   {
    "duration": 161,
    "start_time": "2024-10-28T09:52:29.936Z"
   },
   {
    "duration": 35,
    "start_time": "2024-10-28T09:52:30.099Z"
   },
   {
    "duration": 73,
    "start_time": "2024-10-28T09:52:30.135Z"
   },
   {
    "duration": 26,
    "start_time": "2024-10-28T09:52:30.210Z"
   },
   {
    "duration": 83,
    "start_time": "2024-10-28T09:52:30.238Z"
   },
   {
    "duration": 568,
    "start_time": "2024-10-28T09:52:30.322Z"
   },
   {
    "duration": 37,
    "start_time": "2024-10-28T09:52:30.892Z"
   },
   {
    "duration": 530,
    "start_time": "2024-10-28T09:52:30.931Z"
   },
   {
    "duration": 55,
    "start_time": "2024-10-28T09:52:31.463Z"
   },
   {
    "duration": 583,
    "start_time": "2024-10-28T09:52:31.519Z"
   },
   {
    "duration": 23,
    "start_time": "2024-10-28T09:52:32.106Z"
   },
   {
    "duration": 131,
    "start_time": "2024-10-28T09:52:32.131Z"
   },
   {
    "duration": 532,
    "start_time": "2024-10-28T09:52:32.264Z"
   },
   {
    "duration": 8,
    "start_time": "2024-10-28T09:52:32.798Z"
   },
   {
    "duration": 57,
    "start_time": "2024-10-28T09:52:32.807Z"
   },
   {
    "duration": 62,
    "start_time": "2024-10-28T09:52:32.865Z"
   },
   {
    "duration": 36,
    "start_time": "2024-10-28T09:52:32.928Z"
   },
   {
    "duration": 10,
    "start_time": "2024-10-28T09:52:32.965Z"
   },
   {
    "duration": 9,
    "start_time": "2024-10-28T09:52:32.977Z"
   },
   {
    "duration": 177,
    "start_time": "2024-10-28T09:52:32.988Z"
   },
   {
    "duration": 42,
    "start_time": "2024-10-28T09:52:33.166Z"
   },
   {
    "duration": 3,
    "start_time": "2024-10-28T09:52:33.210Z"
   },
   {
    "duration": 276091,
    "start_time": "2024-10-28T09:52:33.214Z"
   },
   {
    "duration": 893,
    "start_time": "2024-10-28T09:57:09.307Z"
   },
   {
    "duration": 3,
    "start_time": "2024-10-28T09:57:10.201Z"
   },
   {
    "duration": 13,
    "start_time": "2024-10-28T09:57:10.205Z"
   },
   {
    "duration": 15,
    "start_time": "2024-10-28T09:57:10.219Z"
   },
   {
    "duration": 23,
    "start_time": "2024-10-28T09:57:10.236Z"
   },
   {
    "duration": 18,
    "start_time": "2024-10-28T09:57:10.260Z"
   },
   {
    "duration": 11,
    "start_time": "2024-10-28T09:57:10.279Z"
   },
   {
    "duration": 43,
    "start_time": "2024-10-28T09:57:10.291Z"
   },
   {
    "duration": 0,
    "start_time": "2024-10-28T09:57:10.336Z"
   },
   {
    "duration": 0,
    "start_time": "2024-10-28T09:57:10.338Z"
   },
   {
    "duration": 0,
    "start_time": "2024-10-28T09:57:10.340Z"
   },
   {
    "duration": 0,
    "start_time": "2024-10-28T09:57:10.341Z"
   },
   {
    "duration": 0,
    "start_time": "2024-10-28T09:57:10.342Z"
   },
   {
    "duration": 0,
    "start_time": "2024-10-28T09:57:10.343Z"
   },
   {
    "duration": 0,
    "start_time": "2024-10-28T09:57:10.344Z"
   },
   {
    "duration": 0,
    "start_time": "2024-10-28T09:57:10.345Z"
   },
   {
    "duration": 0,
    "start_time": "2024-10-28T09:57:10.346Z"
   },
   {
    "duration": 0,
    "start_time": "2024-10-28T09:57:10.347Z"
   },
   {
    "duration": 0,
    "start_time": "2024-10-28T09:57:10.348Z"
   },
   {
    "duration": 0,
    "start_time": "2024-10-28T09:57:10.349Z"
   },
   {
    "duration": 0,
    "start_time": "2024-10-28T09:57:10.350Z"
   },
   {
    "duration": 0,
    "start_time": "2024-10-28T09:57:10.352Z"
   },
   {
    "duration": 4487,
    "start_time": "2024-10-28T10:00:27.028Z"
   },
   {
    "duration": 967,
    "start_time": "2024-10-28T10:00:31.518Z"
   },
   {
    "duration": 180,
    "start_time": "2024-10-28T10:00:32.487Z"
   },
   {
    "duration": 155,
    "start_time": "2024-10-28T10:00:32.669Z"
   },
   {
    "duration": 3,
    "start_time": "2024-10-28T10:00:32.827Z"
   },
   {
    "duration": 530,
    "start_time": "2024-10-28T10:00:32.832Z"
   },
   {
    "duration": 1051,
    "start_time": "2024-10-28T10:00:33.364Z"
   },
   {
    "duration": 53,
    "start_time": "2024-10-28T10:00:34.417Z"
   },
   {
    "duration": 69,
    "start_time": "2024-10-28T10:00:34.472Z"
   },
   {
    "duration": 61,
    "start_time": "2024-10-28T10:00:34.543Z"
   },
   {
    "duration": 53,
    "start_time": "2024-10-28T10:00:34.605Z"
   },
   {
    "duration": 29,
    "start_time": "2024-10-28T10:00:34.659Z"
   },
   {
    "duration": 49,
    "start_time": "2024-10-28T10:00:34.689Z"
   },
   {
    "duration": 58,
    "start_time": "2024-10-28T10:00:34.741Z"
   },
   {
    "duration": 43,
    "start_time": "2024-10-28T10:00:34.801Z"
   },
   {
    "duration": 59,
    "start_time": "2024-10-28T10:00:34.846Z"
   },
   {
    "duration": 80,
    "start_time": "2024-10-28T10:00:34.906Z"
   },
   {
    "duration": 192,
    "start_time": "2024-10-28T10:00:34.988Z"
   },
   {
    "duration": 30,
    "start_time": "2024-10-28T10:00:35.181Z"
   },
   {
    "duration": 87,
    "start_time": "2024-10-28T10:00:35.213Z"
   },
   {
    "duration": 11,
    "start_time": "2024-10-28T10:00:35.302Z"
   },
   {
    "duration": 89,
    "start_time": "2024-10-28T10:00:35.314Z"
   },
   {
    "duration": 521,
    "start_time": "2024-10-28T10:00:35.405Z"
   },
   {
    "duration": 36,
    "start_time": "2024-10-28T10:00:35.929Z"
   },
   {
    "duration": 483,
    "start_time": "2024-10-28T10:00:35.967Z"
   },
   {
    "duration": 57,
    "start_time": "2024-10-28T10:00:36.452Z"
   },
   {
    "duration": 595,
    "start_time": "2024-10-28T10:00:36.510Z"
   },
   {
    "duration": 23,
    "start_time": "2024-10-28T10:00:37.106Z"
   },
   {
    "duration": 182,
    "start_time": "2024-10-28T10:00:37.130Z"
   },
   {
    "duration": 498,
    "start_time": "2024-10-28T10:00:37.313Z"
   },
   {
    "duration": 8,
    "start_time": "2024-10-28T10:00:37.813Z"
   },
   {
    "duration": 45,
    "start_time": "2024-10-28T10:00:37.822Z"
   },
   {
    "duration": 38,
    "start_time": "2024-10-28T10:00:37.869Z"
   },
   {
    "duration": 42,
    "start_time": "2024-10-28T10:00:37.908Z"
   },
   {
    "duration": 7,
    "start_time": "2024-10-28T10:00:37.952Z"
   },
   {
    "duration": 4,
    "start_time": "2024-10-28T10:00:37.961Z"
   },
   {
    "duration": 158,
    "start_time": "2024-10-28T10:00:37.967Z"
   },
   {
    "duration": 43,
    "start_time": "2024-10-28T10:00:38.127Z"
   },
   {
    "duration": 4,
    "start_time": "2024-10-28T10:00:38.171Z"
   },
   {
    "duration": 250329,
    "start_time": "2024-10-28T10:00:38.177Z"
   },
   {
    "duration": 900,
    "start_time": "2024-10-28T10:04:48.510Z"
   },
   {
    "duration": 2,
    "start_time": "2024-10-28T10:04:49.412Z"
   },
   {
    "duration": 43,
    "start_time": "2024-10-28T10:04:49.416Z"
   },
   {
    "duration": 19,
    "start_time": "2024-10-28T10:04:49.460Z"
   },
   {
    "duration": 6,
    "start_time": "2024-10-28T10:04:49.480Z"
   },
   {
    "duration": 4,
    "start_time": "2024-10-28T10:04:49.488Z"
   },
   {
    "duration": 7,
    "start_time": "2024-10-28T10:04:49.494Z"
   },
   {
    "duration": 4440,
    "start_time": "2024-10-28T10:13:59.658Z"
   },
   {
    "duration": 933,
    "start_time": "2024-10-28T10:14:04.100Z"
   },
   {
    "duration": 186,
    "start_time": "2024-10-28T10:14:05.035Z"
   },
   {
    "duration": 155,
    "start_time": "2024-10-28T10:14:05.223Z"
   },
   {
    "duration": 4,
    "start_time": "2024-10-28T10:14:05.380Z"
   },
   {
    "duration": 550,
    "start_time": "2024-10-28T10:14:05.386Z"
   },
   {
    "duration": 1081,
    "start_time": "2024-10-28T10:14:05.937Z"
   },
   {
    "duration": 57,
    "start_time": "2024-10-28T10:14:07.020Z"
   },
   {
    "duration": 82,
    "start_time": "2024-10-28T10:14:07.079Z"
   },
   {
    "duration": 57,
    "start_time": "2024-10-28T10:14:07.164Z"
   },
   {
    "duration": 44,
    "start_time": "2024-10-28T10:14:07.222Z"
   },
   {
    "duration": 23,
    "start_time": "2024-10-28T10:14:07.268Z"
   },
   {
    "duration": 38,
    "start_time": "2024-10-28T10:14:07.293Z"
   },
   {
    "duration": 68,
    "start_time": "2024-10-28T10:14:07.333Z"
   },
   {
    "duration": 50,
    "start_time": "2024-10-28T10:14:07.402Z"
   },
   {
    "duration": 74,
    "start_time": "2024-10-28T10:14:07.454Z"
   },
   {
    "duration": 31,
    "start_time": "2024-10-28T10:14:07.531Z"
   },
   {
    "duration": 163,
    "start_time": "2024-10-28T10:14:07.564Z"
   },
   {
    "duration": 25,
    "start_time": "2024-10-28T10:14:07.729Z"
   },
   {
    "duration": 59,
    "start_time": "2024-10-28T10:14:07.756Z"
   },
   {
    "duration": 11,
    "start_time": "2024-10-28T10:14:07.817Z"
   },
   {
    "duration": 87,
    "start_time": "2024-10-28T10:14:07.830Z"
   },
   {
    "duration": 603,
    "start_time": "2024-10-28T10:14:07.919Z"
   },
   {
    "duration": 36,
    "start_time": "2024-10-28T10:14:08.524Z"
   },
   {
    "duration": 508,
    "start_time": "2024-10-28T10:14:08.562Z"
   },
   {
    "duration": 52,
    "start_time": "2024-10-28T10:14:09.072Z"
   },
   {
    "duration": 653,
    "start_time": "2024-10-28T10:14:09.126Z"
   },
   {
    "duration": 30,
    "start_time": "2024-10-28T10:14:09.783Z"
   },
   {
    "duration": 118,
    "start_time": "2024-10-28T10:14:09.815Z"
   },
   {
    "duration": 546,
    "start_time": "2024-10-28T10:14:09.934Z"
   },
   {
    "duration": 21,
    "start_time": "2024-10-28T10:14:10.482Z"
   },
   {
    "duration": 31,
    "start_time": "2024-10-28T10:14:10.505Z"
   },
   {
    "duration": 16,
    "start_time": "2024-10-28T10:14:10.538Z"
   },
   {
    "duration": 2,
    "start_time": "2024-10-28T10:14:10.556Z"
   },
   {
    "duration": 5,
    "start_time": "2024-10-28T10:14:10.560Z"
   },
   {
    "duration": 30,
    "start_time": "2024-10-28T10:14:10.567Z"
   },
   {
    "duration": 163,
    "start_time": "2024-10-28T10:14:10.599Z"
   },
   {
    "duration": 45,
    "start_time": "2024-10-28T10:14:10.763Z"
   },
   {
    "duration": 3,
    "start_time": "2024-10-28T10:14:10.810Z"
   },
   {
    "duration": 304491,
    "start_time": "2024-10-28T10:14:10.814Z"
   },
   {
    "duration": 892,
    "start_time": "2024-10-28T10:19:15.307Z"
   },
   {
    "duration": 3,
    "start_time": "2024-10-28T10:19:16.201Z"
   },
   {
    "duration": 37,
    "start_time": "2024-10-28T10:19:16.206Z"
   },
   {
    "duration": 29,
    "start_time": "2024-10-28T10:19:16.245Z"
   },
   {
    "duration": 33,
    "start_time": "2024-10-28T10:19:16.275Z"
   },
   {
    "duration": 47,
    "start_time": "2024-10-28T10:19:16.310Z"
   },
   {
    "duration": 27,
    "start_time": "2024-10-28T10:19:16.359Z"
   },
   {
    "duration": 1011313,
    "start_time": "2024-10-28T10:19:16.387Z"
   },
   {
    "duration": 164,
    "start_time": "2024-10-28T10:36:07.703Z"
   },
   {
    "duration": 0,
    "start_time": "2024-10-28T10:36:07.868Z"
   },
   {
    "duration": 0,
    "start_time": "2024-10-28T10:36:07.870Z"
   },
   {
    "duration": 0,
    "start_time": "2024-10-28T10:36:07.871Z"
   },
   {
    "duration": 0,
    "start_time": "2024-10-28T10:36:07.873Z"
   },
   {
    "duration": 0,
    "start_time": "2024-10-28T10:36:07.874Z"
   },
   {
    "duration": 0,
    "start_time": "2024-10-28T10:36:07.875Z"
   },
   {
    "duration": 0,
    "start_time": "2024-10-28T10:36:07.876Z"
   },
   {
    "duration": 0,
    "start_time": "2024-10-28T10:36:07.878Z"
   },
   {
    "duration": 0,
    "start_time": "2024-10-28T10:36:07.879Z"
   },
   {
    "duration": 0,
    "start_time": "2024-10-28T10:36:07.881Z"
   },
   {
    "duration": 0,
    "start_time": "2024-10-28T10:36:07.898Z"
   },
   {
    "duration": 0,
    "start_time": "2024-10-28T10:36:07.900Z"
   },
   {
    "duration": 0,
    "start_time": "2024-10-28T10:36:07.901Z"
   },
   {
    "duration": 4527,
    "start_time": "2024-10-28T11:00:01.700Z"
   },
   {
    "duration": 955,
    "start_time": "2024-10-28T11:00:06.229Z"
   },
   {
    "duration": 179,
    "start_time": "2024-10-28T11:00:07.185Z"
   },
   {
    "duration": 153,
    "start_time": "2024-10-28T11:00:07.366Z"
   },
   {
    "duration": 13,
    "start_time": "2024-10-28T11:00:07.521Z"
   },
   {
    "duration": 540,
    "start_time": "2024-10-28T11:00:07.536Z"
   },
   {
    "duration": 1065,
    "start_time": "2024-10-28T11:00:08.077Z"
   },
   {
    "duration": 76,
    "start_time": "2024-10-28T11:00:09.144Z"
   },
   {
    "duration": 87,
    "start_time": "2024-10-28T11:00:09.223Z"
   },
   {
    "duration": 57,
    "start_time": "2024-10-28T11:00:09.313Z"
   },
   {
    "duration": 79,
    "start_time": "2024-10-28T11:00:09.371Z"
   },
   {
    "duration": 46,
    "start_time": "2024-10-28T11:00:09.451Z"
   },
   {
    "duration": 35,
    "start_time": "2024-10-28T11:00:09.499Z"
   },
   {
    "duration": 76,
    "start_time": "2024-10-28T11:00:09.535Z"
   },
   {
    "duration": 26,
    "start_time": "2024-10-28T11:00:09.612Z"
   },
   {
    "duration": 64,
    "start_time": "2024-10-28T11:00:09.639Z"
   },
   {
    "duration": 35,
    "start_time": "2024-10-28T11:00:09.705Z"
   },
   {
    "duration": 149,
    "start_time": "2024-10-28T11:00:09.741Z"
   },
   {
    "duration": 50,
    "start_time": "2024-10-28T11:00:09.891Z"
   },
   {
    "duration": 49,
    "start_time": "2024-10-28T11:00:09.943Z"
   },
   {
    "duration": 10,
    "start_time": "2024-10-28T11:00:09.994Z"
   },
   {
    "duration": 100,
    "start_time": "2024-10-28T11:00:10.006Z"
   },
   {
    "duration": 546,
    "start_time": "2024-10-28T11:00:10.108Z"
   },
   {
    "duration": 42,
    "start_time": "2024-10-28T11:00:10.656Z"
   },
   {
    "duration": 460,
    "start_time": "2024-10-28T11:00:10.700Z"
   },
   {
    "duration": 52,
    "start_time": "2024-10-28T11:00:11.162Z"
   },
   {
    "duration": 580,
    "start_time": "2024-10-28T11:00:11.216Z"
   },
   {
    "duration": 22,
    "start_time": "2024-10-28T11:00:11.800Z"
   },
   {
    "duration": 158,
    "start_time": "2024-10-28T11:00:11.824Z"
   },
   {
    "duration": 508,
    "start_time": "2024-10-28T11:00:11.984Z"
   },
   {
    "duration": 8,
    "start_time": "2024-10-28T11:00:12.498Z"
   },
   {
    "duration": 37,
    "start_time": "2024-10-28T11:00:12.507Z"
   },
   {
    "duration": 16,
    "start_time": "2024-10-28T11:00:12.546Z"
   },
   {
    "duration": 3,
    "start_time": "2024-10-28T11:00:12.563Z"
   },
   {
    "duration": 8,
    "start_time": "2024-10-28T11:00:12.567Z"
   },
   {
    "duration": 3,
    "start_time": "2024-10-28T11:00:12.598Z"
   },
   {
    "duration": 204,
    "start_time": "2024-10-28T11:00:12.602Z"
   },
   {
    "duration": 40,
    "start_time": "2024-10-28T11:00:12.808Z"
   },
   {
    "duration": 3,
    "start_time": "2024-10-28T11:00:12.850Z"
   },
   {
    "duration": 247660,
    "start_time": "2024-10-28T11:00:12.854Z"
   },
   {
    "duration": 900,
    "start_time": "2024-10-28T11:04:20.598Z"
   },
   {
    "duration": 4,
    "start_time": "2024-10-28T11:04:21.500Z"
   },
   {
    "duration": 42,
    "start_time": "2024-10-28T11:04:21.506Z"
   },
   {
    "duration": 12,
    "start_time": "2024-10-28T11:04:21.550Z"
   },
   {
    "duration": 13,
    "start_time": "2024-10-28T11:04:21.563Z"
   },
   {
    "duration": 25,
    "start_time": "2024-10-28T11:04:21.577Z"
   },
   {
    "duration": 17,
    "start_time": "2024-10-28T11:04:21.603Z"
   },
   {
    "duration": 2336,
    "start_time": "2024-10-28T11:04:21.622Z"
   },
   {
    "duration": 124,
    "start_time": "2024-10-28T11:04:23.960Z"
   },
   {
    "duration": 0,
    "start_time": "2024-10-28T11:04:24.085Z"
   },
   {
    "duration": 0,
    "start_time": "2024-10-28T11:04:24.087Z"
   },
   {
    "duration": 0,
    "start_time": "2024-10-28T11:04:24.088Z"
   },
   {
    "duration": 0,
    "start_time": "2024-10-28T11:04:24.089Z"
   },
   {
    "duration": 0,
    "start_time": "2024-10-28T11:04:24.090Z"
   },
   {
    "duration": 0,
    "start_time": "2024-10-28T11:04:24.097Z"
   },
   {
    "duration": 0,
    "start_time": "2024-10-28T11:04:24.099Z"
   },
   {
    "duration": 0,
    "start_time": "2024-10-28T11:04:24.100Z"
   },
   {
    "duration": 0,
    "start_time": "2024-10-28T11:04:24.101Z"
   },
   {
    "duration": 0,
    "start_time": "2024-10-28T11:04:24.102Z"
   },
   {
    "duration": 0,
    "start_time": "2024-10-28T11:04:24.103Z"
   },
   {
    "duration": 0,
    "start_time": "2024-10-28T11:04:24.105Z"
   },
   {
    "duration": 0,
    "start_time": "2024-10-28T11:04:24.106Z"
   },
   {
    "duration": 0,
    "start_time": "2024-10-28T11:04:24.107Z"
   },
   {
    "duration": 0,
    "start_time": "2024-10-28T11:04:24.108Z"
   },
   {
    "duration": 6,
    "start_time": "2024-10-28T11:04:57.152Z"
   },
   {
    "duration": 67,
    "start_time": "2024-10-28T11:05:04.938Z"
   },
   {
    "duration": 5,
    "start_time": "2024-10-28T11:05:19.818Z"
   },
   {
    "duration": 4517,
    "start_time": "2024-10-28T11:46:12.513Z"
   },
   {
    "duration": 953,
    "start_time": "2024-10-28T11:46:17.033Z"
   },
   {
    "duration": 174,
    "start_time": "2024-10-28T11:46:17.987Z"
   },
   {
    "duration": 153,
    "start_time": "2024-10-28T11:46:18.162Z"
   },
   {
    "duration": 5,
    "start_time": "2024-10-28T11:46:18.317Z"
   },
   {
    "duration": 604,
    "start_time": "2024-10-28T11:46:18.323Z"
   },
   {
    "duration": 1036,
    "start_time": "2024-10-28T11:46:18.929Z"
   },
   {
    "duration": 65,
    "start_time": "2024-10-28T11:46:19.967Z"
   },
   {
    "duration": 66,
    "start_time": "2024-10-28T11:46:20.034Z"
   },
   {
    "duration": 56,
    "start_time": "2024-10-28T11:46:20.102Z"
   },
   {
    "duration": 38,
    "start_time": "2024-10-28T11:46:20.160Z"
   },
   {
    "duration": 23,
    "start_time": "2024-10-28T11:46:20.200Z"
   },
   {
    "duration": 27,
    "start_time": "2024-10-28T11:46:20.225Z"
   },
   {
    "duration": 91,
    "start_time": "2024-10-28T11:46:20.255Z"
   },
   {
    "duration": 19,
    "start_time": "2024-10-28T11:46:20.348Z"
   },
   {
    "duration": 61,
    "start_time": "2024-10-28T11:46:20.368Z"
   },
   {
    "duration": 31,
    "start_time": "2024-10-28T11:46:20.430Z"
   },
   {
    "duration": 170,
    "start_time": "2024-10-28T11:46:20.463Z"
   },
   {
    "duration": 40,
    "start_time": "2024-10-28T11:46:20.634Z"
   },
   {
    "duration": 37,
    "start_time": "2024-10-28T11:46:20.675Z"
   },
   {
    "duration": 24,
    "start_time": "2024-10-28T11:46:20.714Z"
   },
   {
    "duration": 100,
    "start_time": "2024-10-28T11:46:20.740Z"
   },
   {
    "duration": 576,
    "start_time": "2024-10-28T11:46:20.842Z"
   },
   {
    "duration": 38,
    "start_time": "2024-10-28T11:46:21.421Z"
   },
   {
    "duration": 530,
    "start_time": "2024-10-28T11:46:21.461Z"
   },
   {
    "duration": 50,
    "start_time": "2024-10-28T11:46:21.993Z"
   },
   {
    "duration": 625,
    "start_time": "2024-10-28T11:46:22.045Z"
   },
   {
    "duration": 31,
    "start_time": "2024-10-28T11:46:22.672Z"
   },
   {
    "duration": 122,
    "start_time": "2024-10-28T11:46:22.704Z"
   },
   {
    "duration": 494,
    "start_time": "2024-10-28T11:46:22.828Z"
   },
   {
    "duration": 9,
    "start_time": "2024-10-28T11:46:23.324Z"
   },
   {
    "duration": 43,
    "start_time": "2024-10-28T11:46:23.334Z"
   },
   {
    "duration": 26,
    "start_time": "2024-10-28T11:46:23.379Z"
   },
   {
    "duration": 2,
    "start_time": "2024-10-28T11:46:23.406Z"
   },
   {
    "duration": 45,
    "start_time": "2024-10-28T11:46:23.410Z"
   },
   {
    "duration": 23,
    "start_time": "2024-10-28T11:46:23.456Z"
   },
   {
    "duration": 280,
    "start_time": "2024-10-28T11:46:23.481Z"
   },
   {
    "duration": 47,
    "start_time": "2024-10-28T11:46:23.763Z"
   },
   {
    "duration": 3,
    "start_time": "2024-10-28T11:46:23.811Z"
   },
   {
    "duration": 265990,
    "start_time": "2024-10-28T11:46:23.815Z"
   },
   {
    "duration": 897,
    "start_time": "2024-10-28T11:50:49.810Z"
   },
   {
    "duration": 4,
    "start_time": "2024-10-28T11:50:50.709Z"
   },
   {
    "duration": 38,
    "start_time": "2024-10-28T11:50:50.714Z"
   },
   {
    "duration": 35,
    "start_time": "2024-10-28T11:50:50.754Z"
   },
   {
    "duration": 23,
    "start_time": "2024-10-28T11:50:50.790Z"
   },
   {
    "duration": 13,
    "start_time": "2024-10-28T11:50:50.815Z"
   },
   {
    "duration": 30,
    "start_time": "2024-10-28T11:50:50.830Z"
   },
   {
    "duration": 17,
    "start_time": "2024-10-28T11:50:50.861Z"
   },
   {
    "duration": 197,
    "start_time": "2024-10-28T11:50:50.880Z"
   },
   {
    "duration": 1867,
    "start_time": "2024-10-28T11:50:51.078Z"
   },
   {
    "duration": 14,
    "start_time": "2024-10-28T11:50:52.947Z"
   },
   {
    "duration": 0,
    "start_time": "2024-10-28T11:50:52.962Z"
   },
   {
    "duration": 0,
    "start_time": "2024-10-28T11:50:52.964Z"
   },
   {
    "duration": 0,
    "start_time": "2024-10-28T11:50:52.965Z"
   },
   {
    "duration": 0,
    "start_time": "2024-10-28T11:50:52.966Z"
   },
   {
    "duration": 0,
    "start_time": "2024-10-28T11:50:52.967Z"
   },
   {
    "duration": 0,
    "start_time": "2024-10-28T11:50:52.968Z"
   },
   {
    "duration": 0,
    "start_time": "2024-10-28T11:50:52.969Z"
   },
   {
    "duration": 0,
    "start_time": "2024-10-28T11:50:52.970Z"
   },
   {
    "duration": 0,
    "start_time": "2024-10-28T11:50:52.971Z"
   },
   {
    "duration": 0,
    "start_time": "2024-10-28T11:50:52.972Z"
   },
   {
    "duration": 0,
    "start_time": "2024-10-28T11:50:52.997Z"
   },
   {
    "duration": 0,
    "start_time": "2024-10-28T11:50:52.999Z"
   },
   {
    "duration": 0,
    "start_time": "2024-10-28T11:50:53.000Z"
   },
   {
    "duration": 27,
    "start_time": "2024-10-28T11:51:57.522Z"
   },
   {
    "duration": 1914,
    "start_time": "2024-10-28T11:52:18.564Z"
   },
   {
    "duration": 4,
    "start_time": "2024-10-28T11:56:05.923Z"
   },
   {
    "duration": 5,
    "start_time": "2024-10-28T11:56:18.501Z"
   },
   {
    "duration": 4,
    "start_time": "2024-10-28T11:56:34.462Z"
   },
   {
    "duration": 4607,
    "start_time": "2024-10-28T11:58:14.660Z"
   },
   {
    "duration": 978,
    "start_time": "2024-10-28T11:58:19.270Z"
   },
   {
    "duration": 185,
    "start_time": "2024-10-28T11:58:20.250Z"
   },
   {
    "duration": 158,
    "start_time": "2024-10-28T11:58:20.437Z"
   },
   {
    "duration": 4,
    "start_time": "2024-10-28T11:58:20.596Z"
   },
   {
    "duration": 543,
    "start_time": "2024-10-28T11:58:20.601Z"
   },
   {
    "duration": 1035,
    "start_time": "2024-10-28T11:58:21.146Z"
   },
   {
    "duration": 65,
    "start_time": "2024-10-28T11:58:22.182Z"
   },
   {
    "duration": 67,
    "start_time": "2024-10-28T11:58:22.249Z"
   },
   {
    "duration": 56,
    "start_time": "2024-10-28T11:58:22.320Z"
   },
   {
    "duration": 34,
    "start_time": "2024-10-28T11:58:22.378Z"
   },
   {
    "duration": 25,
    "start_time": "2024-10-28T11:58:22.414Z"
   },
   {
    "duration": 40,
    "start_time": "2024-10-28T11:58:22.441Z"
   },
   {
    "duration": 82,
    "start_time": "2024-10-28T11:58:22.483Z"
   },
   {
    "duration": 24,
    "start_time": "2024-10-28T11:58:22.567Z"
   },
   {
    "duration": 57,
    "start_time": "2024-10-28T11:58:22.592Z"
   },
   {
    "duration": 23,
    "start_time": "2024-10-28T11:58:22.651Z"
   },
   {
    "duration": 172,
    "start_time": "2024-10-28T11:58:22.676Z"
   },
   {
    "duration": 26,
    "start_time": "2024-10-28T11:58:22.849Z"
   },
   {
    "duration": 48,
    "start_time": "2024-10-28T11:58:22.876Z"
   },
   {
    "duration": 11,
    "start_time": "2024-10-28T11:58:22.926Z"
   },
   {
    "duration": 90,
    "start_time": "2024-10-28T11:58:22.938Z"
   },
   {
    "duration": 564,
    "start_time": "2024-10-28T11:58:23.030Z"
   },
   {
    "duration": 35,
    "start_time": "2024-10-28T11:58:23.595Z"
   },
   {
    "duration": 534,
    "start_time": "2024-10-28T11:58:23.632Z"
   },
   {
    "duration": 55,
    "start_time": "2024-10-28T11:58:24.168Z"
   },
   {
    "duration": 586,
    "start_time": "2024-10-28T11:58:24.225Z"
   },
   {
    "duration": 24,
    "start_time": "2024-10-28T11:58:24.815Z"
   },
   {
    "duration": 132,
    "start_time": "2024-10-28T11:58:24.841Z"
   },
   {
    "duration": 531,
    "start_time": "2024-10-28T11:58:24.975Z"
   },
   {
    "duration": 8,
    "start_time": "2024-10-28T11:58:25.508Z"
   },
   {
    "duration": 164,
    "start_time": "2024-10-28T11:58:25.517Z"
   },
   {
    "duration": 16,
    "start_time": "2024-10-28T11:58:25.683Z"
   },
   {
    "duration": 3,
    "start_time": "2024-10-28T11:58:25.700Z"
   },
   {
    "duration": 6,
    "start_time": "2024-10-28T11:58:25.705Z"
   },
   {
    "duration": 6,
    "start_time": "2024-10-28T11:58:25.713Z"
   },
   {
    "duration": 244,
    "start_time": "2024-10-28T11:58:25.720Z"
   },
   {
    "duration": 49,
    "start_time": "2024-10-28T11:58:25.966Z"
   },
   {
    "duration": 3,
    "start_time": "2024-10-28T11:58:26.016Z"
   },
   {
    "duration": 233986,
    "start_time": "2024-10-28T11:58:26.020Z"
   },
   {
    "duration": 810,
    "start_time": "2024-10-28T12:02:20.007Z"
   },
   {
    "duration": 104,
    "start_time": "2024-10-28T12:02:20.818Z"
   },
   {
    "duration": 18,
    "start_time": "2024-10-28T12:02:20.924Z"
   },
   {
    "duration": 36,
    "start_time": "2024-10-28T12:02:20.943Z"
   },
   {
    "duration": 4,
    "start_time": "2024-10-28T12:02:20.981Z"
   },
   {
    "duration": 12,
    "start_time": "2024-10-28T12:02:20.986Z"
   },
   {
    "duration": 32,
    "start_time": "2024-10-28T12:02:20.999Z"
   },
   {
    "duration": 18,
    "start_time": "2024-10-28T12:02:21.032Z"
   },
   {
    "duration": 34,
    "start_time": "2024-10-28T12:02:21.052Z"
   },
   {
    "duration": 4570,
    "start_time": "2024-10-28T12:18:06.065Z"
   },
   {
    "duration": 953,
    "start_time": "2024-10-28T12:18:10.637Z"
   },
   {
    "duration": 184,
    "start_time": "2024-10-28T12:18:11.591Z"
   },
   {
    "duration": 157,
    "start_time": "2024-10-28T12:18:11.776Z"
   },
   {
    "duration": 5,
    "start_time": "2024-10-28T12:18:11.935Z"
   },
   {
    "duration": 560,
    "start_time": "2024-10-28T12:18:11.941Z"
   },
   {
    "duration": 1084,
    "start_time": "2024-10-28T12:18:12.503Z"
   },
   {
    "duration": 58,
    "start_time": "2024-10-28T12:18:13.589Z"
   },
   {
    "duration": 76,
    "start_time": "2024-10-28T12:18:13.648Z"
   },
   {
    "duration": 103,
    "start_time": "2024-10-28T12:18:13.726Z"
   },
   {
    "duration": 20,
    "start_time": "2024-10-28T12:18:13.832Z"
   },
   {
    "duration": 31,
    "start_time": "2024-10-28T12:18:13.854Z"
   },
   {
    "duration": 108,
    "start_time": "2024-10-28T12:18:13.886Z"
   },
   {
    "duration": 89,
    "start_time": "2024-10-28T12:18:13.997Z"
   },
   {
    "duration": 81,
    "start_time": "2024-10-28T12:18:14.088Z"
   },
   {
    "duration": 63,
    "start_time": "2024-10-28T12:18:14.171Z"
   },
   {
    "duration": 46,
    "start_time": "2024-10-28T12:18:14.237Z"
   },
   {
    "duration": 171,
    "start_time": "2024-10-28T12:18:14.285Z"
   },
   {
    "duration": 32,
    "start_time": "2024-10-28T12:18:14.458Z"
   },
   {
    "duration": 40,
    "start_time": "2024-10-28T12:18:14.497Z"
   },
   {
    "duration": 11,
    "start_time": "2024-10-28T12:18:14.539Z"
   },
   {
    "duration": 94,
    "start_time": "2024-10-28T12:18:14.551Z"
   },
   {
    "duration": 552,
    "start_time": "2024-10-28T12:18:14.647Z"
   },
   {
    "duration": 35,
    "start_time": "2024-10-28T12:18:15.201Z"
   },
   {
    "duration": 497,
    "start_time": "2024-10-28T12:18:15.238Z"
   },
   {
    "duration": 46,
    "start_time": "2024-10-28T12:18:15.736Z"
   },
   {
    "duration": 582,
    "start_time": "2024-10-28T12:18:15.797Z"
   },
   {
    "duration": 26,
    "start_time": "2024-10-28T12:18:16.380Z"
   },
   {
    "duration": 119,
    "start_time": "2024-10-28T12:18:16.407Z"
   },
   {
    "duration": 484,
    "start_time": "2024-10-28T12:18:16.528Z"
   },
   {
    "duration": 7,
    "start_time": "2024-10-28T12:18:17.014Z"
   },
   {
    "duration": 37,
    "start_time": "2024-10-28T12:18:17.023Z"
   },
   {
    "duration": 15,
    "start_time": "2024-10-28T12:18:17.062Z"
   },
   {
    "duration": 6,
    "start_time": "2024-10-28T12:18:17.078Z"
   },
   {
    "duration": 4,
    "start_time": "2024-10-28T12:18:17.098Z"
   },
   {
    "duration": 18,
    "start_time": "2024-10-28T12:18:17.103Z"
   },
   {
    "duration": 168,
    "start_time": "2024-10-28T12:18:17.123Z"
   },
   {
    "duration": 41,
    "start_time": "2024-10-28T12:18:17.293Z"
   },
   {
    "duration": 4,
    "start_time": "2024-10-28T12:18:17.336Z"
   },
   {
    "duration": 239059,
    "start_time": "2024-10-28T12:18:17.342Z"
   },
   {
    "duration": 900,
    "start_time": "2024-10-28T12:22:16.406Z"
   },
   {
    "duration": 24,
    "start_time": "2024-10-28T12:22:17.308Z"
   },
   {
    "duration": 3,
    "start_time": "2024-10-28T12:22:17.334Z"
   },
   {
    "duration": 4,
    "start_time": "2024-10-28T12:22:17.338Z"
   },
   {
    "duration": 4,
    "start_time": "2024-10-28T12:22:17.343Z"
   },
   {
    "duration": 51,
    "start_time": "2024-10-28T12:22:17.348Z"
   },
   {
    "duration": 6,
    "start_time": "2024-10-28T12:22:17.400Z"
   },
   {
    "duration": 8,
    "start_time": "2024-10-28T12:22:17.408Z"
   },
   {
    "duration": 30,
    "start_time": "2024-10-28T12:22:17.418Z"
   },
   {
    "duration": 12,
    "start_time": "2024-10-28T12:22:17.449Z"
   },
   {
    "duration": 4527,
    "start_time": "2024-10-28T12:25:08.998Z"
   },
   {
    "duration": 962,
    "start_time": "2024-10-28T12:25:13.527Z"
   },
   {
    "duration": 182,
    "start_time": "2024-10-28T12:25:14.491Z"
   },
   {
    "duration": 164,
    "start_time": "2024-10-28T12:25:14.676Z"
   },
   {
    "duration": 4,
    "start_time": "2024-10-28T12:25:14.842Z"
   },
   {
    "duration": 523,
    "start_time": "2024-10-28T12:25:14.847Z"
   },
   {
    "duration": 1054,
    "start_time": "2024-10-28T12:25:15.371Z"
   },
   {
    "duration": 57,
    "start_time": "2024-10-28T12:25:16.426Z"
   },
   {
    "duration": 55,
    "start_time": "2024-10-28T12:25:16.497Z"
   },
   {
    "duration": 65,
    "start_time": "2024-10-28T12:25:16.554Z"
   },
   {
    "duration": 40,
    "start_time": "2024-10-28T12:25:16.621Z"
   },
   {
    "duration": 24,
    "start_time": "2024-10-28T12:25:16.663Z"
   },
   {
    "duration": 23,
    "start_time": "2024-10-28T12:25:16.689Z"
   },
   {
    "duration": 61,
    "start_time": "2024-10-28T12:25:16.714Z"
   },
   {
    "duration": 37,
    "start_time": "2024-10-28T12:25:16.777Z"
   },
   {
    "duration": 68,
    "start_time": "2024-10-28T12:25:16.817Z"
   },
   {
    "duration": 29,
    "start_time": "2024-10-28T12:25:16.887Z"
   },
   {
    "duration": 166,
    "start_time": "2024-10-28T12:25:16.918Z"
   },
   {
    "duration": 26,
    "start_time": "2024-10-28T12:25:17.086Z"
   },
   {
    "duration": 40,
    "start_time": "2024-10-28T12:25:17.114Z"
   },
   {
    "duration": 11,
    "start_time": "2024-10-28T12:25:17.155Z"
   },
   {
    "duration": 87,
    "start_time": "2024-10-28T12:25:17.167Z"
   },
   {
    "duration": 545,
    "start_time": "2024-10-28T12:25:17.255Z"
   },
   {
    "duration": 34,
    "start_time": "2024-10-28T12:25:17.802Z"
   },
   {
    "duration": 486,
    "start_time": "2024-10-28T12:25:17.838Z"
   },
   {
    "duration": 48,
    "start_time": "2024-10-28T12:25:18.326Z"
   },
   {
    "duration": 603,
    "start_time": "2024-10-28T12:25:18.377Z"
   },
   {
    "duration": 26,
    "start_time": "2024-10-28T12:25:18.984Z"
   },
   {
    "duration": 113,
    "start_time": "2024-10-28T12:25:19.012Z"
   },
   {
    "duration": 536,
    "start_time": "2024-10-28T12:25:19.127Z"
   },
   {
    "duration": 9,
    "start_time": "2024-10-28T12:25:19.664Z"
   },
   {
    "duration": 46,
    "start_time": "2024-10-28T12:25:19.675Z"
   },
   {
    "duration": 16,
    "start_time": "2024-10-28T12:25:19.723Z"
   },
   {
    "duration": 12,
    "start_time": "2024-10-28T12:25:19.741Z"
   },
   {
    "duration": 17,
    "start_time": "2024-10-28T12:25:19.755Z"
   },
   {
    "duration": 25,
    "start_time": "2024-10-28T12:25:19.774Z"
   },
   {
    "duration": 178,
    "start_time": "2024-10-28T12:25:19.802Z"
   },
   {
    "duration": 44,
    "start_time": "2024-10-28T12:25:19.982Z"
   },
   {
    "duration": 37,
    "start_time": "2024-10-28T12:25:20.028Z"
   },
   {
    "duration": 271839,
    "start_time": "2024-10-28T12:25:20.066Z"
   },
   {
    "duration": 899,
    "start_time": "2024-10-28T12:29:51.907Z"
   },
   {
    "duration": 28,
    "start_time": "2024-10-28T12:29:52.807Z"
   },
   {
    "duration": 12,
    "start_time": "2024-10-28T12:29:52.837Z"
   },
   {
    "duration": 26,
    "start_time": "2024-10-28T12:29:52.851Z"
   },
   {
    "duration": 63,
    "start_time": "2024-10-28T12:29:52.879Z"
   },
   {
    "duration": 13,
    "start_time": "2024-10-28T12:29:52.944Z"
   },
   {
    "duration": 11,
    "start_time": "2024-10-28T12:29:52.958Z"
   },
   {
    "duration": 8,
    "start_time": "2024-10-28T12:29:52.970Z"
   },
   {
    "duration": 20,
    "start_time": "2024-10-28T12:29:52.980Z"
   },
   {
    "duration": 43,
    "start_time": "2024-10-28T12:29:53.001Z"
   },
   {
    "duration": 35,
    "start_time": "2024-10-28T12:29:53.045Z"
   },
   {
    "duration": 1070517,
    "start_time": "2024-10-28T12:29:53.082Z"
   },
   {
    "duration": 167,
    "start_time": "2024-10-28T12:47:43.601Z"
   },
   {
    "duration": 0,
    "start_time": "2024-10-28T12:47:43.769Z"
   },
   {
    "duration": 0,
    "start_time": "2024-10-28T12:47:43.771Z"
   },
   {
    "duration": 0,
    "start_time": "2024-10-28T12:47:43.772Z"
   },
   {
    "duration": 0,
    "start_time": "2024-10-28T12:47:43.773Z"
   },
   {
    "duration": 0,
    "start_time": "2024-10-28T12:47:43.775Z"
   },
   {
    "duration": 0,
    "start_time": "2024-10-28T12:47:43.776Z"
   },
   {
    "duration": 0,
    "start_time": "2024-10-28T12:47:43.779Z"
   },
   {
    "duration": 0,
    "start_time": "2024-10-28T12:47:43.780Z"
   },
   {
    "duration": 0,
    "start_time": "2024-10-28T12:47:43.797Z"
   },
   {
    "duration": 0,
    "start_time": "2024-10-28T12:47:43.798Z"
   },
   {
    "duration": 0,
    "start_time": "2024-10-28T12:47:43.800Z"
   },
   {
    "duration": 0,
    "start_time": "2024-10-28T12:47:43.801Z"
   },
   {
    "duration": 0,
    "start_time": "2024-10-28T12:47:43.802Z"
   },
   {
    "duration": 8925,
    "start_time": "2024-10-28T16:52:13.333Z"
   },
   {
    "duration": 2935,
    "start_time": "2024-10-28T16:52:22.260Z"
   },
   {
    "duration": 219,
    "start_time": "2024-10-28T16:52:25.198Z"
   },
   {
    "duration": 146,
    "start_time": "2024-10-28T16:52:25.419Z"
   },
   {
    "duration": 4,
    "start_time": "2024-10-28T16:52:25.567Z"
   },
   {
    "duration": 482,
    "start_time": "2024-10-28T16:52:25.573Z"
   },
   {
    "duration": 1029,
    "start_time": "2024-10-28T16:52:26.057Z"
   },
   {
    "duration": 56,
    "start_time": "2024-10-28T16:52:27.087Z"
   },
   {
    "duration": 69,
    "start_time": "2024-10-28T16:52:27.145Z"
   },
   {
    "duration": 54,
    "start_time": "2024-10-28T16:52:27.217Z"
   },
   {
    "duration": 34,
    "start_time": "2024-10-28T16:52:27.273Z"
   },
   {
    "duration": 24,
    "start_time": "2024-10-28T16:52:27.309Z"
   },
   {
    "duration": 23,
    "start_time": "2024-10-28T16:52:27.334Z"
   },
   {
    "duration": 69,
    "start_time": "2024-10-28T16:52:27.358Z"
   },
   {
    "duration": 22,
    "start_time": "2024-10-28T16:52:27.429Z"
   },
   {
    "duration": 77,
    "start_time": "2024-10-28T16:52:27.453Z"
   },
   {
    "duration": 23,
    "start_time": "2024-10-28T16:52:27.532Z"
   },
   {
    "duration": 149,
    "start_time": "2024-10-28T16:52:27.557Z"
   },
   {
    "duration": 24,
    "start_time": "2024-10-28T16:52:27.708Z"
   },
   {
    "duration": 38,
    "start_time": "2024-10-28T16:52:27.734Z"
   },
   {
    "duration": 32,
    "start_time": "2024-10-28T16:52:27.774Z"
   },
   {
    "duration": 58,
    "start_time": "2024-10-28T16:52:27.808Z"
   },
   {
    "duration": 651,
    "start_time": "2024-10-28T16:52:27.868Z"
   },
   {
    "duration": 32,
    "start_time": "2024-10-28T16:52:28.521Z"
   },
   {
    "duration": 489,
    "start_time": "2024-10-28T16:52:28.555Z"
   },
   {
    "duration": 40,
    "start_time": "2024-10-28T16:52:29.046Z"
   },
   {
    "duration": 591,
    "start_time": "2024-10-28T16:52:29.100Z"
   },
   {
    "duration": 22,
    "start_time": "2024-10-28T16:52:29.702Z"
   },
   {
    "duration": 116,
    "start_time": "2024-10-28T16:52:29.726Z"
   },
   {
    "duration": 543,
    "start_time": "2024-10-28T16:52:29.844Z"
   },
   {
    "duration": 11,
    "start_time": "2024-10-28T16:52:30.389Z"
   },
   {
    "duration": 49,
    "start_time": "2024-10-28T16:52:30.402Z"
   },
   {
    "duration": 15,
    "start_time": "2024-10-28T16:52:30.453Z"
   },
   {
    "duration": 116,
    "start_time": "2024-10-28T16:52:30.469Z"
   },
   {
    "duration": 6,
    "start_time": "2024-10-28T16:52:30.587Z"
   },
   {
    "duration": 8,
    "start_time": "2024-10-28T16:52:30.595Z"
   },
   {
    "duration": 173,
    "start_time": "2024-10-28T16:52:30.605Z"
   },
   {
    "duration": 45,
    "start_time": "2024-10-28T16:52:30.780Z"
   },
   {
    "duration": 5,
    "start_time": "2024-10-28T16:52:30.827Z"
   },
   {
    "duration": 4838,
    "start_time": "2024-10-28T17:04:01.273Z"
   },
   {
    "duration": 995,
    "start_time": "2024-10-28T17:04:06.113Z"
   },
   {
    "duration": 184,
    "start_time": "2024-10-28T17:04:07.110Z"
   },
   {
    "duration": 165,
    "start_time": "2024-10-28T17:04:07.299Z"
   },
   {
    "duration": 5,
    "start_time": "2024-10-28T17:04:07.466Z"
   },
   {
    "duration": 582,
    "start_time": "2024-10-28T17:04:07.473Z"
   },
   {
    "duration": 1172,
    "start_time": "2024-10-28T17:04:08.057Z"
   },
   {
    "duration": 56,
    "start_time": "2024-10-28T17:04:09.230Z"
   },
   {
    "duration": 56,
    "start_time": "2024-10-28T17:04:09.299Z"
   },
   {
    "duration": 72,
    "start_time": "2024-10-28T17:04:09.358Z"
   },
   {
    "duration": 37,
    "start_time": "2024-10-28T17:04:09.432Z"
   },
   {
    "duration": 35,
    "start_time": "2024-10-28T17:04:09.471Z"
   },
   {
    "duration": 24,
    "start_time": "2024-10-28T17:04:09.508Z"
   },
   {
    "duration": 58,
    "start_time": "2024-10-28T17:04:09.533Z"
   },
   {
    "duration": 24,
    "start_time": "2024-10-28T17:04:09.600Z"
   },
   {
    "duration": 74,
    "start_time": "2024-10-28T17:04:09.626Z"
   },
   {
    "duration": 21,
    "start_time": "2024-10-28T17:04:09.702Z"
   },
   {
    "duration": 166,
    "start_time": "2024-10-28T17:04:09.725Z"
   },
   {
    "duration": 110,
    "start_time": "2024-10-28T17:04:09.893Z"
   },
   {
    "duration": 48,
    "start_time": "2024-10-28T17:04:10.005Z"
   },
   {
    "duration": 16,
    "start_time": "2024-10-28T17:04:10.055Z"
   },
   {
    "duration": 85,
    "start_time": "2024-10-28T17:04:10.073Z"
   },
   {
    "duration": 537,
    "start_time": "2024-10-28T17:04:10.160Z"
   },
   {
    "duration": 32,
    "start_time": "2024-10-28T17:04:10.700Z"
   },
   {
    "duration": 521,
    "start_time": "2024-10-28T17:04:10.733Z"
   },
   {
    "duration": 53,
    "start_time": "2024-10-28T17:04:11.256Z"
   },
   {
    "duration": 591,
    "start_time": "2024-10-28T17:04:11.311Z"
   },
   {
    "duration": 30,
    "start_time": "2024-10-28T17:04:11.908Z"
   },
   {
    "duration": 199,
    "start_time": "2024-10-28T17:04:11.941Z"
   },
   {
    "duration": 590,
    "start_time": "2024-10-28T17:04:12.142Z"
   },
   {
    "duration": 11,
    "start_time": "2024-10-28T17:04:12.735Z"
   },
   {
    "duration": 63,
    "start_time": "2024-10-28T17:04:12.748Z"
   },
   {
    "duration": 20,
    "start_time": "2024-10-28T17:04:12.813Z"
   },
   {
    "duration": 3,
    "start_time": "2024-10-28T17:04:12.835Z"
   },
   {
    "duration": 9,
    "start_time": "2024-10-28T17:04:12.840Z"
   },
   {
    "duration": 9,
    "start_time": "2024-10-28T17:04:12.851Z"
   },
   {
    "duration": 178,
    "start_time": "2024-10-28T17:04:12.862Z"
   },
   {
    "duration": 71,
    "start_time": "2024-10-28T17:04:13.042Z"
   },
   {
    "duration": 4,
    "start_time": "2024-10-28T17:04:13.115Z"
   },
   {
    "duration": 4489,
    "start_time": "2024-10-28T17:18:30.857Z"
   },
   {
    "duration": 888,
    "start_time": "2024-10-28T17:18:35.348Z"
   },
   {
    "duration": 171,
    "start_time": "2024-10-28T17:18:36.239Z"
   },
   {
    "duration": 139,
    "start_time": "2024-10-28T17:18:36.413Z"
   },
   {
    "duration": 104,
    "start_time": "2024-10-28T17:18:36.553Z"
   },
   {
    "duration": 521,
    "start_time": "2024-10-28T17:18:36.659Z"
   },
   {
    "duration": 1006,
    "start_time": "2024-10-28T17:18:37.182Z"
   },
   {
    "duration": 53,
    "start_time": "2024-10-28T17:18:38.190Z"
   },
   {
    "duration": 70,
    "start_time": "2024-10-28T17:18:38.246Z"
   },
   {
    "duration": 62,
    "start_time": "2024-10-28T17:18:38.320Z"
   },
   {
    "duration": 49,
    "start_time": "2024-10-28T17:18:38.399Z"
   },
   {
    "duration": 31,
    "start_time": "2024-10-28T17:18:38.450Z"
   },
   {
    "duration": 29,
    "start_time": "2024-10-28T17:18:38.484Z"
   },
   {
    "duration": 61,
    "start_time": "2024-10-28T17:18:38.514Z"
   },
   {
    "duration": 78,
    "start_time": "2024-10-28T17:18:38.578Z"
   },
   {
    "duration": 72,
    "start_time": "2024-10-28T17:18:38.658Z"
   },
   {
    "duration": 21,
    "start_time": "2024-10-28T17:18:38.731Z"
   },
   {
    "duration": 142,
    "start_time": "2024-10-28T17:18:38.754Z"
   },
   {
    "duration": 23,
    "start_time": "2024-10-28T17:18:38.900Z"
   },
   {
    "duration": 38,
    "start_time": "2024-10-28T17:18:38.925Z"
   },
   {
    "duration": 10,
    "start_time": "2024-10-28T17:18:38.965Z"
   },
   {
    "duration": 78,
    "start_time": "2024-10-28T17:18:39.001Z"
   },
   {
    "duration": 527,
    "start_time": "2024-10-28T17:18:39.082Z"
   },
   {
    "duration": 36,
    "start_time": "2024-10-28T17:18:39.610Z"
   },
   {
    "duration": 529,
    "start_time": "2024-10-28T17:18:39.648Z"
   },
   {
    "duration": 55,
    "start_time": "2024-10-28T17:18:40.180Z"
   },
   {
    "duration": 577,
    "start_time": "2024-10-28T17:18:40.237Z"
   },
   {
    "duration": 22,
    "start_time": "2024-10-28T17:18:40.818Z"
   },
   {
    "duration": 114,
    "start_time": "2024-10-28T17:18:40.841Z"
   },
   {
    "duration": 518,
    "start_time": "2024-10-28T17:18:40.956Z"
   },
   {
    "duration": 7,
    "start_time": "2024-10-28T17:18:41.476Z"
   },
   {
    "duration": 42,
    "start_time": "2024-10-28T17:18:41.485Z"
   },
   {
    "duration": 16,
    "start_time": "2024-10-28T17:18:41.529Z"
   },
   {
    "duration": 3,
    "start_time": "2024-10-28T17:18:41.548Z"
   },
   {
    "duration": 6,
    "start_time": "2024-10-28T17:18:41.553Z"
   },
   {
    "duration": 7,
    "start_time": "2024-10-28T17:18:41.561Z"
   },
   {
    "duration": 167,
    "start_time": "2024-10-28T17:18:41.599Z"
   },
   {
    "duration": 42,
    "start_time": "2024-10-28T17:18:41.768Z"
   },
   {
    "duration": 3,
    "start_time": "2024-10-28T17:18:41.812Z"
   },
   {
    "duration": 4705,
    "start_time": "2024-10-28T18:43:21.731Z"
   },
   {
    "duration": 913,
    "start_time": "2024-10-28T18:43:26.438Z"
   },
   {
    "duration": 249,
    "start_time": "2024-10-28T18:43:27.353Z"
   },
   {
    "duration": 187,
    "start_time": "2024-10-28T18:43:27.605Z"
   },
   {
    "duration": 5,
    "start_time": "2024-10-28T18:43:27.799Z"
   },
   {
    "duration": 521,
    "start_time": "2024-10-28T18:43:27.806Z"
   },
   {
    "duration": 1103,
    "start_time": "2024-10-28T18:43:28.329Z"
   },
   {
    "duration": 54,
    "start_time": "2024-10-28T18:43:29.434Z"
   },
   {
    "duration": 52,
    "start_time": "2024-10-28T18:43:29.500Z"
   },
   {
    "duration": 68,
    "start_time": "2024-10-28T18:43:29.555Z"
   },
   {
    "duration": 22,
    "start_time": "2024-10-28T18:43:29.625Z"
   },
   {
    "duration": 24,
    "start_time": "2024-10-28T18:43:29.649Z"
   },
   {
    "duration": 39,
    "start_time": "2024-10-28T18:43:29.675Z"
   },
   {
    "duration": 63,
    "start_time": "2024-10-28T18:43:29.716Z"
   },
   {
    "duration": 31,
    "start_time": "2024-10-28T18:43:29.781Z"
   },
   {
    "duration": 70,
    "start_time": "2024-10-28T18:43:29.814Z"
   },
   {
    "duration": 32,
    "start_time": "2024-10-28T18:43:29.886Z"
   },
   {
    "duration": 147,
    "start_time": "2024-10-28T18:43:29.920Z"
   },
   {
    "duration": 42,
    "start_time": "2024-10-28T18:43:30.069Z"
   },
   {
    "duration": 50,
    "start_time": "2024-10-28T18:43:30.113Z"
   },
   {
    "duration": 12,
    "start_time": "2024-10-28T18:43:30.165Z"
   },
   {
    "duration": 109,
    "start_time": "2024-10-28T18:43:30.179Z"
   },
   {
    "duration": 545,
    "start_time": "2024-10-28T18:43:30.291Z"
   },
   {
    "duration": 35,
    "start_time": "2024-10-28T18:43:30.837Z"
   },
   {
    "duration": 572,
    "start_time": "2024-10-28T18:43:30.874Z"
   },
   {
    "duration": 57,
    "start_time": "2024-10-28T18:43:31.448Z"
   },
   {
    "duration": 594,
    "start_time": "2024-10-28T18:43:31.506Z"
   },
   {
    "duration": 28,
    "start_time": "2024-10-28T18:43:32.105Z"
   },
   {
    "duration": 182,
    "start_time": "2024-10-28T18:43:32.136Z"
   },
   {
    "duration": 580,
    "start_time": "2024-10-28T18:43:32.320Z"
   },
   {
    "duration": 8,
    "start_time": "2024-10-28T18:43:32.902Z"
   },
   {
    "duration": 61,
    "start_time": "2024-10-28T18:43:32.911Z"
   },
   {
    "duration": 16,
    "start_time": "2024-10-28T18:43:32.974Z"
   },
   {
    "duration": 6,
    "start_time": "2024-10-28T18:43:32.991Z"
   },
   {
    "duration": 28,
    "start_time": "2024-10-28T18:43:32.999Z"
   },
   {
    "duration": 29,
    "start_time": "2024-10-28T18:43:33.029Z"
   },
   {
    "duration": 166,
    "start_time": "2024-10-28T18:43:33.060Z"
   },
   {
    "duration": 40,
    "start_time": "2024-10-28T18:43:33.227Z"
   },
   {
    "duration": 2,
    "start_time": "2024-10-28T18:43:33.269Z"
   },
   {
    "duration": 8429,
    "start_time": "2024-10-28T20:45:15.783Z"
   },
   {
    "duration": 2955,
    "start_time": "2024-10-28T20:45:24.214Z"
   },
   {
    "duration": 165,
    "start_time": "2024-10-28T20:45:27.171Z"
   },
   {
    "duration": 145,
    "start_time": "2024-10-28T20:45:27.338Z"
   },
   {
    "duration": 4,
    "start_time": "2024-10-28T20:45:27.485Z"
   },
   {
    "duration": 473,
    "start_time": "2024-10-28T20:45:27.490Z"
   },
   {
    "duration": 1015,
    "start_time": "2024-10-28T20:45:27.965Z"
   },
   {
    "duration": 55,
    "start_time": "2024-10-28T20:45:28.982Z"
   },
   {
    "duration": 75,
    "start_time": "2024-10-28T20:45:29.038Z"
   },
   {
    "duration": 51,
    "start_time": "2024-10-28T20:45:29.115Z"
   },
   {
    "duration": 44,
    "start_time": "2024-10-28T20:45:29.168Z"
   },
   {
    "duration": 24,
    "start_time": "2024-10-28T20:45:29.214Z"
   },
   {
    "duration": 25,
    "start_time": "2024-10-28T20:45:29.239Z"
   },
   {
    "duration": 116,
    "start_time": "2024-10-28T20:45:29.265Z"
   },
   {
    "duration": 19,
    "start_time": "2024-10-28T20:45:29.383Z"
   },
   {
    "duration": 59,
    "start_time": "2024-10-28T20:45:29.404Z"
   },
   {
    "duration": 34,
    "start_time": "2024-10-28T20:45:29.465Z"
   },
   {
    "duration": 201,
    "start_time": "2024-10-28T20:45:29.501Z"
   },
   {
    "duration": 23,
    "start_time": "2024-10-28T20:45:29.704Z"
   },
   {
    "duration": 93,
    "start_time": "2024-10-28T20:45:29.728Z"
   },
   {
    "duration": 12,
    "start_time": "2024-10-28T20:45:29.822Z"
   },
   {
    "duration": 102,
    "start_time": "2024-10-28T20:45:29.835Z"
   },
   {
    "duration": 566,
    "start_time": "2024-10-28T20:45:29.939Z"
   },
   {
    "duration": 33,
    "start_time": "2024-10-28T20:45:30.507Z"
   },
   {
    "duration": 449,
    "start_time": "2024-10-28T20:45:30.542Z"
   },
   {
    "duration": 48,
    "start_time": "2024-10-28T20:45:30.992Z"
   },
   {
    "duration": 539,
    "start_time": "2024-10-28T20:45:31.042Z"
   },
   {
    "duration": 29,
    "start_time": "2024-10-28T20:45:31.585Z"
   },
   {
    "duration": 124,
    "start_time": "2024-10-28T20:45:31.616Z"
   },
   {
    "duration": 476,
    "start_time": "2024-10-28T20:45:31.741Z"
   },
   {
    "duration": 11,
    "start_time": "2024-10-28T20:45:32.219Z"
   },
   {
    "duration": 59,
    "start_time": "2024-10-28T20:45:32.231Z"
   },
   {
    "duration": 16,
    "start_time": "2024-10-28T20:45:32.291Z"
   },
   {
    "duration": 18,
    "start_time": "2024-10-28T20:45:32.308Z"
   },
   {
    "duration": 20,
    "start_time": "2024-10-28T20:45:32.328Z"
   },
   {
    "duration": 156,
    "start_time": "2024-10-28T20:45:32.350Z"
   },
   {
    "duration": 38,
    "start_time": "2024-10-28T20:45:32.507Z"
   },
   {
    "duration": 2,
    "start_time": "2024-10-28T20:45:32.547Z"
   },
   {
    "duration": 380259,
    "start_time": "2024-10-28T20:45:32.551Z"
   },
   {
    "duration": 815,
    "start_time": "2024-10-28T20:51:52.812Z"
   },
   {
    "duration": 77,
    "start_time": "2024-10-28T20:51:53.629Z"
   },
   {
    "duration": 3,
    "start_time": "2024-10-28T20:51:53.708Z"
   },
   {
    "duration": 28,
    "start_time": "2024-10-28T20:51:53.713Z"
   },
   {
    "duration": 4,
    "start_time": "2024-10-28T20:51:53.742Z"
   },
   {
    "duration": 3,
    "start_time": "2024-10-28T20:51:53.747Z"
   },
   {
    "duration": 6,
    "start_time": "2024-10-28T20:51:53.752Z"
   },
   {
    "duration": 5,
    "start_time": "2024-10-28T20:51:53.759Z"
   },
   {
    "duration": 34,
    "start_time": "2024-10-28T20:51:53.766Z"
   },
   {
    "duration": 5,
    "start_time": "2024-10-28T20:51:53.802Z"
   },
   {
    "duration": 16,
    "start_time": "2024-10-28T20:51:53.809Z"
   },
   {
    "duration": 32,
    "start_time": "2024-10-28T20:51:53.827Z"
   },
   {
    "duration": 1016357,
    "start_time": "2024-10-28T20:51:53.861Z"
   },
   {
    "duration": 675,
    "start_time": "2024-10-28T21:08:50.225Z"
   },
   {
    "duration": 213,
    "start_time": "2024-10-28T21:08:50.903Z"
   },
   {
    "duration": 0,
    "start_time": "2024-10-28T21:08:51.118Z"
   },
   {
    "duration": 0,
    "start_time": "2024-10-28T21:08:51.120Z"
   },
   {
    "duration": 0,
    "start_time": "2024-10-28T21:08:51.122Z"
   },
   {
    "duration": 0,
    "start_time": "2024-10-28T21:08:51.124Z"
   },
   {
    "duration": 0,
    "start_time": "2024-10-28T21:08:51.125Z"
   },
   {
    "duration": 0,
    "start_time": "2024-10-28T21:08:51.127Z"
   },
   {
    "duration": 0,
    "start_time": "2024-10-28T21:08:51.128Z"
   },
   {
    "duration": 1,
    "start_time": "2024-10-28T21:08:51.129Z"
   },
   {
    "duration": 0,
    "start_time": "2024-10-28T21:08:51.131Z"
   },
   {
    "duration": 0,
    "start_time": "2024-10-28T21:08:51.133Z"
   },
   {
    "duration": 0,
    "start_time": "2024-10-28T21:08:51.134Z"
   },
   {
    "duration": 0,
    "start_time": "2024-10-28T21:08:51.136Z"
   },
   {
    "duration": 0,
    "start_time": "2024-10-28T21:08:51.137Z"
   },
   {
    "duration": 0,
    "start_time": "2024-10-28T21:08:51.139Z"
   },
   {
    "duration": 4513,
    "start_time": "2024-10-28T21:21:35.874Z"
   },
   {
    "duration": 920,
    "start_time": "2024-10-28T21:21:40.390Z"
   },
   {
    "duration": 193,
    "start_time": "2024-10-28T21:21:41.311Z"
   },
   {
    "duration": 161,
    "start_time": "2024-10-28T21:21:41.506Z"
   },
   {
    "duration": 4,
    "start_time": "2024-10-28T21:21:41.670Z"
   },
   {
    "duration": 509,
    "start_time": "2024-10-28T21:21:41.676Z"
   },
   {
    "duration": 1008,
    "start_time": "2024-10-28T21:21:42.187Z"
   },
   {
    "duration": 50,
    "start_time": "2024-10-28T21:21:43.200Z"
   },
   {
    "duration": 104,
    "start_time": "2024-10-28T21:21:43.253Z"
   },
   {
    "duration": 67,
    "start_time": "2024-10-28T21:21:43.358Z"
   },
   {
    "duration": 60,
    "start_time": "2024-10-28T21:21:43.426Z"
   },
   {
    "duration": 37,
    "start_time": "2024-10-28T21:21:43.487Z"
   },
   {
    "duration": 18,
    "start_time": "2024-10-28T21:21:43.526Z"
   },
   {
    "duration": 77,
    "start_time": "2024-10-28T21:21:43.546Z"
   },
   {
    "duration": 26,
    "start_time": "2024-10-28T21:21:43.625Z"
   },
   {
    "duration": 69,
    "start_time": "2024-10-28T21:21:43.652Z"
   },
   {
    "duration": 22,
    "start_time": "2024-10-28T21:21:43.723Z"
   },
   {
    "duration": 157,
    "start_time": "2024-10-28T21:21:43.746Z"
   },
   {
    "duration": 28,
    "start_time": "2024-10-28T21:21:43.906Z"
   },
   {
    "duration": 35,
    "start_time": "2024-10-28T21:21:43.936Z"
   },
   {
    "duration": 10,
    "start_time": "2024-10-28T21:21:43.973Z"
   },
   {
    "duration": 64,
    "start_time": "2024-10-28T21:21:44.001Z"
   },
   {
    "duration": 543,
    "start_time": "2024-10-28T21:21:44.066Z"
   },
   {
    "duration": 29,
    "start_time": "2024-10-28T21:21:44.611Z"
   },
   {
    "duration": 486,
    "start_time": "2024-10-28T21:21:44.642Z"
   },
   {
    "duration": 43,
    "start_time": "2024-10-28T21:21:45.130Z"
   },
   {
    "duration": 700,
    "start_time": "2024-10-28T21:21:45.175Z"
   },
   {
    "duration": 30,
    "start_time": "2024-10-28T21:21:45.876Z"
   },
   {
    "duration": 118,
    "start_time": "2024-10-28T21:21:45.908Z"
   },
   {
    "duration": 520,
    "start_time": "2024-10-28T21:21:46.028Z"
   },
   {
    "duration": 9,
    "start_time": "2024-10-28T21:21:46.550Z"
   },
   {
    "duration": 43,
    "start_time": "2024-10-28T21:21:46.560Z"
   },
   {
    "duration": 17,
    "start_time": "2024-10-28T21:21:46.605Z"
   },
   {
    "duration": 52,
    "start_time": "2024-10-28T21:21:46.623Z"
   },
   {
    "duration": 6,
    "start_time": "2024-10-28T21:21:46.676Z"
   },
   {
    "duration": 162,
    "start_time": "2024-10-28T21:21:46.683Z"
   },
   {
    "duration": 38,
    "start_time": "2024-10-28T21:21:46.847Z"
   },
   {
    "duration": 14,
    "start_time": "2024-10-28T21:21:46.887Z"
   },
   {
    "duration": 4236,
    "start_time": "2024-10-28T23:02:01.380Z"
   },
   {
    "duration": 842,
    "start_time": "2024-10-28T23:02:05.617Z"
   },
   {
    "duration": 168,
    "start_time": "2024-10-28T23:02:06.460Z"
   },
   {
    "duration": 141,
    "start_time": "2024-10-28T23:02:06.630Z"
   },
   {
    "duration": 4,
    "start_time": "2024-10-28T23:02:06.773Z"
   },
   {
    "duration": 523,
    "start_time": "2024-10-28T23:02:06.779Z"
   },
   {
    "duration": 1050,
    "start_time": "2024-10-28T23:02:07.304Z"
   },
   {
    "duration": 68,
    "start_time": "2024-10-28T23:02:08.356Z"
   },
   {
    "duration": 51,
    "start_time": "2024-10-28T23:02:08.425Z"
   },
   {
    "duration": 58,
    "start_time": "2024-10-28T23:02:08.478Z"
   },
   {
    "duration": 34,
    "start_time": "2024-10-28T23:02:08.537Z"
   },
   {
    "duration": 23,
    "start_time": "2024-10-28T23:02:08.573Z"
   },
   {
    "duration": 24,
    "start_time": "2024-10-28T23:02:08.597Z"
   },
   {
    "duration": 72,
    "start_time": "2024-10-28T23:02:08.623Z"
   },
   {
    "duration": 21,
    "start_time": "2024-10-28T23:02:08.696Z"
   },
   {
    "duration": 59,
    "start_time": "2024-10-28T23:02:08.719Z"
   },
   {
    "duration": 22,
    "start_time": "2024-10-28T23:02:08.779Z"
   },
   {
    "duration": 146,
    "start_time": "2024-10-28T23:02:08.803Z"
   },
   {
    "duration": 21,
    "start_time": "2024-10-28T23:02:08.951Z"
   },
   {
    "duration": 60,
    "start_time": "2024-10-28T23:02:08.974Z"
   },
   {
    "duration": 14,
    "start_time": "2024-10-28T23:02:09.036Z"
   },
   {
    "duration": 76,
    "start_time": "2024-10-28T23:02:09.051Z"
   },
   {
    "duration": 495,
    "start_time": "2024-10-28T23:02:09.129Z"
   },
   {
    "duration": 37,
    "start_time": "2024-10-28T23:02:09.626Z"
   },
   {
    "duration": 470,
    "start_time": "2024-10-28T23:02:09.665Z"
   },
   {
    "duration": 45,
    "start_time": "2024-10-28T23:02:10.137Z"
   },
   {
    "duration": 575,
    "start_time": "2024-10-28T23:02:10.184Z"
   },
   {
    "duration": 22,
    "start_time": "2024-10-28T23:02:10.764Z"
   },
   {
    "duration": 107,
    "start_time": "2024-10-28T23:02:10.788Z"
   },
   {
    "duration": 477,
    "start_time": "2024-10-28T23:02:10.900Z"
   },
   {
    "duration": 10,
    "start_time": "2024-10-28T23:02:11.379Z"
   },
   {
    "duration": 54,
    "start_time": "2024-10-28T23:02:11.390Z"
   },
   {
    "duration": 14,
    "start_time": "2024-10-28T23:02:11.446Z"
   },
   {
    "duration": 64,
    "start_time": "2024-10-28T23:02:11.462Z"
   },
   {
    "duration": 12,
    "start_time": "2024-10-28T23:02:11.528Z"
   },
   {
    "duration": 162,
    "start_time": "2024-10-28T23:02:11.542Z"
   },
   {
    "duration": 37,
    "start_time": "2024-10-28T23:02:11.706Z"
   },
   {
    "duration": 2,
    "start_time": "2024-10-28T23:02:11.745Z"
   },
   {
    "duration": 310357,
    "start_time": "2024-10-28T23:02:11.749Z"
   },
   {
    "duration": 796,
    "start_time": "2024-10-28T23:07:22.107Z"
   },
   {
    "duration": 24,
    "start_time": "2024-10-28T23:07:22.905Z"
   },
   {
    "duration": 8,
    "start_time": "2024-10-28T23:07:22.931Z"
   },
   {
    "duration": 35,
    "start_time": "2024-10-28T23:07:22.941Z"
   },
   {
    "duration": 4,
    "start_time": "2024-10-28T23:07:22.977Z"
   },
   {
    "duration": 11,
    "start_time": "2024-10-28T23:07:23.000Z"
   },
   {
    "duration": 11,
    "start_time": "2024-10-28T23:07:23.013Z"
   },
   {
    "duration": 9,
    "start_time": "2024-10-28T23:07:23.025Z"
   },
   {
    "duration": 22,
    "start_time": "2024-10-28T23:07:23.036Z"
   },
   {
    "duration": 10,
    "start_time": "2024-10-28T23:07:23.060Z"
   },
   {
    "duration": 23,
    "start_time": "2024-10-28T23:07:23.072Z"
   },
   {
    "duration": 14,
    "start_time": "2024-10-28T23:07:23.097Z"
   },
   {
    "duration": 1044190,
    "start_time": "2024-10-28T23:07:23.112Z"
   },
   {
    "duration": 217,
    "start_time": "2024-10-28T23:24:47.304Z"
   },
   {
    "duration": 111,
    "start_time": "2024-10-28T23:24:47.522Z"
   },
   {
    "duration": 0,
    "start_time": "2024-10-28T23:24:47.635Z"
   },
   {
    "duration": 0,
    "start_time": "2024-10-28T23:24:47.637Z"
   },
   {
    "duration": 0,
    "start_time": "2024-10-28T23:24:47.638Z"
   },
   {
    "duration": 0,
    "start_time": "2024-10-28T23:24:47.640Z"
   },
   {
    "duration": 0,
    "start_time": "2024-10-28T23:24:47.641Z"
   },
   {
    "duration": 0,
    "start_time": "2024-10-28T23:24:47.643Z"
   },
   {
    "duration": 0,
    "start_time": "2024-10-28T23:24:47.644Z"
   },
   {
    "duration": 1,
    "start_time": "2024-10-28T23:24:47.645Z"
   },
   {
    "duration": 0,
    "start_time": "2024-10-28T23:24:47.647Z"
   },
   {
    "duration": 0,
    "start_time": "2024-10-28T23:24:47.648Z"
   },
   {
    "duration": 0,
    "start_time": "2024-10-28T23:24:47.650Z"
   },
   {
    "duration": 0,
    "start_time": "2024-10-28T23:24:47.651Z"
   },
   {
    "duration": 0,
    "start_time": "2024-10-28T23:24:47.653Z"
   },
   {
    "duration": 0,
    "start_time": "2024-10-28T23:24:47.653Z"
   },
   {
    "duration": 195,
    "start_time": "2024-10-28T23:43:34.513Z"
   },
   {
    "duration": 2,
    "start_time": "2024-10-28T23:43:40.954Z"
   },
   {
    "duration": 2051,
    "start_time": "2024-10-28T23:43:44.044Z"
   },
   {
    "duration": 120,
    "start_time": "2024-10-28T23:45:43.319Z"
   },
   {
    "duration": 2,
    "start_time": "2024-10-28T23:45:46.385Z"
   },
   {
    "duration": 7,
    "start_time": "2024-10-28T23:45:48.128Z"
   },
   {
    "duration": 6,
    "start_time": "2024-10-28T23:45:52.900Z"
   },
   {
    "duration": 259,
    "start_time": "2024-10-28T23:46:47.574Z"
   },
   {
    "duration": 8641,
    "start_time": "2024-10-29T08:10:21.219Z"
   },
   {
    "duration": 1278,
    "start_time": "2024-10-29T08:10:29.862Z"
   },
   {
    "duration": 164,
    "start_time": "2024-10-29T08:10:31.142Z"
   },
   {
    "duration": 149,
    "start_time": "2024-10-29T08:10:31.309Z"
   },
   {
    "duration": 4,
    "start_time": "2024-10-29T08:10:31.460Z"
   },
   {
    "duration": 531,
    "start_time": "2024-10-29T08:10:31.465Z"
   },
   {
    "duration": 1042,
    "start_time": "2024-10-29T08:10:31.997Z"
   },
   {
    "duration": 66,
    "start_time": "2024-10-29T08:10:33.041Z"
   },
   {
    "duration": 74,
    "start_time": "2024-10-29T08:10:33.109Z"
   },
   {
    "duration": 57,
    "start_time": "2024-10-29T08:10:33.186Z"
   },
   {
    "duration": 35,
    "start_time": "2024-10-29T08:10:33.245Z"
   },
   {
    "duration": 83,
    "start_time": "2024-10-29T08:10:33.282Z"
   },
   {
    "duration": 31,
    "start_time": "2024-10-29T08:10:33.367Z"
   },
   {
    "duration": 77,
    "start_time": "2024-10-29T08:10:33.399Z"
   },
   {
    "duration": 23,
    "start_time": "2024-10-29T08:10:33.479Z"
   },
   {
    "duration": 59,
    "start_time": "2024-10-29T08:10:33.504Z"
   },
   {
    "duration": 68,
    "start_time": "2024-10-29T08:10:33.565Z"
   },
   {
    "duration": 152,
    "start_time": "2024-10-29T08:10:33.634Z"
   },
   {
    "duration": 26,
    "start_time": "2024-10-29T08:10:33.788Z"
   },
   {
    "duration": 37,
    "start_time": "2024-10-29T08:10:33.816Z"
   },
   {
    "duration": 12,
    "start_time": "2024-10-29T08:10:33.876Z"
   },
   {
    "duration": 81,
    "start_time": "2024-10-29T08:10:33.890Z"
   },
   {
    "duration": 629,
    "start_time": "2024-10-29T08:10:33.975Z"
   },
   {
    "duration": 34,
    "start_time": "2024-10-29T08:10:34.606Z"
   },
   {
    "duration": 482,
    "start_time": "2024-10-29T08:10:34.642Z"
   },
   {
    "duration": 50,
    "start_time": "2024-10-29T08:10:35.126Z"
   },
   {
    "duration": 582,
    "start_time": "2024-10-29T08:10:35.178Z"
   },
   {
    "duration": 25,
    "start_time": "2024-10-29T08:10:35.764Z"
   },
   {
    "duration": 120,
    "start_time": "2024-10-29T08:10:35.791Z"
   },
   {
    "duration": 531,
    "start_time": "2024-10-29T08:10:35.913Z"
   },
   {
    "duration": 9,
    "start_time": "2024-10-29T08:10:36.446Z"
   },
   {
    "duration": 45,
    "start_time": "2024-10-29T08:10:36.458Z"
   },
   {
    "duration": 17,
    "start_time": "2024-10-29T08:10:36.505Z"
   },
   {
    "duration": 3,
    "start_time": "2024-10-29T08:10:36.524Z"
   },
   {
    "duration": 10,
    "start_time": "2024-10-29T08:10:36.529Z"
   },
   {
    "duration": 201,
    "start_time": "2024-10-29T08:10:36.540Z"
   },
   {
    "duration": 49,
    "start_time": "2024-10-29T08:10:36.743Z"
   },
   {
    "duration": 3,
    "start_time": "2024-10-29T08:10:36.795Z"
   },
   {
    "duration": 4635,
    "start_time": "2024-10-29T08:14:04.785Z"
   },
   {
    "duration": 960,
    "start_time": "2024-10-29T08:14:09.422Z"
   },
   {
    "duration": 184,
    "start_time": "2024-10-29T08:14:10.383Z"
   },
   {
    "duration": 182,
    "start_time": "2024-10-29T08:14:10.575Z"
   },
   {
    "duration": 5,
    "start_time": "2024-10-29T08:14:10.759Z"
   },
   {
    "duration": 539,
    "start_time": "2024-10-29T08:14:10.765Z"
   },
   {
    "duration": 1007,
    "start_time": "2024-10-29T08:14:11.306Z"
   },
   {
    "duration": 63,
    "start_time": "2024-10-29T08:14:12.315Z"
   },
   {
    "duration": 57,
    "start_time": "2024-10-29T08:14:12.380Z"
   },
   {
    "duration": 81,
    "start_time": "2024-10-29T08:14:12.441Z"
   },
   {
    "duration": 21,
    "start_time": "2024-10-29T08:14:12.524Z"
   },
   {
    "duration": 30,
    "start_time": "2024-10-29T08:14:12.547Z"
   },
   {
    "duration": 31,
    "start_time": "2024-10-29T08:14:12.580Z"
   },
   {
    "duration": 77,
    "start_time": "2024-10-29T08:14:12.613Z"
   },
   {
    "duration": 23,
    "start_time": "2024-10-29T08:14:12.692Z"
   },
   {
    "duration": 69,
    "start_time": "2024-10-29T08:14:12.716Z"
   },
   {
    "duration": 23,
    "start_time": "2024-10-29T08:14:12.787Z"
   },
   {
    "duration": 153,
    "start_time": "2024-10-29T08:14:12.812Z"
   },
   {
    "duration": 27,
    "start_time": "2024-10-29T08:14:12.967Z"
   },
   {
    "duration": 35,
    "start_time": "2024-10-29T08:14:12.996Z"
   },
   {
    "duration": 11,
    "start_time": "2024-10-29T08:14:13.033Z"
   },
   {
    "duration": 99,
    "start_time": "2024-10-29T08:14:13.046Z"
   },
   {
    "duration": 553,
    "start_time": "2024-10-29T08:14:13.146Z"
   },
   {
    "duration": 27,
    "start_time": "2024-10-29T08:14:13.700Z"
   },
   {
    "duration": 510,
    "start_time": "2024-10-29T08:14:13.729Z"
   },
   {
    "duration": 52,
    "start_time": "2024-10-29T08:14:14.241Z"
   },
   {
    "duration": 575,
    "start_time": "2024-10-29T08:14:14.294Z"
   },
   {
    "duration": 23,
    "start_time": "2024-10-29T08:14:14.873Z"
   },
   {
    "duration": 123,
    "start_time": "2024-10-29T08:14:14.897Z"
   },
   {
    "duration": 545,
    "start_time": "2024-10-29T08:14:15.022Z"
   },
   {
    "duration": 12,
    "start_time": "2024-10-29T08:14:15.568Z"
   },
   {
    "duration": 33,
    "start_time": "2024-10-29T08:14:15.582Z"
   },
   {
    "duration": 16,
    "start_time": "2024-10-29T08:14:15.616Z"
   },
   {
    "duration": 7,
    "start_time": "2024-10-29T08:14:15.633Z"
   },
   {
    "duration": 5,
    "start_time": "2024-10-29T08:14:15.642Z"
   },
   {
    "duration": 179,
    "start_time": "2024-10-29T08:14:15.649Z"
   },
   {
    "duration": 51,
    "start_time": "2024-10-29T08:14:15.830Z"
   },
   {
    "duration": 3,
    "start_time": "2024-10-29T08:14:15.882Z"
   },
   {
    "duration": 4701,
    "start_time": "2024-10-29T08:41:26.888Z"
   },
   {
    "duration": 935,
    "start_time": "2024-10-29T08:41:31.592Z"
   },
   {
    "duration": 179,
    "start_time": "2024-10-29T08:41:32.529Z"
   },
   {
    "duration": 158,
    "start_time": "2024-10-29T08:41:32.710Z"
   },
   {
    "duration": 8,
    "start_time": "2024-10-29T08:41:32.870Z"
   },
   {
    "duration": 530,
    "start_time": "2024-10-29T08:41:32.879Z"
   },
   {
    "duration": 1061,
    "start_time": "2024-10-29T08:41:33.411Z"
   },
   {
    "duration": 57,
    "start_time": "2024-10-29T08:41:34.476Z"
   },
   {
    "duration": 72,
    "start_time": "2024-10-29T08:41:34.535Z"
   },
   {
    "duration": 67,
    "start_time": "2024-10-29T08:41:34.610Z"
   },
   {
    "duration": 20,
    "start_time": "2024-10-29T08:41:34.679Z"
   },
   {
    "duration": 28,
    "start_time": "2024-10-29T08:41:34.701Z"
   },
   {
    "duration": 52,
    "start_time": "2024-10-29T08:41:34.731Z"
   },
   {
    "duration": 59,
    "start_time": "2024-10-29T08:41:34.785Z"
   },
   {
    "duration": 42,
    "start_time": "2024-10-29T08:41:34.845Z"
   },
   {
    "duration": 61,
    "start_time": "2024-10-29T08:41:34.889Z"
   },
   {
    "duration": 48,
    "start_time": "2024-10-29T08:41:34.951Z"
   },
   {
    "duration": 145,
    "start_time": "2024-10-29T08:41:35.001Z"
   },
   {
    "duration": 31,
    "start_time": "2024-10-29T08:41:35.148Z"
   },
   {
    "duration": 38,
    "start_time": "2024-10-29T08:41:35.181Z"
   },
   {
    "duration": 14,
    "start_time": "2024-10-29T08:41:35.221Z"
   },
   {
    "duration": 96,
    "start_time": "2024-10-29T08:41:35.237Z"
   },
   {
    "duration": 535,
    "start_time": "2024-10-29T08:41:35.335Z"
   },
   {
    "duration": 35,
    "start_time": "2024-10-29T08:41:35.876Z"
   },
   {
    "duration": 510,
    "start_time": "2024-10-29T08:41:35.913Z"
   },
   {
    "duration": 56,
    "start_time": "2024-10-29T08:41:36.425Z"
   },
   {
    "duration": 575,
    "start_time": "2024-10-29T08:41:36.483Z"
   },
   {
    "duration": 30,
    "start_time": "2024-10-29T08:41:37.064Z"
   },
   {
    "duration": 112,
    "start_time": "2024-10-29T08:41:37.096Z"
   },
   {
    "duration": 512,
    "start_time": "2024-10-29T08:41:37.210Z"
   },
   {
    "duration": 7,
    "start_time": "2024-10-29T08:41:37.724Z"
   },
   {
    "duration": 44,
    "start_time": "2024-10-29T08:41:37.732Z"
   },
   {
    "duration": 15,
    "start_time": "2024-10-29T08:41:37.778Z"
   },
   {
    "duration": 2,
    "start_time": "2024-10-29T08:41:37.795Z"
   },
   {
    "duration": 67,
    "start_time": "2024-10-29T08:41:37.798Z"
   },
   {
    "duration": 173,
    "start_time": "2024-10-29T08:41:37.867Z"
   },
   {
    "duration": 47,
    "start_time": "2024-10-29T08:41:38.042Z"
   },
   {
    "duration": 2,
    "start_time": "2024-10-29T08:41:38.091Z"
   },
   {
    "duration": 4906,
    "start_time": "2024-10-29T09:51:29.093Z"
   },
   {
    "duration": 937,
    "start_time": "2024-10-29T09:51:34.001Z"
   },
   {
    "duration": 191,
    "start_time": "2024-10-29T09:51:34.940Z"
   },
   {
    "duration": 166,
    "start_time": "2024-10-29T09:51:35.133Z"
   },
   {
    "duration": 4,
    "start_time": "2024-10-29T09:51:35.301Z"
   },
   {
    "duration": 560,
    "start_time": "2024-10-29T09:51:35.307Z"
   },
   {
    "duration": 1211,
    "start_time": "2024-10-29T09:51:35.868Z"
   },
   {
    "duration": 69,
    "start_time": "2024-10-29T09:51:37.081Z"
   },
   {
    "duration": 92,
    "start_time": "2024-10-29T09:51:37.152Z"
   },
   {
    "duration": 75,
    "start_time": "2024-10-29T09:51:37.247Z"
   },
   {
    "duration": 22,
    "start_time": "2024-10-29T09:51:37.323Z"
   },
   {
    "duration": 47,
    "start_time": "2024-10-29T09:51:37.346Z"
   },
   {
    "duration": 28,
    "start_time": "2024-10-29T09:51:37.396Z"
   },
   {
    "duration": 75,
    "start_time": "2024-10-29T09:51:37.426Z"
   },
   {
    "duration": 23,
    "start_time": "2024-10-29T09:51:37.502Z"
   },
   {
    "duration": 79,
    "start_time": "2024-10-29T09:51:37.527Z"
   },
   {
    "duration": 22,
    "start_time": "2024-10-29T09:51:37.609Z"
   },
   {
    "duration": 219,
    "start_time": "2024-10-29T09:51:37.633Z"
   },
   {
    "duration": 65,
    "start_time": "2024-10-29T09:51:37.854Z"
   },
   {
    "duration": 35,
    "start_time": "2024-10-29T09:51:37.921Z"
   },
   {
    "duration": 12,
    "start_time": "2024-10-29T09:51:37.958Z"
   },
   {
    "duration": 74,
    "start_time": "2024-10-29T09:51:37.975Z"
   },
   {
    "duration": 652,
    "start_time": "2024-10-29T09:51:38.051Z"
   },
   {
    "duration": 35,
    "start_time": "2024-10-29T09:51:38.704Z"
   },
   {
    "duration": 505,
    "start_time": "2024-10-29T09:51:38.741Z"
   },
   {
    "duration": 68,
    "start_time": "2024-10-29T09:51:39.248Z"
   },
   {
    "duration": 654,
    "start_time": "2024-10-29T09:51:39.318Z"
   },
   {
    "duration": 24,
    "start_time": "2024-10-29T09:51:39.977Z"
   },
   {
    "duration": 141,
    "start_time": "2024-10-29T09:51:40.003Z"
   },
   {
    "duration": 586,
    "start_time": "2024-10-29T09:51:40.146Z"
   },
   {
    "duration": 7,
    "start_time": "2024-10-29T09:51:40.733Z"
   },
   {
    "duration": 62,
    "start_time": "2024-10-29T09:51:40.742Z"
   },
   {
    "duration": 15,
    "start_time": "2024-10-29T09:51:40.806Z"
   },
   {
    "duration": 3,
    "start_time": "2024-10-29T09:51:40.823Z"
   },
   {
    "duration": 11,
    "start_time": "2024-10-29T09:51:40.827Z"
   },
   {
    "duration": 201,
    "start_time": "2024-10-29T09:51:40.840Z"
   },
   {
    "duration": 59,
    "start_time": "2024-10-29T09:51:41.042Z"
   },
   {
    "duration": 3,
    "start_time": "2024-10-29T09:51:41.103Z"
   },
   {
    "duration": 4947,
    "start_time": "2024-10-29T10:12:16.951Z"
   },
   {
    "duration": 1007,
    "start_time": "2024-10-29T10:12:21.900Z"
   },
   {
    "duration": 209,
    "start_time": "2024-10-29T10:12:22.908Z"
   },
   {
    "duration": 165,
    "start_time": "2024-10-29T10:12:23.119Z"
   },
   {
    "duration": 6,
    "start_time": "2024-10-29T10:12:23.286Z"
   },
   {
    "duration": 538,
    "start_time": "2024-10-29T10:12:23.295Z"
   },
   {
    "duration": 1057,
    "start_time": "2024-10-29T10:12:23.834Z"
   },
   {
    "duration": 56,
    "start_time": "2024-10-29T10:12:24.895Z"
   },
   {
    "duration": 89,
    "start_time": "2024-10-29T10:12:24.952Z"
   },
   {
    "duration": 64,
    "start_time": "2024-10-29T10:12:25.043Z"
   },
   {
    "duration": 27,
    "start_time": "2024-10-29T10:12:25.109Z"
   },
   {
    "duration": 32,
    "start_time": "2024-10-29T10:12:25.138Z"
   },
   {
    "duration": 31,
    "start_time": "2024-10-29T10:12:25.172Z"
   },
   {
    "duration": 119,
    "start_time": "2024-10-29T10:12:25.204Z"
   },
   {
    "duration": 24,
    "start_time": "2024-10-29T10:12:25.325Z"
   },
   {
    "duration": 75,
    "start_time": "2024-10-29T10:12:25.351Z"
   },
   {
    "duration": 21,
    "start_time": "2024-10-29T10:12:25.428Z"
   },
   {
    "duration": 167,
    "start_time": "2024-10-29T10:12:25.450Z"
   },
   {
    "duration": 23,
    "start_time": "2024-10-29T10:12:25.619Z"
   },
   {
    "duration": 52,
    "start_time": "2024-10-29T10:12:25.644Z"
   },
   {
    "duration": 17,
    "start_time": "2024-10-29T10:12:25.699Z"
   },
   {
    "duration": 125,
    "start_time": "2024-10-29T10:12:25.717Z"
   },
   {
    "duration": 580,
    "start_time": "2024-10-29T10:12:25.844Z"
   },
   {
    "duration": 34,
    "start_time": "2024-10-29T10:12:26.426Z"
   },
   {
    "duration": 531,
    "start_time": "2024-10-29T10:12:26.462Z"
   },
   {
    "duration": 44,
    "start_time": "2024-10-29T10:12:26.996Z"
   },
   {
    "duration": 666,
    "start_time": "2024-10-29T10:12:27.042Z"
   },
   {
    "duration": 22,
    "start_time": "2024-10-29T10:12:27.712Z"
   },
   {
    "duration": 168,
    "start_time": "2024-10-29T10:12:27.735Z"
   },
   {
    "duration": 593,
    "start_time": "2024-10-29T10:12:27.907Z"
   },
   {
    "duration": 9,
    "start_time": "2024-10-29T10:12:28.502Z"
   },
   {
    "duration": 31,
    "start_time": "2024-10-29T10:12:28.512Z"
   },
   {
    "duration": 47,
    "start_time": "2024-10-29T10:12:28.545Z"
   },
   {
    "duration": 217,
    "start_time": "2024-10-29T10:12:28.594Z"
   },
   {
    "duration": 41,
    "start_time": "2024-10-29T10:12:28.813Z"
   },
   {
    "duration": 3,
    "start_time": "2024-10-29T10:12:28.855Z"
   },
   {
    "duration": 4575,
    "start_time": "2024-10-29T11:19:50.838Z"
   },
   {
    "duration": 981,
    "start_time": "2024-10-29T11:19:55.415Z"
   },
   {
    "duration": 199,
    "start_time": "2024-10-29T11:19:56.397Z"
   },
   {
    "duration": 160,
    "start_time": "2024-10-29T11:19:56.598Z"
   },
   {
    "duration": 3,
    "start_time": "2024-10-29T11:19:56.760Z"
   },
   {
    "duration": 513,
    "start_time": "2024-10-29T11:19:56.765Z"
   },
   {
    "duration": 1143,
    "start_time": "2024-10-29T11:19:57.280Z"
   },
   {
    "duration": 67,
    "start_time": "2024-10-29T11:19:58.424Z"
   },
   {
    "duration": 57,
    "start_time": "2024-10-29T11:19:58.492Z"
   },
   {
    "duration": 76,
    "start_time": "2024-10-29T11:19:58.552Z"
   },
   {
    "duration": 20,
    "start_time": "2024-10-29T11:19:58.630Z"
   },
   {
    "duration": 39,
    "start_time": "2024-10-29T11:19:58.652Z"
   },
   {
    "duration": 29,
    "start_time": "2024-10-29T11:19:58.692Z"
   },
   {
    "duration": 62,
    "start_time": "2024-10-29T11:19:58.722Z"
   },
   {
    "duration": 23,
    "start_time": "2024-10-29T11:19:58.786Z"
   },
   {
    "duration": 68,
    "start_time": "2024-10-29T11:19:58.810Z"
   },
   {
    "duration": 24,
    "start_time": "2024-10-29T11:19:58.880Z"
   },
   {
    "duration": 159,
    "start_time": "2024-10-29T11:19:58.906Z"
   },
   {
    "duration": 36,
    "start_time": "2024-10-29T11:19:59.067Z"
   },
   {
    "duration": 38,
    "start_time": "2024-10-29T11:19:59.105Z"
   },
   {
    "duration": 12,
    "start_time": "2024-10-29T11:19:59.145Z"
   },
   {
    "duration": 126,
    "start_time": "2024-10-29T11:19:59.158Z"
   },
   {
    "duration": 561,
    "start_time": "2024-10-29T11:19:59.286Z"
   },
   {
    "duration": 38,
    "start_time": "2024-10-29T11:19:59.849Z"
   },
   {
    "duration": 475,
    "start_time": "2024-10-29T11:19:59.888Z"
   },
   {
    "duration": 54,
    "start_time": "2024-10-29T11:20:00.365Z"
   },
   {
    "duration": 638,
    "start_time": "2024-10-29T11:20:00.421Z"
   },
   {
    "duration": 33,
    "start_time": "2024-10-29T11:20:01.063Z"
   },
   {
    "duration": 129,
    "start_time": "2024-10-29T11:20:01.097Z"
   },
   {
    "duration": 565,
    "start_time": "2024-10-29T11:20:01.228Z"
   },
   {
    "duration": 7,
    "start_time": "2024-10-29T11:20:01.795Z"
   },
   {
    "duration": 57,
    "start_time": "2024-10-29T11:20:01.803Z"
   },
   {
    "duration": 18,
    "start_time": "2024-10-29T11:20:01.862Z"
   },
   {
    "duration": 246,
    "start_time": "2024-10-29T11:20:01.882Z"
   },
   {
    "duration": 47,
    "start_time": "2024-10-29T11:20:02.129Z"
   },
   {
    "duration": 12,
    "start_time": "2024-10-29T11:20:02.178Z"
   },
   {
    "duration": 691499,
    "start_time": "2024-10-29T11:20:02.192Z"
   },
   {
    "duration": 896,
    "start_time": "2024-10-29T11:31:33.693Z"
   },
   {
    "duration": 89,
    "start_time": "2024-10-29T11:31:34.591Z"
   },
   {
    "duration": 2,
    "start_time": "2024-10-29T11:31:34.682Z"
   },
   {
    "duration": 26,
    "start_time": "2024-10-29T11:31:34.686Z"
   },
   {
    "duration": 4,
    "start_time": "2024-10-29T11:31:34.713Z"
   },
   {
    "duration": 6,
    "start_time": "2024-10-29T11:31:34.718Z"
   },
   {
    "duration": 7,
    "start_time": "2024-10-29T11:31:34.726Z"
   },
   {
    "duration": 4,
    "start_time": "2024-10-29T11:31:34.735Z"
   },
   {
    "duration": 6,
    "start_time": "2024-10-29T11:31:34.740Z"
   },
   {
    "duration": 964331,
    "start_time": "2024-10-29T11:31:34.748Z"
   },
   {
    "duration": 221,
    "start_time": "2024-10-29T11:47:39.082Z"
   },
   {
    "duration": 2,
    "start_time": "2024-10-29T11:47:39.305Z"
   },
   {
    "duration": 1700,
    "start_time": "2024-10-29T11:47:39.309Z"
   },
   {
    "duration": 55,
    "start_time": "2024-10-29T11:47:41.011Z"
   },
   {
    "duration": 3,
    "start_time": "2024-10-29T11:47:41.068Z"
   },
   {
    "duration": 138,
    "start_time": "2024-10-29T11:47:41.072Z"
   },
   {
    "duration": 5064,
    "start_time": "2024-10-29T11:56:01.541Z"
   },
   {
    "duration": 939,
    "start_time": "2024-10-29T11:56:06.608Z"
   },
   {
    "duration": 176,
    "start_time": "2024-10-29T11:56:07.548Z"
   },
   {
    "duration": 150,
    "start_time": "2024-10-29T11:56:07.726Z"
   },
   {
    "duration": 4,
    "start_time": "2024-10-29T11:56:07.878Z"
   },
   {
    "duration": 556,
    "start_time": "2024-10-29T11:56:07.884Z"
   },
   {
    "duration": 1017,
    "start_time": "2024-10-29T11:56:08.441Z"
   },
   {
    "duration": 60,
    "start_time": "2024-10-29T11:56:09.460Z"
   },
   {
    "duration": 117,
    "start_time": "2024-10-29T11:56:09.522Z"
   },
   {
    "duration": 55,
    "start_time": "2024-10-29T11:56:09.642Z"
   },
   {
    "duration": 31,
    "start_time": "2024-10-29T11:56:09.698Z"
   },
   {
    "duration": 22,
    "start_time": "2024-10-29T11:56:09.731Z"
   },
   {
    "duration": 28,
    "start_time": "2024-10-29T11:56:09.755Z"
   },
   {
    "duration": 59,
    "start_time": "2024-10-29T11:56:09.784Z"
   },
   {
    "duration": 33,
    "start_time": "2024-10-29T11:56:09.845Z"
   },
   {
    "duration": 55,
    "start_time": "2024-10-29T11:56:09.879Z"
   },
   {
    "duration": 40,
    "start_time": "2024-10-29T11:56:09.936Z"
   },
   {
    "duration": 147,
    "start_time": "2024-10-29T11:56:09.978Z"
   },
   {
    "duration": 23,
    "start_time": "2024-10-29T11:56:10.127Z"
   },
   {
    "duration": 56,
    "start_time": "2024-10-29T11:56:10.152Z"
   },
   {
    "duration": 12,
    "start_time": "2024-10-29T11:56:10.210Z"
   },
   {
    "duration": 137,
    "start_time": "2024-10-29T11:56:10.224Z"
   },
   {
    "duration": 515,
    "start_time": "2024-10-29T11:56:10.363Z"
   },
   {
    "duration": 34,
    "start_time": "2024-10-29T11:56:10.879Z"
   },
   {
    "duration": 523,
    "start_time": "2024-10-29T11:56:10.915Z"
   },
   {
    "duration": 54,
    "start_time": "2024-10-29T11:56:11.440Z"
   },
   {
    "duration": 583,
    "start_time": "2024-10-29T11:56:11.496Z"
   },
   {
    "duration": 22,
    "start_time": "2024-10-29T11:56:12.083Z"
   },
   {
    "duration": 124,
    "start_time": "2024-10-29T11:56:12.107Z"
   },
   {
    "duration": 529,
    "start_time": "2024-10-29T11:56:12.233Z"
   },
   {
    "duration": 15,
    "start_time": "2024-10-29T11:56:12.764Z"
   },
   {
    "duration": 30,
    "start_time": "2024-10-29T11:56:12.781Z"
   },
   {
    "duration": 16,
    "start_time": "2024-10-29T11:56:12.813Z"
   },
   {
    "duration": 188,
    "start_time": "2024-10-29T11:56:12.830Z"
   },
   {
    "duration": 39,
    "start_time": "2024-10-29T11:56:13.020Z"
   },
   {
    "duration": 3,
    "start_time": "2024-10-29T11:56:13.061Z"
   },
   {
    "duration": 4526,
    "start_time": "2024-10-29T13:08:48.191Z"
   },
   {
    "duration": 939,
    "start_time": "2024-10-29T13:08:52.719Z"
   },
   {
    "duration": 176,
    "start_time": "2024-10-29T13:08:53.660Z"
   },
   {
    "duration": 164,
    "start_time": "2024-10-29T13:08:53.838Z"
   },
   {
    "duration": 4,
    "start_time": "2024-10-29T13:08:54.004Z"
   },
   {
    "duration": 528,
    "start_time": "2024-10-29T13:08:54.010Z"
   },
   {
    "duration": 1037,
    "start_time": "2024-10-29T13:08:54.539Z"
   },
   {
    "duration": 60,
    "start_time": "2024-10-29T13:08:55.577Z"
   },
   {
    "duration": 67,
    "start_time": "2024-10-29T13:08:55.639Z"
   },
   {
    "duration": 67,
    "start_time": "2024-10-29T13:08:55.709Z"
   },
   {
    "duration": 31,
    "start_time": "2024-10-29T13:08:55.777Z"
   },
   {
    "duration": 26,
    "start_time": "2024-10-29T13:08:55.810Z"
   },
   {
    "duration": 44,
    "start_time": "2024-10-29T13:08:55.838Z"
   },
   {
    "duration": 75,
    "start_time": "2024-10-29T13:08:55.884Z"
   },
   {
    "duration": 32,
    "start_time": "2024-10-29T13:08:55.961Z"
   },
   {
    "duration": 56,
    "start_time": "2024-10-29T13:08:55.995Z"
   },
   {
    "duration": 37,
    "start_time": "2024-10-29T13:08:56.053Z"
   },
   {
    "duration": 146,
    "start_time": "2024-10-29T13:08:56.092Z"
   },
   {
    "duration": 37,
    "start_time": "2024-10-29T13:08:56.239Z"
   },
   {
    "duration": 45,
    "start_time": "2024-10-29T13:08:56.278Z"
   },
   {
    "duration": 14,
    "start_time": "2024-10-29T13:08:56.325Z"
   },
   {
    "duration": 83,
    "start_time": "2024-10-29T13:08:56.340Z"
   },
   {
    "duration": 544,
    "start_time": "2024-10-29T13:08:56.425Z"
   },
   {
    "duration": 33,
    "start_time": "2024-10-29T13:08:56.971Z"
   },
   {
    "duration": 590,
    "start_time": "2024-10-29T13:08:57.006Z"
   },
   {
    "duration": 36,
    "start_time": "2024-10-29T13:08:57.598Z"
   },
   {
    "duration": 551,
    "start_time": "2024-10-29T13:08:57.636Z"
   },
   {
    "duration": 30,
    "start_time": "2024-10-29T13:08:58.193Z"
   },
   {
    "duration": 137,
    "start_time": "2024-10-29T13:08:58.226Z"
   },
   {
    "duration": 515,
    "start_time": "2024-10-29T13:08:58.364Z"
   },
   {
    "duration": 8,
    "start_time": "2024-10-29T13:08:58.880Z"
   },
   {
    "duration": 30,
    "start_time": "2024-10-29T13:08:58.890Z"
   },
   {
    "duration": 23,
    "start_time": "2024-10-29T13:08:58.922Z"
   },
   {
    "duration": 197,
    "start_time": "2024-10-29T13:08:58.946Z"
   },
   {
    "duration": 47,
    "start_time": "2024-10-29T13:08:59.144Z"
   },
   {
    "duration": 2,
    "start_time": "2024-10-29T13:08:59.193Z"
   },
   {
    "duration": 3760986,
    "start_time": "2024-10-29T13:08:59.197Z"
   },
   {
    "duration": 894,
    "start_time": "2024-10-29T14:11:40.185Z"
   },
   {
    "duration": 24,
    "start_time": "2024-10-29T14:11:41.080Z"
   },
   {
    "duration": 3,
    "start_time": "2024-10-29T14:11:41.106Z"
   },
   {
    "duration": 26,
    "start_time": "2024-10-29T14:11:41.110Z"
   },
   {
    "duration": 3,
    "start_time": "2024-10-29T14:11:41.138Z"
   },
   {
    "duration": 5,
    "start_time": "2024-10-29T14:11:41.142Z"
   },
   {
    "duration": 3,
    "start_time": "2024-10-29T14:11:41.175Z"
   },
   {
    "duration": 20,
    "start_time": "2024-10-29T14:11:41.180Z"
   },
   {
    "duration": 9,
    "start_time": "2024-10-29T14:11:41.201Z"
   },
   {
    "duration": 962567,
    "start_time": "2024-10-29T14:11:41.211Z"
   },
   {
    "duration": 223,
    "start_time": "2024-10-29T14:27:43.780Z"
   },
   {
    "duration": 3,
    "start_time": "2024-10-29T14:27:44.005Z"
   },
   {
    "duration": 3,
    "start_time": "2024-10-29T14:27:44.009Z"
   },
   {
    "duration": 223,
    "start_time": "2024-10-29T14:27:44.014Z"
   },
   {
    "duration": 48,
    "start_time": "2024-10-29T14:27:44.239Z"
   },
   {
    "duration": 13,
    "start_time": "2024-10-29T14:27:44.289Z"
   },
   {
    "duration": 133,
    "start_time": "2024-10-29T14:27:44.304Z"
   },
   {
    "duration": 4289,
    "start_time": "2024-10-29T15:11:50.732Z"
   },
   {
    "duration": 863,
    "start_time": "2024-10-29T15:11:55.023Z"
   },
   {
    "duration": 174,
    "start_time": "2024-10-29T15:11:55.888Z"
   },
   {
    "duration": 153,
    "start_time": "2024-10-29T15:11:56.064Z"
   },
   {
    "duration": 4,
    "start_time": "2024-10-29T15:11:56.219Z"
   },
   {
    "duration": 492,
    "start_time": "2024-10-29T15:11:56.224Z"
   },
   {
    "duration": 984,
    "start_time": "2024-10-29T15:11:56.717Z"
   },
   {
    "duration": 53,
    "start_time": "2024-10-29T15:11:57.703Z"
   },
   {
    "duration": 69,
    "start_time": "2024-10-29T15:11:57.758Z"
   },
   {
    "duration": 63,
    "start_time": "2024-10-29T15:11:57.830Z"
   },
   {
    "duration": 23,
    "start_time": "2024-10-29T15:11:57.894Z"
   },
   {
    "duration": 24,
    "start_time": "2024-10-29T15:11:57.918Z"
   },
   {
    "duration": 38,
    "start_time": "2024-10-29T15:11:57.944Z"
   },
   {
    "duration": 59,
    "start_time": "2024-10-29T15:11:57.984Z"
   },
   {
    "duration": 33,
    "start_time": "2024-10-29T15:11:58.044Z"
   },
   {
    "duration": 55,
    "start_time": "2024-10-29T15:11:58.078Z"
   },
   {
    "duration": 21,
    "start_time": "2024-10-29T15:11:58.134Z"
   },
   {
    "duration": 181,
    "start_time": "2024-10-29T15:11:58.156Z"
   },
   {
    "duration": 24,
    "start_time": "2024-10-29T15:11:58.339Z"
   },
   {
    "duration": 48,
    "start_time": "2024-10-29T15:11:58.364Z"
   },
   {
    "duration": 11,
    "start_time": "2024-10-29T15:11:58.413Z"
   },
   {
    "duration": 82,
    "start_time": "2024-10-29T15:11:58.425Z"
   },
   {
    "duration": 531,
    "start_time": "2024-10-29T15:11:58.509Z"
   },
   {
    "duration": 38,
    "start_time": "2024-10-29T15:11:59.041Z"
   },
   {
    "duration": 462,
    "start_time": "2024-10-29T15:11:59.081Z"
   },
   {
    "duration": 53,
    "start_time": "2024-10-29T15:11:59.544Z"
   },
   {
    "duration": 551,
    "start_time": "2024-10-29T15:11:59.599Z"
   },
   {
    "duration": 25,
    "start_time": "2024-10-29T15:12:00.155Z"
   },
   {
    "duration": 115,
    "start_time": "2024-10-29T15:12:00.182Z"
   },
   {
    "duration": 523,
    "start_time": "2024-10-29T15:12:00.298Z"
   },
   {
    "duration": 7,
    "start_time": "2024-10-29T15:12:00.823Z"
   },
   {
    "duration": 85,
    "start_time": "2024-10-29T15:12:00.831Z"
   },
   {
    "duration": 15,
    "start_time": "2024-10-29T15:12:00.917Z"
   },
   {
    "duration": 82,
    "start_time": "2024-10-29T15:12:00.934Z"
   },
   {
    "duration": 161,
    "start_time": "2024-10-29T15:12:01.018Z"
   },
   {
    "duration": 2,
    "start_time": "2024-10-29T15:12:01.181Z"
   },
   {
    "duration": 802,
    "start_time": "2024-10-29T15:12:01.184Z"
   },
   {
    "duration": 54,
    "start_time": "2024-10-29T15:12:01.987Z"
   },
   {
    "duration": 3,
    "start_time": "2024-10-29T15:12:02.042Z"
   },
   {
    "duration": 4292,
    "start_time": "2024-10-29T15:12:32.039Z"
   },
   {
    "duration": 888,
    "start_time": "2024-10-29T15:12:36.333Z"
   },
   {
    "duration": 186,
    "start_time": "2024-10-29T15:12:37.223Z"
   },
   {
    "duration": 152,
    "start_time": "2024-10-29T15:12:37.412Z"
   },
   {
    "duration": 11,
    "start_time": "2024-10-29T15:12:37.566Z"
   },
   {
    "duration": 507,
    "start_time": "2024-10-29T15:12:37.579Z"
   },
   {
    "duration": 1078,
    "start_time": "2024-10-29T15:12:38.088Z"
   },
   {
    "duration": 65,
    "start_time": "2024-10-29T15:12:39.168Z"
   },
   {
    "duration": 68,
    "start_time": "2024-10-29T15:12:39.235Z"
   },
   {
    "duration": 53,
    "start_time": "2024-10-29T15:12:39.305Z"
   },
   {
    "duration": 31,
    "start_time": "2024-10-29T15:12:39.360Z"
   },
   {
    "duration": 24,
    "start_time": "2024-10-29T15:12:39.392Z"
   },
   {
    "duration": 20,
    "start_time": "2024-10-29T15:12:39.417Z"
   },
   {
    "duration": 75,
    "start_time": "2024-10-29T15:12:39.438Z"
   },
   {
    "duration": 50,
    "start_time": "2024-10-29T15:12:39.514Z"
   },
   {
    "duration": 54,
    "start_time": "2024-10-29T15:12:39.566Z"
   },
   {
    "duration": 22,
    "start_time": "2024-10-29T15:12:39.622Z"
   },
   {
    "duration": 150,
    "start_time": "2024-10-29T15:12:39.645Z"
   },
   {
    "duration": 24,
    "start_time": "2024-10-29T15:12:39.797Z"
   },
   {
    "duration": 38,
    "start_time": "2024-10-29T15:12:39.822Z"
   },
   {
    "duration": 23,
    "start_time": "2024-10-29T15:12:39.861Z"
   },
   {
    "duration": 63,
    "start_time": "2024-10-29T15:12:39.885Z"
   },
   {
    "duration": 522,
    "start_time": "2024-10-29T15:12:39.949Z"
   },
   {
    "duration": 34,
    "start_time": "2024-10-29T15:12:40.473Z"
   },
   {
    "duration": 531,
    "start_time": "2024-10-29T15:12:40.509Z"
   },
   {
    "duration": 53,
    "start_time": "2024-10-29T15:12:41.042Z"
   },
   {
    "duration": 545,
    "start_time": "2024-10-29T15:12:41.097Z"
   },
   {
    "duration": 30,
    "start_time": "2024-10-29T15:12:41.646Z"
   },
   {
    "duration": 109,
    "start_time": "2024-10-29T15:12:41.677Z"
   },
   {
    "duration": 486,
    "start_time": "2024-10-29T15:12:41.787Z"
   },
   {
    "duration": 7,
    "start_time": "2024-10-29T15:12:42.275Z"
   },
   {
    "duration": 29,
    "start_time": "2024-10-29T15:12:42.283Z"
   },
   {
    "duration": 14,
    "start_time": "2024-10-29T15:12:42.314Z"
   },
   {
    "duration": 102,
    "start_time": "2024-10-29T15:12:42.330Z"
   },
   {
    "duration": 163,
    "start_time": "2024-10-29T15:12:42.434Z"
   },
   {
    "duration": 3,
    "start_time": "2024-10-29T15:12:42.598Z"
   },
   {
    "duration": 782,
    "start_time": "2024-10-29T15:12:42.603Z"
   },
   {
    "duration": 56,
    "start_time": "2024-10-29T15:12:43.386Z"
   },
   {
    "duration": 2,
    "start_time": "2024-10-29T15:12:43.444Z"
   },
   {
    "duration": 4401,
    "start_time": "2024-10-29T15:14:17.286Z"
   },
   {
    "duration": 1030,
    "start_time": "2024-10-29T15:14:21.689Z"
   },
   {
    "duration": 182,
    "start_time": "2024-10-29T15:14:22.720Z"
   },
   {
    "duration": 156,
    "start_time": "2024-10-29T15:14:22.905Z"
   },
   {
    "duration": 4,
    "start_time": "2024-10-29T15:14:23.063Z"
   },
   {
    "duration": 489,
    "start_time": "2024-10-29T15:14:23.076Z"
   },
   {
    "duration": 1014,
    "start_time": "2024-10-29T15:14:23.567Z"
   },
   {
    "duration": 69,
    "start_time": "2024-10-29T15:14:24.583Z"
   },
   {
    "duration": 66,
    "start_time": "2024-10-29T15:14:24.654Z"
   },
   {
    "duration": 61,
    "start_time": "2024-10-29T15:14:24.722Z"
   },
   {
    "duration": 22,
    "start_time": "2024-10-29T15:14:24.784Z"
   },
   {
    "duration": 24,
    "start_time": "2024-10-29T15:14:24.807Z"
   },
   {
    "duration": 89,
    "start_time": "2024-10-29T15:14:24.833Z"
   },
   {
    "duration": 60,
    "start_time": "2024-10-29T15:14:24.923Z"
   },
   {
    "duration": 20,
    "start_time": "2024-10-29T15:14:24.985Z"
   },
   {
    "duration": 54,
    "start_time": "2024-10-29T15:14:25.007Z"
   },
   {
    "duration": 30,
    "start_time": "2024-10-29T15:14:25.063Z"
   },
   {
    "duration": 146,
    "start_time": "2024-10-29T15:14:25.095Z"
   },
   {
    "duration": 54,
    "start_time": "2024-10-29T15:14:25.242Z"
   },
   {
    "duration": 39,
    "start_time": "2024-10-29T15:14:25.298Z"
   },
   {
    "duration": 11,
    "start_time": "2024-10-29T15:14:25.338Z"
   },
   {
    "duration": 74,
    "start_time": "2024-10-29T15:14:25.350Z"
   },
   {
    "duration": 521,
    "start_time": "2024-10-29T15:14:25.425Z"
   },
   {
    "duration": 43,
    "start_time": "2024-10-29T15:14:25.947Z"
   },
   {
    "duration": 449,
    "start_time": "2024-10-29T15:14:25.992Z"
   },
   {
    "duration": 47,
    "start_time": "2024-10-29T15:14:26.443Z"
   },
   {
    "duration": 557,
    "start_time": "2024-10-29T15:14:26.492Z"
   },
   {
    "duration": 25,
    "start_time": "2024-10-29T15:14:27.053Z"
   },
   {
    "duration": 113,
    "start_time": "2024-10-29T15:14:27.081Z"
   },
   {
    "duration": 482,
    "start_time": "2024-10-29T15:14:27.195Z"
   },
   {
    "duration": 8,
    "start_time": "2024-10-29T15:14:27.678Z"
   },
   {
    "duration": 31,
    "start_time": "2024-10-29T15:14:27.687Z"
   },
   {
    "duration": 15,
    "start_time": "2024-10-29T15:14:27.720Z"
   },
   {
    "duration": 180,
    "start_time": "2024-10-29T15:14:27.736Z"
   },
   {
    "duration": 39,
    "start_time": "2024-10-29T15:14:27.918Z"
   },
   {
    "duration": 2,
    "start_time": "2024-10-29T15:14:27.959Z"
   },
   {
    "duration": 225609,
    "start_time": "2024-10-29T15:14:27.975Z"
   },
   {
    "duration": 891,
    "start_time": "2024-10-29T15:18:13.586Z"
   },
   {
    "duration": 3,
    "start_time": "2024-10-29T15:18:14.479Z"
   },
   {
    "duration": 4462,
    "start_time": "2024-10-29T15:32:18.909Z"
   },
   {
    "duration": 897,
    "start_time": "2024-10-29T15:32:23.373Z"
   },
   {
    "duration": 178,
    "start_time": "2024-10-29T15:32:24.272Z"
   },
   {
    "duration": 159,
    "start_time": "2024-10-29T15:32:24.453Z"
   },
   {
    "duration": 4,
    "start_time": "2024-10-29T15:32:24.613Z"
   },
   {
    "duration": 511,
    "start_time": "2024-10-29T15:32:24.618Z"
   },
   {
    "duration": 995,
    "start_time": "2024-10-29T15:32:25.130Z"
   },
   {
    "duration": 64,
    "start_time": "2024-10-29T15:32:26.127Z"
   },
   {
    "duration": 54,
    "start_time": "2024-10-29T15:32:26.193Z"
   },
   {
    "duration": 68,
    "start_time": "2024-10-29T15:32:26.249Z"
   },
   {
    "duration": 22,
    "start_time": "2024-10-29T15:32:26.319Z"
   },
   {
    "duration": 37,
    "start_time": "2024-10-29T15:32:26.343Z"
   },
   {
    "duration": 20,
    "start_time": "2024-10-29T15:32:26.381Z"
   },
   {
    "duration": 62,
    "start_time": "2024-10-29T15:32:26.402Z"
   },
   {
    "duration": 19,
    "start_time": "2024-10-29T15:32:26.475Z"
   },
   {
    "duration": 64,
    "start_time": "2024-10-29T15:32:26.496Z"
   },
   {
    "duration": 24,
    "start_time": "2024-10-29T15:32:26.562Z"
   },
   {
    "duration": 208,
    "start_time": "2024-10-29T15:32:26.588Z"
   },
   {
    "duration": 24,
    "start_time": "2024-10-29T15:32:26.797Z"
   },
   {
    "duration": 38,
    "start_time": "2024-10-29T15:32:26.822Z"
   },
   {
    "duration": 12,
    "start_time": "2024-10-29T15:32:26.876Z"
   },
   {
    "duration": 122,
    "start_time": "2024-10-29T15:32:26.890Z"
   },
   {
    "duration": 531,
    "start_time": "2024-10-29T15:32:27.014Z"
   },
   {
    "duration": 41,
    "start_time": "2024-10-29T15:32:27.547Z"
   },
   {
    "duration": 443,
    "start_time": "2024-10-29T15:32:27.589Z"
   },
   {
    "duration": 52,
    "start_time": "2024-10-29T15:32:28.034Z"
   },
   {
    "duration": 570,
    "start_time": "2024-10-29T15:32:28.087Z"
   },
   {
    "duration": 25,
    "start_time": "2024-10-29T15:32:28.661Z"
   },
   {
    "duration": 119,
    "start_time": "2024-10-29T15:32:28.688Z"
   },
   {
    "duration": 518,
    "start_time": "2024-10-29T15:32:28.809Z"
   },
   {
    "duration": 7,
    "start_time": "2024-10-29T15:32:29.329Z"
   },
   {
    "duration": 45,
    "start_time": "2024-10-29T15:32:29.337Z"
   },
   {
    "duration": 15,
    "start_time": "2024-10-29T15:32:29.384Z"
   },
   {
    "duration": 166,
    "start_time": "2024-10-29T15:32:29.401Z"
   },
   {
    "duration": 35,
    "start_time": "2024-10-29T15:32:29.569Z"
   },
   {
    "duration": 2,
    "start_time": "2024-10-29T15:32:29.606Z"
   },
   {
    "duration": 227669,
    "start_time": "2024-10-29T15:32:29.610Z"
   },
   {
    "duration": 810,
    "start_time": "2024-10-29T15:36:17.280Z"
   },
   {
    "duration": 5,
    "start_time": "2024-10-29T15:36:18.175Z"
   },
   {
    "duration": 155134,
    "start_time": "2024-10-29T15:36:18.183Z"
   },
   {
    "duration": 62,
    "start_time": "2024-10-29T15:38:53.319Z"
   },
   {
    "duration": 26,
    "start_time": "2024-10-29T15:38:53.382Z"
   },
   {
    "duration": 3,
    "start_time": "2024-10-29T15:38:53.409Z"
   },
   {
    "duration": 25,
    "start_time": "2024-10-29T15:38:53.413Z"
   },
   {
    "duration": 3,
    "start_time": "2024-10-29T15:38:53.439Z"
   },
   {
    "duration": 4,
    "start_time": "2024-10-29T15:38:53.444Z"
   },
   {
    "duration": 3,
    "start_time": "2024-10-29T15:38:53.476Z"
   },
   {
    "duration": 4,
    "start_time": "2024-10-29T15:38:53.480Z"
   },
   {
    "duration": 4,
    "start_time": "2024-10-29T15:38:53.485Z"
   },
   {
    "duration": 1019987,
    "start_time": "2024-10-29T15:38:53.490Z"
   },
   {
    "duration": 203,
    "start_time": "2024-10-29T15:55:53.479Z"
   },
   {
    "duration": 3,
    "start_time": "2024-10-29T15:55:53.684Z"
   },
   {
    "duration": 10,
    "start_time": "2024-10-29T15:55:53.689Z"
   },
   {
    "duration": 4447,
    "start_time": "2024-10-29T17:13:29.936Z"
   },
   {
    "duration": 908,
    "start_time": "2024-10-29T17:13:34.385Z"
   },
   {
    "duration": 171,
    "start_time": "2024-10-29T17:13:35.295Z"
   },
   {
    "duration": 149,
    "start_time": "2024-10-29T17:13:35.468Z"
   },
   {
    "duration": 4,
    "start_time": "2024-10-29T17:13:35.619Z"
   },
   {
    "duration": 501,
    "start_time": "2024-10-29T17:13:35.624Z"
   },
   {
    "duration": 1004,
    "start_time": "2024-10-29T17:13:36.126Z"
   },
   {
    "duration": 65,
    "start_time": "2024-10-29T17:13:37.131Z"
   },
   {
    "duration": 136,
    "start_time": "2024-10-29T17:13:37.197Z"
   },
   {
    "duration": 52,
    "start_time": "2024-10-29T17:13:37.336Z"
   },
   {
    "duration": 20,
    "start_time": "2024-10-29T17:13:37.389Z"
   },
   {
    "duration": 22,
    "start_time": "2024-10-29T17:13:37.411Z"
   },
   {
    "duration": 30,
    "start_time": "2024-10-29T17:13:37.435Z"
   },
   {
    "duration": 66,
    "start_time": "2024-10-29T17:13:37.466Z"
   },
   {
    "duration": 20,
    "start_time": "2024-10-29T17:13:37.533Z"
   },
   {
    "duration": 68,
    "start_time": "2024-10-29T17:13:37.555Z"
   },
   {
    "duration": 20,
    "start_time": "2024-10-29T17:13:37.625Z"
   },
   {
    "duration": 147,
    "start_time": "2024-10-29T17:13:37.647Z"
   },
   {
    "duration": 23,
    "start_time": "2024-10-29T17:13:37.796Z"
   },
   {
    "duration": 37,
    "start_time": "2024-10-29T17:13:37.820Z"
   },
   {
    "duration": 23,
    "start_time": "2024-10-29T17:13:37.858Z"
   },
   {
    "duration": 62,
    "start_time": "2024-10-29T17:13:37.882Z"
   },
   {
    "duration": 527,
    "start_time": "2024-10-29T17:13:37.946Z"
   },
   {
    "duration": 33,
    "start_time": "2024-10-29T17:13:38.475Z"
   },
   {
    "duration": 456,
    "start_time": "2024-10-29T17:13:38.510Z"
   },
   {
    "duration": 49,
    "start_time": "2024-10-29T17:13:38.968Z"
   },
   {
    "duration": 561,
    "start_time": "2024-10-29T17:13:39.019Z"
   },
   {
    "duration": 21,
    "start_time": "2024-10-29T17:13:39.585Z"
   },
   {
    "duration": 121,
    "start_time": "2024-10-29T17:13:39.608Z"
   },
   {
    "duration": 524,
    "start_time": "2024-10-29T17:13:39.730Z"
   },
   {
    "duration": 8,
    "start_time": "2024-10-29T17:13:40.255Z"
   },
   {
    "duration": 37,
    "start_time": "2024-10-29T17:13:40.264Z"
   },
   {
    "duration": 15,
    "start_time": "2024-10-29T17:13:40.302Z"
   },
   {
    "duration": 172,
    "start_time": "2024-10-29T17:13:40.318Z"
   },
   {
    "duration": 39,
    "start_time": "2024-10-29T17:13:40.491Z"
   },
   {
    "duration": 3,
    "start_time": "2024-10-29T17:13:40.531Z"
   },
   {
    "duration": 357852,
    "start_time": "2024-10-29T17:13:40.536Z"
   },
   {
    "duration": 892,
    "start_time": "2024-10-29T17:19:38.390Z"
   },
   {
    "duration": 3,
    "start_time": "2024-10-29T17:19:39.283Z"
   },
   {
    "duration": 156668,
    "start_time": "2024-10-29T17:19:39.287Z"
   },
   {
    "duration": 64,
    "start_time": "2024-10-29T17:22:15.957Z"
   },
   {
    "duration": 3,
    "start_time": "2024-10-29T17:22:16.023Z"
   },
   {
    "duration": 30,
    "start_time": "2024-10-29T17:22:16.027Z"
   },
   {
    "duration": 3,
    "start_time": "2024-10-29T17:22:16.059Z"
   },
   {
    "duration": 3,
    "start_time": "2024-10-29T17:22:16.076Z"
   },
   {
    "duration": 23,
    "start_time": "2024-10-29T17:22:16.081Z"
   },
   {
    "duration": 12,
    "start_time": "2024-10-29T17:22:16.105Z"
   },
   {
    "duration": 4,
    "start_time": "2024-10-29T17:22:16.119Z"
   },
   {
    "duration": 1025853,
    "start_time": "2024-10-29T17:22:16.124Z"
   },
   {
    "duration": 219,
    "start_time": "2024-10-29T17:39:21.980Z"
   },
   {
    "duration": 3,
    "start_time": "2024-10-29T17:39:22.201Z"
   },
   {
    "duration": 5,
    "start_time": "2024-10-29T17:39:22.206Z"
   },
   {
    "duration": 124008,
    "start_time": "2024-10-29T17:39:22.213Z"
   },
   {
    "duration": 146,
    "start_time": "2024-10-29T17:41:26.223Z"
   },
   {
    "duration": 15,
    "start_time": "2024-10-29T17:41:26.370Z"
   },
   {
    "duration": 4,
    "start_time": "2024-10-29T17:41:26.387Z"
   },
   {
    "duration": 16,
    "start_time": "2024-10-29T17:41:26.393Z"
   },
   {
    "duration": 4,
    "start_time": "2024-10-29T17:41:26.411Z"
   },
   {
    "duration": 126,
    "start_time": "2024-10-29T17:41:26.417Z"
   },
   {
    "duration": 0,
    "start_time": "2024-10-29T17:41:26.545Z"
   },
   {
    "duration": 0,
    "start_time": "2024-10-29T17:41:26.546Z"
   },
   {
    "duration": 0,
    "start_time": "2024-10-29T17:41:26.547Z"
   },
   {
    "duration": 0,
    "start_time": "2024-10-29T17:41:26.548Z"
   },
   {
    "duration": 0,
    "start_time": "2024-10-29T17:41:26.549Z"
   },
   {
    "duration": 0,
    "start_time": "2024-10-29T17:41:26.550Z"
   },
   {
    "duration": 0,
    "start_time": "2024-10-29T17:41:26.551Z"
   },
   {
    "duration": 0,
    "start_time": "2024-10-29T17:41:26.552Z"
   },
   {
    "duration": 0,
    "start_time": "2024-10-29T17:41:26.553Z"
   },
   {
    "duration": 0,
    "start_time": "2024-10-29T17:41:26.554Z"
   },
   {
    "duration": 0,
    "start_time": "2024-10-29T17:41:26.555Z"
   },
   {
    "duration": 0,
    "start_time": "2024-10-29T17:41:26.575Z"
   },
   {
    "duration": 0,
    "start_time": "2024-10-29T17:41:26.577Z"
   },
   {
    "duration": 58,
    "start_time": "2024-10-29T20:27:23.869Z"
   },
   {
    "duration": 57,
    "start_time": "2024-10-29T20:27:34.371Z"
   },
   {
    "duration": 4392,
    "start_time": "2024-10-29T20:38:31.488Z"
   },
   {
    "duration": 923,
    "start_time": "2024-10-29T20:38:35.882Z"
   },
   {
    "duration": 170,
    "start_time": "2024-10-29T20:38:36.807Z"
   },
   {
    "duration": 152,
    "start_time": "2024-10-29T20:38:36.979Z"
   },
   {
    "duration": 3,
    "start_time": "2024-10-29T20:38:37.133Z"
   },
   {
    "duration": 489,
    "start_time": "2024-10-29T20:38:37.137Z"
   },
   {
    "duration": 967,
    "start_time": "2024-10-29T20:38:37.628Z"
   },
   {
    "duration": 54,
    "start_time": "2024-10-29T20:38:38.596Z"
   },
   {
    "duration": 65,
    "start_time": "2024-10-29T20:38:38.651Z"
   },
   {
    "duration": 60,
    "start_time": "2024-10-29T20:38:38.719Z"
   },
   {
    "duration": 19,
    "start_time": "2024-10-29T20:38:38.780Z"
   },
   {
    "duration": 22,
    "start_time": "2024-10-29T20:38:38.801Z"
   },
   {
    "duration": 33,
    "start_time": "2024-10-29T20:38:38.824Z"
   },
   {
    "duration": 67,
    "start_time": "2024-10-29T20:38:38.859Z"
   },
   {
    "duration": 73,
    "start_time": "2024-10-29T20:38:38.927Z"
   },
   {
    "duration": 53,
    "start_time": "2024-10-29T20:38:39.002Z"
   },
   {
    "duration": 24,
    "start_time": "2024-10-29T20:38:39.056Z"
   },
   {
    "duration": 149,
    "start_time": "2024-10-29T20:38:39.081Z"
   },
   {
    "duration": 30,
    "start_time": "2024-10-29T20:38:39.231Z"
   },
   {
    "duration": 42,
    "start_time": "2024-10-29T20:38:39.262Z"
   },
   {
    "duration": 10,
    "start_time": "2024-10-29T20:38:39.306Z"
   },
   {
    "duration": 73,
    "start_time": "2024-10-29T20:38:39.318Z"
   },
   {
    "duration": 541,
    "start_time": "2024-10-29T20:38:39.393Z"
   },
   {
    "duration": 41,
    "start_time": "2024-10-29T20:38:39.935Z"
   },
   {
    "duration": 452,
    "start_time": "2024-10-29T20:38:39.977Z"
   },
   {
    "duration": 47,
    "start_time": "2024-10-29T20:38:40.431Z"
   },
   {
    "duration": 575,
    "start_time": "2024-10-29T20:38:40.479Z"
   },
   {
    "duration": 26,
    "start_time": "2024-10-29T20:38:41.058Z"
   },
   {
    "duration": 112,
    "start_time": "2024-10-29T20:38:41.085Z"
   },
   {
    "duration": 471,
    "start_time": "2024-10-29T20:38:41.198Z"
   },
   {
    "duration": 7,
    "start_time": "2024-10-29T20:38:41.671Z"
   },
   {
    "duration": 28,
    "start_time": "2024-10-29T20:38:41.680Z"
   },
   {
    "duration": 15,
    "start_time": "2024-10-29T20:38:41.710Z"
   },
   {
    "duration": 168,
    "start_time": "2024-10-29T20:38:41.726Z"
   },
   {
    "duration": 35,
    "start_time": "2024-10-29T20:38:41.895Z"
   },
   {
    "duration": 3,
    "start_time": "2024-10-29T20:38:41.932Z"
   },
   {
    "duration": 216051,
    "start_time": "2024-10-29T20:38:41.936Z"
   },
   {
    "duration": 899,
    "start_time": "2024-10-29T20:42:17.989Z"
   },
   {
    "duration": 3,
    "start_time": "2024-10-29T20:42:18.890Z"
   },
   {
    "duration": 157608,
    "start_time": "2024-10-29T20:42:18.895Z"
   },
   {
    "duration": 63,
    "start_time": "2024-10-29T20:44:56.505Z"
   },
   {
    "duration": 3,
    "start_time": "2024-10-29T20:44:56.569Z"
   },
   {
    "duration": 22,
    "start_time": "2024-10-29T20:44:56.575Z"
   },
   {
    "duration": 3,
    "start_time": "2024-10-29T20:44:56.599Z"
   },
   {
    "duration": 3,
    "start_time": "2024-10-29T20:44:56.604Z"
   },
   {
    "duration": 5,
    "start_time": "2024-10-29T20:44:56.608Z"
   },
   {
    "duration": 6,
    "start_time": "2024-10-29T20:44:56.614Z"
   },
   {
    "duration": 3,
    "start_time": "2024-10-29T20:44:56.621Z"
   },
   {
    "duration": 1039656,
    "start_time": "2024-10-29T20:44:56.625Z"
   },
   {
    "duration": 234,
    "start_time": "2024-10-29T21:02:16.286Z"
   },
   {
    "duration": 3,
    "start_time": "2024-10-29T21:02:16.521Z"
   },
   {
    "duration": 8,
    "start_time": "2024-10-29T21:02:16.525Z"
   },
   {
    "duration": 123719,
    "start_time": "2024-10-29T21:02:16.534Z"
   },
   {
    "duration": 152,
    "start_time": "2024-10-29T21:04:20.255Z"
   },
   {
    "duration": 11,
    "start_time": "2024-10-29T21:04:20.408Z"
   },
   {
    "duration": 4261,
    "start_time": "2024-10-29T21:43:16.110Z"
   },
   {
    "duration": 926,
    "start_time": "2024-10-29T21:43:20.376Z"
   },
   {
    "duration": 173,
    "start_time": "2024-10-29T21:43:21.303Z"
   },
   {
    "duration": 142,
    "start_time": "2024-10-29T21:43:21.477Z"
   },
   {
    "duration": 4,
    "start_time": "2024-10-29T21:43:21.621Z"
   },
   {
    "duration": 482,
    "start_time": "2024-10-29T21:43:21.626Z"
   },
   {
    "duration": 975,
    "start_time": "2024-10-29T21:43:22.109Z"
   },
   {
    "duration": 52,
    "start_time": "2024-10-29T21:43:23.086Z"
   },
   {
    "duration": 67,
    "start_time": "2024-10-29T21:43:23.140Z"
   },
   {
    "duration": 53,
    "start_time": "2024-10-29T21:43:23.209Z"
   },
   {
    "duration": 27,
    "start_time": "2024-10-29T21:43:23.264Z"
   },
   {
    "duration": 27,
    "start_time": "2024-10-29T21:43:23.293Z"
   },
   {
    "duration": 25,
    "start_time": "2024-10-29T21:43:23.322Z"
   },
   {
    "duration": 66,
    "start_time": "2024-10-29T21:43:23.349Z"
   },
   {
    "duration": 29,
    "start_time": "2024-10-29T21:43:23.416Z"
   },
   {
    "duration": 58,
    "start_time": "2024-10-29T21:43:23.447Z"
   },
   {
    "duration": 22,
    "start_time": "2024-10-29T21:43:23.507Z"
   },
   {
    "duration": 149,
    "start_time": "2024-10-29T21:43:23.531Z"
   },
   {
    "duration": 23,
    "start_time": "2024-10-29T21:43:23.682Z"
   },
   {
    "duration": 45,
    "start_time": "2024-10-29T21:43:23.706Z"
   },
   {
    "duration": 32,
    "start_time": "2024-10-29T21:43:23.753Z"
   },
   {
    "duration": 58,
    "start_time": "2024-10-29T21:43:23.786Z"
   },
   {
    "duration": 516,
    "start_time": "2024-10-29T21:43:23.846Z"
   },
   {
    "duration": 34,
    "start_time": "2024-10-29T21:43:24.364Z"
   },
   {
    "duration": 439,
    "start_time": "2024-10-29T21:43:24.400Z"
   },
   {
    "duration": 48,
    "start_time": "2024-10-29T21:43:24.840Z"
   },
   {
    "duration": 561,
    "start_time": "2024-10-29T21:43:24.890Z"
   },
   {
    "duration": 29,
    "start_time": "2024-10-29T21:43:25.452Z"
   },
   {
    "duration": 107,
    "start_time": "2024-10-29T21:43:25.483Z"
   },
   {
    "duration": 473,
    "start_time": "2024-10-29T21:43:25.591Z"
   },
   {
    "duration": 11,
    "start_time": "2024-10-29T21:43:26.066Z"
   },
   {
    "duration": 63,
    "start_time": "2024-10-29T21:43:26.078Z"
   },
   {
    "duration": 15,
    "start_time": "2024-10-29T21:43:26.143Z"
   },
   {
    "duration": 157,
    "start_time": "2024-10-29T21:43:26.159Z"
   },
   {
    "duration": 37,
    "start_time": "2024-10-29T21:43:26.318Z"
   },
   {
    "duration": 3,
    "start_time": "2024-10-29T21:43:26.356Z"
   },
   {
    "duration": 215435,
    "start_time": "2024-10-29T21:43:26.360Z"
   },
   {
    "duration": 892,
    "start_time": "2024-10-29T21:47:01.797Z"
   },
   {
    "duration": 3,
    "start_time": "2024-10-29T21:47:02.691Z"
   },
   {
    "duration": 155410,
    "start_time": "2024-10-29T21:47:02.695Z"
   },
   {
    "duration": 64,
    "start_time": "2024-10-29T21:49:38.109Z"
   },
   {
    "duration": 4,
    "start_time": "2024-10-29T21:49:38.179Z"
   },
   {
    "duration": 33,
    "start_time": "2024-10-29T21:49:38.185Z"
   },
   {
    "duration": 3,
    "start_time": "2024-10-29T21:49:38.220Z"
   },
   {
    "duration": 15,
    "start_time": "2024-10-29T21:49:38.225Z"
   },
   {
    "duration": 21,
    "start_time": "2024-10-29T21:49:38.241Z"
   },
   {
    "duration": 5,
    "start_time": "2024-10-29T21:49:38.264Z"
   },
   {
    "duration": 26,
    "start_time": "2024-10-29T21:49:38.270Z"
   },
   {
    "duration": 1035279,
    "start_time": "2024-10-29T21:49:38.298Z"
   },
   {
    "duration": 211,
    "start_time": "2024-10-29T22:06:53.579Z"
   },
   {
    "duration": 3,
    "start_time": "2024-10-29T22:06:53.791Z"
   },
   {
    "duration": 5,
    "start_time": "2024-10-29T22:06:53.795Z"
   },
   {
    "duration": 124891,
    "start_time": "2024-10-29T22:06:53.802Z"
   },
   {
    "duration": 143,
    "start_time": "2024-10-29T22:08:58.694Z"
   },
   {
    "duration": 10,
    "start_time": "2024-10-29T22:08:58.838Z"
   },
   {
    "duration": 101,
    "start_time": "2024-10-30T11:41:36.067Z"
   },
   {
    "duration": 8846,
    "start_time": "2024-10-30T12:15:02.800Z"
   },
   {
    "duration": 0,
    "start_time": "2024-10-30T12:15:11.648Z"
   },
   {
    "duration": 0,
    "start_time": "2024-10-30T12:15:11.650Z"
   },
   {
    "duration": 0,
    "start_time": "2024-10-30T12:15:11.651Z"
   },
   {
    "duration": 0,
    "start_time": "2024-10-30T12:15:11.652Z"
   },
   {
    "duration": 0,
    "start_time": "2024-10-30T12:15:11.654Z"
   },
   {
    "duration": 0,
    "start_time": "2024-10-30T12:15:11.654Z"
   },
   {
    "duration": 0,
    "start_time": "2024-10-30T12:15:11.656Z"
   },
   {
    "duration": 0,
    "start_time": "2024-10-30T12:15:11.657Z"
   },
   {
    "duration": 0,
    "start_time": "2024-10-30T12:15:11.658Z"
   },
   {
    "duration": 0,
    "start_time": "2024-10-30T12:15:11.659Z"
   },
   {
    "duration": 0,
    "start_time": "2024-10-30T12:15:11.660Z"
   },
   {
    "duration": 0,
    "start_time": "2024-10-30T12:15:11.661Z"
   },
   {
    "duration": 0,
    "start_time": "2024-10-30T12:15:11.663Z"
   },
   {
    "duration": 0,
    "start_time": "2024-10-30T12:15:11.664Z"
   },
   {
    "duration": 0,
    "start_time": "2024-10-30T12:15:11.664Z"
   },
   {
    "duration": 0,
    "start_time": "2024-10-30T12:15:11.665Z"
   },
   {
    "duration": 0,
    "start_time": "2024-10-30T12:15:11.666Z"
   },
   {
    "duration": 0,
    "start_time": "2024-10-30T12:15:11.668Z"
   },
   {
    "duration": 0,
    "start_time": "2024-10-30T12:15:11.669Z"
   },
   {
    "duration": 0,
    "start_time": "2024-10-30T12:15:11.670Z"
   },
   {
    "duration": 0,
    "start_time": "2024-10-30T12:15:11.672Z"
   },
   {
    "duration": 0,
    "start_time": "2024-10-30T12:15:11.715Z"
   },
   {
    "duration": 0,
    "start_time": "2024-10-30T12:15:11.716Z"
   },
   {
    "duration": 0,
    "start_time": "2024-10-30T12:15:11.716Z"
   },
   {
    "duration": 0,
    "start_time": "2024-10-30T12:15:11.721Z"
   },
   {
    "duration": 0,
    "start_time": "2024-10-30T12:15:11.721Z"
   },
   {
    "duration": 0,
    "start_time": "2024-10-30T12:15:11.722Z"
   },
   {
    "duration": 0,
    "start_time": "2024-10-30T12:15:11.723Z"
   },
   {
    "duration": 0,
    "start_time": "2024-10-30T12:15:11.723Z"
   },
   {
    "duration": 0,
    "start_time": "2024-10-30T12:15:11.724Z"
   },
   {
    "duration": 0,
    "start_time": "2024-10-30T12:15:11.725Z"
   },
   {
    "duration": 0,
    "start_time": "2024-10-30T12:15:11.728Z"
   },
   {
    "duration": 0,
    "start_time": "2024-10-30T12:15:11.729Z"
   },
   {
    "duration": 0,
    "start_time": "2024-10-30T12:15:11.730Z"
   },
   {
    "duration": 0,
    "start_time": "2024-10-30T12:15:11.731Z"
   },
   {
    "duration": 0,
    "start_time": "2024-10-30T12:15:11.732Z"
   },
   {
    "duration": 0,
    "start_time": "2024-10-30T12:15:11.733Z"
   },
   {
    "duration": 0,
    "start_time": "2024-10-30T12:15:11.734Z"
   },
   {
    "duration": 0,
    "start_time": "2024-10-30T12:15:11.734Z"
   },
   {
    "duration": 0,
    "start_time": "2024-10-30T12:15:11.735Z"
   },
   {
    "duration": 0,
    "start_time": "2024-10-30T12:15:11.736Z"
   },
   {
    "duration": 0,
    "start_time": "2024-10-30T12:15:11.737Z"
   },
   {
    "duration": 0,
    "start_time": "2024-10-30T12:15:11.738Z"
   },
   {
    "duration": 0,
    "start_time": "2024-10-30T12:15:11.739Z"
   },
   {
    "duration": 0,
    "start_time": "2024-10-30T12:15:11.740Z"
   },
   {
    "duration": 0,
    "start_time": "2024-10-30T12:15:11.741Z"
   },
   {
    "duration": 0,
    "start_time": "2024-10-30T12:15:11.742Z"
   },
   {
    "duration": 0,
    "start_time": "2024-10-30T12:15:11.743Z"
   },
   {
    "duration": 0,
    "start_time": "2024-10-30T12:15:11.743Z"
   },
   {
    "duration": 0,
    "start_time": "2024-10-30T12:15:11.744Z"
   },
   {
    "duration": 0,
    "start_time": "2024-10-30T12:15:11.745Z"
   },
   {
    "duration": 0,
    "start_time": "2024-10-30T12:15:11.746Z"
   },
   {
    "duration": 0,
    "start_time": "2024-10-30T12:15:11.747Z"
   },
   {
    "duration": 0,
    "start_time": "2024-10-30T12:15:11.748Z"
   },
   {
    "duration": 0,
    "start_time": "2024-10-30T12:15:11.749Z"
   },
   {
    "duration": 94,
    "start_time": "2024-10-30T12:15:31.011Z"
   },
   {
    "duration": 0,
    "start_time": "2024-10-30T12:15:31.108Z"
   },
   {
    "duration": 0,
    "start_time": "2024-10-30T12:15:31.109Z"
   },
   {
    "duration": 0,
    "start_time": "2024-10-30T12:15:31.110Z"
   },
   {
    "duration": 0,
    "start_time": "2024-10-30T12:15:31.111Z"
   },
   {
    "duration": 0,
    "start_time": "2024-10-30T12:15:31.111Z"
   },
   {
    "duration": 0,
    "start_time": "2024-10-30T12:15:31.112Z"
   },
   {
    "duration": 0,
    "start_time": "2024-10-30T12:15:31.112Z"
   },
   {
    "duration": 0,
    "start_time": "2024-10-30T12:15:31.113Z"
   },
   {
    "duration": 0,
    "start_time": "2024-10-30T12:15:31.119Z"
   },
   {
    "duration": 0,
    "start_time": "2024-10-30T12:15:31.120Z"
   },
   {
    "duration": 0,
    "start_time": "2024-10-30T12:15:31.121Z"
   },
   {
    "duration": 0,
    "start_time": "2024-10-30T12:15:31.121Z"
   },
   {
    "duration": 0,
    "start_time": "2024-10-30T12:15:31.122Z"
   },
   {
    "duration": 0,
    "start_time": "2024-10-30T12:15:31.122Z"
   },
   {
    "duration": 0,
    "start_time": "2024-10-30T12:15:31.123Z"
   },
   {
    "duration": 0,
    "start_time": "2024-10-30T12:15:31.124Z"
   },
   {
    "duration": 0,
    "start_time": "2024-10-30T12:15:31.125Z"
   },
   {
    "duration": 0,
    "start_time": "2024-10-30T12:15:31.126Z"
   },
   {
    "duration": 0,
    "start_time": "2024-10-30T12:15:31.127Z"
   },
   {
    "duration": 0,
    "start_time": "2024-10-30T12:15:31.128Z"
   },
   {
    "duration": 0,
    "start_time": "2024-10-30T12:15:31.129Z"
   },
   {
    "duration": 0,
    "start_time": "2024-10-30T12:15:31.130Z"
   },
   {
    "duration": 0,
    "start_time": "2024-10-30T12:15:31.133Z"
   },
   {
    "duration": 0,
    "start_time": "2024-10-30T12:15:31.135Z"
   },
   {
    "duration": 0,
    "start_time": "2024-10-30T12:15:31.135Z"
   },
   {
    "duration": 0,
    "start_time": "2024-10-30T12:15:31.136Z"
   },
   {
    "duration": 0,
    "start_time": "2024-10-30T12:15:31.137Z"
   },
   {
    "duration": 0,
    "start_time": "2024-10-30T12:15:31.139Z"
   },
   {
    "duration": 0,
    "start_time": "2024-10-30T12:15:31.139Z"
   },
   {
    "duration": 0,
    "start_time": "2024-10-30T12:15:31.140Z"
   },
   {
    "duration": 0,
    "start_time": "2024-10-30T12:15:31.141Z"
   },
   {
    "duration": 0,
    "start_time": "2024-10-30T12:15:31.142Z"
   },
   {
    "duration": 0,
    "start_time": "2024-10-30T12:15:31.143Z"
   },
   {
    "duration": 0,
    "start_time": "2024-10-30T12:15:31.144Z"
   },
   {
    "duration": 0,
    "start_time": "2024-10-30T12:15:31.145Z"
   },
   {
    "duration": 0,
    "start_time": "2024-10-30T12:15:31.146Z"
   },
   {
    "duration": 0,
    "start_time": "2024-10-30T12:15:31.147Z"
   },
   {
    "duration": 0,
    "start_time": "2024-10-30T12:15:31.148Z"
   },
   {
    "duration": 0,
    "start_time": "2024-10-30T12:15:31.149Z"
   },
   {
    "duration": 0,
    "start_time": "2024-10-30T12:15:31.150Z"
   },
   {
    "duration": 0,
    "start_time": "2024-10-30T12:15:31.150Z"
   },
   {
    "duration": 0,
    "start_time": "2024-10-30T12:15:31.151Z"
   },
   {
    "duration": 0,
    "start_time": "2024-10-30T12:15:31.152Z"
   },
   {
    "duration": 0,
    "start_time": "2024-10-30T12:15:31.153Z"
   },
   {
    "duration": 0,
    "start_time": "2024-10-30T12:15:31.154Z"
   },
   {
    "duration": 0,
    "start_time": "2024-10-30T12:15:31.154Z"
   },
   {
    "duration": 0,
    "start_time": "2024-10-30T12:15:31.155Z"
   },
   {
    "duration": 0,
    "start_time": "2024-10-30T12:15:31.156Z"
   },
   {
    "duration": 0,
    "start_time": "2024-10-30T12:15:31.157Z"
   },
   {
    "duration": 0,
    "start_time": "2024-10-30T12:15:31.158Z"
   },
   {
    "duration": 0,
    "start_time": "2024-10-30T12:15:31.159Z"
   },
   {
    "duration": 0,
    "start_time": "2024-10-30T12:15:31.160Z"
   },
   {
    "duration": 0,
    "start_time": "2024-10-30T12:15:31.161Z"
   },
   {
    "duration": 0,
    "start_time": "2024-10-30T12:15:31.224Z"
   },
   {
    "duration": 0,
    "start_time": "2024-10-30T12:15:31.225Z"
   },
   {
    "duration": 6386,
    "start_time": "2024-10-30T12:15:46.088Z"
   },
   {
    "duration": 0,
    "start_time": "2024-10-30T12:15:52.477Z"
   },
   {
    "duration": 0,
    "start_time": "2024-10-30T12:15:52.478Z"
   },
   {
    "duration": 0,
    "start_time": "2024-10-30T12:15:52.479Z"
   },
   {
    "duration": 0,
    "start_time": "2024-10-30T12:15:52.480Z"
   },
   {
    "duration": 0,
    "start_time": "2024-10-30T12:15:52.481Z"
   },
   {
    "duration": 0,
    "start_time": "2024-10-30T12:15:52.482Z"
   },
   {
    "duration": 0,
    "start_time": "2024-10-30T12:15:52.482Z"
   },
   {
    "duration": 0,
    "start_time": "2024-10-30T12:15:52.483Z"
   },
   {
    "duration": 0,
    "start_time": "2024-10-30T12:15:52.484Z"
   },
   {
    "duration": 0,
    "start_time": "2024-10-30T12:15:52.485Z"
   },
   {
    "duration": 0,
    "start_time": "2024-10-30T12:15:52.486Z"
   },
   {
    "duration": 0,
    "start_time": "2024-10-30T12:15:52.487Z"
   },
   {
    "duration": 0,
    "start_time": "2024-10-30T12:15:52.488Z"
   },
   {
    "duration": 0,
    "start_time": "2024-10-30T12:15:52.488Z"
   },
   {
    "duration": 0,
    "start_time": "2024-10-30T12:15:52.489Z"
   },
   {
    "duration": 0,
    "start_time": "2024-10-30T12:15:52.490Z"
   },
   {
    "duration": 0,
    "start_time": "2024-10-30T12:15:52.491Z"
   },
   {
    "duration": 0,
    "start_time": "2024-10-30T12:15:52.511Z"
   },
   {
    "duration": 0,
    "start_time": "2024-10-30T12:15:52.512Z"
   },
   {
    "duration": 0,
    "start_time": "2024-10-30T12:15:52.512Z"
   },
   {
    "duration": 0,
    "start_time": "2024-10-30T12:15:52.513Z"
   },
   {
    "duration": 0,
    "start_time": "2024-10-30T12:15:52.513Z"
   },
   {
    "duration": 0,
    "start_time": "2024-10-30T12:15:52.514Z"
   },
   {
    "duration": 0,
    "start_time": "2024-10-30T12:15:52.514Z"
   },
   {
    "duration": 0,
    "start_time": "2024-10-30T12:15:52.515Z"
   },
   {
    "duration": 0,
    "start_time": "2024-10-30T12:15:52.515Z"
   },
   {
    "duration": 0,
    "start_time": "2024-10-30T12:15:52.516Z"
   },
   {
    "duration": 0,
    "start_time": "2024-10-30T12:15:52.516Z"
   },
   {
    "duration": 0,
    "start_time": "2024-10-30T12:15:52.517Z"
   },
   {
    "duration": 0,
    "start_time": "2024-10-30T12:15:52.517Z"
   },
   {
    "duration": 0,
    "start_time": "2024-10-30T12:15:52.518Z"
   },
   {
    "duration": 0,
    "start_time": "2024-10-30T12:15:52.518Z"
   },
   {
    "duration": 0,
    "start_time": "2024-10-30T12:15:52.519Z"
   },
   {
    "duration": 0,
    "start_time": "2024-10-30T12:15:52.519Z"
   },
   {
    "duration": 0,
    "start_time": "2024-10-30T12:15:52.520Z"
   },
   {
    "duration": 0,
    "start_time": "2024-10-30T12:15:52.520Z"
   },
   {
    "duration": 0,
    "start_time": "2024-10-30T12:15:52.521Z"
   },
   {
    "duration": 1,
    "start_time": "2024-10-30T12:15:52.521Z"
   },
   {
    "duration": 0,
    "start_time": "2024-10-30T12:15:52.522Z"
   },
   {
    "duration": 0,
    "start_time": "2024-10-30T12:15:52.523Z"
   },
   {
    "duration": 0,
    "start_time": "2024-10-30T12:15:52.523Z"
   },
   {
    "duration": 0,
    "start_time": "2024-10-30T12:15:52.524Z"
   },
   {
    "duration": 0,
    "start_time": "2024-10-30T12:15:52.524Z"
   },
   {
    "duration": 0,
    "start_time": "2024-10-30T12:15:52.530Z"
   },
   {
    "duration": 0,
    "start_time": "2024-10-30T12:15:52.531Z"
   },
   {
    "duration": 0,
    "start_time": "2024-10-30T12:15:52.532Z"
   },
   {
    "duration": 0,
    "start_time": "2024-10-30T12:15:52.533Z"
   },
   {
    "duration": 0,
    "start_time": "2024-10-30T12:15:52.534Z"
   },
   {
    "duration": 0,
    "start_time": "2024-10-30T12:15:52.535Z"
   },
   {
    "duration": 0,
    "start_time": "2024-10-30T12:15:52.536Z"
   },
   {
    "duration": 0,
    "start_time": "2024-10-30T12:15:52.536Z"
   },
   {
    "duration": 0,
    "start_time": "2024-10-30T12:15:52.537Z"
   },
   {
    "duration": 0,
    "start_time": "2024-10-30T12:15:52.538Z"
   },
   {
    "duration": 0,
    "start_time": "2024-10-30T12:15:52.539Z"
   },
   {
    "duration": 0,
    "start_time": "2024-10-30T12:15:52.540Z"
   },
   {
    "duration": 5249,
    "start_time": "2024-10-30T12:16:51.246Z"
   },
   {
    "duration": 2889,
    "start_time": "2024-10-30T12:16:56.497Z"
   },
   {
    "duration": 133,
    "start_time": "2024-10-30T12:16:59.388Z"
   },
   {
    "duration": 103,
    "start_time": "2024-10-30T12:16:59.523Z"
   },
   {
    "duration": 8,
    "start_time": "2024-10-30T12:16:59.627Z"
   },
   {
    "duration": 431,
    "start_time": "2024-10-30T12:16:59.636Z"
   },
   {
    "duration": 812,
    "start_time": "2024-10-30T12:17:00.069Z"
   },
   {
    "duration": 54,
    "start_time": "2024-10-30T12:17:00.882Z"
   },
   {
    "duration": 48,
    "start_time": "2024-10-30T12:17:00.937Z"
   },
   {
    "duration": 51,
    "start_time": "2024-10-30T12:17:00.987Z"
   },
   {
    "duration": 20,
    "start_time": "2024-10-30T12:17:01.039Z"
   },
   {
    "duration": 33,
    "start_time": "2024-10-30T12:17:01.061Z"
   },
   {
    "duration": 26,
    "start_time": "2024-10-30T12:17:01.095Z"
   },
   {
    "duration": 66,
    "start_time": "2024-10-30T12:17:01.130Z"
   },
   {
    "duration": 66,
    "start_time": "2024-10-30T12:17:01.198Z"
   },
   {
    "duration": 42,
    "start_time": "2024-10-30T12:17:01.265Z"
   },
   {
    "duration": 61,
    "start_time": "2024-10-30T12:17:01.309Z"
   },
   {
    "duration": 16,
    "start_time": "2024-10-30T12:17:01.372Z"
   },
   {
    "duration": 107,
    "start_time": "2024-10-30T12:17:01.389Z"
   },
   {
    "duration": 33,
    "start_time": "2024-10-30T12:17:01.497Z"
   },
   {
    "duration": 108,
    "start_time": "2024-10-30T12:17:01.531Z"
   },
   {
    "duration": 9,
    "start_time": "2024-10-30T12:17:01.640Z"
   },
   {
    "duration": 90,
    "start_time": "2024-10-30T12:17:01.650Z"
   },
   {
    "duration": 511,
    "start_time": "2024-10-30T12:17:01.741Z"
   },
   {
    "duration": 32,
    "start_time": "2024-10-30T12:17:02.254Z"
   },
   {
    "duration": 515,
    "start_time": "2024-10-30T12:17:02.288Z"
   },
   {
    "duration": 43,
    "start_time": "2024-10-30T12:17:02.804Z"
   },
   {
    "duration": 428,
    "start_time": "2024-10-30T12:17:02.851Z"
   },
   {
    "duration": 41,
    "start_time": "2024-10-30T12:17:03.280Z"
   },
   {
    "duration": 465,
    "start_time": "2024-10-30T12:17:03.323Z"
   },
   {
    "duration": 6,
    "start_time": "2024-10-30T12:17:03.790Z"
   },
   {
    "duration": 38,
    "start_time": "2024-10-30T12:17:03.798Z"
   },
   {
    "duration": 314,
    "start_time": "2024-10-30T12:17:03.838Z"
   },
   {
    "duration": 0,
    "start_time": "2024-10-30T12:17:04.154Z"
   },
   {
    "duration": 0,
    "start_time": "2024-10-30T12:17:04.155Z"
   },
   {
    "duration": 0,
    "start_time": "2024-10-30T12:17:04.156Z"
   },
   {
    "duration": 0,
    "start_time": "2024-10-30T12:17:04.158Z"
   },
   {
    "duration": 0,
    "start_time": "2024-10-30T12:17:04.159Z"
   },
   {
    "duration": 0,
    "start_time": "2024-10-30T12:17:04.160Z"
   },
   {
    "duration": 0,
    "start_time": "2024-10-30T12:17:04.162Z"
   },
   {
    "duration": 0,
    "start_time": "2024-10-30T12:17:04.163Z"
   },
   {
    "duration": 0,
    "start_time": "2024-10-30T12:17:04.164Z"
   },
   {
    "duration": 0,
    "start_time": "2024-10-30T12:17:04.165Z"
   },
   {
    "duration": 0,
    "start_time": "2024-10-30T12:17:04.166Z"
   },
   {
    "duration": 0,
    "start_time": "2024-10-30T12:17:04.167Z"
   },
   {
    "duration": 0,
    "start_time": "2024-10-30T12:17:04.169Z"
   },
   {
    "duration": 0,
    "start_time": "2024-10-30T12:17:04.171Z"
   },
   {
    "duration": 0,
    "start_time": "2024-10-30T12:17:04.173Z"
   },
   {
    "duration": 0,
    "start_time": "2024-10-30T12:17:04.174Z"
   },
   {
    "duration": 0,
    "start_time": "2024-10-30T12:17:04.175Z"
   },
   {
    "duration": 0,
    "start_time": "2024-10-30T12:17:04.176Z"
   },
   {
    "duration": 0,
    "start_time": "2024-10-30T12:17:04.212Z"
   },
   {
    "duration": 0,
    "start_time": "2024-10-30T12:17:04.212Z"
   },
   {
    "duration": 0,
    "start_time": "2024-10-30T12:17:04.213Z"
   },
   {
    "duration": 0,
    "start_time": "2024-10-30T12:17:04.213Z"
   },
   {
    "duration": 0,
    "start_time": "2024-10-30T12:17:04.214Z"
   },
   {
    "duration": 142,
    "start_time": "2024-10-30T12:18:49.584Z"
   },
   {
    "duration": 263,
    "start_time": "2024-10-30T12:19:06.086Z"
   },
   {
    "duration": 12,
    "start_time": "2024-10-30T12:19:19.523Z"
   },
   {
    "duration": 51,
    "start_time": "2024-10-30T12:19:25.233Z"
   },
   {
    "duration": 4714,
    "start_time": "2024-10-30T12:21:56.384Z"
   },
   {
    "duration": 4641,
    "start_time": "2024-10-30T12:25:33.784Z"
   },
   {
    "duration": 4643,
    "start_time": "2024-10-30T12:26:09.062Z"
   },
   {
    "duration": 10951,
    "start_time": "2024-10-30T22:46:34.850Z"
   },
   {
    "duration": 2843,
    "start_time": "2024-10-30T22:46:45.803Z"
   },
   {
    "duration": 116,
    "start_time": "2024-10-30T22:46:48.648Z"
   },
   {
    "duration": 118,
    "start_time": "2024-10-30T22:46:48.766Z"
   },
   {
    "duration": 75,
    "start_time": "2024-10-30T22:46:48.886Z"
   },
   {
    "duration": 387,
    "start_time": "2024-10-30T22:46:48.963Z"
   },
   {
    "duration": 797,
    "start_time": "2024-10-30T22:46:49.351Z"
   },
   {
    "duration": 42,
    "start_time": "2024-10-30T22:46:50.149Z"
   },
   {
    "duration": 90,
    "start_time": "2024-10-30T22:46:50.192Z"
   },
   {
    "duration": 41,
    "start_time": "2024-10-30T22:46:50.284Z"
   },
   {
    "duration": 33,
    "start_time": "2024-10-30T22:46:50.327Z"
   },
   {
    "duration": 30,
    "start_time": "2024-10-30T22:46:50.361Z"
   },
   {
    "duration": 24,
    "start_time": "2024-10-30T22:46:50.393Z"
   },
   {
    "duration": 87,
    "start_time": "2024-10-30T22:46:50.419Z"
   },
   {
    "duration": 52,
    "start_time": "2024-10-30T22:46:50.508Z"
   },
   {
    "duration": 16,
    "start_time": "2024-10-30T22:46:50.561Z"
   },
   {
    "duration": 68,
    "start_time": "2024-10-30T22:46:50.579Z"
   },
   {
    "duration": 18,
    "start_time": "2024-10-30T22:46:50.649Z"
   },
   {
    "duration": 115,
    "start_time": "2024-10-30T22:46:50.669Z"
   },
   {
    "duration": 26,
    "start_time": "2024-10-30T22:46:50.786Z"
   },
   {
    "duration": 106,
    "start_time": "2024-10-30T22:46:50.814Z"
   },
   {
    "duration": 170,
    "start_time": "2024-10-30T22:46:50.921Z"
   },
   {
    "duration": 98,
    "start_time": "2024-10-30T22:46:51.092Z"
   },
   {
    "duration": 510,
    "start_time": "2024-10-30T22:46:51.192Z"
   },
   {
    "duration": 39,
    "start_time": "2024-10-30T22:46:51.703Z"
   },
   {
    "duration": 438,
    "start_time": "2024-10-30T22:46:51.744Z"
   },
   {
    "duration": 48,
    "start_time": "2024-10-30T22:46:52.183Z"
   },
   {
    "duration": 528,
    "start_time": "2024-10-30T22:46:52.235Z"
   },
   {
    "duration": 21,
    "start_time": "2024-10-30T22:46:52.764Z"
   },
   {
    "duration": 471,
    "start_time": "2024-10-30T22:46:52.786Z"
   },
   {
    "duration": 7,
    "start_time": "2024-10-30T22:46:53.258Z"
   },
   {
    "duration": 131,
    "start_time": "2024-10-30T22:46:53.266Z"
   },
   {
    "duration": 244,
    "start_time": "2024-10-30T22:46:53.399Z"
   },
   {
    "duration": 24,
    "start_time": "2024-10-30T22:46:53.645Z"
   },
   {
    "duration": 4404,
    "start_time": "2024-10-30T22:46:53.671Z"
   },
   {
    "duration": 17,
    "start_time": "2024-10-30T22:46:58.077Z"
   },
   {
    "duration": 254,
    "start_time": "2024-10-30T22:46:58.096Z"
   },
   {
    "duration": 22,
    "start_time": "2024-10-30T22:46:58.352Z"
   },
   {
    "duration": 59,
    "start_time": "2024-10-30T22:46:58.376Z"
   },
   {
    "duration": 6284,
    "start_time": "2024-10-30T22:48:21.138Z"
   },
   {
    "duration": 701,
    "start_time": "2024-10-30T22:48:27.424Z"
   },
   {
    "duration": 118,
    "start_time": "2024-10-30T22:48:28.126Z"
   },
   {
    "duration": 106,
    "start_time": "2024-10-30T22:48:28.246Z"
   },
   {
    "duration": 3,
    "start_time": "2024-10-30T22:48:28.354Z"
   },
   {
    "duration": 409,
    "start_time": "2024-10-30T22:48:28.358Z"
   },
   {
    "duration": 792,
    "start_time": "2024-10-30T22:48:28.768Z"
   },
   {
    "duration": 39,
    "start_time": "2024-10-30T22:48:29.561Z"
   },
   {
    "duration": 49,
    "start_time": "2024-10-30T22:48:29.607Z"
   },
   {
    "duration": 39,
    "start_time": "2024-10-30T22:48:29.658Z"
   },
   {
    "duration": 18,
    "start_time": "2024-10-30T22:48:29.698Z"
   },
   {
    "duration": 19,
    "start_time": "2024-10-30T22:48:29.718Z"
   },
   {
    "duration": 15,
    "start_time": "2024-10-30T22:48:29.739Z"
   },
   {
    "duration": 59,
    "start_time": "2024-10-30T22:48:29.755Z"
   },
   {
    "duration": 38,
    "start_time": "2024-10-30T22:48:29.815Z"
   },
   {
    "duration": 14,
    "start_time": "2024-10-30T22:48:29.855Z"
   },
   {
    "duration": 57,
    "start_time": "2024-10-30T22:48:29.871Z"
   },
   {
    "duration": 23,
    "start_time": "2024-10-30T22:48:29.929Z"
   },
   {
    "duration": 96,
    "start_time": "2024-10-30T22:48:29.953Z"
   },
   {
    "duration": 21,
    "start_time": "2024-10-30T22:48:30.051Z"
   },
   {
    "duration": 38,
    "start_time": "2024-10-30T22:48:30.074Z"
   },
   {
    "duration": 16,
    "start_time": "2024-10-30T22:48:30.113Z"
   },
   {
    "duration": 79,
    "start_time": "2024-10-30T22:48:30.131Z"
   },
   {
    "duration": 449,
    "start_time": "2024-10-30T22:48:30.212Z"
   },
   {
    "duration": 25,
    "start_time": "2024-10-30T22:48:30.662Z"
   },
   {
    "duration": 439,
    "start_time": "2024-10-30T22:48:30.688Z"
   },
   {
    "duration": 39,
    "start_time": "2024-10-30T22:48:31.128Z"
   },
   {
    "duration": 484,
    "start_time": "2024-10-30T22:48:31.170Z"
   },
   {
    "duration": 22,
    "start_time": "2024-10-30T22:48:31.655Z"
   },
   {
    "duration": 485,
    "start_time": "2024-10-30T22:48:31.678Z"
   },
   {
    "duration": 6,
    "start_time": "2024-10-30T22:48:32.165Z"
   },
   {
    "duration": 134,
    "start_time": "2024-10-30T22:48:32.173Z"
   },
   {
    "duration": 240,
    "start_time": "2024-10-30T22:48:32.308Z"
   },
   {
    "duration": 26,
    "start_time": "2024-10-30T22:48:32.550Z"
   },
   {
    "duration": 4364,
    "start_time": "2024-10-30T22:48:32.577Z"
   },
   {
    "duration": 18,
    "start_time": "2024-10-30T22:48:36.943Z"
   },
   {
    "duration": 274,
    "start_time": "2024-10-30T22:48:36.963Z"
   },
   {
    "duration": 22,
    "start_time": "2024-10-30T22:48:37.238Z"
   },
   {
    "duration": 7,
    "start_time": "2024-10-30T22:48:37.262Z"
   },
   {
    "duration": 295547,
    "start_time": "2024-10-30T22:48:37.270Z"
   },
   {
    "duration": 991,
    "start_time": "2024-10-30T22:53:32.818Z"
   },
   {
    "duration": 2,
    "start_time": "2024-10-30T22:53:33.811Z"
   },
   {
    "duration": 123651,
    "start_time": "2024-10-30T22:53:33.815Z"
   },
   {
    "duration": 126,
    "start_time": "2024-10-30T22:55:37.468Z"
   },
   {
    "duration": 2,
    "start_time": "2024-10-30T22:55:37.596Z"
   },
   {
    "duration": 35,
    "start_time": "2024-10-30T22:55:37.600Z"
   },
   {
    "duration": 3,
    "start_time": "2024-10-30T22:55:37.636Z"
   },
   {
    "duration": 25,
    "start_time": "2024-10-30T22:55:37.640Z"
   },
   {
    "duration": 34,
    "start_time": "2024-10-30T22:55:37.667Z"
   },
   {
    "duration": 4,
    "start_time": "2024-10-30T22:55:37.703Z"
   },
   {
    "duration": 16,
    "start_time": "2024-10-30T22:55:37.709Z"
   },
   {
    "duration": 638982,
    "start_time": "2024-10-30T22:55:37.726Z"
   },
   {
    "duration": 259,
    "start_time": "2024-10-30T23:06:16.710Z"
   },
   {
    "duration": 3,
    "start_time": "2024-10-30T23:06:16.970Z"
   },
   {
    "duration": 18,
    "start_time": "2024-10-30T23:06:16.974Z"
   },
   {
    "duration": 80877,
    "start_time": "2024-10-30T23:06:16.994Z"
   },
   {
    "duration": 185,
    "start_time": "2024-10-30T23:07:37.872Z"
   },
   {
    "duration": 10,
    "start_time": "2024-10-30T23:07:38.058Z"
   },
   {
    "duration": 16,
    "start_time": "2024-10-30T23:26:41.153Z"
   },
   {
    "duration": 14,
    "start_time": "2024-10-30T23:26:59.046Z"
   },
   {
    "duration": 11,
    "start_time": "2024-10-30T23:27:08.717Z"
   },
   {
    "duration": 6404,
    "start_time": "2024-10-30T23:28:26.403Z"
   },
   {
    "duration": 732,
    "start_time": "2024-10-30T23:28:32.809Z"
   },
   {
    "duration": 128,
    "start_time": "2024-10-30T23:28:33.543Z"
   },
   {
    "duration": 100,
    "start_time": "2024-10-30T23:28:33.673Z"
   },
   {
    "duration": 32,
    "start_time": "2024-10-30T23:28:33.774Z"
   },
   {
    "duration": 426,
    "start_time": "2024-10-30T23:28:33.808Z"
   },
   {
    "duration": 814,
    "start_time": "2024-10-30T23:28:34.236Z"
   },
   {
    "duration": 42,
    "start_time": "2024-10-30T23:28:35.052Z"
   },
   {
    "duration": 241,
    "start_time": "2024-10-30T23:28:35.106Z"
   },
   {
    "duration": 172,
    "start_time": "2024-10-30T23:28:35.350Z"
   },
   {
    "duration": 33,
    "start_time": "2024-10-30T23:28:35.523Z"
   },
   {
    "duration": 125,
    "start_time": "2024-10-30T23:28:35.557Z"
   },
   {
    "duration": 30,
    "start_time": "2024-10-30T23:28:35.684Z"
   },
   {
    "duration": 59,
    "start_time": "2024-10-30T23:28:35.716Z"
   },
   {
    "duration": 49,
    "start_time": "2024-10-30T23:28:35.777Z"
   },
   {
    "duration": 21,
    "start_time": "2024-10-30T23:28:35.828Z"
   },
   {
    "duration": 90,
    "start_time": "2024-10-30T23:28:35.850Z"
   },
   {
    "duration": 78,
    "start_time": "2024-10-30T23:28:35.941Z"
   },
   {
    "duration": 151,
    "start_time": "2024-10-30T23:28:36.020Z"
   },
   {
    "duration": 73,
    "start_time": "2024-10-30T23:28:36.172Z"
   },
   {
    "duration": 84,
    "start_time": "2024-10-30T23:28:36.247Z"
   },
   {
    "duration": 9,
    "start_time": "2024-10-30T23:28:36.333Z"
   },
   {
    "duration": 73,
    "start_time": "2024-10-30T23:28:36.343Z"
   },
   {
    "duration": 450,
    "start_time": "2024-10-30T23:28:36.418Z"
   },
   {
    "duration": 44,
    "start_time": "2024-10-30T23:28:36.869Z"
   },
   {
    "duration": 435,
    "start_time": "2024-10-30T23:28:36.914Z"
   },
   {
    "duration": 42,
    "start_time": "2024-10-30T23:28:37.350Z"
   },
   {
    "duration": 523,
    "start_time": "2024-10-30T23:28:37.406Z"
   },
   {
    "duration": 20,
    "start_time": "2024-10-30T23:28:37.931Z"
   },
   {
    "duration": 447,
    "start_time": "2024-10-30T23:28:37.952Z"
   },
   {
    "duration": 6,
    "start_time": "2024-10-30T23:28:38.407Z"
   },
   {
    "duration": 166,
    "start_time": "2024-10-30T23:28:38.414Z"
   },
   {
    "duration": 243,
    "start_time": "2024-10-30T23:28:38.582Z"
   },
   {
    "duration": 4471,
    "start_time": "2024-10-30T23:28:38.826Z"
   },
   {
    "duration": 13,
    "start_time": "2024-10-30T23:28:43.299Z"
   },
   {
    "duration": 124,
    "start_time": "2024-10-30T23:28:43.314Z"
   },
   {
    "duration": 10,
    "start_time": "2024-10-30T23:28:43.440Z"
   },
   {
    "duration": 1412,
    "start_time": "2024-10-30T23:28:43.451Z"
   },
   {
    "duration": 0,
    "start_time": "2024-10-30T23:28:44.865Z"
   },
   {
    "duration": 0,
    "start_time": "2024-10-30T23:28:44.866Z"
   },
   {
    "duration": 0,
    "start_time": "2024-10-30T23:28:44.867Z"
   },
   {
    "duration": 0,
    "start_time": "2024-10-30T23:28:44.868Z"
   },
   {
    "duration": 0,
    "start_time": "2024-10-30T23:28:44.869Z"
   },
   {
    "duration": 0,
    "start_time": "2024-10-30T23:28:44.870Z"
   },
   {
    "duration": 0,
    "start_time": "2024-10-30T23:28:44.871Z"
   },
   {
    "duration": 0,
    "start_time": "2024-10-30T23:28:44.872Z"
   },
   {
    "duration": 0,
    "start_time": "2024-10-30T23:28:44.873Z"
   },
   {
    "duration": 0,
    "start_time": "2024-10-30T23:28:44.874Z"
   },
   {
    "duration": 0,
    "start_time": "2024-10-30T23:28:44.875Z"
   },
   {
    "duration": 0,
    "start_time": "2024-10-30T23:28:44.877Z"
   },
   {
    "duration": 0,
    "start_time": "2024-10-30T23:28:44.877Z"
   },
   {
    "duration": 0,
    "start_time": "2024-10-30T23:28:44.878Z"
   },
   {
    "duration": 0,
    "start_time": "2024-10-30T23:28:44.879Z"
   },
   {
    "duration": 0,
    "start_time": "2024-10-30T23:28:44.880Z"
   },
   {
    "duration": 0,
    "start_time": "2024-10-30T23:28:44.881Z"
   },
   {
    "duration": 0,
    "start_time": "2024-10-30T23:28:44.882Z"
   },
   {
    "duration": 0,
    "start_time": "2024-10-30T23:28:44.883Z"
   },
   {
    "duration": 0,
    "start_time": "2024-10-30T23:28:44.884Z"
   },
   {
    "duration": 0,
    "start_time": "2024-10-30T23:28:44.886Z"
   },
   {
    "duration": 6247,
    "start_time": "2024-10-30T23:30:41.458Z"
   },
   {
    "duration": 748,
    "start_time": "2024-10-30T23:30:47.707Z"
   },
   {
    "duration": 117,
    "start_time": "2024-10-30T23:30:48.456Z"
   },
   {
    "duration": 95,
    "start_time": "2024-10-30T23:30:48.575Z"
   },
   {
    "duration": 4,
    "start_time": "2024-10-30T23:30:48.672Z"
   },
   {
    "duration": 401,
    "start_time": "2024-10-30T23:30:48.677Z"
   },
   {
    "duration": 823,
    "start_time": "2024-10-30T23:30:49.079Z"
   },
   {
    "duration": 43,
    "start_time": "2024-10-30T23:30:49.906Z"
   },
   {
    "duration": 40,
    "start_time": "2024-10-30T23:30:49.951Z"
   },
   {
    "duration": 40,
    "start_time": "2024-10-30T23:30:50.006Z"
   },
   {
    "duration": 31,
    "start_time": "2024-10-30T23:30:50.048Z"
   },
   {
    "duration": 28,
    "start_time": "2024-10-30T23:30:50.081Z"
   },
   {
    "duration": 32,
    "start_time": "2024-10-30T23:30:50.111Z"
   },
   {
    "duration": 53,
    "start_time": "2024-10-30T23:30:50.144Z"
   },
   {
    "duration": 29,
    "start_time": "2024-10-30T23:30:50.198Z"
   },
   {
    "duration": 24,
    "start_time": "2024-10-30T23:30:50.228Z"
   },
   {
    "duration": 49,
    "start_time": "2024-10-30T23:30:50.253Z"
   },
   {
    "duration": 16,
    "start_time": "2024-10-30T23:30:50.304Z"
   },
   {
    "duration": 104,
    "start_time": "2024-10-30T23:30:50.321Z"
   },
   {
    "duration": 22,
    "start_time": "2024-10-30T23:30:50.426Z"
   },
   {
    "duration": 33,
    "start_time": "2024-10-30T23:30:50.449Z"
   },
   {
    "duration": 9,
    "start_time": "2024-10-30T23:30:50.483Z"
   },
   {
    "duration": 78,
    "start_time": "2024-10-30T23:30:50.507Z"
   },
   {
    "duration": 471,
    "start_time": "2024-10-30T23:30:50.586Z"
   },
   {
    "duration": 34,
    "start_time": "2024-10-30T23:30:51.058Z"
   },
   {
    "duration": 557,
    "start_time": "2024-10-30T23:30:51.094Z"
   },
   {
    "duration": 43,
    "start_time": "2024-10-30T23:30:51.652Z"
   },
   {
    "duration": 503,
    "start_time": "2024-10-30T23:30:51.708Z"
   },
   {
    "duration": 20,
    "start_time": "2024-10-30T23:30:52.212Z"
   },
   {
    "duration": 468,
    "start_time": "2024-10-30T23:30:52.233Z"
   },
   {
    "duration": 7,
    "start_time": "2024-10-30T23:30:52.706Z"
   },
   {
    "duration": 4707,
    "start_time": "2024-10-30T23:30:52.714Z"
   },
   {
    "duration": 21,
    "start_time": "2024-10-30T23:30:57.423Z"
   },
   {
    "duration": 122,
    "start_time": "2024-10-30T23:30:57.445Z"
   },
   {
    "duration": 197,
    "start_time": "2024-10-30T23:30:57.568Z"
   },
   {
    "duration": 9,
    "start_time": "2024-10-30T23:30:57.766Z"
   },
   {
    "duration": 1387,
    "start_time": "2024-10-30T23:30:57.776Z"
   },
   {
    "duration": 0,
    "start_time": "2024-10-30T23:30:59.165Z"
   },
   {
    "duration": 0,
    "start_time": "2024-10-30T23:30:59.166Z"
   },
   {
    "duration": 0,
    "start_time": "2024-10-30T23:30:59.167Z"
   },
   {
    "duration": 0,
    "start_time": "2024-10-30T23:30:59.168Z"
   },
   {
    "duration": 0,
    "start_time": "2024-10-30T23:30:59.169Z"
   },
   {
    "duration": 0,
    "start_time": "2024-10-30T23:30:59.170Z"
   },
   {
    "duration": 0,
    "start_time": "2024-10-30T23:30:59.171Z"
   },
   {
    "duration": 0,
    "start_time": "2024-10-30T23:30:59.172Z"
   },
   {
    "duration": 0,
    "start_time": "2024-10-30T23:30:59.173Z"
   },
   {
    "duration": 0,
    "start_time": "2024-10-30T23:30:59.174Z"
   },
   {
    "duration": 0,
    "start_time": "2024-10-30T23:30:59.175Z"
   },
   {
    "duration": 0,
    "start_time": "2024-10-30T23:30:59.176Z"
   },
   {
    "duration": 0,
    "start_time": "2024-10-30T23:30:59.177Z"
   },
   {
    "duration": 0,
    "start_time": "2024-10-30T23:30:59.178Z"
   },
   {
    "duration": 0,
    "start_time": "2024-10-30T23:30:59.179Z"
   },
   {
    "duration": 0,
    "start_time": "2024-10-30T23:30:59.180Z"
   },
   {
    "duration": 0,
    "start_time": "2024-10-30T23:30:59.181Z"
   },
   {
    "duration": 0,
    "start_time": "2024-10-30T23:30:59.182Z"
   },
   {
    "duration": 0,
    "start_time": "2024-10-30T23:30:59.183Z"
   },
   {
    "duration": 0,
    "start_time": "2024-10-30T23:30:59.183Z"
   },
   {
    "duration": 0,
    "start_time": "2024-10-30T23:30:59.185Z"
   },
   {
    "duration": 6217,
    "start_time": "2024-10-30T23:51:46.517Z"
   },
   {
    "duration": 731,
    "start_time": "2024-10-30T23:51:52.735Z"
   },
   {
    "duration": 152,
    "start_time": "2024-10-30T23:51:53.467Z"
   },
   {
    "duration": 110,
    "start_time": "2024-10-30T23:51:53.621Z"
   },
   {
    "duration": 4,
    "start_time": "2024-10-30T23:51:53.732Z"
   },
   {
    "duration": 431,
    "start_time": "2024-10-30T23:51:53.737Z"
   },
   {
    "duration": 844,
    "start_time": "2024-10-30T23:51:54.170Z"
   },
   {
    "duration": 43,
    "start_time": "2024-10-30T23:51:55.015Z"
   },
   {
    "duration": 55,
    "start_time": "2024-10-30T23:51:55.059Z"
   },
   {
    "duration": 41,
    "start_time": "2024-10-30T23:51:55.117Z"
   },
   {
    "duration": 63,
    "start_time": "2024-10-30T23:51:55.159Z"
   },
   {
    "duration": 19,
    "start_time": "2024-10-30T23:51:55.223Z"
   },
   {
    "duration": 24,
    "start_time": "2024-10-30T23:51:55.244Z"
   },
   {
    "duration": 68,
    "start_time": "2024-10-30T23:51:55.269Z"
   },
   {
    "duration": 43,
    "start_time": "2024-10-30T23:51:55.338Z"
   },
   {
    "duration": 79,
    "start_time": "2024-10-30T23:51:55.382Z"
   },
   {
    "duration": 15,
    "start_time": "2024-10-30T23:51:55.463Z"
   },
   {
    "duration": 52,
    "start_time": "2024-10-30T23:51:55.479Z"
   },
   {
    "duration": 16,
    "start_time": "2024-10-30T23:51:55.532Z"
   },
   {
    "duration": 102,
    "start_time": "2024-10-30T23:51:55.550Z"
   },
   {
    "duration": 23,
    "start_time": "2024-10-30T23:51:55.654Z"
   },
   {
    "duration": 70,
    "start_time": "2024-10-30T23:51:55.678Z"
   },
   {
    "duration": 10,
    "start_time": "2024-10-30T23:51:55.750Z"
   },
   {
    "duration": 58,
    "start_time": "2024-10-30T23:51:55.761Z"
   },
   {
    "duration": 450,
    "start_time": "2024-10-30T23:51:55.821Z"
   },
   {
    "duration": 44,
    "start_time": "2024-10-30T23:51:56.272Z"
   },
   {
    "duration": 412,
    "start_time": "2024-10-30T23:51:56.318Z"
   },
   {
    "duration": 42,
    "start_time": "2024-10-30T23:51:56.734Z"
   },
   {
    "duration": 469,
    "start_time": "2024-10-30T23:51:56.778Z"
   },
   {
    "duration": 20,
    "start_time": "2024-10-30T23:51:57.248Z"
   },
   {
    "duration": 503,
    "start_time": "2024-10-30T23:51:57.270Z"
   },
   {
    "duration": 7,
    "start_time": "2024-10-30T23:51:57.774Z"
   },
   {
    "duration": 4788,
    "start_time": "2024-10-30T23:51:57.782Z"
   },
   {
    "duration": 15,
    "start_time": "2024-10-30T23:52:02.572Z"
   },
   {
    "duration": 155,
    "start_time": "2024-10-30T23:52:02.589Z"
   },
   {
    "duration": 201,
    "start_time": "2024-10-30T23:52:02.746Z"
   },
   {
    "duration": 10,
    "start_time": "2024-10-30T23:52:02.948Z"
   },
   {
    "duration": 1226,
    "start_time": "2024-10-30T23:52:02.959Z"
   },
   {
    "duration": 0,
    "start_time": "2024-10-30T23:52:04.186Z"
   },
   {
    "duration": 0,
    "start_time": "2024-10-30T23:52:04.187Z"
   },
   {
    "duration": 0,
    "start_time": "2024-10-30T23:52:04.188Z"
   },
   {
    "duration": 0,
    "start_time": "2024-10-30T23:52:04.189Z"
   },
   {
    "duration": 0,
    "start_time": "2024-10-30T23:52:04.190Z"
   },
   {
    "duration": 0,
    "start_time": "2024-10-30T23:52:04.191Z"
   },
   {
    "duration": 0,
    "start_time": "2024-10-30T23:52:04.191Z"
   },
   {
    "duration": 0,
    "start_time": "2024-10-30T23:52:04.192Z"
   },
   {
    "duration": 0,
    "start_time": "2024-10-30T23:52:04.193Z"
   },
   {
    "duration": 0,
    "start_time": "2024-10-30T23:52:04.194Z"
   },
   {
    "duration": 0,
    "start_time": "2024-10-30T23:52:04.195Z"
   },
   {
    "duration": 0,
    "start_time": "2024-10-30T23:52:04.195Z"
   },
   {
    "duration": 0,
    "start_time": "2024-10-30T23:52:04.196Z"
   },
   {
    "duration": 0,
    "start_time": "2024-10-30T23:52:04.197Z"
   },
   {
    "duration": 0,
    "start_time": "2024-10-30T23:52:04.198Z"
   },
   {
    "duration": 0,
    "start_time": "2024-10-30T23:52:04.198Z"
   },
   {
    "duration": 0,
    "start_time": "2024-10-30T23:52:04.199Z"
   },
   {
    "duration": 0,
    "start_time": "2024-10-30T23:52:04.200Z"
   },
   {
    "duration": 0,
    "start_time": "2024-10-30T23:52:04.201Z"
   },
   {
    "duration": 0,
    "start_time": "2024-10-30T23:52:04.201Z"
   },
   {
    "duration": 0,
    "start_time": "2024-10-30T23:52:04.202Z"
   },
   {
    "duration": 60,
    "start_time": "2024-10-30T23:54:18.271Z"
   },
   {
    "duration": 6744,
    "start_time": "2024-10-31T00:29:21.137Z"
   },
   {
    "duration": 762,
    "start_time": "2024-10-31T00:29:27.883Z"
   },
   {
    "duration": 124,
    "start_time": "2024-10-31T00:29:28.647Z"
   },
   {
    "duration": 118,
    "start_time": "2024-10-31T00:29:28.773Z"
   },
   {
    "duration": 4,
    "start_time": "2024-10-31T00:29:28.892Z"
   },
   {
    "duration": 488,
    "start_time": "2024-10-31T00:29:28.897Z"
   },
   {
    "duration": 816,
    "start_time": "2024-10-31T00:29:29.387Z"
   },
   {
    "duration": 44,
    "start_time": "2024-10-31T00:29:30.207Z"
   },
   {
    "duration": 48,
    "start_time": "2024-10-31T00:29:30.253Z"
   },
   {
    "duration": 94,
    "start_time": "2024-10-31T00:29:30.308Z"
   },
   {
    "duration": 47,
    "start_time": "2024-10-31T00:29:30.403Z"
   },
   {
    "duration": 72,
    "start_time": "2024-10-31T00:29:30.452Z"
   },
   {
    "duration": 60,
    "start_time": "2024-10-31T00:29:30.526Z"
   },
   {
    "duration": 38,
    "start_time": "2024-10-31T00:29:30.587Z"
   },
   {
    "duration": 59,
    "start_time": "2024-10-31T00:29:30.626Z"
   },
   {
    "duration": 62,
    "start_time": "2024-10-31T00:29:30.687Z"
   },
   {
    "duration": 16,
    "start_time": "2024-10-31T00:29:30.750Z"
   },
   {
    "duration": 76,
    "start_time": "2024-10-31T00:29:30.767Z"
   },
   {
    "duration": 65,
    "start_time": "2024-10-31T00:29:30.844Z"
   },
   {
    "duration": 116,
    "start_time": "2024-10-31T00:29:30.911Z"
   },
   {
    "duration": 24,
    "start_time": "2024-10-31T00:29:31.029Z"
   },
   {
    "duration": 34,
    "start_time": "2024-10-31T00:29:31.054Z"
   },
   {
    "duration": 33,
    "start_time": "2024-10-31T00:29:31.090Z"
   },
   {
    "duration": 90,
    "start_time": "2024-10-31T00:29:31.124Z"
   },
   {
    "duration": 541,
    "start_time": "2024-10-31T00:29:31.216Z"
   },
   {
    "duration": 58,
    "start_time": "2024-10-31T00:29:31.759Z"
   },
   {
    "duration": 542,
    "start_time": "2024-10-31T00:29:31.820Z"
   },
   {
    "duration": 55,
    "start_time": "2024-10-31T00:29:32.366Z"
   },
   {
    "duration": 565,
    "start_time": "2024-10-31T00:29:32.423Z"
   },
   {
    "duration": 39,
    "start_time": "2024-10-31T00:29:32.989Z"
   },
   {
    "duration": 508,
    "start_time": "2024-10-31T00:29:33.030Z"
   },
   {
    "duration": 6,
    "start_time": "2024-10-31T00:29:33.540Z"
   },
   {
    "duration": 5271,
    "start_time": "2024-10-31T00:29:33.547Z"
   },
   {
    "duration": 17,
    "start_time": "2024-10-31T00:29:38.820Z"
   },
   {
    "duration": 137,
    "start_time": "2024-10-31T00:29:38.838Z"
   },
   {
    "duration": 217,
    "start_time": "2024-10-31T00:29:38.976Z"
   },
   {
    "duration": 17,
    "start_time": "2024-10-31T00:29:39.194Z"
   },
   {
    "duration": 105,
    "start_time": "2024-10-31T00:29:39.213Z"
   },
   {
    "duration": 21,
    "start_time": "2024-10-31T00:29:39.320Z"
   },
   {
    "duration": 226,
    "start_time": "2024-10-31T00:29:39.343Z"
   },
   {
    "duration": 4041844,
    "start_time": "2024-10-31T00:29:39.570Z"
   },
   {
    "duration": 791,
    "start_time": "2024-10-31T01:37:01.506Z"
   },
   {
    "duration": 2,
    "start_time": "2024-10-31T01:37:02.298Z"
   },
   {
    "duration": 110947,
    "start_time": "2024-10-31T01:37:02.302Z"
   },
   {
    "duration": 125,
    "start_time": "2024-10-31T01:38:53.251Z"
   },
   {
    "duration": 3,
    "start_time": "2024-10-31T01:38:53.377Z"
   },
   {
    "duration": 52,
    "start_time": "2024-10-31T01:38:53.382Z"
   },
   {
    "duration": 3,
    "start_time": "2024-10-31T01:38:53.435Z"
   },
   {
    "duration": 7,
    "start_time": "2024-10-31T01:38:53.439Z"
   },
   {
    "duration": 8,
    "start_time": "2024-10-31T01:38:53.447Z"
   },
   {
    "duration": 13,
    "start_time": "2024-10-31T01:38:53.456Z"
   },
   {
    "duration": 8,
    "start_time": "2024-10-31T01:38:53.471Z"
   },
   {
    "duration": 192827,
    "start_time": "2024-10-31T01:38:53.481Z"
   },
   {
    "duration": 240,
    "start_time": "2024-10-31T01:42:06.310Z"
   },
   {
    "duration": 3,
    "start_time": "2024-10-31T01:42:06.551Z"
   },
   {
    "duration": 73,
    "start_time": "2024-10-31T01:42:06.555Z"
   },
   {
    "duration": 73086,
    "start_time": "2024-10-31T01:42:06.629Z"
   },
   {
    "duration": 205,
    "start_time": "2024-10-31T01:43:19.717Z"
   },
   {
    "duration": 9,
    "start_time": "2024-10-31T01:43:19.923Z"
   },
   {
    "duration": 6290,
    "start_time": "2024-10-31T02:17:12.525Z"
   },
   {
    "duration": 742,
    "start_time": "2024-10-31T02:17:18.817Z"
   },
   {
    "duration": 132,
    "start_time": "2024-10-31T02:17:19.561Z"
   },
   {
    "duration": 104,
    "start_time": "2024-10-31T02:17:19.695Z"
   },
   {
    "duration": 4,
    "start_time": "2024-10-31T02:17:19.807Z"
   },
   {
    "duration": 470,
    "start_time": "2024-10-31T02:17:19.812Z"
   },
   {
    "duration": 790,
    "start_time": "2024-10-31T02:17:20.284Z"
   },
   {
    "duration": 58,
    "start_time": "2024-10-31T02:17:21.076Z"
   },
   {
    "duration": 46,
    "start_time": "2024-10-31T02:17:21.136Z"
   },
   {
    "duration": 44,
    "start_time": "2024-10-31T02:17:21.183Z"
   },
   {
    "duration": 38,
    "start_time": "2024-10-31T02:17:21.229Z"
   },
   {
    "duration": 50,
    "start_time": "2024-10-31T02:17:21.270Z"
   },
   {
    "duration": 45,
    "start_time": "2024-10-31T02:17:21.323Z"
   },
   {
    "duration": 48,
    "start_time": "2024-10-31T02:17:21.372Z"
   },
   {
    "duration": 81,
    "start_time": "2024-10-31T02:17:21.421Z"
   },
   {
    "duration": 65,
    "start_time": "2024-10-31T02:17:21.504Z"
   },
   {
    "duration": 159,
    "start_time": "2024-10-31T02:17:21.571Z"
   },
   {
    "duration": 94,
    "start_time": "2024-10-31T02:17:21.731Z"
   },
   {
    "duration": 297,
    "start_time": "2024-10-31T02:17:21.826Z"
   },
   {
    "duration": 138,
    "start_time": "2024-10-31T02:17:22.124Z"
   },
   {
    "duration": 24,
    "start_time": "2024-10-31T02:17:22.263Z"
   },
   {
    "duration": 242,
    "start_time": "2024-10-31T02:17:22.288Z"
   },
   {
    "duration": 9,
    "start_time": "2024-10-31T02:17:22.532Z"
   },
   {
    "duration": 92,
    "start_time": "2024-10-31T02:17:22.543Z"
   },
   {
    "duration": 472,
    "start_time": "2024-10-31T02:17:22.637Z"
   },
   {
    "duration": 24,
    "start_time": "2024-10-31T02:17:23.111Z"
   },
   {
    "duration": 426,
    "start_time": "2024-10-31T02:17:23.136Z"
   },
   {
    "duration": 45,
    "start_time": "2024-10-31T02:17:23.564Z"
   },
   {
    "duration": 516,
    "start_time": "2024-10-31T02:17:23.611Z"
   },
   {
    "duration": 20,
    "start_time": "2024-10-31T02:17:24.129Z"
   },
   {
    "duration": 446,
    "start_time": "2024-10-31T02:17:24.150Z"
   },
   {
    "duration": 12,
    "start_time": "2024-10-31T02:17:24.597Z"
   },
   {
    "duration": 4862,
    "start_time": "2024-10-31T02:17:24.611Z"
   },
   {
    "duration": 20,
    "start_time": "2024-10-31T02:17:29.475Z"
   },
   {
    "duration": 127,
    "start_time": "2024-10-31T02:17:29.497Z"
   },
   {
    "duration": 210,
    "start_time": "2024-10-31T02:17:29.625Z"
   },
   {
    "duration": 10,
    "start_time": "2024-10-31T02:17:29.836Z"
   },
   {
    "duration": 324,
    "start_time": "2024-10-31T02:17:29.847Z"
   },
   {
    "duration": 13,
    "start_time": "2024-10-31T02:17:30.173Z"
   },
   {
    "duration": 126,
    "start_time": "2024-10-31T02:17:30.188Z"
   },
   {
    "duration": 158,
    "start_time": "2024-10-31T02:17:30.318Z"
   },
   {
    "duration": 0,
    "start_time": "2024-10-31T02:17:30.477Z"
   },
   {
    "duration": 0,
    "start_time": "2024-10-31T02:17:30.478Z"
   },
   {
    "duration": 0,
    "start_time": "2024-10-31T02:17:30.479Z"
   },
   {
    "duration": 0,
    "start_time": "2024-10-31T02:17:30.480Z"
   },
   {
    "duration": 0,
    "start_time": "2024-10-31T02:17:30.481Z"
   },
   {
    "duration": 0,
    "start_time": "2024-10-31T02:17:30.482Z"
   },
   {
    "duration": 0,
    "start_time": "2024-10-31T02:17:30.483Z"
   },
   {
    "duration": 0,
    "start_time": "2024-10-31T02:17:30.484Z"
   },
   {
    "duration": 0,
    "start_time": "2024-10-31T02:17:30.485Z"
   },
   {
    "duration": 0,
    "start_time": "2024-10-31T02:17:30.486Z"
   },
   {
    "duration": 0,
    "start_time": "2024-10-31T02:17:30.487Z"
   },
   {
    "duration": 0,
    "start_time": "2024-10-31T02:17:30.488Z"
   },
   {
    "duration": 0,
    "start_time": "2024-10-31T02:17:30.506Z"
   },
   {
    "duration": 0,
    "start_time": "2024-10-31T02:17:30.507Z"
   },
   {
    "duration": 0,
    "start_time": "2024-10-31T02:17:30.508Z"
   },
   {
    "duration": 0,
    "start_time": "2024-10-31T02:17:30.509Z"
   },
   {
    "duration": 0,
    "start_time": "2024-10-31T02:17:30.510Z"
   },
   {
    "duration": 0,
    "start_time": "2024-10-31T02:17:30.511Z"
   },
   {
    "duration": 0,
    "start_time": "2024-10-31T02:17:30.512Z"
   },
   {
    "duration": 0,
    "start_time": "2024-10-31T02:17:30.513Z"
   },
   {
    "duration": 0,
    "start_time": "2024-10-31T02:17:30.514Z"
   },
   {
    "duration": 341,
    "start_time": "2024-10-31T02:18:52.141Z"
   },
   {
    "duration": 4,
    "start_time": "2024-10-31T02:20:04.934Z"
   },
   {
    "duration": 7,
    "start_time": "2024-10-31T02:20:06.825Z"
   },
   {
    "duration": 345,
    "start_time": "2024-10-31T02:20:10.731Z"
   },
   {
    "duration": 4,
    "start_time": "2024-10-31T02:21:14.794Z"
   },
   {
    "duration": 9,
    "start_time": "2024-10-31T02:21:16.814Z"
   },
   {
    "duration": 8,
    "start_time": "2024-10-31T02:21:28.919Z"
   },
   {
    "duration": 364,
    "start_time": "2024-10-31T02:21:43.078Z"
   },
   {
    "duration": 8,
    "start_time": "2024-10-31T02:21:53.207Z"
   },
   {
    "duration": 4,
    "start_time": "2024-10-31T02:21:54.806Z"
   },
   {
    "duration": 334,
    "start_time": "2024-10-31T02:21:56.866Z"
   },
   {
    "duration": 5,
    "start_time": "2024-10-31T02:22:44.280Z"
   },
   {
    "duration": 5,
    "start_time": "2024-10-31T02:22:48.468Z"
   },
   {
    "duration": 4,
    "start_time": "2024-10-31T02:22:50.255Z"
   },
   {
    "duration": 221,
    "start_time": "2024-10-31T02:23:27.530Z"
   },
   {
    "duration": 5316,
    "start_time": "2024-10-31T02:23:46.949Z"
   },
   {
    "duration": 765,
    "start_time": "2024-10-31T02:23:52.267Z"
   },
   {
    "duration": 123,
    "start_time": "2024-10-31T02:23:53.034Z"
   },
   {
    "duration": 128,
    "start_time": "2024-10-31T02:23:53.159Z"
   },
   {
    "duration": 22,
    "start_time": "2024-10-31T02:23:53.288Z"
   },
   {
    "duration": 337,
    "start_time": "2024-10-31T02:23:53.311Z"
   },
   {
    "duration": 787,
    "start_time": "2024-10-31T02:23:53.650Z"
   },
   {
    "duration": 43,
    "start_time": "2024-10-31T02:23:54.439Z"
   },
   {
    "duration": 52,
    "start_time": "2024-10-31T02:23:54.483Z"
   },
   {
    "duration": 40,
    "start_time": "2024-10-31T02:23:54.538Z"
   },
   {
    "duration": 30,
    "start_time": "2024-10-31T02:23:54.580Z"
   },
   {
    "duration": 23,
    "start_time": "2024-10-31T02:23:54.611Z"
   },
   {
    "duration": 27,
    "start_time": "2024-10-31T02:23:54.636Z"
   },
   {
    "duration": 17,
    "start_time": "2024-10-31T02:23:54.664Z"
   },
   {
    "duration": 74,
    "start_time": "2024-10-31T02:23:54.682Z"
   },
   {
    "duration": 29,
    "start_time": "2024-10-31T02:23:54.758Z"
   },
   {
    "duration": 22,
    "start_time": "2024-10-31T02:23:54.789Z"
   },
   {
    "duration": 66,
    "start_time": "2024-10-31T02:23:54.812Z"
   },
   {
    "duration": 17,
    "start_time": "2024-10-31T02:23:54.880Z"
   },
   {
    "duration": 123,
    "start_time": "2024-10-31T02:23:54.898Z"
   },
   {
    "duration": 23,
    "start_time": "2024-10-31T02:23:55.023Z"
   },
   {
    "duration": 42,
    "start_time": "2024-10-31T02:23:55.048Z"
   },
   {
    "duration": 17,
    "start_time": "2024-10-31T02:23:55.092Z"
   },
   {
    "duration": 80,
    "start_time": "2024-10-31T02:23:55.110Z"
   },
   {
    "duration": 652,
    "start_time": "2024-10-31T02:23:55.192Z"
   },
   {
    "duration": 25,
    "start_time": "2024-10-31T02:23:55.846Z"
   },
   {
    "duration": 456,
    "start_time": "2024-10-31T02:23:55.873Z"
   },
   {
    "duration": 32,
    "start_time": "2024-10-31T02:23:56.332Z"
   },
   {
    "duration": 486,
    "start_time": "2024-10-31T02:23:56.366Z"
   },
   {
    "duration": 21,
    "start_time": "2024-10-31T02:23:56.853Z"
   },
   {
    "duration": 497,
    "start_time": "2024-10-31T02:23:56.876Z"
   },
   {
    "duration": 8,
    "start_time": "2024-10-31T02:23:57.375Z"
   },
   {
    "duration": 4699,
    "start_time": "2024-10-31T02:23:57.384Z"
   },
   {
    "duration": 22,
    "start_time": "2024-10-31T02:24:02.085Z"
   },
   {
    "duration": 109,
    "start_time": "2024-10-31T02:24:02.108Z"
   },
   {
    "duration": 197,
    "start_time": "2024-10-31T02:24:02.219Z"
   },
   {
    "duration": 10,
    "start_time": "2024-10-31T02:24:02.418Z"
   },
   {
    "duration": 114,
    "start_time": "2024-10-31T02:24:02.429Z"
   },
   {
    "duration": 15,
    "start_time": "2024-10-31T02:24:02.545Z"
   },
   {
    "duration": 124,
    "start_time": "2024-10-31T02:24:02.561Z"
   },
   {
    "duration": 4,
    "start_time": "2024-10-31T02:24:02.687Z"
   },
   {
    "duration": 263,
    "start_time": "2024-10-31T02:24:02.692Z"
   },
   {
    "duration": 0,
    "start_time": "2024-10-31T02:24:02.957Z"
   },
   {
    "duration": 0,
    "start_time": "2024-10-31T02:24:02.958Z"
   },
   {
    "duration": 0,
    "start_time": "2024-10-31T02:24:02.959Z"
   },
   {
    "duration": 0,
    "start_time": "2024-10-31T02:24:02.960Z"
   },
   {
    "duration": 0,
    "start_time": "2024-10-31T02:24:02.961Z"
   },
   {
    "duration": 0,
    "start_time": "2024-10-31T02:24:02.962Z"
   },
   {
    "duration": 0,
    "start_time": "2024-10-31T02:24:02.963Z"
   },
   {
    "duration": 0,
    "start_time": "2024-10-31T02:24:02.964Z"
   },
   {
    "duration": 0,
    "start_time": "2024-10-31T02:24:02.965Z"
   },
   {
    "duration": 0,
    "start_time": "2024-10-31T02:24:02.966Z"
   },
   {
    "duration": 0,
    "start_time": "2024-10-31T02:24:02.967Z"
   },
   {
    "duration": 0,
    "start_time": "2024-10-31T02:24:02.968Z"
   },
   {
    "duration": 0,
    "start_time": "2024-10-31T02:24:02.969Z"
   },
   {
    "duration": 0,
    "start_time": "2024-10-31T02:24:02.969Z"
   },
   {
    "duration": 0,
    "start_time": "2024-10-31T02:24:02.970Z"
   },
   {
    "duration": 0,
    "start_time": "2024-10-31T02:24:02.971Z"
   },
   {
    "duration": 0,
    "start_time": "2024-10-31T02:24:02.972Z"
   },
   {
    "duration": 0,
    "start_time": "2024-10-31T02:24:03.007Z"
   },
   {
    "duration": 0,
    "start_time": "2024-10-31T02:24:03.008Z"
   },
   {
    "duration": 0,
    "start_time": "2024-10-31T02:24:03.008Z"
   },
   {
    "duration": 0,
    "start_time": "2024-10-31T02:24:03.009Z"
   },
   {
    "duration": 8,
    "start_time": "2024-10-31T02:25:19.832Z"
   },
   {
    "duration": 4,
    "start_time": "2024-10-31T02:26:06.886Z"
   },
   {
    "duration": 68,
    "start_time": "2024-10-31T02:27:16.138Z"
   },
   {
    "duration": 4,
    "start_time": "2024-10-31T02:27:18.631Z"
   },
   {
    "duration": 5214,
    "start_time": "2024-10-31T02:27:28.104Z"
   },
   {
    "duration": 701,
    "start_time": "2024-10-31T02:27:33.320Z"
   },
   {
    "duration": 121,
    "start_time": "2024-10-31T02:27:34.022Z"
   },
   {
    "duration": 98,
    "start_time": "2024-10-31T02:27:34.146Z"
   },
   {
    "duration": 20,
    "start_time": "2024-10-31T02:27:34.245Z"
   },
   {
    "duration": 333,
    "start_time": "2024-10-31T02:27:34.267Z"
   },
   {
    "duration": 731,
    "start_time": "2024-10-31T02:27:34.602Z"
   },
   {
    "duration": 50,
    "start_time": "2024-10-31T02:27:35.335Z"
   },
   {
    "duration": 64,
    "start_time": "2024-10-31T02:27:35.387Z"
   },
   {
    "duration": 39,
    "start_time": "2024-10-31T02:27:35.454Z"
   },
   {
    "duration": 21,
    "start_time": "2024-10-31T02:27:35.495Z"
   },
   {
    "duration": 21,
    "start_time": "2024-10-31T02:27:35.518Z"
   },
   {
    "duration": 23,
    "start_time": "2024-10-31T02:27:35.540Z"
   },
   {
    "duration": 39,
    "start_time": "2024-10-31T02:27:35.564Z"
   },
   {
    "duration": 47,
    "start_time": "2024-10-31T02:27:35.604Z"
   },
   {
    "duration": 29,
    "start_time": "2024-10-31T02:27:35.652Z"
   },
   {
    "duration": 39,
    "start_time": "2024-10-31T02:27:35.683Z"
   },
   {
    "duration": 61,
    "start_time": "2024-10-31T02:27:35.723Z"
   },
   {
    "duration": 16,
    "start_time": "2024-10-31T02:27:35.786Z"
   },
   {
    "duration": 95,
    "start_time": "2024-10-31T02:27:35.804Z"
   },
   {
    "duration": 24,
    "start_time": "2024-10-31T02:27:35.901Z"
   },
   {
    "duration": 75,
    "start_time": "2024-10-31T02:27:35.927Z"
   },
   {
    "duration": 9,
    "start_time": "2024-10-31T02:27:36.003Z"
   },
   {
    "duration": 62,
    "start_time": "2024-10-31T02:27:36.013Z"
   },
   {
    "duration": 510,
    "start_time": "2024-10-31T02:27:36.076Z"
   },
   {
    "duration": 30,
    "start_time": "2024-10-31T02:27:36.587Z"
   },
   {
    "duration": 623,
    "start_time": "2024-10-31T02:27:36.619Z"
   },
   {
    "duration": 37,
    "start_time": "2024-10-31T02:27:37.246Z"
   },
   {
    "duration": 457,
    "start_time": "2024-10-31T02:27:37.285Z"
   },
   {
    "duration": 21,
    "start_time": "2024-10-31T02:27:37.744Z"
   },
   {
    "duration": 484,
    "start_time": "2024-10-31T02:27:37.766Z"
   },
   {
    "duration": 7,
    "start_time": "2024-10-31T02:27:38.251Z"
   },
   {
    "duration": 4728,
    "start_time": "2024-10-31T02:27:38.259Z"
   },
   {
    "duration": 20,
    "start_time": "2024-10-31T02:27:42.989Z"
   },
   {
    "duration": 106,
    "start_time": "2024-10-31T02:27:43.011Z"
   },
   {
    "duration": 218,
    "start_time": "2024-10-31T02:27:43.118Z"
   },
   {
    "duration": 10,
    "start_time": "2024-10-31T02:27:43.338Z"
   },
   {
    "duration": 93,
    "start_time": "2024-10-31T02:27:43.349Z"
   },
   {
    "duration": 8,
    "start_time": "2024-10-31T02:27:43.443Z"
   },
   {
    "duration": 73,
    "start_time": "2024-10-31T02:27:43.452Z"
   },
   {
    "duration": 201,
    "start_time": "2024-10-31T02:27:43.526Z"
   },
   {
    "duration": 0,
    "start_time": "2024-10-31T02:27:43.728Z"
   },
   {
    "duration": 0,
    "start_time": "2024-10-31T02:27:43.729Z"
   },
   {
    "duration": 0,
    "start_time": "2024-10-31T02:27:43.730Z"
   },
   {
    "duration": 0,
    "start_time": "2024-10-31T02:27:43.731Z"
   },
   {
    "duration": 0,
    "start_time": "2024-10-31T02:27:43.732Z"
   },
   {
    "duration": 0,
    "start_time": "2024-10-31T02:27:43.733Z"
   },
   {
    "duration": 0,
    "start_time": "2024-10-31T02:27:43.734Z"
   },
   {
    "duration": 0,
    "start_time": "2024-10-31T02:27:43.735Z"
   },
   {
    "duration": 1,
    "start_time": "2024-10-31T02:27:43.735Z"
   },
   {
    "duration": 0,
    "start_time": "2024-10-31T02:27:43.736Z"
   },
   {
    "duration": 0,
    "start_time": "2024-10-31T02:27:43.737Z"
   },
   {
    "duration": 0,
    "start_time": "2024-10-31T02:27:43.738Z"
   },
   {
    "duration": 0,
    "start_time": "2024-10-31T02:27:43.739Z"
   },
   {
    "duration": 0,
    "start_time": "2024-10-31T02:27:43.740Z"
   },
   {
    "duration": 0,
    "start_time": "2024-10-31T02:27:43.741Z"
   },
   {
    "duration": 0,
    "start_time": "2024-10-31T02:27:43.741Z"
   },
   {
    "duration": 0,
    "start_time": "2024-10-31T02:27:43.742Z"
   },
   {
    "duration": 0,
    "start_time": "2024-10-31T02:27:43.743Z"
   },
   {
    "duration": 0,
    "start_time": "2024-10-31T02:27:43.744Z"
   },
   {
    "duration": 0,
    "start_time": "2024-10-31T02:27:43.745Z"
   },
   {
    "duration": 0,
    "start_time": "2024-10-31T02:27:43.746Z"
   },
   {
    "duration": 278524,
    "start_time": "2024-10-31T02:27:57.991Z"
   },
   {
    "duration": 21,
    "start_time": "2024-10-31T02:32:49.943Z"
   },
   {
    "duration": 13798,
    "start_time": "2024-10-31T02:32:56.312Z"
   },
   {
    "duration": 685,
    "start_time": "2024-10-31T02:33:35.622Z"
   },
   {
    "duration": 3,
    "start_time": "2024-10-31T02:34:17.688Z"
   },
   {
    "duration": 6,
    "start_time": "2024-10-31T03:00:35.418Z"
   },
   {
    "duration": 86,
    "start_time": "2024-10-31T03:00:37.385Z"
   },
   {
    "duration": 7,
    "start_time": "2024-10-31T03:04:04.303Z"
   },
   {
    "duration": 87,
    "start_time": "2024-10-31T03:04:06.394Z"
   },
   {
    "duration": 111209,
    "start_time": "2024-10-31T03:06:01.455Z"
   },
   {
    "duration": 1159,
    "start_time": "2024-10-31T03:10:04.874Z"
   },
   {
    "duration": 9495,
    "start_time": "2024-10-31T03:16:31.367Z"
   },
   {
    "duration": 3,
    "start_time": "2024-10-31T03:16:40.864Z"
   },
   {
    "duration": 34,
    "start_time": "2024-10-31T03:19:14.203Z"
   },
   {
    "duration": 3,
    "start_time": "2024-10-31T03:23:14.325Z"
   },
   {
    "duration": 17,
    "start_time": "2024-10-31T03:23:20.717Z"
   },
   {
    "duration": 3,
    "start_time": "2024-10-31T03:24:32.342Z"
   },
   {
    "duration": 3,
    "start_time": "2024-10-31T03:24:40.209Z"
   },
   {
    "duration": 3,
    "start_time": "2024-10-31T03:24:42.252Z"
   },
   {
    "duration": 2,
    "start_time": "2024-10-31T03:24:45.232Z"
   },
   {
    "duration": 4,
    "start_time": "2024-10-31T03:24:49.722Z"
   },
   {
    "duration": 11902,
    "start_time": "2024-10-31T15:14:50.790Z"
   },
   {
    "duration": 1209,
    "start_time": "2024-10-31T15:15:02.694Z"
   },
   {
    "duration": 173,
    "start_time": "2024-10-31T15:15:03.905Z"
   },
   {
    "duration": 157,
    "start_time": "2024-10-31T15:15:04.079Z"
   },
   {
    "duration": 4,
    "start_time": "2024-10-31T15:15:04.238Z"
   },
   {
    "duration": 490,
    "start_time": "2024-10-31T15:15:04.243Z"
   },
   {
    "duration": 956,
    "start_time": "2024-10-31T15:15:04.735Z"
   },
   {
    "duration": 55,
    "start_time": "2024-10-31T15:15:05.693Z"
   },
   {
    "duration": 117,
    "start_time": "2024-10-31T15:15:05.750Z"
   },
   {
    "duration": 54,
    "start_time": "2024-10-31T15:15:05.869Z"
   },
   {
    "duration": 41,
    "start_time": "2024-10-31T15:15:05.925Z"
   },
   {
    "duration": 34,
    "start_time": "2024-10-31T15:15:05.968Z"
   },
   {
    "duration": 31,
    "start_time": "2024-10-31T15:15:06.004Z"
   },
   {
    "duration": 19,
    "start_time": "2024-10-31T15:15:06.037Z"
   },
   {
    "duration": 139,
    "start_time": "2024-10-31T15:15:06.058Z"
   },
   {
    "duration": 40,
    "start_time": "2024-10-31T15:15:06.199Z"
   },
   {
    "duration": 40,
    "start_time": "2024-10-31T15:15:06.241Z"
   },
   {
    "duration": 62,
    "start_time": "2024-10-31T15:15:06.282Z"
   },
   {
    "duration": 63,
    "start_time": "2024-10-31T15:15:06.346Z"
   },
   {
    "duration": 173,
    "start_time": "2024-10-31T15:15:06.411Z"
   },
   {
    "duration": 32,
    "start_time": "2024-10-31T15:15:06.586Z"
   },
   {
    "duration": 47,
    "start_time": "2024-10-31T15:15:06.620Z"
   },
   {
    "duration": 12,
    "start_time": "2024-10-31T15:15:06.669Z"
   },
   {
    "duration": 89,
    "start_time": "2024-10-31T15:15:06.683Z"
   },
   {
    "duration": 565,
    "start_time": "2024-10-31T15:15:06.774Z"
   },
   {
    "duration": 35,
    "start_time": "2024-10-31T15:15:07.341Z"
   },
   {
    "duration": 567,
    "start_time": "2024-10-31T15:15:07.378Z"
   },
   {
    "duration": 43,
    "start_time": "2024-10-31T15:15:07.949Z"
   },
   {
    "duration": 492,
    "start_time": "2024-10-31T15:15:07.994Z"
   },
   {
    "duration": 24,
    "start_time": "2024-10-31T15:15:08.487Z"
   },
   {
    "duration": 536,
    "start_time": "2024-10-31T15:15:08.513Z"
   },
   {
    "duration": 7,
    "start_time": "2024-10-31T15:15:09.050Z"
   },
   {
    "duration": 5826,
    "start_time": "2024-10-31T15:15:09.058Z"
   },
   {
    "duration": 14,
    "start_time": "2024-10-31T15:15:14.886Z"
   },
   {
    "duration": 134,
    "start_time": "2024-10-31T15:15:14.902Z"
   },
   {
    "duration": 230,
    "start_time": "2024-10-31T15:15:15.038Z"
   },
   {
    "duration": 16,
    "start_time": "2024-10-31T15:15:15.269Z"
   },
   {
    "duration": 51,
    "start_time": "2024-10-31T15:15:15.286Z"
   },
   {
    "duration": 24,
    "start_time": "2024-10-31T15:15:15.339Z"
   },
   {
    "duration": 123,
    "start_time": "2024-10-31T15:15:15.364Z"
   },
   {
    "duration": 193293,
    "start_time": "2024-10-31T15:15:15.488Z"
   },
   {
    "duration": 9805,
    "start_time": "2024-10-31T15:18:28.783Z"
   },
   {
    "duration": 693,
    "start_time": "2024-10-31T15:18:38.590Z"
   },
   {
    "duration": 8,
    "start_time": "2024-10-31T15:18:39.285Z"
   },
   {
    "duration": 129,
    "start_time": "2024-10-31T15:18:39.295Z"
   },
   {
    "duration": 110906,
    "start_time": "2024-10-31T15:18:39.426Z"
   },
   {
    "duration": 9338,
    "start_time": "2024-10-31T15:20:30.334Z"
   },
   {
    "duration": 42,
    "start_time": "2024-10-31T15:20:39.673Z"
   },
   {
    "duration": 2,
    "start_time": "2024-10-31T15:20:39.717Z"
   },
   {
    "duration": 15,
    "start_time": "2024-10-31T15:20:39.721Z"
   },
   {
    "duration": 3,
    "start_time": "2024-10-31T15:20:39.737Z"
   },
   {
    "duration": 4,
    "start_time": "2024-10-31T15:20:39.741Z"
   },
   {
    "duration": 4,
    "start_time": "2024-10-31T15:20:39.746Z"
   },
   {
    "duration": 7,
    "start_time": "2024-10-31T15:20:39.751Z"
   },
   {
    "duration": 35,
    "start_time": "2024-10-31T15:20:39.776Z"
   },
   {
    "duration": 123164,
    "start_time": "2024-10-31T15:20:39.813Z"
   },
   {
    "duration": 428,
    "start_time": "2024-10-31T15:22:42.979Z"
   },
   {
    "duration": 3,
    "start_time": "2024-10-31T15:22:43.408Z"
   },
   {
    "duration": 17,
    "start_time": "2024-10-31T15:22:43.412Z"
   },
   {
    "duration": 24761,
    "start_time": "2024-10-31T15:22:43.430Z"
   },
   {
    "duration": 211,
    "start_time": "2024-10-31T15:23:08.193Z"
   },
   {
    "duration": 11,
    "start_time": "2024-10-31T15:23:08.406Z"
   },
   {
    "duration": 0,
    "start_time": "2024-10-31T15:23:08.419Z"
   },
   {
    "duration": 0,
    "start_time": "2024-10-31T15:23:08.421Z"
   },
   {
    "duration": 9,
    "start_time": "2024-10-31T15:32:49.316Z"
   },
   {
    "duration": 3,
    "start_time": "2024-10-31T15:32:51.127Z"
   },
   {
    "duration": 20,
    "start_time": "2024-10-31T15:32:52.960Z"
   },
   {
    "duration": 53,
    "start_time": "2024-10-31T15:32:54.811Z"
   },
   {
    "duration": 4,
    "start_time": "2024-10-31T15:45:40.872Z"
   },
   {
    "duration": 3,
    "start_time": "2024-10-31T15:45:42.644Z"
   },
   {
    "duration": 3,
    "start_time": "2024-10-31T15:45:44.970Z"
   },
   {
    "duration": 122802,
    "start_time": "2024-10-31T15:45:48.775Z"
   },
   {
    "duration": 116998,
    "start_time": "2024-10-31T15:54:22.482Z"
   },
   {
    "duration": 76,
    "start_time": "2024-10-31T16:04:51.554Z"
   },
   {
    "duration": 3328,
    "start_time": "2024-10-31T16:06:39.948Z"
   },
   {
    "duration": 3852,
    "start_time": "2024-10-31T16:07:02.235Z"
   },
   {
    "duration": 3209,
    "start_time": "2024-10-31T16:08:34.071Z"
   },
   {
    "duration": 112,
    "start_time": "2024-10-31T16:18:10.768Z"
   },
   {
    "duration": 9,
    "start_time": "2024-10-31T16:24:00.444Z"
   },
   {
    "duration": 3,
    "start_time": "2024-10-31T16:24:02.853Z"
   },
   {
    "duration": 24691,
    "start_time": "2024-10-31T16:24:05.508Z"
   },
   {
    "duration": 2043,
    "start_time": "2024-10-31T16:25:45.240Z"
   },
   {
    "duration": 5960,
    "start_time": "2024-10-31T17:19:49.764Z"
   },
   {
    "duration": 865,
    "start_time": "2024-10-31T17:19:55.726Z"
   },
   {
    "duration": 164,
    "start_time": "2024-10-31T17:19:56.593Z"
   },
   {
    "duration": 149,
    "start_time": "2024-10-31T17:19:56.758Z"
   },
   {
    "duration": 6,
    "start_time": "2024-10-31T17:19:56.909Z"
   },
   {
    "duration": 473,
    "start_time": "2024-10-31T17:19:56.917Z"
   },
   {
    "duration": 986,
    "start_time": "2024-10-31T17:19:57.391Z"
   },
   {
    "duration": 53,
    "start_time": "2024-10-31T17:19:58.379Z"
   },
   {
    "duration": 101,
    "start_time": "2024-10-31T17:19:58.434Z"
   },
   {
    "duration": 54,
    "start_time": "2024-10-31T17:19:58.538Z"
   },
   {
    "duration": 21,
    "start_time": "2024-10-31T17:19:58.594Z"
   },
   {
    "duration": 51,
    "start_time": "2024-10-31T17:19:58.617Z"
   },
   {
    "duration": 29,
    "start_time": "2024-10-31T17:19:58.669Z"
   },
   {
    "duration": 18,
    "start_time": "2024-10-31T17:19:58.699Z"
   },
   {
    "duration": 66,
    "start_time": "2024-10-31T17:19:58.719Z"
   },
   {
    "duration": 35,
    "start_time": "2024-10-31T17:19:58.787Z"
   },
   {
    "duration": 18,
    "start_time": "2024-10-31T17:19:58.824Z"
   },
   {
    "duration": 65,
    "start_time": "2024-10-31T17:19:58.844Z"
   },
   {
    "duration": 23,
    "start_time": "2024-10-31T17:19:58.911Z"
   },
   {
    "duration": 214,
    "start_time": "2024-10-31T17:19:58.935Z"
   },
   {
    "duration": 23,
    "start_time": "2024-10-31T17:19:59.151Z"
   },
   {
    "duration": 34,
    "start_time": "2024-10-31T17:19:59.176Z"
   },
   {
    "duration": 15,
    "start_time": "2024-10-31T17:19:59.211Z"
   },
   {
    "duration": 77,
    "start_time": "2024-10-31T17:19:59.227Z"
   },
   {
    "duration": 526,
    "start_time": "2024-10-31T17:19:59.305Z"
   },
   {
    "duration": 44,
    "start_time": "2024-10-31T17:19:59.832Z"
   },
   {
    "duration": 452,
    "start_time": "2024-10-31T17:19:59.877Z"
   },
   {
    "duration": 53,
    "start_time": "2024-10-31T17:20:00.333Z"
   },
   {
    "duration": 570,
    "start_time": "2024-10-31T17:20:00.387Z"
   },
   {
    "duration": 28,
    "start_time": "2024-10-31T17:20:00.959Z"
   },
   {
    "duration": 544,
    "start_time": "2024-10-31T17:20:00.989Z"
   },
   {
    "duration": 7,
    "start_time": "2024-10-31T17:20:01.534Z"
   },
   {
    "duration": 5605,
    "start_time": "2024-10-31T17:20:01.543Z"
   },
   {
    "duration": 21,
    "start_time": "2024-10-31T17:20:07.150Z"
   },
   {
    "duration": 125,
    "start_time": "2024-10-31T17:20:07.172Z"
   },
   {
    "duration": 218,
    "start_time": "2024-10-31T17:20:07.298Z"
   },
   {
    "duration": 11,
    "start_time": "2024-10-31T17:20:07.517Z"
   },
   {
    "duration": 61,
    "start_time": "2024-10-31T17:20:07.529Z"
   },
   {
    "duration": 22,
    "start_time": "2024-10-31T17:20:07.591Z"
   },
   {
    "duration": 115,
    "start_time": "2024-10-31T17:20:07.615Z"
   },
   {
    "duration": 179850,
    "start_time": "2024-10-31T17:20:07.732Z"
   },
   {
    "duration": 10603,
    "start_time": "2024-10-31T17:23:07.583Z"
   },
   {
    "duration": 688,
    "start_time": "2024-10-31T17:23:18.189Z"
   },
   {
    "duration": 8,
    "start_time": "2024-10-31T17:23:18.879Z"
   },
   {
    "duration": 109,
    "start_time": "2024-10-31T17:23:18.888Z"
   },
   {
    "duration": 109196,
    "start_time": "2024-10-31T17:23:18.999Z"
   },
   {
    "duration": 10087,
    "start_time": "2024-10-31T17:25:08.197Z"
   },
   {
    "duration": 43,
    "start_time": "2024-10-31T17:25:18.286Z"
   },
   {
    "duration": 38,
    "start_time": "2024-10-31T17:25:18.330Z"
   },
   {
    "duration": 2,
    "start_time": "2024-10-31T17:25:18.370Z"
   },
   {
    "duration": 32,
    "start_time": "2024-10-31T17:25:18.374Z"
   },
   {
    "duration": 3,
    "start_time": "2024-10-31T17:25:18.408Z"
   },
   {
    "duration": 3,
    "start_time": "2024-10-31T17:25:18.413Z"
   },
   {
    "duration": 5,
    "start_time": "2024-10-31T17:25:18.418Z"
   },
   {
    "duration": 13,
    "start_time": "2024-10-31T17:25:18.425Z"
   },
   {
    "duration": 122336,
    "start_time": "2024-10-31T17:25:18.440Z"
   },
   {
    "duration": 3200,
    "start_time": "2024-10-31T17:27:20.778Z"
   },
   {
    "duration": 196,
    "start_time": "2024-10-31T17:27:23.981Z"
   },
   {
    "duration": 210,
    "start_time": "2024-10-31T17:27:24.179Z"
   },
   {
    "duration": 3,
    "start_time": "2024-10-31T17:27:24.390Z"
   },
   {
    "duration": 24484,
    "start_time": "2024-10-31T17:27:24.394Z"
   },
   {
    "duration": 1842,
    "start_time": "2024-10-31T17:27:48.880Z"
   },
   {
    "duration": 125,
    "start_time": "2024-10-31T17:27:50.724Z"
   },
   {
    "duration": 116,
    "start_time": "2024-10-31T17:27:50.851Z"
   },
   {
    "duration": 0,
    "start_time": "2024-10-31T17:27:50.968Z"
   },
   {
    "duration": 0,
    "start_time": "2024-10-31T17:27:50.969Z"
   },
   {
    "duration": 0,
    "start_time": "2024-10-31T17:27:50.970Z"
   },
   {
    "duration": 0,
    "start_time": "2024-10-31T17:27:50.975Z"
   },
   {
    "duration": 0,
    "start_time": "2024-10-31T17:27:50.976Z"
   },
   {
    "duration": 11,
    "start_time": "2024-10-31T18:00:57.168Z"
   },
   {
    "duration": 6028,
    "start_time": "2024-10-31T18:03:54.782Z"
   },
   {
    "duration": 916,
    "start_time": "2024-10-31T18:04:00.812Z"
   },
   {
    "duration": 166,
    "start_time": "2024-10-31T18:04:01.730Z"
   },
   {
    "duration": 139,
    "start_time": "2024-10-31T18:04:01.898Z"
   },
   {
    "duration": 4,
    "start_time": "2024-10-31T18:04:02.038Z"
   },
   {
    "duration": 498,
    "start_time": "2024-10-31T18:04:02.043Z"
   },
   {
    "duration": 966,
    "start_time": "2024-10-31T18:04:02.543Z"
   },
   {
    "duration": 54,
    "start_time": "2024-10-31T18:04:03.510Z"
   },
   {
    "duration": 56,
    "start_time": "2024-10-31T18:04:03.576Z"
   },
   {
    "duration": 55,
    "start_time": "2024-10-31T18:04:03.634Z"
   },
   {
    "duration": 20,
    "start_time": "2024-10-31T18:04:03.691Z"
   },
   {
    "duration": 31,
    "start_time": "2024-10-31T18:04:03.713Z"
   },
   {
    "duration": 41,
    "start_time": "2024-10-31T18:04:03.745Z"
   },
   {
    "duration": 19,
    "start_time": "2024-10-31T18:04:03.787Z"
   },
   {
    "duration": 74,
    "start_time": "2024-10-31T18:04:03.808Z"
   },
   {
    "duration": 36,
    "start_time": "2024-10-31T18:04:03.884Z"
   },
   {
    "duration": 23,
    "start_time": "2024-10-31T18:04:03.921Z"
   },
   {
    "duration": 61,
    "start_time": "2024-10-31T18:04:03.946Z"
   },
   {
    "duration": 43,
    "start_time": "2024-10-31T18:04:04.009Z"
   },
   {
    "duration": 146,
    "start_time": "2024-10-31T18:04:04.053Z"
   },
   {
    "duration": 24,
    "start_time": "2024-10-31T18:04:04.201Z"
   },
   {
    "duration": 50,
    "start_time": "2024-10-31T18:04:04.226Z"
   },
   {
    "duration": 10,
    "start_time": "2024-10-31T18:04:04.278Z"
   },
   {
    "duration": 63,
    "start_time": "2024-10-31T18:04:04.290Z"
   },
   {
    "duration": 516,
    "start_time": "2024-10-31T18:04:04.355Z"
   },
   {
    "duration": 33,
    "start_time": "2024-10-31T18:04:04.873Z"
   },
   {
    "duration": 471,
    "start_time": "2024-10-31T18:04:04.908Z"
   },
   {
    "duration": 43,
    "start_time": "2024-10-31T18:04:05.382Z"
   },
   {
    "duration": 581,
    "start_time": "2024-10-31T18:04:05.427Z"
   },
   {
    "duration": 21,
    "start_time": "2024-10-31T18:04:06.010Z"
   },
   {
    "duration": 530,
    "start_time": "2024-10-31T18:04:06.032Z"
   },
   {
    "duration": 13,
    "start_time": "2024-10-31T18:04:06.564Z"
   },
   {
    "duration": 5587,
    "start_time": "2024-10-31T18:04:06.578Z"
   },
   {
    "duration": 19,
    "start_time": "2024-10-31T18:04:12.166Z"
   },
   {
    "duration": 118,
    "start_time": "2024-10-31T18:04:12.186Z"
   },
   {
    "duration": 217,
    "start_time": "2024-10-31T18:04:12.306Z"
   },
   {
    "duration": 10,
    "start_time": "2024-10-31T18:04:12.524Z"
   },
   {
    "duration": 55,
    "start_time": "2024-10-31T18:04:12.536Z"
   },
   {
    "duration": 22,
    "start_time": "2024-10-31T18:04:12.592Z"
   },
   {
    "duration": 106,
    "start_time": "2024-10-31T18:04:12.615Z"
   },
   {
    "duration": 349161,
    "start_time": "2024-10-31T18:04:12.722Z"
   },
   {
    "duration": 8604,
    "start_time": "2024-10-31T18:10:01.885Z"
   },
   {
    "duration": 694,
    "start_time": "2024-10-31T18:10:10.490Z"
   },
   {
    "duration": 8,
    "start_time": "2024-10-31T18:10:11.186Z"
   },
   {
    "duration": 128,
    "start_time": "2024-10-31T18:10:11.195Z"
   },
   {
    "duration": 109293,
    "start_time": "2024-10-31T18:10:11.325Z"
   },
   {
    "duration": 9096,
    "start_time": "2024-10-31T18:12:00.620Z"
   },
   {
    "duration": 41,
    "start_time": "2024-10-31T18:12:09.717Z"
   },
   {
    "duration": 8,
    "start_time": "2024-10-31T18:12:09.760Z"
   },
   {
    "duration": 3,
    "start_time": "2024-10-31T18:12:09.770Z"
   },
   {
    "duration": 25,
    "start_time": "2024-10-31T18:12:09.775Z"
   },
   {
    "duration": 3,
    "start_time": "2024-10-31T18:12:09.802Z"
   },
   {
    "duration": 20,
    "start_time": "2024-10-31T18:12:09.806Z"
   },
   {
    "duration": 4,
    "start_time": "2024-10-31T18:12:09.828Z"
   },
   {
    "duration": 6,
    "start_time": "2024-10-31T18:12:09.833Z"
   },
   {
    "duration": 117940,
    "start_time": "2024-10-31T18:12:09.840Z"
   },
   {
    "duration": 3395,
    "start_time": "2024-10-31T18:14:07.782Z"
   },
   {
    "duration": 103,
    "start_time": "2024-10-31T18:14:11.178Z"
   },
   {
    "duration": 93,
    "start_time": "2024-10-31T18:14:11.284Z"
   },
   {
    "duration": 4,
    "start_time": "2024-10-31T18:14:11.379Z"
   },
   {
    "duration": 24279,
    "start_time": "2024-10-31T18:14:11.385Z"
   },
   {
    "duration": 2133,
    "start_time": "2024-10-31T18:14:35.665Z"
   },
   {
    "duration": 125,
    "start_time": "2024-10-31T18:14:37.800Z"
   },
   {
    "duration": 3,
    "start_time": "2024-10-31T18:14:37.927Z"
   },
   {
    "duration": 11,
    "start_time": "2024-10-31T18:14:37.931Z"
   },
   {
    "duration": 135,
    "start_time": "2024-10-31T18:14:37.944Z"
   },
   {
    "duration": 0,
    "start_time": "2024-10-31T18:14:38.081Z"
   },
   {
    "duration": 0,
    "start_time": "2024-10-31T18:14:38.082Z"
   },
   {
    "duration": 0,
    "start_time": "2024-10-31T18:14:38.083Z"
   },
   {
    "duration": 4,
    "start_time": "2024-10-31T18:22:58.963Z"
   },
   {
    "duration": 6104,
    "start_time": "2024-10-31T19:20:21.976Z"
   },
   {
    "duration": 924,
    "start_time": "2024-10-31T19:20:28.081Z"
   },
   {
    "duration": 161,
    "start_time": "2024-10-31T19:20:29.007Z"
   },
   {
    "duration": 145,
    "start_time": "2024-10-31T19:20:29.169Z"
   },
   {
    "duration": 4,
    "start_time": "2024-10-31T19:20:29.315Z"
   },
   {
    "duration": 494,
    "start_time": "2024-10-31T19:20:29.320Z"
   },
   {
    "duration": 1003,
    "start_time": "2024-10-31T19:20:29.815Z"
   },
   {
    "duration": 58,
    "start_time": "2024-10-31T19:20:30.819Z"
   },
   {
    "duration": 52,
    "start_time": "2024-10-31T19:20:30.879Z"
   },
   {
    "duration": 100,
    "start_time": "2024-10-31T19:20:30.933Z"
   },
   {
    "duration": 20,
    "start_time": "2024-10-31T19:20:31.034Z"
   },
   {
    "duration": 38,
    "start_time": "2024-10-31T19:20:31.055Z"
   },
   {
    "duration": 43,
    "start_time": "2024-10-31T19:20:31.094Z"
   },
   {
    "duration": 21,
    "start_time": "2024-10-31T19:20:31.139Z"
   },
   {
    "duration": 79,
    "start_time": "2024-10-31T19:20:31.162Z"
   },
   {
    "duration": 36,
    "start_time": "2024-10-31T19:20:31.242Z"
   },
   {
    "duration": 44,
    "start_time": "2024-10-31T19:20:31.279Z"
   },
   {
    "duration": 60,
    "start_time": "2024-10-31T19:20:31.325Z"
   },
   {
    "duration": 36,
    "start_time": "2024-10-31T19:20:31.387Z"
   },
   {
    "duration": 238,
    "start_time": "2024-10-31T19:20:31.425Z"
   },
   {
    "duration": 23,
    "start_time": "2024-10-31T19:20:31.665Z"
   },
   {
    "duration": 39,
    "start_time": "2024-10-31T19:20:31.690Z"
   },
   {
    "duration": 11,
    "start_time": "2024-10-31T19:20:31.731Z"
   },
   {
    "duration": 84,
    "start_time": "2024-10-31T19:20:31.743Z"
   },
   {
    "duration": 524,
    "start_time": "2024-10-31T19:20:31.829Z"
   },
   {
    "duration": 42,
    "start_time": "2024-10-31T19:20:32.355Z"
   },
   {
    "duration": 449,
    "start_time": "2024-10-31T19:20:32.399Z"
   },
   {
    "duration": 52,
    "start_time": "2024-10-31T19:20:32.851Z"
   },
   {
    "duration": 547,
    "start_time": "2024-10-31T19:20:32.904Z"
   },
   {
    "duration": 24,
    "start_time": "2024-10-31T19:20:33.452Z"
   },
   {
    "duration": 554,
    "start_time": "2024-10-31T19:20:33.478Z"
   },
   {
    "duration": 6,
    "start_time": "2024-10-31T19:20:34.034Z"
   },
   {
    "duration": 5502,
    "start_time": "2024-10-31T19:20:34.042Z"
   },
   {
    "duration": 14,
    "start_time": "2024-10-31T19:20:39.546Z"
   },
   {
    "duration": 108,
    "start_time": "2024-10-31T19:20:39.561Z"
   },
   {
    "duration": 206,
    "start_time": "2024-10-31T19:20:39.671Z"
   },
   {
    "duration": 9,
    "start_time": "2024-10-31T19:20:39.878Z"
   },
   {
    "duration": 38,
    "start_time": "2024-10-31T19:20:39.889Z"
   },
   {
    "duration": 19,
    "start_time": "2024-10-31T19:20:39.929Z"
   },
   {
    "duration": 529,
    "start_time": "2024-10-31T19:20:39.950Z"
   },
   {
    "duration": 0,
    "start_time": "2024-10-31T19:20:40.481Z"
   },
   {
    "duration": 0,
    "start_time": "2024-10-31T19:20:40.482Z"
   },
   {
    "duration": 0,
    "start_time": "2024-10-31T19:20:40.483Z"
   },
   {
    "duration": 0,
    "start_time": "2024-10-31T19:20:40.484Z"
   },
   {
    "duration": 0,
    "start_time": "2024-10-31T19:20:40.485Z"
   },
   {
    "duration": 0,
    "start_time": "2024-10-31T19:20:40.486Z"
   },
   {
    "duration": 0,
    "start_time": "2024-10-31T19:20:40.487Z"
   },
   {
    "duration": 0,
    "start_time": "2024-10-31T19:20:40.488Z"
   },
   {
    "duration": 0,
    "start_time": "2024-10-31T19:20:40.489Z"
   },
   {
    "duration": 0,
    "start_time": "2024-10-31T19:20:40.490Z"
   },
   {
    "duration": 0,
    "start_time": "2024-10-31T19:20:40.491Z"
   },
   {
    "duration": 0,
    "start_time": "2024-10-31T19:20:40.492Z"
   },
   {
    "duration": 0,
    "start_time": "2024-10-31T19:20:40.493Z"
   },
   {
    "duration": 0,
    "start_time": "2024-10-31T19:20:40.494Z"
   },
   {
    "duration": 0,
    "start_time": "2024-10-31T19:20:40.494Z"
   },
   {
    "duration": 0,
    "start_time": "2024-10-31T19:20:40.495Z"
   },
   {
    "duration": 0,
    "start_time": "2024-10-31T19:20:40.497Z"
   },
   {
    "duration": 0,
    "start_time": "2024-10-31T19:20:40.497Z"
   },
   {
    "duration": 0,
    "start_time": "2024-10-31T19:20:40.498Z"
   },
   {
    "duration": 0,
    "start_time": "2024-10-31T19:20:40.500Z"
   },
   {
    "duration": 0,
    "start_time": "2024-10-31T19:20:40.501Z"
   },
   {
    "duration": 0,
    "start_time": "2024-10-31T19:20:40.502Z"
   },
   {
    "duration": 0,
    "start_time": "2024-10-31T19:20:40.503Z"
   },
   {
    "duration": 0,
    "start_time": "2024-10-31T19:20:40.504Z"
   },
   {
    "duration": 0,
    "start_time": "2024-10-31T19:20:40.505Z"
   },
   {
    "duration": 0,
    "start_time": "2024-10-31T19:20:40.506Z"
   },
   {
    "duration": 6212,
    "start_time": "2024-10-31T19:28:54.939Z"
   },
   {
    "duration": 923,
    "start_time": "2024-10-31T19:29:01.153Z"
   },
   {
    "duration": 169,
    "start_time": "2024-10-31T19:29:02.077Z"
   },
   {
    "duration": 139,
    "start_time": "2024-10-31T19:29:02.248Z"
   },
   {
    "duration": 14,
    "start_time": "2024-10-31T19:29:02.388Z"
   },
   {
    "duration": 509,
    "start_time": "2024-10-31T19:29:02.403Z"
   },
   {
    "duration": 1018,
    "start_time": "2024-10-31T19:29:02.914Z"
   },
   {
    "duration": 64,
    "start_time": "2024-10-31T19:29:03.934Z"
   },
   {
    "duration": 63,
    "start_time": "2024-10-31T19:29:03.999Z"
   },
   {
    "duration": 63,
    "start_time": "2024-10-31T19:29:04.065Z"
   },
   {
    "duration": 20,
    "start_time": "2024-10-31T19:29:04.130Z"
   },
   {
    "duration": 37,
    "start_time": "2024-10-31T19:29:04.152Z"
   },
   {
    "duration": 31,
    "start_time": "2024-10-31T19:29:04.191Z"
   },
   {
    "duration": 21,
    "start_time": "2024-10-31T19:29:04.223Z"
   },
   {
    "duration": 81,
    "start_time": "2024-10-31T19:29:04.245Z"
   },
   {
    "duration": 32,
    "start_time": "2024-10-31T19:29:04.328Z"
   },
   {
    "duration": 28,
    "start_time": "2024-10-31T19:29:04.362Z"
   },
   {
    "duration": 78,
    "start_time": "2024-10-31T19:29:04.392Z"
   },
   {
    "duration": 35,
    "start_time": "2024-10-31T19:29:04.472Z"
   },
   {
    "duration": 150,
    "start_time": "2024-10-31T19:29:04.509Z"
   },
   {
    "duration": 23,
    "start_time": "2024-10-31T19:29:04.660Z"
   },
   {
    "duration": 44,
    "start_time": "2024-10-31T19:29:04.685Z"
   },
   {
    "duration": 108,
    "start_time": "2024-10-31T19:29:04.730Z"
   },
   {
    "duration": 65,
    "start_time": "2024-10-31T19:29:04.839Z"
   },
   {
    "duration": 540,
    "start_time": "2024-10-31T19:29:04.905Z"
   },
   {
    "duration": 37,
    "start_time": "2024-10-31T19:29:05.447Z"
   },
   {
    "duration": 493,
    "start_time": "2024-10-31T19:29:05.485Z"
   },
   {
    "duration": 44,
    "start_time": "2024-10-31T19:29:05.982Z"
   },
   {
    "duration": 574,
    "start_time": "2024-10-31T19:29:06.027Z"
   },
   {
    "duration": 21,
    "start_time": "2024-10-31T19:29:06.602Z"
   },
   {
    "duration": 553,
    "start_time": "2024-10-31T19:29:06.624Z"
   },
   {
    "duration": 7,
    "start_time": "2024-10-31T19:29:07.180Z"
   },
   {
    "duration": 5584,
    "start_time": "2024-10-31T19:29:07.188Z"
   },
   {
    "duration": 23,
    "start_time": "2024-10-31T19:29:12.774Z"
   },
   {
    "duration": 130,
    "start_time": "2024-10-31T19:29:12.798Z"
   },
   {
    "duration": 215,
    "start_time": "2024-10-31T19:29:12.930Z"
   },
   {
    "duration": 10,
    "start_time": "2024-10-31T19:29:13.148Z"
   },
   {
    "duration": 51,
    "start_time": "2024-10-31T19:29:13.159Z"
   },
   {
    "duration": 20,
    "start_time": "2024-10-31T19:29:13.212Z"
   },
   {
    "duration": 106,
    "start_time": "2024-10-31T19:29:13.234Z"
   },
   {
    "duration": 1342839,
    "start_time": "2024-10-31T19:29:13.341Z"
   },
   {
    "duration": 10605,
    "start_time": "2024-10-31T19:51:36.181Z"
   },
   {
    "duration": 689,
    "start_time": "2024-10-31T19:51:46.788Z"
   },
   {
    "duration": 9,
    "start_time": "2024-10-31T19:51:47.478Z"
   },
   {
    "duration": 103,
    "start_time": "2024-10-31T19:51:47.489Z"
   },
   {
    "duration": 107139,
    "start_time": "2024-10-31T19:51:47.594Z"
   },
   {
    "duration": 9529,
    "start_time": "2024-10-31T19:53:34.735Z"
   },
   {
    "duration": 42,
    "start_time": "2024-10-31T19:53:44.265Z"
   },
   {
    "duration": 8,
    "start_time": "2024-10-31T19:53:44.308Z"
   },
   {
    "duration": 11,
    "start_time": "2024-10-31T19:53:44.318Z"
   },
   {
    "duration": 27,
    "start_time": "2024-10-31T19:53:44.331Z"
   },
   {
    "duration": 2,
    "start_time": "2024-10-31T19:53:44.360Z"
   },
   {
    "duration": 12,
    "start_time": "2024-10-31T19:53:44.364Z"
   },
   {
    "duration": 5,
    "start_time": "2024-10-31T19:53:44.378Z"
   },
   {
    "duration": 4,
    "start_time": "2024-10-31T19:53:44.384Z"
   },
   {
    "duration": 127286,
    "start_time": "2024-10-31T19:53:44.390Z"
   },
   {
    "duration": 3199,
    "start_time": "2024-10-31T19:55:51.678Z"
   },
   {
    "duration": 201,
    "start_time": "2024-10-31T19:55:54.879Z"
   },
   {
    "duration": 112,
    "start_time": "2024-10-31T19:55:55.083Z"
   },
   {
    "duration": 3,
    "start_time": "2024-10-31T19:55:55.196Z"
   },
   {
    "duration": 24537,
    "start_time": "2024-10-31T19:55:55.201Z"
   },
   {
    "duration": 1869,
    "start_time": "2024-10-31T19:56:19.739Z"
   },
   {
    "duration": 123,
    "start_time": "2024-10-31T19:56:21.609Z"
   },
   {
    "duration": 2,
    "start_time": "2024-10-31T19:56:21.734Z"
   },
   {
    "duration": 14,
    "start_time": "2024-10-31T19:56:21.738Z"
   },
   {
    "duration": 7,
    "start_time": "2024-10-31T19:56:21.753Z"
   }
  ],
  "kernelspec": {
   "display_name": "Python 3 (ipykernel)",
   "language": "python",
   "name": "python3"
  },
  "language_info": {
   "codemirror_mode": {
    "name": "ipython",
    "version": 3
   },
   "file_extension": ".py",
   "mimetype": "text/x-python",
   "name": "python",
   "nbconvert_exporter": "python",
   "pygments_lexer": "ipython3",
   "version": "3.11.7"
  },
  "toc": {
   "base_numbering": 1,
   "nav_menu": {},
   "number_sections": true,
   "sideBar": true,
   "skip_h1_title": true,
   "title_cell": "Table of Contents",
   "title_sidebar": "Contents",
   "toc_cell": false,
   "toc_position": {},
   "toc_section_display": true,
   "toc_window_display": false
  }
 },
 "nbformat": 4,
 "nbformat_minor": 4
}
